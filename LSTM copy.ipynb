{
 "cells": [
  {
   "cell_type": "code",
   "execution_count": 3,
   "metadata": {},
   "outputs": [
    {
     "name": "stdout",
     "output_type": "stream",
     "text": [
      "Defaulting to user installation because normal site-packages is not writeable\n",
      "Requirement already satisfied: nltk in /Users/islinashan/Library/Python/3.9/lib/python/site-packages (3.9.1)\n",
      "Requirement already satisfied: click in /Users/islinashan/Library/Python/3.9/lib/python/site-packages (from nltk) (8.1.7)\n",
      "Requirement already satisfied: joblib in /Users/islinashan/Library/Python/3.9/lib/python/site-packages (from nltk) (1.4.2)\n",
      "Requirement already satisfied: regex>=2021.8.3 in /Users/islinashan/Library/Python/3.9/lib/python/site-packages (from nltk) (2024.11.6)\n",
      "Requirement already satisfied: tqdm in /Users/islinashan/Library/Python/3.9/lib/python/site-packages (from nltk) (4.67.1)\n"
     ]
    }
   ],
   "source": [
    "!pip install nltk"
   ]
  },
  {
   "cell_type": "code",
   "execution_count": 4,
   "metadata": {},
   "outputs": [
    {
     "name": "stderr",
     "output_type": "stream",
     "text": [
      "/var/folders/79/22y9knc90290dd7t1yv0s_yc0000gn/T/ipykernel_9077/2892654812.py:6: DeprecationWarning: \n",
      "Pyarrow will become a required dependency of pandas in the next major release of pandas (pandas 3.0),\n",
      "(to allow more performant data types, such as the Arrow string type, and better interoperability with other libraries)\n",
      "but was not found to be installed on your system.\n",
      "If this would cause problems for you,\n",
      "please provide us feedback at https://github.com/pandas-dev/pandas/issues/54466\n",
      "        \n",
      "  import pandas as pd\n",
      "[nltk_data] Downloading package punkt_tab to\n",
      "[nltk_data]     /Users/islinashan/nltk_data...\n",
      "[nltk_data]   Package punkt_tab is already up-to-date!\n"
     ]
    }
   ],
   "source": [
    "import torch\n",
    "import torch.nn as nn\n",
    "from torch.utils.data import Dataset, DataLoader\n",
    "from torch.nn.utils.rnn import pad_sequence\n",
    "import torch.optim as optim\n",
    "import pandas as pd\n",
    "import nltk\n",
    "from nltk import word_tokenize\n",
    "nltk.download('punkt_tab')\n",
    "from sklearn.model_selection import train_test_split\n",
    "import matplotlib.pyplot as plt"
   ]
  },
  {
   "cell_type": "code",
   "execution_count": 5,
   "metadata": {},
   "outputs": [],
   "source": [
    "data_processed = pd.read_csv('tweets_preprocessed2_selected.csv')\n",
    "non_suicide_data = data_processed[data_processed['class'] == 'non-suicide'].sample(n=500)\n",
    "suicide_data = data_processed[data_processed['class'] == 'suicide'].sample(n=500)\n",
    "balanced_data = pd.concat([non_suicide_data, suicide_data])"
   ]
  },
  {
   "cell_type": "code",
   "execution_count": 6,
   "metadata": {},
   "outputs": [
    {
     "data": {
      "text/plain": [
       "(10000, 6)"
      ]
     },
     "execution_count": 6,
     "metadata": {},
     "output_type": "execute_result"
    }
   ],
   "source": [
    "data_processed.head()\n",
    "data_processed.shape"
   ]
  },
  {
   "cell_type": "code",
   "execution_count": 7,
   "metadata": {},
   "outputs": [
    {
     "data": {
      "text/plain": [
       "(500, 6)"
      ]
     },
     "execution_count": 7,
     "metadata": {},
     "output_type": "execute_result"
    }
   ],
   "source": [
    "non_suicide_data.shape"
   ]
  },
  {
   "cell_type": "markdown",
   "metadata": {},
   "source": [
    "## Data Preprocessing"
   ]
  },
  {
   "cell_type": "code",
   "execution_count": 8,
   "metadata": {},
   "outputs": [],
   "source": [
    "all_tokens = set(i.lower() for token in balanced_data[\"text\"] for i in word_tokenize(token))\n",
    "word_map = {token: idx for idx, token in enumerate(list(all_tokens))}\n",
    "word_map['UNK'] = len(word_map)\n",
    "word_map['PAD'] = len(word_map)+1"
   ]
  },
  {
   "cell_type": "code",
   "execution_count": 9,
   "metadata": {},
   "outputs": [],
   "source": [
    "def text_encoder(sentence, word_map):\n",
    "    tokens = word_tokenize(sentence.lower())\n",
    "    encode = [word_map.get(token, word_map['UNK']) for token in tokens]\n",
    "    return encode"
   ]
  },
  {
   "cell_type": "code",
   "execution_count": 10,
   "metadata": {},
   "outputs": [],
   "source": [
    "class SuicideDataset(Dataset):\n",
    "    def __init__(self, sentences, labels, vocab):\n",
    "        self.sentences = sentences\n",
    "        self.vocab = vocab\n",
    "        self.label_mapping = {\n",
    "            'non-suicide': 0,\n",
    "            'suicide': 1\n",
    "        }\n",
    "        self.labels = [self.label_mapping[label] for label in labels]\n",
    "\n",
    "    def __len__(self):\n",
    "        return len(self.sentences)\n",
    "\n",
    "    def __getitem__(self, item):\n",
    "        sentence = self.sentences[item]\n",
    "        label = self.labels[item]\n",
    "        encoded_sentence = text_encoder(sentence, self.vocab)\n",
    "        \n",
    "        return {\n",
    "            'input_ids': torch.tensor(encoded_sentence, dtype=torch.long),\n",
    "            'label': torch.tensor(label, dtype=torch.long)\n",
    "        }\n"
   ]
  },
  {
   "cell_type": "code",
   "execution_count": 11,
   "metadata": {},
   "outputs": [],
   "source": [
    "# Pad the input_ids to the length of the longest sequence in the batch\n",
    "def collate_fn(batch):\n",
    "    input_ids = [item['input_ids'] for item in batch]\n",
    "    labels = [item['label'] for item in batch]\n",
    "\n",
    "    \n",
    "    padded_input_ids = pad_sequence(input_ids, batch_first=True, padding_value=word_map['PAD'])\n",
    "    labels = torch.stack(labels)\n",
    "    text_lengths = torch.tensor([len(ids) for ids in input_ids], dtype=torch.long)\n",
    "        \n",
    "    return {\n",
    "        'input_ids': padded_input_ids,\n",
    "        'label': labels,\n",
    "        'text_length': text_lengths\n",
    "    }"
   ]
  },
  {
   "cell_type": "code",
   "execution_count": 12,
   "metadata": {},
   "outputs": [],
   "source": [
    "# Split data\n",
    "train_data, test_data, train_label, test_label = train_test_split(\n",
    "    balanced_data['text'], balanced_data['class'], test_size=0.2, random_state=42\n",
    ")\n",
    "\n",
    "# Create datasets and dataloaders\n",
    "train_dataset = SuicideDataset(train_data.to_numpy(), train_label.to_numpy(), word_map)\n",
    "test_dataset = SuicideDataset(test_data.to_numpy(), test_label.to_numpy(), word_map)\n",
    "\n",
    "train_loader = DataLoader(train_dataset, batch_size=16, shuffle=True, collate_fn=collate_fn)\n",
    "test_loader = DataLoader(test_dataset, batch_size=16, shuffle=False, collate_fn=collate_fn)"
   ]
  },
  {
   "cell_type": "markdown",
   "metadata": {},
   "source": [
    "## Binary-Classfication LSTM"
   ]
  },
  {
   "cell_type": "code",
   "execution_count": 13,
   "metadata": {},
   "outputs": [],
   "source": [
    "class LSTM(nn.Module):\n",
    "    def __init__(self, vocab_size, embedding_dim, hidden_dim, output_dim, n_layers, bidirectional, dropout):\n",
    "        super(LSTM,self).__init__()\n",
    "        self.embedding = nn.Embedding(vocab_size+1,embedding_dim)\n",
    "        \n",
    "        self.lstm = nn.LSTM(embedding_dim,\n",
    "                            hidden_dim,\n",
    "                            num_layers = n_layers,\n",
    "                            bidirectional = bidirectional,\n",
    "                            dropout = dropout,\n",
    "                            batch_first = True\n",
    "                           )\n",
    "        self.fc = nn.Linear(hidden_dim * 2,output_dim)\n",
    "        self.batch_norm = nn.BatchNorm1d(hidden_dim * 2)\n",
    "        self.dropout = nn.Dropout(dropout)\n",
    "        self.sigmoid = nn.Sigmoid() # use sigmoid as activation function\n",
    "\n",
    "    def forward(self,text,text_lengths):\n",
    "        embedded = self.embedding(text)\n",
    "        packed_embedded = nn.utils.rnn.pack_padded_sequence(embedded, text_lengths.cpu(),batch_first=True, enforce_sorted=False)\n",
    "        packed_output,(hidden_state,cell_state) = self.lstm(packed_embedded)\n",
    "        \n",
    "        hidden = torch.cat((hidden_state[-2,:,:], hidden_state[-1,:,:]), dim = 1)\n",
    "        hidden = self.batch_norm(hidden)\n",
    "        outputs=self.sigmoid(self.fc(self.dropout(hidden)))\n",
    "        \n",
    "        return outputs"
   ]
  },
  {
   "cell_type": "code",
   "execution_count": 14,
   "metadata": {},
   "outputs": [],
   "source": [
    "# Hyperparameters\n",
    "embedding_dim = 128\n",
    "hidden_dim = 256\n",
    "output_dim = 2  # suicidal/non-suicidal\n",
    "n_layers = 2\n",
    "bidirectional = True\n",
    "dropout = 0.3"
   ]
  },
  {
   "cell_type": "code",
   "execution_count": 15,
   "metadata": {},
   "outputs": [
    {
     "name": "stdout",
     "output_type": "stream",
     "text": [
      "Using MPS GPU\n"
     ]
    }
   ],
   "source": [
    "model = LSTM(len(word_map), embedding_dim, hidden_dim, output_dim, n_layers, bidirectional, dropout)\n",
    "criterion = nn.CrossEntropyLoss()\n",
    "optimizer = optim.Adam(model.parameters(), lr=0.001)\n",
    "\n",
    "# Training loop\n",
    "if torch.backends.mps.is_available():\n",
    "    device = torch.device(\"mps\")\n",
    "    print(\"Using MPS GPU\")\n",
    "else:\n",
    "    device = torch.device(\"cpu\")\n",
    "model = model.to(device)"
   ]
  },
  {
   "cell_type": "code",
   "execution_count": 16,
   "metadata": {},
   "outputs": [],
   "source": [
    "def accuracy(preds, y):\n",
    "    rounded_preds = torch.argmax(preds, dim=1)\n",
    "    correct = (rounded_preds == y).float() \n",
    "    acc = correct.sum() / len(correct)\n",
    "    return acc"
   ]
  },
  {
   "cell_type": "code",
   "execution_count": 17,
   "metadata": {},
   "outputs": [],
   "source": [
    "def train(model,loader,optimizer,criterion):\n",
    "    epoch_loss = 0.0\n",
    "    epoch_acc = 0.0\n",
    "    \n",
    "    model.train()\n",
    "    \n",
    "    for batch in loader:\n",
    "        optimizer.zero_grad()\n",
    "        \n",
    "        input_ids = batch['input_ids'].to(device)\n",
    "        labels = batch['label'].to(device)\n",
    "        text_length = batch['text_length'].to(device)\n",
    "\n",
    "        outputs = model(input_ids, text_length)\n",
    "        loss = criterion(outputs, labels)\n",
    "        loss.backward()\n",
    "        acc = accuracy(outputs, labels)\n",
    "        optimizer.step()\n",
    "        \n",
    "        epoch_loss += loss.item()\n",
    "        epoch_acc += acc.item()\n",
    "\n",
    "    return epoch_loss / len(loader), epoch_acc / len(loader)"
   ]
  },
  {
   "cell_type": "code",
   "execution_count": 18,
   "metadata": {},
   "outputs": [],
   "source": [
    "def evaluate(model,loader,criterion): \n",
    "    epoch_loss = 0.0\n",
    "    epoch_acc = 0.0\n",
    "    model.eval()\n",
    "\n",
    "    with torch.no_grad():\n",
    "        for batch in loader:\n",
    "            input_ids = batch['input_ids'].to(device)\n",
    "            labels = batch['label'].to(device)\n",
    "            text_length = batch['text_length'].to(device)\n",
    "            \n",
    "            outputs = model(input_ids, text_length)\n",
    "\n",
    "            loss = criterion(outputs, labels)\n",
    "            acc = accuracy(outputs, labels)\n",
    "            \n",
    "            epoch_loss += loss.item()\n",
    "            epoch_acc += acc.item()\n",
    "        \n",
    "    return epoch_loss / len(loader), epoch_acc / len(loader)"
   ]
  },
  {
   "cell_type": "code",
   "execution_count": 19,
   "metadata": {},
   "outputs": [
    {
     "name": "stdout",
     "output_type": "stream",
     "text": [
      "Epoch 1\n",
      "\tTrain Loss: 0.579 | Train Acc: 70.88%\n",
      "\t Val. Loss: 0.651 |  Val. Acc: 58.17%\n",
      "\n"
     ]
    }
   ],
   "source": [
    "EPOCH_NUMBER = 10\n",
    "t_acc = []\n",
    "t_loss = []\n",
    "v_acc = []\n",
    "v_loss = []\n",
    "\n",
    "for epoch in range(1,EPOCH_NUMBER+1):\n",
    "    \n",
    "    train_loss,train_acc = train(model,train_loader,optimizer,criterion)\n",
    "    \n",
    "    valid_loss,valid_acc = evaluate(model,test_loader,criterion)\n",
    "    \n",
    "    t_acc.append(train_acc)\n",
    "    t_loss.append(train_loss)\n",
    "    v_acc.append(valid_acc)\n",
    "    v_loss.append(valid_loss)\n",
    "    \n",
    "    print(\"Epoch\", epoch)\n",
    "    print(f'\\tTrain Loss: {train_loss:.3f} | Train Acc: {train_acc*100:.2f}%')\n",
    "    print(f'\\t Val. Loss: {valid_loss:.3f} |  Val. Acc: {valid_acc*100:.2f}%')\n",
    "    print()"
   ]
  },
  {
   "cell_type": "code",
   "execution_count": 485,
   "metadata": {},
   "outputs": [
    {
     "name": "stdout",
     "output_type": "stream",
     "text": [
      "The best validation accuracy: 0.83\n"
     ]
    }
   ],
   "source": [
    "print(\"The best validation accuracy:\", round(max(v_acc), 2))"
   ]
  },
  {
   "cell_type": "code",
   "execution_count": 486,
   "metadata": {},
   "outputs": [
    {
     "data": {
      "text/plain": [
       "<matplotlib.legend.Legend at 0x3645c3550>"
      ]
     },
     "execution_count": 486,
     "metadata": {},
     "output_type": "execute_result"
    },
    {
     "data": {
      "image/png": "[encoded data removed]",
      "text/plain": [
       "<Figure size 640x480 with 1 Axes>"
      ]
     },
     "metadata": {},
     "output_type": "display_data"
    }
   ],
   "source": [
    "plt.plot(range(1, EPOCH_NUMBER+1), t_acc, v_acc)\n",
    "plt.title(\"Accuracy\")\n",
    "plt.legend((\"Training\", \"Validation\"))"
   ]
  },
  {
   "cell_type": "code",
   "execution_count": 487,
   "metadata": {},
   "outputs": [
    {
     "data": {
      "text/plain": [
       "<matplotlib.legend.Legend at 0x330212310>"
      ]
     },
     "execution_count": 487,
     "metadata": {},
     "output_type": "execute_result"
    },
    {
     "data": {
      "image/png": "[encoded data removed]",
      "text/plain": [
       "<Figure size 640x480 with 1 Axes>"
      ]
     },
     "metadata": {},
     "output_type": "display_data"
    }
   ],
   "source": [
    "plt.plot(range(1, EPOCH_NUMBER+1), t_loss, v_loss)\n",
    "plt.title(\"Loss\")\n",
    "plt.legend((\"Training\", \"Validation\"))"
   ]
  },
  {
   "cell_type": "markdown",
   "metadata": {},
   "source": [
    "## Regression LSTM"
   ]
  },
  {
   "cell_type": "code",
   "execution_count": 16,
   "metadata": {},
   "outputs": [],
   "source": [
    "# Hyperparameters\n",
    "embedding_dim = 128\n",
    "hidden_dim = 256\n",
    "output_dim = 1  # probability\n",
    "n_layers = 2\n",
    "bidirectional = True\n",
    "dropout = 0.3"
   ]
  },
  {
   "cell_type": "code",
   "execution_count": 17,
   "metadata": {},
   "outputs": [],
   "source": [
    "regression = LSTM(len(word_map), embedding_dim, hidden_dim, output_dim, n_layers, bidirectional, dropout)\n",
    "criterion = nn.BCELoss()\n",
    "optimizer = optim.Adam(regression.parameters(), lr=0.001)\n",
    "\n",
    "# Training loop\n",
    "device = torch.device('cuda' if torch.cuda.is_available() else 'cpu')\n",
    "regression = regression.to(device)"
   ]
  },
  {
   "cell_type": "code",
   "execution_count": 18,
   "metadata": {},
   "outputs": [],
   "source": [
    "def re_accuracy(preds, y, threshold=0.5):\n",
    "    rounded_preds = (preds > threshold).float()  # Convert probabilities to binary predictions\n",
    "    correct = (rounded_preds == y).float()\n",
    "    acc = correct.sum() / len(correct)\n",
    "    return acc"
   ]
  },
  {
   "cell_type": "code",
   "execution_count": 19,
   "metadata": {},
   "outputs": [],
   "source": [
    "def re_train(model,loader,optimizer,criterion):\n",
    "    epoch_loss = 0.0\n",
    "    epoch_acc = 0.0\n",
    "    \n",
    "    model.train()\n",
    "    \n",
    "    for batch in loader:\n",
    "        optimizer.zero_grad()\n",
    "        \n",
    "        input_ids = batch['input_ids'].to(device)\n",
    "        labels = batch['label'].float().to(device)\n",
    "        text_length = batch['text_length'].to(device)\n",
    "\n",
    "        outputs = model(input_ids, text_length).squeeze(1)\n",
    "        loss = criterion(outputs, labels)\n",
    "        loss.backward()\n",
    "        acc = re_accuracy(outputs, labels)\n",
    "        optimizer.step()\n",
    "        \n",
    "        epoch_loss += loss.item()\n",
    "        epoch_acc += acc.item()\n",
    "\n",
    "    return epoch_loss / len(loader), epoch_acc / len(loader)"
   ]
  },
  {
   "cell_type": "code",
   "execution_count": 20,
   "metadata": {},
   "outputs": [],
   "source": [
    "def re_evaluate(model,loader,criterion): \n",
    "    epoch_loss = 0.0\n",
    "    epoch_acc = 0.0\n",
    "    model.eval()\n",
    "\n",
    "    with torch.no_grad():\n",
    "        for batch in loader:\n",
    "            input_ids = batch['input_ids'].to(device)\n",
    "            labels = batch['label'].float().to(device)\n",
    "            text_length = batch['text_length'].to(device)\n",
    "            \n",
    "            outputs = model(input_ids, text_length).squeeze(1)\n",
    "\n",
    "            loss = criterion(outputs, labels)\n",
    "            acc = re_accuracy(outputs, labels)\n",
    "            \n",
    "            epoch_loss += loss.item()\n",
    "            epoch_acc += acc.item()\n",
    "        \n",
    "    return epoch_loss / len(loader), epoch_acc / len(loader)"
   ]
  },
  {
   "cell_type": "code",
   "execution_count": 22,
   "metadata": {},
   "outputs": [
    {
     "name": "stdout",
     "output_type": "stream",
     "text": [
      "Epoch 1\n",
      "\tTrain Loss: 0.671 | Train Acc: 66.88%\n",
      "\t Val. Loss: 0.528 |  Val. Acc: 71.63%\n",
      "\n",
      "Epoch 2\n",
      "\tTrain Loss: 0.355 | Train Acc: 85.12%\n",
      "\t Val. Loss: 0.849 |  Val. Acc: 59.62%\n",
      "\n",
      "Epoch 3\n",
      "\tTrain Loss: 0.254 | Train Acc: 89.38%\n",
      "\t Val. Loss: 0.846 |  Val. Acc: 72.60%\n",
      "\n",
      "Epoch 4\n",
      "\tTrain Loss: 0.139 | Train Acc: 95.12%\n",
      "\t Val. Loss: 0.861 |  Val. Acc: 69.23%\n",
      "\n",
      "Epoch 5\n",
      "\tTrain Loss: 0.107 | Train Acc: 96.25%\n",
      "\t Val. Loss: 1.493 |  Val. Acc: 58.17%\n",
      "\n",
      "Epoch 6\n",
      "\tTrain Loss: 0.096 | Train Acc: 96.50%\n",
      "\t Val. Loss: 0.826 |  Val. Acc: 74.52%\n",
      "\n",
      "Epoch 7\n",
      "\tTrain Loss: 0.062 | Train Acc: 98.12%\n",
      "\t Val. Loss: 0.766 |  Val. Acc: 76.92%\n",
      "\n",
      "Epoch 8\n",
      "\tTrain Loss: 0.034 | Train Acc: 98.88%\n",
      "\t Val. Loss: 0.832 |  Val. Acc: 76.92%\n",
      "\n",
      "Epoch 9\n",
      "\tTrain Loss: 0.028 | Train Acc: 99.00%\n",
      "\t Val. Loss: 0.941 |  Val. Acc: 75.00%\n",
      "\n",
      "Epoch 10\n",
      "\tTrain Loss: 0.059 | Train Acc: 98.00%\n",
      "\t Val. Loss: 0.959 |  Val. Acc: 76.44%\n",
      "\n"
     ]
    }
   ],
   "source": [
    "EPOCH_NUMBER = 10\n",
    "t_acc = []\n",
    "t_loss = []\n",
    "v_acc = []\n",
    "v_loss = []\n",
    "\n",
    "for epoch in range(1,EPOCH_NUMBER+1):\n",
    "    \n",
    "    train_loss,train_acc = re_train(regression,train_loader,optimizer,criterion)\n",
    "    \n",
    "    valid_loss,valid_acc = re_evaluate(regression,test_loader,criterion)\n",
    "    \n",
    "    t_acc.append(train_acc)\n",
    "    t_loss.append(train_loss)\n",
    "    v_acc.append(valid_acc)\n",
    "    v_loss.append(valid_loss)\n",
    "    \n",
    "    print(\"Epoch\", epoch)\n",
    "    print(f'\\tTrain Loss: {train_loss:.3f} | Train Acc: {train_acc*100:.2f}%')\n",
    "    print(f'\\t Val. Loss: {valid_loss:.3f} |  Val. Acc: {valid_acc*100:.2f}%')\n",
    "    print()"
   ]
  },
  {
   "cell_type": "code",
   "execution_count": 23,
   "metadata": {},
   "outputs": [
    {
     "data": {
      "text/plain": [
       "<matplotlib.legend.Legend at 0x322616190>"
      ]
     },
     "execution_count": 23,
     "metadata": {},
     "output_type": "execute_result"
    },
    {
     "data": {
      "image/png": "[encoded data removed]",
      "text/plain": [
       "<Figure size 640x480 with 1 Axes>"
      ]
     },
     "metadata": {},
     "output_type": "display_data"
    }
   ],
   "source": [
    "plt.plot(range(1, EPOCH_NUMBER+1), t_acc, v_acc)\n",
    "plt.title(\"Accuracy\")\n",
    "plt.legend((\"Training\", \"Validation\"))"
   ]
  },
  {
   "cell_type": "markdown",
   "metadata": {},
   "source": [
    "## LSTM with Attention Mechanism"
   ]
  },
  {
   "cell_type": "markdown",
   "metadata": {},
   "source": [
    "To incorporate attention mechanism into the LSTM model, we compute attention weights over the LSTM output."
   ]
  },
  {
   "cell_type": "code",
   "execution_count": null,
   "metadata": {},
   "outputs": [],
   "source": [
    "# Hyperparameters\n",
    "embedding_dim = 128\n",
    "hidden_dim = 256\n",
    "output_dim = 1  # probability\n",
    "n_layers = 2\n",
    "bidirectional = True\n",
    "dropout = 0.3"
   ]
  },
  {
   "cell_type": "code",
   "execution_count": null,
   "metadata": {},
   "outputs": [],
   "source": [
    "import torch\n",
    "import torch.nn as nn\n",
    "\n",
    "class LSTMWithAttention(nn.Module):\n",
    "    def __init__(self, vocab_size, embedding_dim, hidden_dim, output_dim, n_layers, bidirectional, dropout):\n",
    "        super(LSTMWithAttention, self).__init__()\n",
    "        self.embedding = nn.Embedding(vocab_size + 1, embedding_dim)\n",
    "        \n",
    "        self.lstm = nn.LSTM(\n",
    "            embedding_dim,\n",
    "            hidden_dim,\n",
    "            num_layers=n_layers,\n",
    "            bidirectional=bidirectional,\n",
    "            dropout=dropout,\n",
    "            batch_first=True\n",
    "        )\n",
    "        \n",
    "        # Attention layer\n",
    "        self.attention = nn.Linear(hidden_dim * 2, 1)  # For attention weights\n",
    "        self.softmax = nn.Softmax(dim=1)\n",
    "        \n",
    "        # Fully connected layers\n",
    "        self.fc = nn.Linear(hidden_dim * 2, output_dim)\n",
    "        self.batch_norm = nn.BatchNorm1d(hidden_dim * 2)\n",
    "        self.dropout = nn.Dropout(dropout)\n",
    "        self.sigmoid = nn.Sigmoid()  # Use sigmoid as activation function for binary classification\n",
    "\n",
    "    def forward(self, text, text_lengths):\n",
    "        embedded = self.embedding(text)\n",
    "        packed_embedded = nn.utils.rnn.pack_padded_sequence(\n",
    "            embedded, text_lengths.cpu(), batch_first=True, enforce_sorted=False\n",
    "        )\n",
    "        packed_output, (hidden_state, cell_state) = self.lstm(packed_embedded)\n",
    "        output, _ = nn.utils.rnn.pad_packed_sequence(packed_output, batch_first=True)\n",
    "        \n",
    "        # Attention mechanism\n",
    "        attn_weights = self.attention(output)  # Shape: [batch_size, seq_len, 1]\n",
    "        attn_weights = self.softmax(attn_weights.squeeze(-1))  # Shape: [batch_size, seq_len]\n",
    "        \n",
    "        # Context vector as weighted sum of outputs\n",
    "        context = torch.bmm(attn_weights.unsqueeze(1), output).squeeze(1)  # Shape: [batch_size, hidden_dim * 2]\n",
    "        \n",
    "        # Concatenate final hidden state and context vector\n",
    "        hidden = torch.cat((hidden_state[-2, :, :], hidden_state[-1, :, :]), dim=1)  # Final hidden state\n",
    "        context_hidden = context + hidden  # Combine context and hidden state\n",
    "        \n",
    "        # Classification\n",
    "        context_hidden = self.batch_norm(context_hidden)\n",
    "        outputs = self.sigmoid(self.fc(self.dropout(context_hidden)))\n",
    "        \n",
    "        return outputs\n"
   ]
  },
  {
   "cell_type": "code",
   "execution_count": null,
   "metadata": {},
   "outputs": [],
   "source": [
    "model = LSTMWithAttention(len(word_map), embedding_dim, hidden_dim, output_dim, n_layers, bidirectional, dropout)\n",
    "criterion = nn.CrossEntropyLoss()\n",
    "optimizer = optim.Adam(model.parameters(), lr=0.001)\n",
    "\n",
    "# Training loop\n",
    "if torch.backends.mps.is_available():\n",
    "    device = torch.device(\"mps\")\n",
    "    print(\"Using MPS GPU\")\n",
    "else:\n",
    "    device = torch.device(\"cpu\")\n",
    "model = model.to(device)"
   ]
  },
  {
   "cell_type": "code",
   "execution_count": null,
   "metadata": {},
   "outputs": [],
   "source": [
    "EPOCH_NUMBER = 10\n",
    "t_acc = []\n",
    "t_loss = []\n",
    "v_acc = []\n",
    "v_loss = []\n",
    "\n",
    "for epoch in range(1,EPOCH_NUMBER+1):\n",
    "    \n",
    "    train_loss,train_acc = train(model,train_loader,optimizer,criterion)\n",
    "    \n",
    "    valid_loss,valid_acc = evaluate(model,test_loader,criterion)\n",
    "    \n",
    "    t_acc.append(train_acc)\n",
    "    t_loss.append(train_loss)\n",
    "    v_acc.append(valid_acc)\n",
    "    v_loss.append(valid_loss)\n",
    "    \n",
    "    print(\"Epoch\", epoch)\n",
    "    print(f'\\tTrain Loss: {train_loss:.3f} | Train Acc: {train_acc*100:.2f}%')\n",
    "    print(f'\\t Val. Loss: {valid_loss:.3f} |  Val. Acc: {valid_acc*100:.2f}%')\n",
    "    print()"
   ]
  },
  {
   "cell_type": "code",
   "execution_count": null,
   "metadata": {},
   "outputs": [],
   "source": [
    "plt.plot(range(1, EPOCH_NUMBER+1), t_acc, v_acc)\n",
    "plt.title(\"Accuracy\")\n",
    "plt.legend((\"Training\", \"Validation\"))"
   ]
  },
  {
   "cell_type": "markdown",
   "metadata": {},
   "source": [
    "## Inference"
   ]
  },
  {
   "cell_type": "markdown",
   "metadata": {},
   "source": [
    "### Binary Classfication"
   ]
  },
  {
   "cell_type": "code",
   "execution_count": 488,
   "metadata": {},
   "outputs": [],
   "source": [
    "def predict_sentence(sentence, model, word_map, device):\n",
    "    # Preprocess the sentence\n",
    "    encoded_sentence = text_encoder(sentence, word_map)\n",
    "    input_tensor = torch.tensor(encoded_sentence, dtype=torch.long).unsqueeze(0).to(device)  # Add batch dimension\n",
    "\n",
    "    # Get the length of the input sentence (for packing sequence)\n",
    "    text_length = torch.tensor([len(encoded_sentence)], dtype=torch.long).to(device)\n",
    "\n",
    "    # Perform inference\n",
    "    model.eval()  # Set the model to evaluation mode\n",
    "    with torch.no_grad():\n",
    "        output = model(input_tensor, text_length)  # Get the model output\n",
    "        prediction = torch.argmax(output, dim=1).item()  # Get the predicted class (0 or 1)\n",
    "\n",
    "    # Interpret the result\n",
    "    if prediction == 0:\n",
    "        return \"The sentence is classified as Non-Suicidal.\"\n",
    "    else:\n",
    "        return \"The sentence is classified as Suicidal.\""
   ]
  },
  {
   "cell_type": "code",
   "execution_count": 489,
   "metadata": {},
   "outputs": [
    {
     "name": "stdout",
     "output_type": "stream",
     "text": [
      "The sentence is classified as Suicidal.\n"
     ]
    }
   ],
   "source": [
    "sentence = \"I feel hopeless.\"\n",
    "result = predict_sentence(sentence, model, word_map, device)\n",
    "print(result)"
   ]
  },
  {
   "cell_type": "markdown",
   "metadata": {},
   "source": [
    "### Regression"
   ]
  },
  {
   "cell_type": "code",
   "execution_count": 24,
   "metadata": {},
   "outputs": [],
   "source": [
    "def regression_predict(sentence, model, word_map, device):\n",
    "\n",
    "    encoded_sentence = text_encoder(sentence, word_map)\n",
    "    input_tensor = torch.tensor(encoded_sentence, dtype=torch.long).unsqueeze(0).to(device)\n",
    "\n",
    "    text_length = torch.tensor([len(encoded_sentence)], dtype=torch.long).to(device)\n",
    "\n",
    "    model.eval()\n",
    "    with torch.no_grad():\n",
    "        output = model(input_tensor, text_length)  # Get the model output\n",
    "        probability = torch.sigmoid(output).squeeze().item()  # Get the probability\n",
    "\n",
    "    prediction = 1 if probability >= 0.5 else 0  # Threshold of 0.5\n",
    "    if prediction == 0:\n",
    "        result = f\"The sentence is classified as Non-Suicidal with a probability of {1 - probability:.4f}.\"\n",
    "    else:\n",
    "        result = f\"The sentence is classified as Suicidal with a probability of {probability:.4f}.\"\n",
    "\n",
    "    return result"
   ]
  },
  {
   "cell_type": "code",
   "execution_count": 26,
   "metadata": {},
   "outputs": [
    {
     "name": "stdout",
     "output_type": "stream",
     "text": [
      "The sentence is classified as Suicidal with a probability of 0.6399.\n"
     ]
    }
   ],
   "source": [
    "sentence = \"I feel sad.\"\n",
    "result = regression_predict(sentence, regression, word_map, device)\n",
    "print(result)"
   ]
  },
  {
   "cell_type": "code",
   "execution_count": null,
   "metadata": {},
   "outputs": [],
   "source": []
  }
 ],
 "metadata": {
  "kernelspec": {
   "display_name": "Python 3 (ipykernel)",
   "language": "python",
   "name": "python3"
  },
  "language_info": {
   "codemirror_mode": {
    "name": "ipython",
    "version": 3
   },
   "file_extension": ".py",
   "mimetype": "text/x-python",
   "name": "python",
   "nbconvert_exporter": "python",
   "pygments_lexer": "ipython3",
   "version": "3.9.6"
  }
 },
 "nbformat": 4,
 "nbformat_minor": 2
}
