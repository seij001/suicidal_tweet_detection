{
 "cells": [
  {
   "cell_type": "code",
   "execution_count": 10,
   "metadata": {},
   "outputs": [],
   "source": [
    "import torch\n",
    "import torch.nn as nn\n",
    "from torch.utils.data import Dataset, DataLoader\n",
    "from torch.nn.utils.rnn import pad_sequence\n",
    "import torch.optim as optim\n",
    "import pandas as pd\n",
    "from nltk import word_tokenize\n",
    "from sklearn.model_selection import train_test_split\n",
    "import matplotlib.pyplot as plt"
   ]
  },
  {
   "cell_type": "code",
   "execution_count": 11,
   "metadata": {},
   "outputs": [],
   "source": [
    "data_processed = pd.read_csv('tweets_preprocessed2.csv')\n",
    "# non_suicide_data = data_processed[data_processed['class'] == 'non-suicide'].sample(n=500)\n",
    "# suicide_data = data_processed[data_processed['class'] == 'suicide'].sample(n=500)\n",
    "balanced_data = data_processed # pd.concat([non_suicide_data, suicide_data])"
   ]
  },
  {
   "cell_type": "markdown",
   "metadata": {},
   "source": [
    "## Data Preprocessing"
   ]
  },
  {
   "cell_type": "code",
   "execution_count": 12,
   "metadata": {},
   "outputs": [],
   "source": [
    "all_tokens = set(i.lower() for token in balanced_data[\"text\"] for i in word_tokenize(token))\n",
    "word_map = {token: idx for idx, token in enumerate(list(all_tokens))}\n",
    "word_map['UNK'] = len(word_map)\n",
    "word_map['PAD'] = len(word_map)+1"
   ]
  },
  {
   "cell_type": "code",
   "execution_count": 13,
   "metadata": {},
   "outputs": [],
   "source": [
    "def text_encoder(sentence, word_map):\n",
    "    tokens = word_tokenize(sentence.lower())\n",
    "    encode = [word_map.get(token, word_map['UNK']) for token in tokens]\n",
    "    return encode"
   ]
  },
  {
   "cell_type": "code",
   "execution_count": 14,
   "metadata": {},
   "outputs": [],
   "source": [
    "class SuicideDataset(Dataset):\n",
    "    def __init__(self, sentences, labels, vocab):\n",
    "        self.sentences = sentences\n",
    "        self.vocab = vocab\n",
    "        self.label_mapping = {\n",
    "            'non-suicide': 0,\n",
    "            'suicide': 1\n",
    "        }\n",
    "        self.labels = [self.label_mapping[label] for label in labels]\n",
    "\n",
    "    def __len__(self):\n",
    "        return len(self.sentences)\n",
    "\n",
    "    def __getitem__(self, item):\n",
    "        sentence = self.sentences[item]\n",
    "        label = self.labels[item]\n",
    "        encoded_sentence = text_encoder(sentence, self.vocab)\n",
    "        \n",
    "        return {\n",
    "            'input_ids': torch.tensor(encoded_sentence, dtype=torch.long),\n",
    "            'label': torch.tensor(label, dtype=torch.long)\n",
    "        }\n"
   ]
  },
  {
   "cell_type": "code",
   "execution_count": 15,
   "metadata": {},
   "outputs": [],
   "source": [
    "# Pad the input_ids to the length of the longest sequence in the batch\n",
    "def collate_fn(batch):\n",
    "    input_ids = [item['input_ids'] for item in batch]\n",
    "    labels = [item['label'] for item in batch]\n",
    "\n",
    "    \n",
    "    padded_input_ids = pad_sequence(input_ids, batch_first=True, padding_value=word_map['PAD'])\n",
    "    labels = torch.stack(labels)\n",
    "    text_lengths = torch.tensor([len(ids) for ids in input_ids], dtype=torch.long)\n",
    "        \n",
    "    return {\n",
    "        'input_ids': padded_input_ids,\n",
    "        'label': labels,\n",
    "        'text_length': text_lengths\n",
    "    }"
   ]
  },
  {
   "cell_type": "code",
   "execution_count": 16,
   "metadata": {},
   "outputs": [],
   "source": [
    "# Split data\n",
    "train_data, test_data, train_label, test_label = train_test_split(\n",
    "    balanced_data['text'], balanced_data['class'], test_size=0.2, random_state=42\n",
    ")\n",
    "\n",
    "# Create datasets and dataloaders\n",
    "train_dataset = SuicideDataset(train_data.to_numpy(), train_label.to_numpy(), word_map)\n",
    "test_dataset = SuicideDataset(test_data.to_numpy(), test_label.to_numpy(), word_map)\n",
    "\n",
    "train_loader = DataLoader(train_dataset, batch_size=16, shuffle=True, collate_fn=collate_fn)\n",
    "test_loader = DataLoader(test_dataset, batch_size=16, shuffle=False, collate_fn=collate_fn)"
   ]
  },
  {
   "cell_type": "markdown",
   "metadata": {},
   "source": [
    "## Binary-Classfication LSTM"
   ]
  },
  {
   "cell_type": "code",
   "execution_count": 17,
   "metadata": {},
   "outputs": [],
   "source": [
    "class LSTM(nn.Module):\n",
    "    def __init__(self, vocab_size, embedding_dim, hidden_dim, output_dim, n_layers, bidirectional, dropout):\n",
    "        super(LSTM,self).__init__()\n",
    "        self.embedding = nn.Embedding(vocab_size+1,embedding_dim)\n",
    "        \n",
    "        self.lstm = nn.LSTM(embedding_dim,\n",
    "                            hidden_dim,\n",
    "                            num_layers = n_layers,\n",
    "                            bidirectional = bidirectional,\n",
    "                            dropout = dropout,\n",
    "                            batch_first = True\n",
    "                           )\n",
    "        self.fc = nn.Linear(hidden_dim * 2,output_dim)\n",
    "        self.batch_norm = nn.BatchNorm1d(hidden_dim * 2)\n",
    "        self.dropout = nn.Dropout(dropout)\n",
    "        self.sigmoid = nn.Sigmoid() # use sigmoid as activation function\n",
    "\n",
    "    def forward(self,text,text_lengths):\n",
    "        embedded = self.embedding(text)\n",
    "        packed_embedded = nn.utils.rnn.pack_padded_sequence(embedded, text_lengths.cpu(),batch_first=True, enforce_sorted=False)\n",
    "        packed_output,(hidden_state,cell_state) = self.lstm(packed_embedded)\n",
    "        \n",
    "        hidden = torch.cat((hidden_state[-2,:,:], hidden_state[-1,:,:]), dim = 1)\n",
    "        hidden = self.batch_norm(hidden)\n",
    "        outputs=self.sigmoid(self.fc(self.dropout(hidden)))\n",
    "        \n",
    "        return outputs"
   ]
  },
  {
   "cell_type": "code",
   "execution_count": 18,
   "metadata": {},
   "outputs": [],
   "source": [
    "# Hyperparameters\n",
    "embedding_dim = 128\n",
    "hidden_dim = 256\n",
    "output_dim = 2  # suicidal/non-suicidal\n",
    "n_layers = 2\n",
    "bidirectional = True\n",
    "dropout = 0.3"
   ]
  },
  {
   "cell_type": "code",
   "execution_count": 19,
   "metadata": {},
   "outputs": [],
   "source": [
    "model = LSTM(len(word_map), embedding_dim, hidden_dim, output_dim, n_layers, bidirectional, dropout)\n",
    "criterion = nn.CrossEntropyLoss()\n",
    "optimizer = optim.Adam(model.parameters(), lr=0.001)\n",
    "\n",
    "# Training loop\n",
    "device = torch.device('cuda' if torch.cuda.is_available() else 'cpu')\n",
    "model = model.to(device)"
   ]
  },
  {
   "cell_type": "code",
   "execution_count": 20,
   "metadata": {},
   "outputs": [],
   "source": [
    "def accuracy(preds, y):\n",
    "    rounded_preds = torch.argmax(preds, dim=1)\n",
    "    correct = (rounded_preds == y).float() \n",
    "    acc = correct.sum() / len(correct)\n",
    "    return acc"
   ]
  },
  {
   "cell_type": "code",
   "execution_count": 21,
   "metadata": {},
   "outputs": [],
   "source": [
    "def train(model,loader,optimizer,criterion):\n",
    "    epoch_loss = 0.0\n",
    "    epoch_acc = 0.0\n",
    "    \n",
    "    model.train()\n",
    "    \n",
    "    for batch in loader:\n",
    "        optimizer.zero_grad()\n",
    "        \n",
    "        input_ids = batch['input_ids'].to(device)\n",
    "        labels = batch['label'].to(device)\n",
    "        text_length = batch['text_length'].to(device)\n",
    "\n",
    "        outputs = model(input_ids, text_length)\n",
    "        loss = criterion(outputs, labels)\n",
    "        loss.backward()\n",
    "        acc = accuracy(outputs, labels)\n",
    "        optimizer.step()\n",
    "        \n",
    "        epoch_loss += loss.item()\n",
    "        epoch_acc += acc.item()\n",
    "\n",
    "    return epoch_loss / len(loader), epoch_acc / len(loader)"
   ]
  },
  {
   "cell_type": "code",
   "execution_count": 22,
   "metadata": {},
   "outputs": [],
   "source": [
    "def evaluate(model,loader,criterion): \n",
    "    epoch_loss = 0.0\n",
    "    epoch_acc = 0.0\n",
    "    model.eval()\n",
    "\n",
    "    with torch.no_grad():\n",
    "        for batch in loader:\n",
    "            input_ids = batch['input_ids'].to(device)\n",
    "            labels = batch['label'].to(device)\n",
    "            text_length = batch['text_length'].to(device)\n",
    "            \n",
    "            outputs = model(input_ids, text_length)\n",
    "\n",
    "            loss = criterion(outputs, labels)\n",
    "            acc = accuracy(outputs, labels)\n",
    "            \n",
    "            epoch_loss += loss.item()\n",
    "            epoch_acc += acc.item()\n",
    "        \n",
    "    return epoch_loss / len(loader), epoch_acc / len(loader)"
   ]
  },
  {
   "cell_type": "code",
   "execution_count": 23,
   "metadata": {},
   "outputs": [],
   "source": [
    "# EPOCH_NUMBER = 10\n",
    "# t_acc = []\n",
    "# t_loss = []\n",
    "# v_acc = []\n",
    "# v_loss = []\n",
    "\n",
    "# for epoch in range(1,EPOCH_NUMBER+1):\n",
    "    \n",
    "#     train_loss,train_acc = train(model,train_loader,optimizer,criterion)\n",
    "    \n",
    "#     valid_loss,valid_acc = evaluate(model,test_loader,criterion)\n",
    "    \n",
    "#     t_acc.append(train_acc)\n",
    "#     t_loss.append(train_loss)\n",
    "#     v_acc.append(valid_acc)\n",
    "#     v_loss.append(valid_loss)\n",
    "    \n",
    "#     print(\"Epoch\", epoch)\n",
    "#     print(f'\\tTrain Loss: {train_loss:.3f} | Train Acc: {train_acc*100:.2f}%')\n",
    "#     print(f'\\t Val. Loss: {valid_loss:.3f} |  Val. Acc: {valid_acc*100:.2f}%')\n",
    "#     print()"
   ]
  },
  {
   "cell_type": "code",
   "execution_count": 24,
   "metadata": {},
   "outputs": [],
   "source": [
    "# print(\"The best validation accuracy:\", round(max(v_acc), 2))"
   ]
  },
  {
   "cell_type": "code",
   "execution_count": 25,
   "metadata": {},
   "outputs": [],
   "source": [
    "# plt.plot(range(1, EPOCH_NUMBER+1), t_acc, v_acc)\n",
    "# plt.title(\"Accuracy\")\n",
    "# plt.legend((\"Training\", \"Validation\"))"
   ]
  },
  {
   "cell_type": "code",
   "execution_count": 26,
   "metadata": {},
   "outputs": [],
   "source": [
    "# plt.plot(range(1, EPOCH_NUMBER+1), t_loss, v_loss)\n",
    "# plt.title(\"Loss\")\n",
    "# plt.legend((\"Training\", \"Validation\"))"
   ]
  },
  {
   "cell_type": "markdown",
   "metadata": {},
   "source": [
    "# GridSearch for Binary Classification LSTM"
   ]
  },
  {
   "cell_type": "code",
   "execution_count": 31,
   "metadata": {},
   "outputs": [],
   "source": [
    "from itertools import product\n",
    "from sklearn.model_selection import KFold\n",
    "from sklearn.metrics import accuracy_score, confusion_matrix, roc_auc_score\n",
    "import numpy as np\n",
    "import torch\n",
    "from torch.utils.data import DataLoader\n",
    "\n",
    "# Define the grid of hyperparameters\n",
    "param_grid = {\n",
    "    'embedding_dim': [64, 128, 256],\n",
    "    'hidden_dim': [128, 256, 512],\n",
    "    'n_layers': [1, 2, 3],\n",
    "    'dropout': [0.2, 0.3, 0.5],\n",
    "    'learning_rate': [0.001, 0.0005, 0.0001]\n",
    "}\n"
   ]
  },
  {
   "cell_type": "code",
   "execution_count": 28,
   "metadata": {},
   "outputs": [],
   "source": [
    "# Define train_and_evaluate with updated metrics\n",
    "def train_and_evaluate(params, train_loader, val_loader):\n",
    "    embedding_dim, hidden_dim, n_layers, dropout, learning_rate = params\n",
    "\n",
    "    # Initialize model\n",
    "    model = LSTM(\n",
    "        vocab_size=len(word_map),\n",
    "        embedding_dim=embedding_dim,\n",
    "        hidden_dim=hidden_dim,\n",
    "        output_dim=2,\n",
    "        n_layers=n_layers,\n",
    "        bidirectional=True,\n",
    "        dropout=dropout\n",
    "    ).to(device)\n",
    "\n",
    "    criterion = nn.CrossEntropyLoss()\n",
    "    optimizer = torch.optim.Adam(model.parameters(), lr=learning_rate)\n",
    "\n",
    "    best_valid_metrics = {'accuracy': 0, 'roc_auc': 0, 'confusion_matrix': None}\n",
    "\n",
    "    for epoch in range(1, EPOCH_NUMBER + 1):\n",
    "        train_loss, train_acc = train(model, train_loader, optimizer, criterion)\n",
    "        valid_metrics = evaluate(model, val_loader, criterion)\n",
    "\n",
    "        # Keep track of best validation metrics\n",
    "        if valid_metrics['accuracy'] > best_valid_metrics['accuracy']:\n",
    "            best_valid_metrics = valid_metrics\n",
    "\n",
    "    return best_valid_metrics"
   ]
  },
  {
   "cell_type": "code",
   "execution_count": 29,
   "metadata": {},
   "outputs": [],
   "source": [
    "# Evaluation function for metrics\n",
    "def evaluate(model, loader, criterion):\n",
    "    model.eval()\n",
    "    all_labels, all_preds, all_probs = [], [], []\n",
    "\n",
    "    with torch.no_grad():\n",
    "        for batch in loader:\n",
    "            input_ids = batch['input_ids'].to(device)\n",
    "            labels = batch['label'].to(device)\n",
    "            text_length = batch['text_length'].to(device)\n",
    "\n",
    "            outputs = model(input_ids, text_length)\n",
    "            all_labels.extend(labels.cpu().numpy())\n",
    "            all_preds.extend(torch.argmax(outputs, dim=1).cpu().numpy())\n",
    "            all_probs.extend(outputs[:, 1].cpu().numpy())\n",
    "\n",
    "    # Metrics calculation\n",
    "    accuracy = accuracy_score(all_labels, all_preds)\n",
    "    roc_auc = roc_auc_score(all_labels, all_probs)\n",
    "    cm = confusion_matrix(all_labels, all_preds)\n",
    "\n",
    "    return {'accuracy': accuracy, 'roc_auc': roc_auc, 'confusion_matrix': cm}"
   ]
  },
  {
   "cell_type": "code",
   "execution_count": null,
   "metadata": {},
   "outputs": [],
   "source": [
    "# Modified to ignore Dropout for n_layers=1\n",
    "\n",
    "class LSTM(nn.Module):\n",
    "    def __init__(self, vocab_size, embedding_dim, hidden_dim, output_dim, n_layers, bidirectional, dropout):\n",
    "        super(LSTM, self).__init__()\n",
    "        self.embedding = nn.Embedding(vocab_size+1, embedding_dim)\n",
    "        \n",
    "        # Automatically disable dropout for single-layer LSTM\n",
    "        dropout = 0.0 if n_layers == 1 else dropout\n",
    "\n",
    "        self.lstm = nn.LSTM(\n",
    "            embedding_dim,\n",
    "            hidden_dim,\n",
    "            num_layers=n_layers,\n",
    "            bidirectional=bidirectional,\n",
    "            dropout=dropout,\n",
    "            batch_first=True\n",
    "        )\n",
    "        self.fc = nn.Linear(hidden_dim * 2 if bidirectional else hidden_dim, output_dim)\n",
    "        self.batch_norm = nn.BatchNorm1d(hidden_dim * 2 if bidirectional else hidden_dim)\n",
    "        self.dropout = nn.Dropout(dropout)\n",
    "        self.sigmoid = nn.Sigmoid()  # Sigmoid activation function for binary classification\n",
    "\n",
    "    def forward(self, text, text_lengths):\n",
    "        embedded = self.embedding(text)\n",
    "        packed_embedded = nn.utils.rnn.pack_padded_sequence(embedded, text_lengths.cpu(), batch_first=True, enforce_sorted=False)\n",
    "        packed_output, (hidden_state, cell_state) = self.lstm(packed_embedded)\n",
    "        \n",
    "        hidden = torch.cat((hidden_state[-2,:,:], hidden_state[-1,:,:]), dim=1) if self.lstm.bidirectional else hidden_state[-1,:,:]\n",
    "        hidden = self.batch_norm(hidden)\n",
    "        outputs = self.sigmoid(self.fc(self.dropout(hidden)))\n",
    "        \n",
    "        return outputs\n"
   ]
  },
  {
   "cell_type": "code",
   "execution_count": null,
   "metadata": {},
   "outputs": [
    {
     "name": "stderr",
     "output_type": "stream",
     "text": [
      "/Library/Frameworks/Python.framework/Versions/3.11/lib/python3.11/site-packages/torch/nn/modules/rnn.py:123: UserWarning: dropout option adds dropout after all but last recurrent layer, so non-zero dropout expects num_layers greater than 1, but got dropout=0.2 and num_layers=1\n",
      "  warnings.warn(\n"
     ]
    }
   ],
   "source": [
    "# Grid search implementation\n",
    "results = []\n",
    "EPOCH_NUMBER = 10\n",
    "kf = KFold(n_splits=5, shuffle=True, random_state=42)\n",
    "\n",
    "# Iterate over all hyperparameter combinations\n",
    "for params in product(*param_grid.values()):\n",
    "    avg_accuracy, avg_roc_auc = [], []\n",
    "    avg_confusion_matrix = np.zeros((2, 2))\n",
    "\n",
    "    # Cross-validation\n",
    "    for train_idx, val_idx in kf.split(balanced_data):\n",
    "        train_data_split = balanced_data.iloc[train_idx]\n",
    "        val_data_split = balanced_data.iloc[val_idx]\n",
    "\n",
    "        # Create datasets and dataloaders\n",
    "        train_dataset = SuicideDataset(train_data_split['text'].to_numpy(),\n",
    "                                       train_data_split['class'].to_numpy(),\n",
    "                                       word_map)\n",
    "        val_dataset = SuicideDataset(val_data_split['text'].to_numpy(),\n",
    "                                     val_data_split['class'].to_numpy(),\n",
    "                                     word_map)\n",
    "\n",
    "        train_loader = DataLoader(train_dataset, batch_size=16, shuffle=True, collate_fn=collate_fn)\n",
    "        val_loader = DataLoader(val_dataset, batch_size=16, shuffle=False, collate_fn=collate_fn)\n",
    "\n",
    "        # Train and evaluate\n",
    "        metrics = train_and_evaluate(params, train_loader, val_loader)\n",
    "        avg_accuracy.append(metrics['accuracy'])\n",
    "        avg_roc_auc.append(metrics['roc_auc'])\n",
    "        avg_confusion_matrix += metrics['confusion_matrix']\n",
    "\n",
    "    # Average metrics across folds\n",
    "    avg_accuracy = np.mean(avg_accuracy)\n",
    "    avg_roc_auc = np.mean(avg_roc_auc)\n",
    "    avg_confusion_matrix /= kf.get_n_splits()\n",
    "\n",
    "    results.append((params, avg_accuracy, avg_roc_auc, avg_confusion_matrix))"
   ]
  },
  {
   "cell_type": "code",
   "execution_count": null,
   "metadata": {},
   "outputs": [],
   "source": [
    "# Find the best parameters\n",
    "best_params, best_accuracy, best_roc_auc, best_cm = max(results, key=lambda x: x[1])\n",
    "print(\"Best Parameters:\", best_params)\n",
    "print(f\"Best Validation Accuracy: {best_accuracy:.4f}\")\n",
    "print(f\"Best Validation ROC AUC: {best_roc_auc:.4f}\")\n",
    "print(\"Best Confusion Matrix:\\n\", best_cm)"
   ]
  },
  {
   "cell_type": "markdown",
   "metadata": {},
   "source": [
    "## Regression LSTM"
   ]
  },
  {
   "cell_type": "code",
   "execution_count": 16,
   "metadata": {},
   "outputs": [],
   "source": [
    "# # Hyperparameters\n",
    "# embedding_dim = 128\n",
    "# hidden_dim = 256\n",
    "# output_dim = 1  # probability\n",
    "# n_layers = 2\n",
    "# bidirectional = True\n",
    "# dropout = 0.3"
   ]
  },
  {
   "cell_type": "code",
   "execution_count": 17,
   "metadata": {},
   "outputs": [],
   "source": [
    "# regression = LSTM(len(word_map), embedding_dim, hidden_dim, output_dim, n_layers, bidirectional, dropout)\n",
    "# criterion = nn.BCELoss()\n",
    "# optimizer = optim.Adam(regression.parameters(), lr=0.001)\n",
    "\n",
    "# # Training loop\n",
    "# device = torch.device('cuda' if torch.cuda.is_available() else 'cpu')\n",
    "# regression = regression.to(device)"
   ]
  },
  {
   "cell_type": "code",
   "execution_count": 18,
   "metadata": {},
   "outputs": [],
   "source": [
    "# def re_accuracy(preds, y, threshold=0.5):\n",
    "#     rounded_preds = (preds > threshold).float()  # Convert probabilities to binary predictions\n",
    "#     correct = (rounded_preds == y).float()\n",
    "#     acc = correct.sum() / len(correct)\n",
    "#     return acc"
   ]
  },
  {
   "cell_type": "code",
   "execution_count": 19,
   "metadata": {},
   "outputs": [],
   "source": [
    "# def re_train(model,loader,optimizer,criterion):\n",
    "#     epoch_loss = 0.0\n",
    "#     epoch_acc = 0.0\n",
    "    \n",
    "#     model.train()\n",
    "    \n",
    "#     for batch in loader:\n",
    "#         optimizer.zero_grad()\n",
    "        \n",
    "#         input_ids = batch['input_ids'].to(device)\n",
    "#         labels = batch['label'].float().to(device)\n",
    "#         text_length = batch['text_length'].to(device)\n",
    "\n",
    "#         outputs = model(input_ids, text_length).squeeze(1)\n",
    "#         loss = criterion(outputs, labels)\n",
    "#         loss.backward()\n",
    "#         acc = re_accuracy(outputs, labels)\n",
    "#         optimizer.step()\n",
    "        \n",
    "#         epoch_loss += loss.item()\n",
    "#         epoch_acc += acc.item()\n",
    "\n",
    "#     return epoch_loss / len(loader), epoch_acc / len(loader)"
   ]
  },
  {
   "cell_type": "code",
   "execution_count": 20,
   "metadata": {},
   "outputs": [],
   "source": [
    "# def re_evaluate(model,loader,criterion): \n",
    "#     epoch_loss = 0.0\n",
    "#     epoch_acc = 0.0\n",
    "#     model.eval()\n",
    "\n",
    "#     with torch.no_grad():\n",
    "#         for batch in loader:\n",
    "#             input_ids = batch['input_ids'].to(device)\n",
    "#             labels = batch['label'].float().to(device)\n",
    "#             text_length = batch['text_length'].to(device)\n",
    "            \n",
    "#             outputs = model(input_ids, text_length).squeeze(1)\n",
    "\n",
    "#             loss = criterion(outputs, labels)\n",
    "#             acc = re_accuracy(outputs, labels)\n",
    "            \n",
    "#             epoch_loss += loss.item()\n",
    "#             epoch_acc += acc.item()\n",
    "        \n",
    "#     return epoch_loss / len(loader), epoch_acc / len(loader)"
   ]
  },
  {
   "cell_type": "code",
   "execution_count": 22,
   "metadata": {},
   "outputs": [
    {
     "name": "stdout",
     "output_type": "stream",
     "text": [
      "Epoch 1\n",
      "\tTrain Loss: 0.671 | Train Acc: 66.88%\n",
      "\t Val. Loss: 0.528 |  Val. Acc: 71.63%\n",
      "\n",
      "Epoch 2\n",
      "\tTrain Loss: 0.355 | Train Acc: 85.12%\n",
      "\t Val. Loss: 0.849 |  Val. Acc: 59.62%\n",
      "\n",
      "Epoch 3\n",
      "\tTrain Loss: 0.254 | Train Acc: 89.38%\n",
      "\t Val. Loss: 0.846 |  Val. Acc: 72.60%\n",
      "\n",
      "Epoch 4\n",
      "\tTrain Loss: 0.139 | Train Acc: 95.12%\n",
      "\t Val. Loss: 0.861 |  Val. Acc: 69.23%\n",
      "\n",
      "Epoch 5\n",
      "\tTrain Loss: 0.107 | Train Acc: 96.25%\n",
      "\t Val. Loss: 1.493 |  Val. Acc: 58.17%\n",
      "\n",
      "Epoch 6\n",
      "\tTrain Loss: 0.096 | Train Acc: 96.50%\n",
      "\t Val. Loss: 0.826 |  Val. Acc: 74.52%\n",
      "\n",
      "Epoch 7\n",
      "\tTrain Loss: 0.062 | Train Acc: 98.12%\n",
      "\t Val. Loss: 0.766 |  Val. Acc: 76.92%\n",
      "\n",
      "Epoch 8\n",
      "\tTrain Loss: 0.034 | Train Acc: 98.88%\n",
      "\t Val. Loss: 0.832 |  Val. Acc: 76.92%\n",
      "\n",
      "Epoch 9\n",
      "\tTrain Loss: 0.028 | Train Acc: 99.00%\n",
      "\t Val. Loss: 0.941 |  Val. Acc: 75.00%\n",
      "\n",
      "Epoch 10\n",
      "\tTrain Loss: 0.059 | Train Acc: 98.00%\n",
      "\t Val. Loss: 0.959 |  Val. Acc: 76.44%\n",
      "\n"
     ]
    }
   ],
   "source": [
    "# EPOCH_NUMBER = 10\n",
    "# t_acc = []\n",
    "# t_loss = []\n",
    "# v_acc = []\n",
    "# v_loss = []\n",
    "\n",
    "# for epoch in range(1,EPOCH_NUMBER+1):\n",
    "    \n",
    "#     train_loss,train_acc = re_train(regression,train_loader,optimizer,criterion)\n",
    "    \n",
    "#     valid_loss,valid_acc = re_evaluate(regression,test_loader,criterion)\n",
    "    \n",
    "#     t_acc.append(train_acc)\n",
    "#     t_loss.append(train_loss)\n",
    "#     v_acc.append(valid_acc)\n",
    "#     v_loss.append(valid_loss)\n",
    "    \n",
    "#     print(\"Epoch\", epoch)\n",
    "#     print(f'\\tTrain Loss: {train_loss:.3f} | Train Acc: {train_acc*100:.2f}%')\n",
    "#     print(f'\\t Val. Loss: {valid_loss:.3f} |  Val. Acc: {valid_acc*100:.2f}%')\n",
    "#     print()"
   ]
  },
  {
   "cell_type": "code",
   "execution_count": 23,
   "metadata": {},
   "outputs": [
    {
     "data": {
      "text/plain": [
       "<matplotlib.legend.Legend at 0x322616190>"
      ]
     },
     "execution_count": 23,
     "metadata": {},
     "output_type": "execute_result"
    },
    {
     "data": {
      "image/png": "[encoded data removed]",
      "text/plain": [
       "<Figure size 640x480 with 1 Axes>"
      ]
     },
     "metadata": {},
     "output_type": "display_data"
    }
   ],
   "source": [
    "# plt.plot(range(1, EPOCH_NUMBER+1), t_acc, v_acc)\n",
    "# plt.title(\"Accuracy\")\n",
    "# plt.legend((\"Training\", \"Validation\"))"
   ]
  },
  {
   "cell_type": "markdown",
   "metadata": {},
   "source": [
    "## Inference"
   ]
  },
  {
   "cell_type": "markdown",
   "metadata": {},
   "source": [
    "### Binary Classfication"
   ]
  },
  {
   "cell_type": "code",
   "execution_count": 488,
   "metadata": {},
   "outputs": [],
   "source": [
    "# def predict_sentence(sentence, model, word_map, device):\n",
    "#     # Preprocess the sentence\n",
    "#     encoded_sentence = text_encoder(sentence, word_map)\n",
    "#     input_tensor = torch.tensor(encoded_sentence, dtype=torch.long).unsqueeze(0).to(device)  # Add batch dimension\n",
    "\n",
    "#     # Get the length of the input sentence (for packing sequence)\n",
    "#     text_length = torch.tensor([len(encoded_sentence)], dtype=torch.long).to(device)\n",
    "\n",
    "#     # Perform inference\n",
    "#     model.eval()  # Set the model to evaluation mode\n",
    "#     with torch.no_grad():\n",
    "#         output = model(input_tensor, text_length)  # Get the model output\n",
    "#         prediction = torch.argmax(output, dim=1).item()  # Get the predicted class (0 or 1)\n",
    "\n",
    "#     # Interpret the result\n",
    "#     if prediction == 0:\n",
    "#         return \"The sentence is classified as Non-Suicidal.\"\n",
    "#     else:\n",
    "#         return \"The sentence is classified as Suicidal.\""
   ]
  },
  {
   "cell_type": "code",
   "execution_count": 489,
   "metadata": {},
   "outputs": [
    {
     "name": "stdout",
     "output_type": "stream",
     "text": [
      "The sentence is classified as Suicidal.\n"
     ]
    }
   ],
   "source": [
    "# sentence = \"I feel hopeless.\"\n",
    "# result = predict_sentence(sentence, model, word_map, device)\n",
    "# print(result)"
   ]
  },
  {
   "cell_type": "markdown",
   "metadata": {},
   "source": [
    "### Regression"
   ]
  },
  {
   "cell_type": "code",
   "execution_count": 24,
   "metadata": {},
   "outputs": [],
   "source": [
    "# def regression_predict(sentence, model, word_map, device):\n",
    "\n",
    "#     encoded_sentence = text_encoder(sentence, word_map)\n",
    "#     input_tensor = torch.tensor(encoded_sentence, dtype=torch.long).unsqueeze(0).to(device)\n",
    "\n",
    "#     text_length = torch.tensor([len(encoded_sentence)], dtype=torch.long).to(device)\n",
    "\n",
    "#     model.eval()\n",
    "#     with torch.no_grad():\n",
    "#         output = model(input_tensor, text_length)  # Get the model output\n",
    "#         probability = torch.sigmoid(output).squeeze().item()  # Get the probability\n",
    "\n",
    "#     prediction = 1 if probability >= 0.5 else 0  # Threshold of 0.5\n",
    "#     if prediction == 0:\n",
    "#         result = f\"The sentence is classified as Non-Suicidal with a probability of {1 - probability:.4f}.\"\n",
    "#     else:\n",
    "#         result = f\"The sentence is classified as Suicidal with a probability of {probability:.4f}.\"\n",
    "\n",
    "#     return result"
   ]
  },
  {
   "cell_type": "code",
   "execution_count": 26,
   "metadata": {},
   "outputs": [
    {
     "name": "stdout",
     "output_type": "stream",
     "text": [
      "The sentence is classified as Suicidal with a probability of 0.6399.\n"
     ]
    }
   ],
   "source": [
    "# sentence = \"I feel sad.\"\n",
    "# result = regression_predict(sentence, regression, word_map, device)\n",
    "# print(result)"
   ]
  },
  {
   "cell_type": "code",
   "execution_count": null,
   "metadata": {},
   "outputs": [],
   "source": []
  }
 ],
 "metadata": {
  "kernelspec": {
   "display_name": "Python 3",
   "language": "python",
   "name": "python3"
  },
  "language_info": {
   "codemirror_mode": {
    "name": "ipython",
    "version": 3
   },
   "file_extension": ".py",
   "mimetype": "text/x-python",
   "name": "python",
   "nbconvert_exporter": "python",
   "pygments_lexer": "ipython3",
   "version": "3.11.6"
  }
 },
 "nbformat": 4,
 "nbformat_minor": 2
}
