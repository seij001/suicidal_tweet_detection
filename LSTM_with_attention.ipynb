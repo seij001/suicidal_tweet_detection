{
  "cells": [
    {
      "cell_type": "code",
      "execution_count": null,
      "metadata": {
        "colab": {
          "base_uri": "https://localhost:8080/"
        },
        "id": "U5W_2yerlMHO",
        "outputId": "40388a2c-8b89-4f04-c1af-88036d325b4e"
      },
      "outputs": [
        {
          "output_type": "stream",
          "name": "stdout",
          "text": [
            "Requirement already satisfied: nltk in /usr/local/lib/python3.10/dist-packages (3.9.1)\n",
            "Requirement already satisfied: click in /usr/local/lib/python3.10/dist-packages (from nltk) (8.1.7)\n",
            "Requirement already satisfied: joblib in /usr/local/lib/python3.10/dist-packages (from nltk) (1.4.2)\n",
            "Requirement already satisfied: regex>=2021.8.3 in /usr/local/lib/python3.10/dist-packages (from nltk) (2024.9.11)\n",
            "Requirement already satisfied: tqdm in /usr/local/lib/python3.10/dist-packages (from nltk) (4.66.6)\n",
            "Requirement already satisfied: keras in /usr/local/lib/python3.10/dist-packages (3.5.0)\n",
            "Requirement already satisfied: absl-py in /usr/local/lib/python3.10/dist-packages (from keras) (1.4.0)\n",
            "Requirement already satisfied: numpy in /usr/local/lib/python3.10/dist-packages (from keras) (1.26.4)\n",
            "Requirement already satisfied: rich in /usr/local/lib/python3.10/dist-packages (from keras) (13.9.4)\n",
            "Requirement already satisfied: namex in /usr/local/lib/python3.10/dist-packages (from keras) (0.0.8)\n",
            "Requirement already satisfied: h5py in /usr/local/lib/python3.10/dist-packages (from keras) (3.12.1)\n",
            "Requirement already satisfied: optree in /usr/local/lib/python3.10/dist-packages (from keras) (0.13.1)\n",
            "Requirement already satisfied: ml-dtypes in /usr/local/lib/python3.10/dist-packages (from keras) (0.4.1)\n",
            "Requirement already satisfied: packaging in /usr/local/lib/python3.10/dist-packages (from keras) (24.2)\n",
            "Requirement already satisfied: typing-extensions>=4.5.0 in /usr/local/lib/python3.10/dist-packages (from optree->keras) (4.12.2)\n",
            "Requirement already satisfied: markdown-it-py>=2.2.0 in /usr/local/lib/python3.10/dist-packages (from rich->keras) (3.0.0)\n",
            "Requirement already satisfied: pygments<3.0.0,>=2.13.0 in /usr/local/lib/python3.10/dist-packages (from rich->keras) (2.18.0)\n",
            "Requirement already satisfied: mdurl~=0.1 in /usr/local/lib/python3.10/dist-packages (from markdown-it-py>=2.2.0->rich->keras) (0.1.2)\n",
            "Requirement already satisfied: tensorflow in /usr/local/lib/python3.10/dist-packages (2.17.1)\n",
            "Requirement already satisfied: absl-py>=1.0.0 in /usr/local/lib/python3.10/dist-packages (from tensorflow) (1.4.0)\n",
            "Requirement already satisfied: astunparse>=1.6.0 in /usr/local/lib/python3.10/dist-packages (from tensorflow) (1.6.3)\n",
            "Requirement already satisfied: flatbuffers>=24.3.25 in /usr/local/lib/python3.10/dist-packages (from tensorflow) (24.3.25)\n",
            "Requirement already satisfied: gast!=0.5.0,!=0.5.1,!=0.5.2,>=0.2.1 in /usr/local/lib/python3.10/dist-packages (from tensorflow) (0.6.0)\n",
            "Requirement already satisfied: google-pasta>=0.1.1 in /usr/local/lib/python3.10/dist-packages (from tensorflow) (0.2.0)\n",
            "Requirement already satisfied: h5py>=3.10.0 in /usr/local/lib/python3.10/dist-packages (from tensorflow) (3.12.1)\n",
            "Requirement already satisfied: libclang>=13.0.0 in /usr/local/lib/python3.10/dist-packages (from tensorflow) (18.1.1)\n",
            "Requirement already satisfied: ml-dtypes<0.5.0,>=0.3.1 in /usr/local/lib/python3.10/dist-packages (from tensorflow) (0.4.1)\n",
            "Requirement already satisfied: opt-einsum>=2.3.2 in /usr/local/lib/python3.10/dist-packages (from tensorflow) (3.4.0)\n",
            "Requirement already satisfied: packaging in /usr/local/lib/python3.10/dist-packages (from tensorflow) (24.2)\n",
            "Requirement already satisfied: protobuf!=4.21.0,!=4.21.1,!=4.21.2,!=4.21.3,!=4.21.4,!=4.21.5,<5.0.0dev,>=3.20.3 in /usr/local/lib/python3.10/dist-packages (from tensorflow) (4.25.5)\n",
            "Requirement already satisfied: requests<3,>=2.21.0 in /usr/local/lib/python3.10/dist-packages (from tensorflow) (2.32.3)\n",
            "Requirement already satisfied: setuptools in /usr/local/lib/python3.10/dist-packages (from tensorflow) (75.1.0)\n",
            "Requirement already satisfied: six>=1.12.0 in /usr/local/lib/python3.10/dist-packages (from tensorflow) (1.16.0)\n",
            "Requirement already satisfied: termcolor>=1.1.0 in /usr/local/lib/python3.10/dist-packages (from tensorflow) (2.5.0)\n",
            "Requirement already satisfied: typing-extensions>=3.6.6 in /usr/local/lib/python3.10/dist-packages (from tensorflow) (4.12.2)\n",
            "Requirement already satisfied: wrapt>=1.11.0 in /usr/local/lib/python3.10/dist-packages (from tensorflow) (1.16.0)\n",
            "Requirement already satisfied: grpcio<2.0,>=1.24.3 in /usr/local/lib/python3.10/dist-packages (from tensorflow) (1.68.0)\n",
            "Requirement already satisfied: tensorboard<2.18,>=2.17 in /usr/local/lib/python3.10/dist-packages (from tensorflow) (2.17.1)\n",
            "Requirement already satisfied: keras>=3.2.0 in /usr/local/lib/python3.10/dist-packages (from tensorflow) (3.5.0)\n",
            "Requirement already satisfied: tensorflow-io-gcs-filesystem>=0.23.1 in /usr/local/lib/python3.10/dist-packages (from tensorflow) (0.37.1)\n",
            "Requirement already satisfied: numpy<2.0.0,>=1.23.5 in /usr/local/lib/python3.10/dist-packages (from tensorflow) (1.26.4)\n",
            "Requirement already satisfied: wheel<1.0,>=0.23.0 in /usr/local/lib/python3.10/dist-packages (from astunparse>=1.6.0->tensorflow) (0.45.0)\n",
            "Requirement already satisfied: rich in /usr/local/lib/python3.10/dist-packages (from keras>=3.2.0->tensorflow) (13.9.4)\n",
            "Requirement already satisfied: namex in /usr/local/lib/python3.10/dist-packages (from keras>=3.2.0->tensorflow) (0.0.8)\n",
            "Requirement already satisfied: optree in /usr/local/lib/python3.10/dist-packages (from keras>=3.2.0->tensorflow) (0.13.1)\n",
            "Requirement already satisfied: charset-normalizer<4,>=2 in /usr/local/lib/python3.10/dist-packages (from requests<3,>=2.21.0->tensorflow) (3.4.0)\n",
            "Requirement already satisfied: idna<4,>=2.5 in /usr/local/lib/python3.10/dist-packages (from requests<3,>=2.21.0->tensorflow) (3.10)\n",
            "Requirement already satisfied: urllib3<3,>=1.21.1 in /usr/local/lib/python3.10/dist-packages (from requests<3,>=2.21.0->tensorflow) (2.2.3)\n",
            "Requirement already satisfied: certifi>=2017.4.17 in /usr/local/lib/python3.10/dist-packages (from requests<3,>=2.21.0->tensorflow) (2024.8.30)\n",
            "Requirement already satisfied: markdown>=2.6.8 in /usr/local/lib/python3.10/dist-packages (from tensorboard<2.18,>=2.17->tensorflow) (3.7)\n",
            "Requirement already satisfied: tensorboard-data-server<0.8.0,>=0.7.0 in /usr/local/lib/python3.10/dist-packages (from tensorboard<2.18,>=2.17->tensorflow) (0.7.2)\n",
            "Requirement already satisfied: werkzeug>=1.0.1 in /usr/local/lib/python3.10/dist-packages (from tensorboard<2.18,>=2.17->tensorflow) (3.1.3)\n",
            "Requirement already satisfied: MarkupSafe>=2.1.1 in /usr/local/lib/python3.10/dist-packages (from werkzeug>=1.0.1->tensorboard<2.18,>=2.17->tensorflow) (3.0.2)\n",
            "Requirement already satisfied: markdown-it-py>=2.2.0 in /usr/local/lib/python3.10/dist-packages (from rich->keras>=3.2.0->tensorflow) (3.0.0)\n",
            "Requirement already satisfied: pygments<3.0.0,>=2.13.0 in /usr/local/lib/python3.10/dist-packages (from rich->keras>=3.2.0->tensorflow) (2.18.0)\n",
            "Requirement already satisfied: mdurl~=0.1 in /usr/local/lib/python3.10/dist-packages (from markdown-it-py>=2.2.0->rich->keras>=3.2.0->tensorflow) (0.1.2)\n"
          ]
        }
      ],
      "source": [
        "!pip install nltk\n",
        "!pip install keras\n",
        "!pip install tensorflow"
      ]
    },
    {
      "cell_type": "code",
      "execution_count": 23,
      "metadata": {
        "colab": {
          "base_uri": "https://localhost:8080/"
        },
        "id": "fh6U16EllMHR",
        "outputId": "fcce68bd-313c-44f4-ef28-eb338cf46187"
      },
      "outputs": [
        {
          "output_type": "stream",
          "name": "stderr",
          "text": [
            "[nltk_data] Downloading package punkt_tab to /root/nltk_data...\n",
            "[nltk_data]   Package punkt_tab is already up-to-date!\n"
          ]
        }
      ],
      "source": [
        "import torch\n",
        "import torch.nn as nn\n",
        "from torch.utils.data import Dataset, DataLoader\n",
        "from torch.nn.utils.rnn import pad_sequence\n",
        "import torch.optim as optim\n",
        "import pandas as pd\n",
        "import nltk\n",
        "from nltk import word_tokenize\n",
        "nltk.download('punkt_tab')\n",
        "from sklearn.model_selection import train_test_split\n",
        "import matplotlib.pyplot as plt\n",
        "import numpy as np"
      ]
    },
    {
      "cell_type": "code",
      "execution_count": 24,
      "metadata": {
        "id": "9Sx6g-8ulMHS"
      },
      "outputs": [],
      "source": [
        "data_processed = pd.read_csv('tweets_preprocessed2_selected.csv')\n",
        "non_suicide_data = data_processed[data_processed['class'] == 'non-suicide'].sample(n=500)\n",
        "suicide_data = data_processed[data_processed['class'] == 'suicide'].sample(n=500)\n",
        "balanced_data = pd.concat([non_suicide_data, suicide_data])"
      ]
    },
    {
      "cell_type": "code",
      "execution_count": 25,
      "metadata": {
        "colab": {
          "base_uri": "https://localhost:8080/"
        },
        "id": "QRHHmuCblMHS",
        "outputId": "da50e063-7d8a-4887-e0fd-134843ef0805"
      },
      "outputs": [
        {
          "output_type": "execute_result",
          "data": {
            "text/plain": [
              "(10000, 6)"
            ]
          },
          "metadata": {},
          "execution_count": 25
        }
      ],
      "source": [
        "data_processed.head()\n",
        "data_processed.shape"
      ]
    },
    {
      "cell_type": "code",
      "execution_count": 26,
      "metadata": {
        "colab": {
          "base_uri": "https://localhost:8080/"
        },
        "id": "N36_DaYqlMHS",
        "outputId": "93d47052-5317-43a9-c34f-a4861ec22c5f"
      },
      "outputs": [
        {
          "output_type": "execute_result",
          "data": {
            "text/plain": [
              "(500, 6)"
            ]
          },
          "metadata": {},
          "execution_count": 26
        }
      ],
      "source": [
        "non_suicide_data.shape"
      ]
    },
    {
      "cell_type": "markdown",
      "metadata": {
        "id": "TlvP2eUZlMHT"
      },
      "source": [
        "## Data Preprocessing"
      ]
    },
    {
      "cell_type": "code",
      "execution_count": 27,
      "metadata": {
        "id": "jjFzrVK_lMHU"
      },
      "outputs": [],
      "source": [
        "all_tokens = set(i.lower() for token in balanced_data[\"text\"] for i in word_tokenize(token))\n",
        "word_map = {token: idx for idx, token in enumerate(list(all_tokens))}\n",
        "word_map['UNK'] = len(word_map)\n",
        "word_map['PAD'] = len(word_map)+1"
      ]
    },
    {
      "cell_type": "code",
      "execution_count": 28,
      "metadata": {
        "id": "1OVZKT1VlMHU"
      },
      "outputs": [],
      "source": [
        "def text_encoder(sentence, word_map):\n",
        "    tokens = word_tokenize(sentence.lower())\n",
        "    encode = [word_map.get(token, word_map['UNK']) for token in tokens]\n",
        "    return encode"
      ]
    },
    {
      "cell_type": "code",
      "execution_count": 29,
      "metadata": {
        "id": "Do5J5y2ElMHU"
      },
      "outputs": [],
      "source": [
        "class SuicideDataset(Dataset):\n",
        "    def __init__(self, sentences, labels, vocab):\n",
        "        self.sentences = sentences\n",
        "        self.vocab = vocab\n",
        "        self.label_mapping = {\n",
        "            'non-suicide': 0,\n",
        "            'suicide': 1\n",
        "        }\n",
        "        self.labels = [self.label_mapping[label] for label in labels]\n",
        "\n",
        "    def __len__(self):\n",
        "        return len(self.sentences)\n",
        "\n",
        "    def __getitem__(self, item):\n",
        "        sentence = self.sentences[item]\n",
        "        label = self.labels[item]\n",
        "        encoded_sentence = text_encoder(sentence, self.vocab)\n",
        "\n",
        "        return {\n",
        "            'input_ids': torch.tensor(encoded_sentence, dtype=torch.long),\n",
        "            'label': torch.tensor(label, dtype=torch.long)\n",
        "        }\n"
      ]
    },
    {
      "cell_type": "code",
      "execution_count": 30,
      "metadata": {
        "id": "F7oNl3g9lMHU"
      },
      "outputs": [],
      "source": [
        "# Pad the input_ids to the length of the longest sequence in the batch\n",
        "def collate_fn(batch):\n",
        "    input_ids = [item['input_ids'] for item in batch]\n",
        "    labels = [item['label'] for item in batch]\n",
        "\n",
        "\n",
        "    padded_input_ids = pad_sequence(input_ids, batch_first=True, padding_value=word_map['PAD'])\n",
        "    labels = torch.stack(labels)\n",
        "    text_lengths = torch.tensor([len(ids) for ids in input_ids], dtype=torch.long)\n",
        "\n",
        "    return {\n",
        "        'input_ids': padded_input_ids,\n",
        "        'label': labels,\n",
        "        'text_length': text_lengths\n",
        "    }"
      ]
    },
    {
      "cell_type": "code",
      "execution_count": 31,
      "metadata": {
        "id": "xDCsFdKElMHV"
      },
      "outputs": [],
      "source": [
        "# Split data\n",
        "train_data, test_data, train_label, test_label = train_test_split(\n",
        "    balanced_data['text'], balanced_data['class'], test_size=0.2, random_state=42\n",
        ")\n",
        "\n",
        "# Create datasets and dataloaders\n",
        "train_dataset = SuicideDataset(train_data.to_numpy(), train_label.to_numpy(), word_map)\n",
        "test_dataset = SuicideDataset(test_data.to_numpy(), test_label.to_numpy(), word_map)\n",
        "\n",
        "train_loader = DataLoader(train_dataset, batch_size=16, shuffle=True, collate_fn=collate_fn)\n",
        "test_loader = DataLoader(test_dataset, batch_size=16, shuffle=False, collate_fn=collate_fn)"
      ]
    },
    {
      "cell_type": "code",
      "source": [
        "train_data.shape"
      ],
      "metadata": {
        "colab": {
          "base_uri": "https://localhost:8080/"
        },
        "id": "cx_qGN15o2dP",
        "outputId": "81eeb1e2-0698-4b83-826d-2c223046a2a0"
      },
      "execution_count": 47,
      "outputs": [
        {
          "output_type": "execute_result",
          "data": {
            "text/plain": [
              "(800,)"
            ]
          },
          "metadata": {},
          "execution_count": 47
        }
      ]
    },
    {
      "cell_type": "markdown",
      "metadata": {
        "id": "rVv-98XOlMHV"
      },
      "source": [
        "## Binary-Classfication LSTM"
      ]
    },
    {
      "cell_type": "code",
      "execution_count": 10,
      "metadata": {
        "id": "1kHBEXKplMHV"
      },
      "outputs": [],
      "source": [
        "class LSTM(nn.Module):\n",
        "    def __init__(self, vocab_size, embedding_dim, hidden_dim, output_dim, n_layers, bidirectional, dropout):\n",
        "        super(LSTM,self).__init__()\n",
        "        self.embedding = nn.Embedding(vocab_size+1,embedding_dim)\n",
        "\n",
        "        self.lstm = nn.LSTM(embedding_dim,\n",
        "                            hidden_dim,\n",
        "                            num_layers = n_layers,\n",
        "                            bidirectional = bidirectional,\n",
        "                            dropout = dropout,\n",
        "                            batch_first = True\n",
        "                           )\n",
        "        self.fc = nn.Linear(hidden_dim * 2,output_dim)\n",
        "        self.batch_norm = nn.BatchNorm1d(hidden_dim * 2)\n",
        "        self.dropout = nn.Dropout(dropout)\n",
        "        self.sigmoid = nn.Sigmoid() # use sigmoid as activation function\n",
        "\n",
        "    def forward(self,text,text_lengths):\n",
        "        embedded = self.embedding(text)\n",
        "        packed_embedded = nn.utils.rnn.pack_padded_sequence(embedded, text_lengths.cpu(),batch_first=True, enforce_sorted=False)\n",
        "        packed_output,(hidden_state,cell_state) = self.lstm(packed_embedded)\n",
        "\n",
        "        hidden = torch.cat((hidden_state[-2,:,:], hidden_state[-1,:,:]), dim = 1)\n",
        "        hidden = self.batch_norm(hidden)\n",
        "        outputs=self.sigmoid(self.fc(self.dropout(hidden)))\n",
        "\n",
        "        return outputs"
      ]
    },
    {
      "cell_type": "code",
      "execution_count": null,
      "metadata": {
        "id": "byjE7yz_lMHV"
      },
      "outputs": [],
      "source": [
        "# Hyperparameters\n",
        "embedding_dim = 128\n",
        "hidden_dim = 256\n",
        "output_dim = 2  # suicidal/non-suicidal\n",
        "n_layers = 2\n",
        "bidirectional = True\n",
        "dropout = 0.3"
      ]
    },
    {
      "cell_type": "code",
      "execution_count": null,
      "metadata": {
        "id": "fmFUonDElMHV"
      },
      "outputs": [],
      "source": [
        "model = LSTM(len(word_map), embedding_dim, hidden_dim, output_dim, n_layers, bidirectional, dropout)\n",
        "criterion = nn.CrossEntropyLoss()\n",
        "optimizer = optim.Adam(model.parameters(), lr=0.001)\n",
        "\n",
        "# Training loop\n",
        "# if torch.backends.mps.is_available():\n",
        "#     device = torch.device(\"mps\")\n",
        "#     print(\"Using MPS GPU\")\n",
        "# else:\n",
        "device = torch.device(\"cpu\")\n",
        "model = model.to(device)"
      ]
    },
    {
      "cell_type": "code",
      "execution_count": 20,
      "metadata": {
        "id": "jqARnJh-lMHV"
      },
      "outputs": [],
      "source": [
        "def accuracy(preds, y):\n",
        "    rounded_preds = torch.argmax(preds, dim=1)\n",
        "    correct = (rounded_preds == y).float()\n",
        "    acc = correct.sum() / len(correct)\n",
        "    return acc"
      ]
    },
    {
      "cell_type": "code",
      "execution_count": 30,
      "metadata": {
        "id": "e7N19f1NlMHV"
      },
      "outputs": [],
      "source": [
        "def train(model,loader,optimizer,criterion):\n",
        "    epoch_loss = 0.0\n",
        "    epoch_acc = 0.0\n",
        "\n",
        "    model.train()\n",
        "\n",
        "    for batch in loader:\n",
        "        optimizer.zero_grad()\n",
        "\n",
        "        input_ids = batch['input_ids'].to(device)\n",
        "        labels = batch['label'].float().to(device)\n",
        "        text_length = batch['text_length'].to(device)\n",
        "\n",
        "        outputs = model(input_ids, text_length)\n",
        "        loss = criterion(outputs, labels)\n",
        "        loss.backward()\n",
        "        acc = accuracy(outputs, labels)\n",
        "        optimizer.step()\n",
        "\n",
        "        epoch_loss += loss.item()\n",
        "        epoch_acc += acc.item()\n",
        "\n",
        "    return epoch_loss / len(loader), epoch_acc / len(loader)"
      ]
    },
    {
      "cell_type": "code",
      "execution_count": 22,
      "metadata": {
        "id": "J60LffvalMHW"
      },
      "outputs": [],
      "source": [
        "def evaluate(model,loader,criterion):\n",
        "    epoch_loss = 0.0\n",
        "    epoch_acc = 0.0\n",
        "    model.eval()\n",
        "\n",
        "    with torch.no_grad():\n",
        "        for batch in loader:\n",
        "            input_ids = batch['input_ids'].to(device)\n",
        "            labels = batch['label'].to(device)\n",
        "            text_length = batch['text_length'].to(device)\n",
        "\n",
        "            outputs = model(input_ids, text_length)\n",
        "\n",
        "            loss = criterion(outputs, labels)\n",
        "            acc = accuracy(outputs, labels)\n",
        "\n",
        "            epoch_loss += loss.item()\n",
        "            epoch_acc += acc.item()\n",
        "\n",
        "    return epoch_loss / len(loader), epoch_acc / len(loader)"
      ]
    },
    {
      "cell_type": "code",
      "execution_count": null,
      "metadata": {
        "id": "Y3qd3mH6lMHW",
        "outputId": "9c359531-ff09-44c9-d74e-624c513ee4b8"
      },
      "outputs": [
        {
          "name": "stdout",
          "output_type": "stream",
          "text": [
            "Epoch 1\n",
            "\tTrain Loss: 0.579 | Train Acc: 70.88%\n",
            "\t Val. Loss: 0.651 |  Val. Acc: 58.17%\n",
            "\n",
            "Epoch 2\n",
            "\tTrain Loss: 0.542 | Train Acc: 76.88%\n",
            "\t Val. Loss: 0.586 |  Val. Acc: 71.15%\n",
            "\n"
          ]
        },
        {
          "ename": "KeyboardInterrupt",
          "evalue": "",
          "output_type": "error",
          "traceback": [
            "\u001b[0;31m---------------------------------------------------------------------------\u001b[0m",
            "\u001b[0;31mKeyboardInterrupt\u001b[0m                         Traceback (most recent call last)",
            "Cell \u001b[0;32mIn[19], line 9\u001b[0m\n\u001b[1;32m      5\u001b[0m v_loss \u001b[38;5;241m=\u001b[39m []\n\u001b[1;32m      7\u001b[0m \u001b[38;5;28;01mfor\u001b[39;00m epoch \u001b[38;5;129;01min\u001b[39;00m \u001b[38;5;28mrange\u001b[39m(\u001b[38;5;241m1\u001b[39m,EPOCH_NUMBER\u001b[38;5;241m+\u001b[39m\u001b[38;5;241m1\u001b[39m):\n\u001b[0;32m----> 9\u001b[0m     train_loss,train_acc \u001b[38;5;241m=\u001b[39m \u001b[43mtrain\u001b[49m\u001b[43m(\u001b[49m\u001b[43mmodel\u001b[49m\u001b[43m,\u001b[49m\u001b[43mtrain_loader\u001b[49m\u001b[43m,\u001b[49m\u001b[43moptimizer\u001b[49m\u001b[43m,\u001b[49m\u001b[43mcriterion\u001b[49m\u001b[43m)\u001b[49m\n\u001b[1;32m     11\u001b[0m     valid_loss,valid_acc \u001b[38;5;241m=\u001b[39m evaluate(model,test_loader,criterion)\n\u001b[1;32m     13\u001b[0m     t_acc\u001b[38;5;241m.\u001b[39mappend(train_acc)\n",
            "Cell \u001b[0;32mIn[17], line 16\u001b[0m, in \u001b[0;36mtrain\u001b[0;34m(model, loader, optimizer, criterion)\u001b[0m\n\u001b[1;32m     14\u001b[0m outputs \u001b[38;5;241m=\u001b[39m model(input_ids, text_length)\n\u001b[1;32m     15\u001b[0m loss \u001b[38;5;241m=\u001b[39m criterion(outputs, labels)\n\u001b[0;32m---> 16\u001b[0m \u001b[43mloss\u001b[49m\u001b[38;5;241;43m.\u001b[39;49m\u001b[43mbackward\u001b[49m\u001b[43m(\u001b[49m\u001b[43m)\u001b[49m\n\u001b[1;32m     17\u001b[0m acc \u001b[38;5;241m=\u001b[39m accuracy(outputs, labels)\n\u001b[1;32m     18\u001b[0m optimizer\u001b[38;5;241m.\u001b[39mstep()\n",
            "File \u001b[0;32m~/Library/Python/3.9/lib/python/site-packages/torch/_tensor.py:581\u001b[0m, in \u001b[0;36mTensor.backward\u001b[0;34m(self, gradient, retain_graph, create_graph, inputs)\u001b[0m\n\u001b[1;32m    571\u001b[0m \u001b[38;5;28;01mif\u001b[39;00m has_torch_function_unary(\u001b[38;5;28mself\u001b[39m):\n\u001b[1;32m    572\u001b[0m     \u001b[38;5;28;01mreturn\u001b[39;00m handle_torch_function(\n\u001b[1;32m    573\u001b[0m         Tensor\u001b[38;5;241m.\u001b[39mbackward,\n\u001b[1;32m    574\u001b[0m         (\u001b[38;5;28mself\u001b[39m,),\n\u001b[0;32m   (...)\u001b[0m\n\u001b[1;32m    579\u001b[0m         inputs\u001b[38;5;241m=\u001b[39minputs,\n\u001b[1;32m    580\u001b[0m     )\n\u001b[0;32m--> 581\u001b[0m \u001b[43mtorch\u001b[49m\u001b[38;5;241;43m.\u001b[39;49m\u001b[43mautograd\u001b[49m\u001b[38;5;241;43m.\u001b[39;49m\u001b[43mbackward\u001b[49m\u001b[43m(\u001b[49m\n\u001b[1;32m    582\u001b[0m \u001b[43m    \u001b[49m\u001b[38;5;28;43mself\u001b[39;49m\u001b[43m,\u001b[49m\u001b[43m \u001b[49m\u001b[43mgradient\u001b[49m\u001b[43m,\u001b[49m\u001b[43m \u001b[49m\u001b[43mretain_graph\u001b[49m\u001b[43m,\u001b[49m\u001b[43m \u001b[49m\u001b[43mcreate_graph\u001b[49m\u001b[43m,\u001b[49m\u001b[43m \u001b[49m\u001b[43minputs\u001b[49m\u001b[38;5;241;43m=\u001b[39;49m\u001b[43minputs\u001b[49m\n\u001b[1;32m    583\u001b[0m \u001b[43m\u001b[49m\u001b[43m)\u001b[49m\n",
            "File \u001b[0;32m~/Library/Python/3.9/lib/python/site-packages/torch/autograd/__init__.py:347\u001b[0m, in \u001b[0;36mbackward\u001b[0;34m(tensors, grad_tensors, retain_graph, create_graph, grad_variables, inputs)\u001b[0m\n\u001b[1;32m    342\u001b[0m     retain_graph \u001b[38;5;241m=\u001b[39m create_graph\n\u001b[1;32m    344\u001b[0m \u001b[38;5;66;03m# The reason we repeat the same comment below is that\u001b[39;00m\n\u001b[1;32m    345\u001b[0m \u001b[38;5;66;03m# some Python versions print out the first line of a multi-line function\u001b[39;00m\n\u001b[1;32m    346\u001b[0m \u001b[38;5;66;03m# calls in the traceback and some print out the last line\u001b[39;00m\n\u001b[0;32m--> 347\u001b[0m \u001b[43m_engine_run_backward\u001b[49m\u001b[43m(\u001b[49m\n\u001b[1;32m    348\u001b[0m \u001b[43m    \u001b[49m\u001b[43mtensors\u001b[49m\u001b[43m,\u001b[49m\n\u001b[1;32m    349\u001b[0m \u001b[43m    \u001b[49m\u001b[43mgrad_tensors_\u001b[49m\u001b[43m,\u001b[49m\n\u001b[1;32m    350\u001b[0m \u001b[43m    \u001b[49m\u001b[43mretain_graph\u001b[49m\u001b[43m,\u001b[49m\n\u001b[1;32m    351\u001b[0m \u001b[43m    \u001b[49m\u001b[43mcreate_graph\u001b[49m\u001b[43m,\u001b[49m\n\u001b[1;32m    352\u001b[0m \u001b[43m    \u001b[49m\u001b[43minputs\u001b[49m\u001b[43m,\u001b[49m\n\u001b[1;32m    353\u001b[0m \u001b[43m    \u001b[49m\u001b[43mallow_unreachable\u001b[49m\u001b[38;5;241;43m=\u001b[39;49m\u001b[38;5;28;43;01mTrue\u001b[39;49;00m\u001b[43m,\u001b[49m\n\u001b[1;32m    354\u001b[0m \u001b[43m    \u001b[49m\u001b[43maccumulate_grad\u001b[49m\u001b[38;5;241;43m=\u001b[39;49m\u001b[38;5;28;43;01mTrue\u001b[39;49;00m\u001b[43m,\u001b[49m\n\u001b[1;32m    355\u001b[0m \u001b[43m\u001b[49m\u001b[43m)\u001b[49m\n",
            "File \u001b[0;32m~/Library/Python/3.9/lib/python/site-packages/torch/autograd/graph.py:825\u001b[0m, in \u001b[0;36m_engine_run_backward\u001b[0;34m(t_outputs, *args, **kwargs)\u001b[0m\n\u001b[1;32m    823\u001b[0m     unregister_hooks \u001b[38;5;241m=\u001b[39m _register_logging_hooks_on_whole_graph(t_outputs)\n\u001b[1;32m    824\u001b[0m \u001b[38;5;28;01mtry\u001b[39;00m:\n\u001b[0;32m--> 825\u001b[0m     \u001b[38;5;28;01mreturn\u001b[39;00m \u001b[43mVariable\u001b[49m\u001b[38;5;241;43m.\u001b[39;49m\u001b[43m_execution_engine\u001b[49m\u001b[38;5;241;43m.\u001b[39;49m\u001b[43mrun_backward\u001b[49m\u001b[43m(\u001b[49m\u001b[43m  \u001b[49m\u001b[38;5;66;43;03m# Calls into the C++ engine to run the backward pass\u001b[39;49;00m\n\u001b[1;32m    826\u001b[0m \u001b[43m        \u001b[49m\u001b[43mt_outputs\u001b[49m\u001b[43m,\u001b[49m\u001b[43m \u001b[49m\u001b[38;5;241;43m*\u001b[39;49m\u001b[43margs\u001b[49m\u001b[43m,\u001b[49m\u001b[43m \u001b[49m\u001b[38;5;241;43m*\u001b[39;49m\u001b[38;5;241;43m*\u001b[39;49m\u001b[43mkwargs\u001b[49m\n\u001b[1;32m    827\u001b[0m \u001b[43m    \u001b[49m\u001b[43m)\u001b[49m  \u001b[38;5;66;03m# Calls into the C++ engine to run the backward pass\u001b[39;00m\n\u001b[1;32m    828\u001b[0m \u001b[38;5;28;01mfinally\u001b[39;00m:\n\u001b[1;32m    829\u001b[0m     \u001b[38;5;28;01mif\u001b[39;00m attach_logging_hooks:\n",
            "\u001b[0;31mKeyboardInterrupt\u001b[0m: "
          ]
        }
      ],
      "source": [
        "EPOCH_NUMBER = 10\n",
        "t_acc = []\n",
        "t_loss = []\n",
        "v_acc = []\n",
        "v_loss = []\n",
        "\n",
        "for epoch in range(1,EPOCH_NUMBER+1):\n",
        "\n",
        "    train_loss,train_acc = train(model,train_loader,optimizer,criterion)\n",
        "\n",
        "    valid_loss,valid_acc = evaluate(model,test_loader,criterion)\n",
        "\n",
        "    t_acc.append(train_acc)\n",
        "    t_loss.append(train_loss)\n",
        "    v_acc.append(valid_acc)\n",
        "    v_loss.append(valid_loss)\n",
        "\n",
        "    print(\"Epoch\", epoch)\n",
        "    print(f'\\tTrain Loss: {train_loss:.3f} | Train Acc: {train_acc*100:.2f}%')\n",
        "    print(f'\\t Val. Loss: {valid_loss:.3f} |  Val. Acc: {valid_acc*100:.2f}%')\n",
        "    print()"
      ]
    },
    {
      "cell_type": "code",
      "execution_count": null,
      "metadata": {
        "id": "JIJ-95DUlMHW",
        "outputId": "b0c925b5-3e7d-45d3-cdb5-8541578b1a63"
      },
      "outputs": [
        {
          "name": "stdout",
          "output_type": "stream",
          "text": [
            "The best validation accuracy: 0.83\n"
          ]
        }
      ],
      "source": [
        "print(\"The best validation accuracy:\", round(max(v_acc), 2))"
      ]
    },
    {
      "cell_type": "code",
      "execution_count": null,
      "metadata": {
        "id": "ckNjFt1QlMHW",
        "outputId": "a0edcc72-7b07-4c10-ad25-02d29e6627dd"
      },
      "outputs": [
        {
          "data": {
            "text/plain": [
              "<matplotlib.legend.Legend at 0x3645c3550>"
            ]
          },
          "execution_count": 486,
          "metadata": {},
          "output_type": "execute_result"
        },
        {
          "data": {
            "image/png": "[encoded data removed]",
            "text/plain": [
              "<Figure size 640x480 with 1 Axes>"
            ]
          },
          "metadata": {},
          "output_type": "display_data"
        }
      ],
      "source": [
        "plt.plot(range(1, EPOCH_NUMBER+1), t_acc, v_acc)\n",
        "plt.title(\"Accuracy\")\n",
        "plt.legend((\"Training\", \"Validation\"))"
      ]
    },
    {
      "cell_type": "code",
      "execution_count": null,
      "metadata": {
        "id": "g02777u_lMHW",
        "outputId": "30fa6850-d6c5-4077-81bd-21bf46f0dd98"
      },
      "outputs": [
        {
          "data": {
            "text/plain": [
              "<matplotlib.legend.Legend at 0x330212310>"
            ]
          },
          "execution_count": 487,
          "metadata": {},
          "output_type": "execute_result"
        },
        {
          "data": {
            "image/png": "[encoded data removed]",
            "text/plain": [
              "<Figure size 640x480 with 1 Axes>"
            ]
          },
          "metadata": {},
          "output_type": "display_data"
        }
      ],
      "source": [
        "plt.plot(range(1, EPOCH_NUMBER+1), t_loss, v_loss)\n",
        "plt.title(\"Loss\")\n",
        "plt.legend((\"Training\", \"Validation\"))"
      ]
    },
    {
      "cell_type": "markdown",
      "metadata": {
        "id": "akIMqZLklMHW"
      },
      "source": [
        "## Regression LSTM"
      ]
    },
    {
      "cell_type": "code",
      "execution_count": 1,
      "metadata": {
        "id": "QlhYHSj6lMHW"
      },
      "outputs": [],
      "source": [
        "# Hyperparameters\n",
        "embedding_dim = 128\n",
        "hidden_dim = 256\n",
        "output_dim = 1  # probability\n",
        "n_layers = 2\n",
        "bidirectional = True\n",
        "dropout = 0.3"
      ]
    },
    {
      "cell_type": "code",
      "execution_count": 22,
      "metadata": {
        "id": "AnquZK8-lMHW"
      },
      "outputs": [],
      "source": [
        "regression = LSTM(len(word_map), embedding_dim, hidden_dim, output_dim, n_layers, bidirectional, dropout)\n",
        "criterion = nn.BCELoss()\n",
        "optimizer = optim.Adam(regression.parameters(), lr=0.001)\n",
        "\n",
        "# Training loop\n",
        "device = torch.device('cuda' if torch.cuda.is_available() else 'cpu')\n",
        "regression = regression.to(device)"
      ]
    },
    {
      "cell_type": "code",
      "execution_count": 17,
      "metadata": {
        "id": "3Rb8trX1lMHW"
      },
      "outputs": [],
      "source": [
        "def re_accuracy(preds, y, threshold=0.5):\n",
        "    rounded_preds = (preds > threshold).float()  # Convert probabilities to binary predictions\n",
        "    correct = (rounded_preds == y).float()\n",
        "    acc = correct.sum() / len(correct)\n",
        "    return acc"
      ]
    },
    {
      "cell_type": "code",
      "execution_count": 18,
      "metadata": {
        "id": "0am0huA9lMHW"
      },
      "outputs": [],
      "source": [
        "def re_train(model,loader,optimizer,criterion):\n",
        "    epoch_loss = 0.0\n",
        "    epoch_acc = 0.0\n",
        "\n",
        "    model.train()\n",
        "\n",
        "    for batch in loader:\n",
        "        optimizer.zero_grad()\n",
        "\n",
        "        input_ids = batch['input_ids'].to(device)\n",
        "        labels = batch['label'].float().to(device)\n",
        "        text_length = batch['text_length'].to(device)\n",
        "\n",
        "        outputs = model(input_ids, text_length).squeeze(1)\n",
        "        loss = criterion(outputs, labels)\n",
        "        loss.backward()\n",
        "        acc = re_accuracy(outputs, labels)\n",
        "        optimizer.step()\n",
        "\n",
        "        epoch_loss += loss.item()\n",
        "        epoch_acc += acc.item()\n",
        "\n",
        "    return epoch_loss / len(loader), epoch_acc / len(loader)"
      ]
    },
    {
      "cell_type": "code",
      "execution_count": 19,
      "metadata": {
        "id": "wepAttJblMHX"
      },
      "outputs": [],
      "source": [
        "def re_evaluate(model,loader,criterion):\n",
        "    epoch_loss = 0.0\n",
        "    epoch_acc = 0.0\n",
        "    model.eval()\n",
        "\n",
        "    with torch.no_grad():\n",
        "        for batch in loader:\n",
        "            input_ids = batch['input_ids'].to(device)\n",
        "            labels = batch['label'].float().to(device)\n",
        "            text_length = batch['text_length'].to(device)\n",
        "\n",
        "            outputs = model(input_ids, text_length).squeeze(1)\n",
        "\n",
        "            loss = criterion(outputs, labels)\n",
        "            acc = re_accuracy(outputs, labels)\n",
        "\n",
        "            epoch_loss += loss.item()\n",
        "            epoch_acc += acc.item()\n",
        "\n",
        "    return epoch_loss / len(loader), epoch_acc / len(loader)"
      ]
    },
    {
      "cell_type": "code",
      "execution_count": null,
      "metadata": {
        "id": "mc-ijKbmlMHX"
      },
      "outputs": [],
      "source": [
        "EPOCH_NUMBER = 10\n",
        "t_acc = []\n",
        "t_loss = []\n",
        "v_acc = []\n",
        "v_loss = []\n",
        "\n",
        "for epoch in range(1,EPOCH_NUMBER+1):\n",
        "\n",
        "    train_loss,train_acc = re_train(regression,train_loader,optimizer,criterion)\n",
        "\n",
        "    valid_loss,valid_acc = re_evaluate(regression,test_loader,criterion)\n",
        "\n",
        "    t_acc.append(train_acc)\n",
        "    t_loss.append(train_loss)\n",
        "    v_acc.append(valid_acc)\n",
        "    v_loss.append(valid_loss)\n",
        "\n",
        "    print(\"Epoch\", epoch)\n",
        "    print(f'\\tTrain Loss: {train_loss:.3f} | Train Acc: {train_acc*100:.2f}%')\n",
        "    print(f'\\t Val. Loss: {valid_loss:.3f} |  Val. Acc: {valid_acc*100:.2f}%')\n",
        "    print()"
      ]
    },
    {
      "cell_type": "code",
      "execution_count": null,
      "metadata": {
        "id": "7xKSuDuOlMHX",
        "outputId": "238638ec-5b39-48d3-e320-55b466714836"
      },
      "outputs": [
        {
          "data": {
            "text/plain": [
              "<matplotlib.legend.Legend at 0x322616190>"
            ]
          },
          "execution_count": 23,
          "metadata": {},
          "output_type": "execute_result"
        },
        {
          "data": {
            "image/png": "[encoded data removed]",
            "text/plain": [
              "<Figure size 640x480 with 1 Axes>"
            ]
          },
          "metadata": {},
          "output_type": "display_data"
        }
      ],
      "source": [
        "plt.plot(range(1, EPOCH_NUMBER+1), t_acc, v_acc)\n",
        "plt.title(\"Accuracy\")\n",
        "plt.legend((\"Training\", \"Validation\"))"
      ]
    },
    {
      "cell_type": "markdown",
      "metadata": {
        "id": "IXbSpjx4lMHX"
      },
      "source": [
        "## LSTM with Attention Mechanism"
      ]
    },
    {
      "cell_type": "markdown",
      "metadata": {
        "id": "5LvtqOkGlMHX"
      },
      "source": [
        "To incorporate attention mechanism into the LSTM model, we compute attention weights over the LSTM output."
      ]
    },
    {
      "cell_type": "code",
      "execution_count": 32,
      "metadata": {
        "id": "UsZfHzejlMHX"
      },
      "outputs": [],
      "source": [
        "# Hyperparameters\n",
        "embedding_dim = 128\n",
        "hidden_dim = 256\n",
        "output_dim = 1  # probability\n",
        "n_layers = 2\n",
        "bidirectional = True\n",
        "dropout = 0.3"
      ]
    },
    {
      "cell_type": "code",
      "execution_count": 33,
      "metadata": {
        "id": "K6yOaoa-lMHX"
      },
      "outputs": [],
      "source": [
        "import torch\n",
        "import torch.nn as nn\n",
        "\n",
        "class LSTMWithAttention(nn.Module):\n",
        "    def __init__(self, vocab_size, embedding_dim, hidden_dim, output_dim, n_layers, bidirectional, dropout):\n",
        "        super(LSTMWithAttention, self).__init__()\n",
        "        self.embedding = nn.Embedding(vocab_size + 1, embedding_dim)\n",
        "\n",
        "        self.lstm = nn.LSTM(\n",
        "            embedding_dim,\n",
        "            hidden_dim,\n",
        "            num_layers=n_layers,\n",
        "            bidirectional=bidirectional,\n",
        "            dropout=dropout,\n",
        "            batch_first=True\n",
        "        )\n",
        "\n",
        "        # Attention layer\n",
        "        self.attention = nn.Linear(hidden_dim * 2, 1)  # For attention weights\n",
        "        self.softmax = nn.Softmax(dim=1)\n",
        "\n",
        "        # Fully connected layers\n",
        "        self.fc = nn.Linear(hidden_dim * 2, output_dim)\n",
        "        self.batch_norm = nn.BatchNorm1d(hidden_dim * 2)\n",
        "        self.dropout = nn.Dropout(dropout)\n",
        "        # self.sigmoid = nn.Sigmoid()  # Use sigmoid as activation function for binary classification\n",
        "\n",
        "    def forward(self, text, text_lengths):\n",
        "        embedded = self.embedding(text)\n",
        "        packed_embedded = nn.utils.rnn.pack_padded_sequence(\n",
        "            embedded, text_lengths.cpu(), batch_first=True, enforce_sorted=False\n",
        "        )\n",
        "        packed_output, (hidden_state, cell_state) = self.lstm(packed_embedded)\n",
        "        output, _ = nn.utils.rnn.pad_packed_sequence(packed_output, batch_first=True)\n",
        "\n",
        "        # Attention mechanism\n",
        "        # mask = (text_lengths.unsqueeze(1) > torch.arange(output.size(1), device=text_lengths.device)).float()\n",
        "        # attn_weights = self.attention(output).squeeze(-1) * mask\n",
        "        attn_weights = self.attention(output)\n",
        "        attn_weights = self.softmax(attn_weights.squeeze(-1))\n",
        "        # print(f\"Attention Weights: \", attn_weights)\n",
        "\n",
        "        # Context vector as weighted sum of outputs\n",
        "        context = torch.bmm(attn_weights.unsqueeze(1), output).squeeze(1)  # Shape: [batch_size, hidden_dim * 2]\n",
        "\n",
        "        # Concatenate final hidden state and context vector\n",
        "        hidden = torch.cat((hidden_state[-2, :, :], hidden_state[-1, :, :]), dim=1)  # Final hidden state\n",
        "        context_hidden = context + hidden  # Combine context and hidden state\n",
        "\n",
        "        # Classification\n",
        "        context_hidden = self.batch_norm(context_hidden)\n",
        "        # print(f\"Hidden Context shape: \", context_hidden.shape)\n",
        "        # outputs = self.sigmoid(self.fc(self.dropout(context_hidden)))\n",
        "        outputs = self.fc(self.dropout(context_hidden)).squeeze(1)\n",
        "\n",
        "        return outputs\n"
      ]
    },
    {
      "cell_type": "code",
      "source": [
        "def accuracy_att(preds, y):\n",
        "  probs = torch.sigmoid(preds)\n",
        "  rounded_preds = (probs > 0.5).float()\n",
        "  correct = (rounded_preds == y).float()\n",
        "  acc = correct.sum() / len(correct)\n",
        "  return acc"
      ],
      "metadata": {
        "id": "9-e5NbFB_EFB"
      },
      "execution_count": 34,
      "outputs": []
    },
    {
      "cell_type": "code",
      "source": [
        "def train_att(model,loader,optimizer,criterion):\n",
        "    epoch_loss = 0.0\n",
        "    epoch_acc = 0.0\n",
        "\n",
        "    model.train()\n",
        "\n",
        "    for batch in loader:\n",
        "        optimizer.zero_grad()\n",
        "\n",
        "        input_ids = batch['input_ids'].to(device)\n",
        "        labels = batch['label'].float().to(device)\n",
        "        text_length = batch['text_length'].to(device)\n",
        "\n",
        "        outputs = model(input_ids, text_length)\n",
        "        loss = criterion(outputs, labels)\n",
        "        loss.backward()\n",
        "        acc = accuracy_att(outputs, labels)\n",
        "        optimizer.step()\n",
        "\n",
        "        epoch_loss += loss.item()\n",
        "        epoch_acc += acc.item()\n",
        "\n",
        "    return epoch_loss / len(loader), epoch_acc / len(loader)"
      ],
      "metadata": {
        "id": "q6-FayDk_e4V"
      },
      "execution_count": 35,
      "outputs": []
    },
    {
      "cell_type": "code",
      "execution_count": 36,
      "metadata": {
        "id": "tDgbp3UdlMHX"
      },
      "outputs": [],
      "source": [
        "model = LSTMWithAttention(len(word_map), embedding_dim, hidden_dim, output_dim, n_layers, bidirectional, dropout)\n",
        "criterion = nn.BCEWithLogitsLoss()\n",
        "optimizer = optim.Adam(model.parameters(), lr=0.001)\n",
        "\n",
        "# Training loop\n",
        "# if torch.backends.mps.is_available():\n",
        "#     device = torch.device(\"mps\")\n",
        "#     print(\"Using MPS GPU\")\n",
        "# else:\n",
        "device = torch.device(\"cpu\")\n",
        "model = model.to(device)"
      ]
    },
    {
      "cell_type": "code",
      "source": [
        "def evaluate_att(model,loader,criterion):\n",
        "    epoch_loss = 0.0\n",
        "    epoch_acc = 0.0\n",
        "    model.eval()\n",
        "\n",
        "    with torch.no_grad():\n",
        "        for batch in loader:\n",
        "            input_ids = batch['input_ids'].to(device)\n",
        "            labels = batch['label'].float().to(device)\n",
        "            text_length = batch['text_length'].to(device)\n",
        "\n",
        "            outputs = model(input_ids, text_length)\n",
        "\n",
        "            loss = criterion(outputs, labels)\n",
        "            acc = accuracy_att(outputs, labels)\n",
        "\n",
        "            epoch_loss += loss.item()\n",
        "            epoch_acc += acc.item()\n",
        "\n",
        "    return epoch_loss / len(loader), epoch_acc / len(loader)"
      ],
      "metadata": {
        "id": "F69GYkFx_rJc"
      },
      "execution_count": 37,
      "outputs": []
    },
    {
      "cell_type": "code",
      "source": [
        "from sklearn.metrics import accuracy_score, roc_auc_score, confusion_matrix\n",
        "\n",
        "def evaluate_att_with_metrics(model, loader, criterion):\n",
        "    model.eval()\n",
        "    all_labels, all_preds, all_probs = [], [], []\n",
        "    epoch_loss = 0.0\n",
        "\n",
        "    with torch.no_grad():\n",
        "        for batch in loader:\n",
        "            input_ids = batch['input_ids'].to(device)\n",
        "            labels = batch['label'].float().to(device)\n",
        "            text_length = batch['text_length'].to(device)\n",
        "\n",
        "            outputs = model(input_ids, text_length)\n",
        "            loss = criterion(outputs, labels)\n",
        "            epoch_loss += loss.item()\n",
        "\n",
        "            all_labels.extend(labels.cpu().numpy().astype(int))\n",
        "            preds = (torch.sigmoid(outputs) >= 0.5).float()\n",
        "            all_preds.extend(preds.cpu().numpy())\n",
        "            all_probs.extend(torch.sigmoid(outputs).cpu().numpy())\n",
        "\n",
        "    print(\"Unique labels:\", np.unique(all_labels))\n",
        "    print(\"Unique predictions:\", np.unique(all_preds))\n",
        "    unique, counts = np.unique(all_labels, return_counts=True)\n",
        "    label_distribution = dict(zip(unique, counts))\n",
        "    print(\"Label distribution:\", label_distribution)\n",
        "\n",
        "    accuracy = accuracy_score(all_labels, all_preds)\n",
        "    roc_auc = roc_auc_score(all_labels, all_probs)\n",
        "    cm = confusion_matrix(all_labels, all_preds)\n",
        "    print(f\"confusion matrix: \", cm)\n",
        "\n",
        "    return {\n",
        "        'loss': epoch_loss / len(loader),  # Average validation loss\n",
        "        'accuracy': accuracy,\n",
        "        'roc_auc': roc_auc,\n",
        "        'confusion_matrix': cm,\n",
        "    }"
      ],
      "metadata": {
        "id": "IOF3N9GYmADu"
      },
      "execution_count": 38,
      "outputs": []
    },
    {
      "cell_type": "code",
      "execution_count": 39,
      "metadata": {
        "colab": {
          "base_uri": "https://localhost:8080/"
        },
        "id": "aNvk_KIclMHX",
        "outputId": "7ec01c39-fa2b-4742-f239-67d2e1f564a5"
      },
      "outputs": [
        {
          "output_type": "stream",
          "name": "stdout",
          "text": [
            "Unique labels: [0 1]\n",
            "Unique predictions: [0. 1.]\n",
            "Label distribution: {0: 96, 1: 104}\n",
            "confusion matrix:  [[ 34  62]\n",
            " [  4 100]]\n",
            "Epoch 1\n",
            "\tTrain Loss: 0.578 | Train Acc: 74.38%\n",
            "\t Val. Loss: 0.789 |  Val. Acc: 67.00%\n",
            "\n",
            "Unique labels: [0 1]\n",
            "Unique predictions: [0. 1.]\n",
            "Label distribution: {0: 96, 1: 104}\n",
            "confusion matrix:  [[83 13]\n",
            " [25 79]]\n",
            "Epoch 2\n",
            "\tTrain Loss: 0.265 | Train Acc: 89.50%\n",
            "\t Val. Loss: 0.460 |  Val. Acc: 81.00%\n",
            "\n",
            "Unique labels: [0 1]\n",
            "Unique predictions: [0. 1.]\n",
            "Label distribution: {0: 96, 1: 104}\n",
            "confusion matrix:  [[84 12]\n",
            " [20 84]]\n",
            "Epoch 3\n",
            "\tTrain Loss: 0.164 | Train Acc: 94.00%\n",
            "\t Val. Loss: 0.507 |  Val. Acc: 84.00%\n",
            "\n",
            "Unique labels: [0 1]\n",
            "Unique predictions: [0. 1.]\n",
            "Label distribution: {0: 96, 1: 104}\n",
            "confusion matrix:  [[81 15]\n",
            " [23 81]]\n",
            "Epoch 4\n",
            "\tTrain Loss: 0.119 | Train Acc: 95.75%\n",
            "\t Val. Loss: 0.513 |  Val. Acc: 81.00%\n",
            "\n",
            "Unique labels: [0 1]\n",
            "Unique predictions: [0. 1.]\n",
            "Label distribution: {0: 96, 1: 104}\n",
            "confusion matrix:  [[74 22]\n",
            " [16 88]]\n",
            "Epoch 5\n",
            "\tTrain Loss: 0.067 | Train Acc: 97.88%\n",
            "\t Val. Loss: 0.584 |  Val. Acc: 81.00%\n",
            "\n",
            "Unique labels: [0 1]\n",
            "Unique predictions: [0. 1.]\n",
            "Label distribution: {0: 96, 1: 104}\n",
            "confusion matrix:  [[94  2]\n",
            " [70 34]]\n",
            "Epoch 6\n",
            "\tTrain Loss: 0.072 | Train Acc: 97.50%\n",
            "\t Val. Loss: 1.041 |  Val. Acc: 64.00%\n",
            "\n",
            "Unique labels: [0 1]\n",
            "Unique predictions: [0. 1.]\n",
            "Label distribution: {0: 96, 1: 104}\n",
            "confusion matrix:  [[73 23]\n",
            " [ 6 98]]\n",
            "Epoch 7\n",
            "\tTrain Loss: 0.067 | Train Acc: 97.25%\n",
            "\t Val. Loss: 0.647 |  Val. Acc: 85.50%\n",
            "\n",
            "Unique labels: [0 1]\n",
            "Unique predictions: [0. 1.]\n",
            "Label distribution: {0: 96, 1: 104}\n",
            "confusion matrix:  [[83 13]\n",
            " [21 83]]\n",
            "Epoch 8\n",
            "\tTrain Loss: 0.031 | Train Acc: 98.88%\n",
            "\t Val. Loss: 0.566 |  Val. Acc: 83.00%\n",
            "\n",
            "Unique labels: [0 1]\n",
            "Unique predictions: [0. 1.]\n",
            "Label distribution: {0: 96, 1: 104}\n",
            "confusion matrix:  [[64 32]\n",
            " [ 7 97]]\n",
            "Epoch 9\n",
            "\tTrain Loss: 0.049 | Train Acc: 98.12%\n",
            "\t Val. Loss: 0.805 |  Val. Acc: 80.50%\n",
            "\n",
            "Unique labels: [0 1]\n",
            "Unique predictions: [0. 1.]\n",
            "Label distribution: {0: 96, 1: 104}\n",
            "confusion matrix:  [[74 22]\n",
            " [12 92]]\n",
            "Epoch 10\n",
            "\tTrain Loss: 0.063 | Train Acc: 97.62%\n",
            "\t Val. Loss: 0.664 |  Val. Acc: 83.00%\n",
            "\n"
          ]
        }
      ],
      "source": [
        "EPOCH_NUMBER = 10\n",
        "t_acc = []\n",
        "t_loss = []\n",
        "v_acc = []\n",
        "v_loss = []\n",
        "roc_auc = []\n",
        "cm = []\n",
        "\n",
        "for epoch in range(1,EPOCH_NUMBER+1):\n",
        "\n",
        "    train_loss,train_acc = train_att(model,train_loader,optimizer,criterion)\n",
        "\n",
        "    valid_dict = evaluate_att_with_metrics(model,test_loader,criterion)\n",
        "    valid_loss = valid_dict['loss']\n",
        "    valid_acc = valid_dict['accuracy']\n",
        "    roc_auc.append(valid_dict['roc_auc'])\n",
        "    cm.append(valid_dict['confusion_matrix'])\n",
        "\n",
        "    t_acc.append(train_acc)\n",
        "    t_loss.append(train_loss)\n",
        "    v_acc.append(valid_acc)\n",
        "    v_loss.append(valid_loss)\n",
        "\n",
        "    print(\"Epoch\", epoch)\n",
        "    print(f'\\tTrain Loss: {train_loss:.3f} | Train Acc: {train_acc*100:.2f}%')\n",
        "    print(f'\\t Val. Loss: {valid_loss:.3f} |  Val. Acc: {valid_acc*100:.2f}%')\n",
        "    print()"
      ]
    },
    {
      "cell_type": "code",
      "source": [
        "plt.plot(range(1, EPOCH_NUMBER+1), t_acc)\n",
        "plt.plot(range(1, EPOCH_NUMBER+1), v_acc)\n",
        "plt.title(\"Accuracy\")\n",
        "plt.xlabel(\"Number of Epoch\")\n",
        "plt.ylabel(\"Accuracy\")\n",
        "plt.legend((\"Training\", \"Validation\"))"
      ],
      "metadata": {
        "colab": {
          "base_uri": "https://localhost:8080/",
          "height": 489
        },
        "id": "B-yZh8RHU7CX",
        "outputId": "9fac5fbc-533b-4794-837b-daca4866e6f8"
      },
      "execution_count": 43,
      "outputs": [
        {
          "output_type": "execute_result",
          "data": {
            "text/plain": [
              "<matplotlib.legend.Legend at 0x7dc5ad9b5420>"
            ]
          },
          "metadata": {},
          "execution_count": 43
        },
        {
          "output_type": "display_data",
          "data": {
            "text/plain": [
              "<Figure size 640x480 with 1 Axes>"
            ],
            "image/png": "[encoded data removed]"
          },
          "metadata": {}
        }
      ]
    },
    {
      "cell_type": "code",
      "source": [
        "plt.plot(range(1, EPOCH_NUMBER+1), t_loss)\n",
        "plt.plot(range(1, EPOCH_NUMBER+1), v_loss)\n",
        "plt.title(\"Loss\")\n",
        "plt.xlabel(\"Number of Epoch\")\n",
        "plt.ylabel(\"Loss\")\n",
        "plt.legend((\"Training\", \"Validation\"))"
      ],
      "metadata": {
        "colab": {
          "base_uri": "https://localhost:8080/",
          "height": 489
        },
        "id": "Zm8oX1SUmA7b",
        "outputId": "abe199cd-eb27-4182-9c0b-0a9cd115e2e6"
      },
      "execution_count": 44,
      "outputs": [
        {
          "output_type": "execute_result",
          "data": {
            "text/plain": [
              "<matplotlib.legend.Legend at 0x7dc5ad7d2170>"
            ]
          },
          "metadata": {},
          "execution_count": 44
        },
        {
          "output_type": "display_data",
          "data": {
            "text/plain": [
              "<Figure size 640x480 with 1 Axes>"
            ],
            "image/png": "[encoded data removed]"
          },
          "metadata": {}
        }
      ]
    },
    {
      "cell_type": "code",
      "source": [
        "# plot confusion matrix with the highest F1 score\n",
        "import seaborn as sns\n",
        "\n",
        "def calculate_metrics_from_cm(cm):\n",
        "    TN = cm[0, 0]\n",
        "    FP = cm[0, 1]\n",
        "    FN = cm[1, 0]\n",
        "    TP = cm[1, 1]\n",
        "\n",
        "    # Avoid division by zero\n",
        "    precision_denominator = TP + FP\n",
        "    recall_denominator = TP + FN\n",
        "\n",
        "    precision = TP / precision_denominator if precision_denominator > 0 else 0\n",
        "    recall = TP / recall_denominator if recall_denominator > 0 else 0\n",
        "\n",
        "    f1_score = (2 * precision * recall) / (precision + recall) if (precision + recall) > 0 else 0\n",
        "\n",
        "    return precision, recall, f1_score\n",
        "\n",
        "# List to store manual F1 scores\n",
        "f1_scores_manual = []\n",
        "\n",
        "# Iterate over confusion matrices\n",
        "for c in cm:\n",
        "    precision, recall, f1 = calculate_metrics_from_cm(c)\n",
        "    f1_scores_manual.append(f1)\n",
        "\n",
        "# Find the epoch with the highest F1 score\n",
        "best_epoch_index = np.argmax(f1_scores_manual)\n",
        "best_f1_score = f1_scores_manual[best_epoch_index]\n",
        "best_cm = cm[best_epoch_index]\n",
        "\n",
        "print(f\"The highest F1 score is {best_f1_score:.4f} at epoch {best_epoch_index + 1}\")\n",
        "\n",
        "# Plot the confusion matrix\n",
        "plt.figure(figsize=(8, 6))\n",
        "sns.heatmap(best_cm, annot=True, fmt='d', cmap='Blues', xticklabels=[0, 1], yticklabels=[0, 1])\n",
        "plt.title(f'Confusion Matrix for Epoch {best_epoch_index + 1} with Highest F1 Score')\n",
        "plt.ylabel('True Label')\n",
        "plt.xlabel('Predicted Label')\n",
        "plt.show()\n"
      ],
      "metadata": {
        "colab": {
          "base_uri": "https://localhost:8080/",
          "height": 581
        },
        "id": "8xcdP1hcqDO_",
        "outputId": "14ef5609-4110-4351-98c5-ec753c14859c"
      },
      "execution_count": 49,
      "outputs": [
        {
          "output_type": "stream",
          "name": "stdout",
          "text": [
            "The highest F1 score is 0.8711 at epoch 7\n"
          ]
        },
        {
          "output_type": "display_data",
          "data": {
            "text/plain": [
              "<Figure size 800x600 with 2 Axes>"
            ],
            "image/png": "[encoded data removed]"
          },
          "metadata": {}
        }
      ]
    },
    {
      "cell_type": "code",
      "source": [
        "# roc-auc curve\n",
        "print(roc_auc)"
      ],
      "metadata": {
        "colab": {
          "base_uri": "https://localhost:8080/",
          "height": 159
        },
        "id": "iKKMGpnqOKu6",
        "outputId": "93e9e88d-eff5-4cf6-f0f5-95d1922cceef"
      },
      "execution_count": 1,
      "outputs": [
        {
          "output_type": "error",
          "ename": "NameError",
          "evalue": "name 'roc_auc' is not defined",
          "traceback": [
            "\u001b[0;31m---------------------------------------------------------------------------\u001b[0m",
            "\u001b[0;31mNameError\u001b[0m                                 Traceback (most recent call last)",
            "\u001b[0;32m<ipython-input-1-b79f5f7003a9>\u001b[0m in \u001b[0;36m<cell line: 2>\u001b[0;34m()\u001b[0m\n\u001b[1;32m      1\u001b[0m \u001b[0;31m# roc-auc curve\u001b[0m\u001b[0;34m\u001b[0m\u001b[0;34m\u001b[0m\u001b[0m\n\u001b[0;32m----> 2\u001b[0;31m \u001b[0mprint\u001b[0m\u001b[0;34m(\u001b[0m\u001b[0mroc_auc\u001b[0m\u001b[0;34m)\u001b[0m\u001b[0;34m\u001b[0m\u001b[0;34m\u001b[0m\u001b[0m\n\u001b[0m",
            "\u001b[0;31mNameError\u001b[0m: name 'roc_auc' is not defined"
          ]
        }
      ]
    },
    {
      "cell_type": "markdown",
      "metadata": {
        "id": "yduUsnHElMHY"
      },
      "source": [
        "NOT USED. Reference: https://github.com/gentaiscool/lstm-attention/tree/master"
      ]
    },
    {
      "cell_type": "code",
      "execution_count": null,
      "metadata": {
        "id": "_HBRzRbKlMHY"
      },
      "outputs": [],
      "source": [
        "import torch\n",
        "import torch.nn as nn\n",
        "import tensorflow as tf\n",
        "from keras.layers import Layer\n",
        "import keras.backend as K\n",
        "from keras.initializers import glorot_uniform\n",
        "from keras.regularizers import l2\n",
        "\n",
        "# Custom Dot Product Function\n",
        "def dot_product(x, kernel):\n",
        "    return K.batch_dot(x, kernel, axes=[2, 0])\n",
        "\n",
        "# AttentionWithContext and Addition Layers (As per your code)\n",
        "class AttentionWithContext(Layer):\n",
        "    def __init__(self, **kwargs):\n",
        "        self.supports_masking = True\n",
        "        self.init = glorot_uniform()\n",
        "        super(AttentionWithContext, self).__init__(**kwargs)\n",
        "\n",
        "    def build(self, input_shape):\n",
        "        self.W = self.add_weight(shape=(input_shape[-1], input_shape[-1]),\n",
        "                                 initializer=self.init,\n",
        "                                 name='{}_W'.format(self.name))\n",
        "        self.b = self.add_weight(shape=(input_shape[-1],),\n",
        "                                 initializer='zero',\n",
        "                                 name='{}_b'.format(self.name))\n",
        "        self.u = self.add_weight(shape=(input_shape[-1],),\n",
        "                                 initializer=self.init,\n",
        "                                 name='{}_u'.format(self.name))\n",
        "        super(AttentionWithContext, self).build(input_shape)\n",
        "\n",
        "    def call(self, x, mask=None):\n",
        "        uit = dot_product(x, self.W) + self.b\n",
        "        uit = K.tanh(uit)\n",
        "        ait = dot_product(uit, self.u)\n",
        "        a = K.exp(ait)\n",
        "\n",
        "        if mask is not None:\n",
        "            a *= K.cast(mask, K.floatx())\n",
        "        a /= K.cast(K.sum(a, axis=1, keepdims=True) + K.epsilon(), K.floatx())\n",
        "        a = K.expand_dims(a)\n",
        "        return x * a\n",
        "\n",
        "    def compute_output_shape(self, input_shape):\n",
        "        return input_shape\n",
        "\n",
        "class Addition(Layer):\n",
        "    def __init__(self, **kwargs):\n",
        "        super(Addition, self).__init__(**kwargs)\n",
        "\n",
        "    def call(self, x):\n",
        "        return K.sum(x, axis=1)\n",
        "\n",
        "    def compute_output_shape(self, input_shape):\n",
        "        return (input_shape[0], input_shape[-1])\n",
        "\n",
        "# LSTMWithAttention Incorporating the Layers\n",
        "class LSTMWithAttention_New(nn.Module):\n",
        "    def __init__(self, vocab_size, embedding_dim, hidden_dim, output_dim, n_layers, bidirectional, dropout):\n",
        "        super(LSTMWithAttention_New, self).__init__()\n",
        "        self.embedding = nn.Embedding(vocab_size + 1, embedding_dim)\n",
        "        self.lstm = nn.LSTM(\n",
        "            embedding_dim,\n",
        "            hidden_dim,\n",
        "            num_layers=n_layers,\n",
        "            bidirectional=bidirectional,\n",
        "            dropout=dropout,\n",
        "            batch_first=True\n",
        "        )\n",
        "        # Replace Attention\n",
        "        self.attention = AttentionWithContext()\n",
        "        self.addition = Addition()\n",
        "\n",
        "        # Fully connected layers\n",
        "        self.fc = nn.Linear(hidden_dim * 2, output_dim)\n",
        "        self.dropout = nn.Dropout(dropout)\n",
        "        self.sigmoid = nn.Sigmoid()  # Use sigmoid for binary classification\n",
        "\n",
        "    def forward(self, text, text_lengths):\n",
        "        embedded = self.embedding(text)\n",
        "        packed_embedded = nn.utils.rnn.pack_padded_sequence(\n",
        "            embedded, text_lengths.cpu(), batch_first=True, enforce_sorted=False\n",
        "        )\n",
        "        packed_output, (hidden_state, _) = self.lstm(packed_embedded)\n",
        "        output, _ = nn.utils.rnn.pad_packed_sequence(packed_output, batch_first=True)\n",
        "\n",
        "        # Apply Attention Layer\n",
        "        attention_output = self.attention(output)\n",
        "\n",
        "        # Aggregate Attention-Weighted Outputs\n",
        "        context = self.addition(attention_output)\n",
        "\n",
        "        # Classification\n",
        "        outputs = self.sigmoid(self.fc(self.dropout(context)))\n",
        "        return outputs\n"
      ]
    },
    {
      "cell_type": "code",
      "execution_count": null,
      "metadata": {
        "id": "RfBGLKT4lMHY"
      },
      "outputs": [],
      "source": [
        "model = LSTMWithAttention_New(len(word_map), embedding_dim, hidden_dim, output_dim, n_layers, bidirectional, dropout)\n",
        "criterion = nn.CrossEntropyLoss()\n",
        "optimizer = optim.Adam(model.parameters(), lr=0.001)\n",
        "\n",
        "# Training loop\n",
        "# if torch.backends.mps.is_available():\n",
        "#     device = torch.device(\"mps\")\n",
        "#     print(\"Using MPS GPU\")\n",
        "# else:\n",
        "device = torch.device(\"cpu\")\n",
        "model = model.to(device)"
      ]
    },
    {
      "cell_type": "code",
      "execution_count": null,
      "metadata": {
        "id": "iZJN7lIqlMHc",
        "outputId": "6cfdc1dc-db30-4ad8-bb1e-1d754ae73a8f"
      },
      "outputs": [
        {
          "ename": "RuntimeError",
          "evalue": "Can't call numpy() on Tensor that requires grad. Use tensor.detach().numpy() instead.",
          "output_type": "error",
          "traceback": [
            "\u001b[0;31m---------------------------------------------------------------------------\u001b[0m",
            "\u001b[0;31mRuntimeError\u001b[0m                              Traceback (most recent call last)",
            "Cell \u001b[0;32mIn[106], line 9\u001b[0m\n\u001b[1;32m      5\u001b[0m v_loss \u001b[38;5;241m=\u001b[39m []\n\u001b[1;32m      7\u001b[0m \u001b[38;5;28;01mfor\u001b[39;00m epoch \u001b[38;5;129;01min\u001b[39;00m \u001b[38;5;28mrange\u001b[39m(\u001b[38;5;241m1\u001b[39m,EPOCH_NUMBER\u001b[38;5;241m+\u001b[39m\u001b[38;5;241m1\u001b[39m):\n\u001b[0;32m----> 9\u001b[0m     train_loss,train_acc \u001b[38;5;241m=\u001b[39m \u001b[43mtrain\u001b[49m\u001b[43m(\u001b[49m\u001b[43mmodel\u001b[49m\u001b[43m,\u001b[49m\u001b[43mtrain_loader\u001b[49m\u001b[43m,\u001b[49m\u001b[43moptimizer\u001b[49m\u001b[43m,\u001b[49m\u001b[43mcriterion\u001b[49m\u001b[43m)\u001b[49m\n\u001b[1;32m     11\u001b[0m     valid_loss,valid_acc \u001b[38;5;241m=\u001b[39m evaluate(model,test_loader,criterion)\n\u001b[1;32m     13\u001b[0m     t_acc\u001b[38;5;241m.\u001b[39mappend(train_acc)\n",
            "Cell \u001b[0;32mIn[104], line 14\u001b[0m, in \u001b[0;36mtrain\u001b[0;34m(model, loader, optimizer, criterion)\u001b[0m\n\u001b[1;32m     11\u001b[0m labels \u001b[38;5;241m=\u001b[39m batch[\u001b[38;5;124m'\u001b[39m\u001b[38;5;124mlabel\u001b[39m\u001b[38;5;124m'\u001b[39m]\u001b[38;5;241m.\u001b[39mto(device)\n\u001b[1;32m     12\u001b[0m text_length \u001b[38;5;241m=\u001b[39m batch[\u001b[38;5;124m'\u001b[39m\u001b[38;5;124mtext_length\u001b[39m\u001b[38;5;124m'\u001b[39m]\u001b[38;5;241m.\u001b[39mto(device)\u001b[38;5;241m.\u001b[39mdetach()\u001b[38;5;241m.\u001b[39mcpu()\n\u001b[0;32m---> 14\u001b[0m outputs \u001b[38;5;241m=\u001b[39m \u001b[43mmodel\u001b[49m\u001b[43m(\u001b[49m\u001b[43minput_ids\u001b[49m\u001b[43m,\u001b[49m\u001b[43m \u001b[49m\u001b[43mtext_length\u001b[49m\u001b[43m)\u001b[49m\u001b[38;5;241m.\u001b[39mdetach()\u001b[38;5;241m.\u001b[39mnumpy()\n\u001b[1;32m     15\u001b[0m loss \u001b[38;5;241m=\u001b[39m criterion(outputs, labels)\n\u001b[1;32m     16\u001b[0m loss\u001b[38;5;241m.\u001b[39mbackward()\n",
            "File \u001b[0;32m~/Library/Python/3.9/lib/python/site-packages/torch/nn/modules/module.py:1736\u001b[0m, in \u001b[0;36mModule._wrapped_call_impl\u001b[0;34m(self, *args, **kwargs)\u001b[0m\n\u001b[1;32m   1734\u001b[0m     \u001b[38;5;28;01mreturn\u001b[39;00m \u001b[38;5;28mself\u001b[39m\u001b[38;5;241m.\u001b[39m_compiled_call_impl(\u001b[38;5;241m*\u001b[39margs, \u001b[38;5;241m*\u001b[39m\u001b[38;5;241m*\u001b[39mkwargs)  \u001b[38;5;66;03m# type: ignore[misc]\u001b[39;00m\n\u001b[1;32m   1735\u001b[0m \u001b[38;5;28;01melse\u001b[39;00m:\n\u001b[0;32m-> 1736\u001b[0m     \u001b[38;5;28;01mreturn\u001b[39;00m \u001b[38;5;28;43mself\u001b[39;49m\u001b[38;5;241;43m.\u001b[39;49m\u001b[43m_call_impl\u001b[49m\u001b[43m(\u001b[49m\u001b[38;5;241;43m*\u001b[39;49m\u001b[43margs\u001b[49m\u001b[43m,\u001b[49m\u001b[43m \u001b[49m\u001b[38;5;241;43m*\u001b[39;49m\u001b[38;5;241;43m*\u001b[39;49m\u001b[43mkwargs\u001b[49m\u001b[43m)\u001b[49m\n",
            "File \u001b[0;32m~/Library/Python/3.9/lib/python/site-packages/torch/nn/modules/module.py:1747\u001b[0m, in \u001b[0;36mModule._call_impl\u001b[0;34m(self, *args, **kwargs)\u001b[0m\n\u001b[1;32m   1742\u001b[0m \u001b[38;5;66;03m# If we don't have any hooks, we want to skip the rest of the logic in\u001b[39;00m\n\u001b[1;32m   1743\u001b[0m \u001b[38;5;66;03m# this function, and just call forward.\u001b[39;00m\n\u001b[1;32m   1744\u001b[0m \u001b[38;5;28;01mif\u001b[39;00m \u001b[38;5;129;01mnot\u001b[39;00m (\u001b[38;5;28mself\u001b[39m\u001b[38;5;241m.\u001b[39m_backward_hooks \u001b[38;5;129;01mor\u001b[39;00m \u001b[38;5;28mself\u001b[39m\u001b[38;5;241m.\u001b[39m_backward_pre_hooks \u001b[38;5;129;01mor\u001b[39;00m \u001b[38;5;28mself\u001b[39m\u001b[38;5;241m.\u001b[39m_forward_hooks \u001b[38;5;129;01mor\u001b[39;00m \u001b[38;5;28mself\u001b[39m\u001b[38;5;241m.\u001b[39m_forward_pre_hooks\n\u001b[1;32m   1745\u001b[0m         \u001b[38;5;129;01mor\u001b[39;00m _global_backward_pre_hooks \u001b[38;5;129;01mor\u001b[39;00m _global_backward_hooks\n\u001b[1;32m   1746\u001b[0m         \u001b[38;5;129;01mor\u001b[39;00m _global_forward_hooks \u001b[38;5;129;01mor\u001b[39;00m _global_forward_pre_hooks):\n\u001b[0;32m-> 1747\u001b[0m     \u001b[38;5;28;01mreturn\u001b[39;00m \u001b[43mforward_call\u001b[49m\u001b[43m(\u001b[49m\u001b[38;5;241;43m*\u001b[39;49m\u001b[43margs\u001b[49m\u001b[43m,\u001b[49m\u001b[43m \u001b[49m\u001b[38;5;241;43m*\u001b[39;49m\u001b[38;5;241;43m*\u001b[39;49m\u001b[43mkwargs\u001b[49m\u001b[43m)\u001b[49m\n\u001b[1;32m   1749\u001b[0m result \u001b[38;5;241m=\u001b[39m \u001b[38;5;28;01mNone\u001b[39;00m\n\u001b[1;32m   1750\u001b[0m called_always_called_hooks \u001b[38;5;241m=\u001b[39m \u001b[38;5;28mset\u001b[39m()\n",
            "Cell \u001b[0;32mIn[98], line 88\u001b[0m, in \u001b[0;36mLSTMWithAttention_New.forward\u001b[0;34m(self, text, text_lengths)\u001b[0m\n\u001b[1;32m     85\u001b[0m output, _ \u001b[38;5;241m=\u001b[39m nn\u001b[38;5;241m.\u001b[39mutils\u001b[38;5;241m.\u001b[39mrnn\u001b[38;5;241m.\u001b[39mpad_packed_sequence(packed_output, batch_first\u001b[38;5;241m=\u001b[39m\u001b[38;5;28;01mTrue\u001b[39;00m)\n\u001b[1;32m     87\u001b[0m \u001b[38;5;66;03m# Apply Attention Layer\u001b[39;00m\n\u001b[0;32m---> 88\u001b[0m attention_output \u001b[38;5;241m=\u001b[39m \u001b[38;5;28;43mself\u001b[39;49m\u001b[38;5;241;43m.\u001b[39;49m\u001b[43mattention\u001b[49m\u001b[43m(\u001b[49m\u001b[43moutput\u001b[49m\u001b[43m)\u001b[49m\n\u001b[1;32m     90\u001b[0m \u001b[38;5;66;03m# Aggregate Attention-Weighted Outputs\u001b[39;00m\n\u001b[1;32m     91\u001b[0m context \u001b[38;5;241m=\u001b[39m \u001b[38;5;28mself\u001b[39m\u001b[38;5;241m.\u001b[39maddition(attention_output)\n",
            "File \u001b[0;32m~/Library/Python/3.9/lib/python/site-packages/keras/src/utils/traceback_utils.py:122\u001b[0m, in \u001b[0;36mfilter_traceback.<locals>.error_handler\u001b[0;34m(*args, **kwargs)\u001b[0m\n\u001b[1;32m    119\u001b[0m     filtered_tb \u001b[38;5;241m=\u001b[39m _process_traceback_frames(e\u001b[38;5;241m.\u001b[39m__traceback__)\n\u001b[1;32m    120\u001b[0m     \u001b[38;5;66;03m# To get the full stack trace, call:\u001b[39;00m\n\u001b[1;32m    121\u001b[0m     \u001b[38;5;66;03m# `keras.config.disable_traceback_filtering()`\u001b[39;00m\n\u001b[0;32m--> 122\u001b[0m     \u001b[38;5;28;01mraise\u001b[39;00m e\u001b[38;5;241m.\u001b[39mwith_traceback(filtered_tb) \u001b[38;5;28;01mfrom\u001b[39;00m \u001b[38;5;28;01mNone\u001b[39;00m\n\u001b[1;32m    123\u001b[0m \u001b[38;5;28;01mfinally\u001b[39;00m:\n\u001b[1;32m    124\u001b[0m     \u001b[38;5;28;01mdel\u001b[39;00m filtered_tb\n",
            "File \u001b[0;32m~/Library/Python/3.9/lib/python/site-packages/optree/ops.py:752\u001b[0m, in \u001b[0;36mtree_map\u001b[0;34m(func, tree, is_leaf, none_is_leaf, namespace, *rests)\u001b[0m\n\u001b[1;32m    750\u001b[0m leaves, treespec \u001b[38;5;241m=\u001b[39m _C\u001b[38;5;241m.\u001b[39mflatten(tree, is_leaf, none_is_leaf, namespace)\n\u001b[1;32m    751\u001b[0m flat_args \u001b[38;5;241m=\u001b[39m [leaves] \u001b[38;5;241m+\u001b[39m [treespec\u001b[38;5;241m.\u001b[39mflatten_up_to(r) \u001b[38;5;28;01mfor\u001b[39;00m r \u001b[38;5;129;01min\u001b[39;00m rests]\n\u001b[0;32m--> 752\u001b[0m \u001b[38;5;28;01mreturn\u001b[39;00m \u001b[43mtreespec\u001b[49m\u001b[38;5;241;43m.\u001b[39;49m\u001b[43munflatten\u001b[49m\u001b[43m(\u001b[49m\u001b[38;5;28;43mmap\u001b[39;49m\u001b[43m(\u001b[49m\u001b[43mfunc\u001b[49m\u001b[43m,\u001b[49m\u001b[43m \u001b[49m\u001b[38;5;241;43m*\u001b[39;49m\u001b[43mflat_args\u001b[49m\u001b[43m)\u001b[49m\u001b[43m)\u001b[49m\n",
            "File \u001b[0;32m~/Library/Python/3.9/lib/python/site-packages/torch/_tensor.py:1149\u001b[0m, in \u001b[0;36mTensor.__array__\u001b[0;34m(self, dtype)\u001b[0m\n\u001b[1;32m   1147\u001b[0m     \u001b[38;5;28;01mreturn\u001b[39;00m handle_torch_function(Tensor\u001b[38;5;241m.\u001b[39m__array__, (\u001b[38;5;28mself\u001b[39m,), \u001b[38;5;28mself\u001b[39m, dtype\u001b[38;5;241m=\u001b[39mdtype)\n\u001b[1;32m   1148\u001b[0m \u001b[38;5;28;01mif\u001b[39;00m dtype \u001b[38;5;129;01mis\u001b[39;00m \u001b[38;5;28;01mNone\u001b[39;00m:\n\u001b[0;32m-> 1149\u001b[0m     \u001b[38;5;28;01mreturn\u001b[39;00m \u001b[38;5;28;43mself\u001b[39;49m\u001b[38;5;241;43m.\u001b[39;49m\u001b[43mnumpy\u001b[49m\u001b[43m(\u001b[49m\u001b[43m)\u001b[49m\n\u001b[1;32m   1150\u001b[0m \u001b[38;5;28;01melse\u001b[39;00m:\n\u001b[1;32m   1151\u001b[0m     \u001b[38;5;28;01mreturn\u001b[39;00m \u001b[38;5;28mself\u001b[39m\u001b[38;5;241m.\u001b[39mnumpy()\u001b[38;5;241m.\u001b[39mastype(dtype, copy\u001b[38;5;241m=\u001b[39m\u001b[38;5;28;01mFalse\u001b[39;00m)\n",
            "\u001b[0;31mRuntimeError\u001b[0m: Can't call numpy() on Tensor that requires grad. Use tensor.detach().numpy() instead."
          ]
        }
      ],
      "source": [
        "EPOCH_NUMBER = 10\n",
        "t_acc = []\n",
        "t_loss = []\n",
        "v_acc = []\n",
        "v_loss = []\n",
        "\n",
        "for epoch in range(1,EPOCH_NUMBER+1):\n",
        "\n",
        "    train_loss,train_acc = train(model,train_loader,optimizer,criterion)\n",
        "\n",
        "    valid_loss,valid_acc = evaluate(model,test_loader,criterion)\n",
        "\n",
        "    t_acc.append(train_acc)\n",
        "    t_loss.append(train_loss)\n",
        "    v_acc.append(valid_acc)\n",
        "    v_loss.append(valid_loss)\n",
        "\n",
        "    print(\"Epoch\", epoch)\n",
        "    print(f'\\tTrain Loss: {train_loss:.3f} | Train Acc: {train_acc*100:.2f}%')\n",
        "    print(f'\\t Val. Loss: {valid_loss:.3f} |  Val. Acc: {valid_acc*100:.2f}%')\n",
        "    print()"
      ]
    },
    {
      "cell_type": "code",
      "execution_count": null,
      "metadata": {
        "id": "8l-ifPlYlMHc"
      },
      "outputs": [],
      "source": [
        "plt.plot(range(1, EPOCH_NUMBER+1), t_acc, v_acc)\n",
        "plt.title(\"Accuracy\")\n",
        "plt.legend((\"Training\", \"Validation\"))"
      ]
    },
    {
      "cell_type": "markdown",
      "metadata": {
        "id": "bbrL246VlMHd"
      },
      "source": [
        "## Inference"
      ]
    },
    {
      "cell_type": "markdown",
      "metadata": {
        "id": "wPIixkNzlMHd"
      },
      "source": [
        "### Binary Classfication"
      ]
    },
    {
      "cell_type": "code",
      "execution_count": null,
      "metadata": {
        "id": "4z2xWekKlMHd"
      },
      "outputs": [],
      "source": [
        "def predict_sentence(sentence, model, word_map, device):\n",
        "    # Preprocess the sentence\n",
        "    encoded_sentence = text_encoder(sentence, word_map)\n",
        "    input_tensor = torch.tensor(encoded_sentence, dtype=torch.long).unsqueeze(0).to(device)  # Add batch dimension\n",
        "\n",
        "    # Get the length of the input sentence (for packing sequence)\n",
        "    text_length = torch.tensor([len(encoded_sentence)], dtype=torch.long).to(device)\n",
        "\n",
        "    # Perform inference\n",
        "    model.eval()  # Set the model to evaluation mode\n",
        "    with torch.no_grad():\n",
        "        output = model(input_tensor, text_length)  # Get the model output\n",
        "        prediction = torch.argmax(output, dim=1).item()  # Get the predicted class (0 or 1)\n",
        "\n",
        "    # Interpret the result\n",
        "    if prediction == 0:\n",
        "        return \"The sentence is classified as Non-Suicidal.\"\n",
        "    else:\n",
        "        return \"The sentence is classified as Suicidal.\""
      ]
    },
    {
      "cell_type": "code",
      "execution_count": null,
      "metadata": {
        "id": "OtDFrC_LlMHd",
        "outputId": "bfd7e3f9-31a7-409c-adc2-c3ad27b62471"
      },
      "outputs": [
        {
          "name": "stdout",
          "output_type": "stream",
          "text": [
            "The sentence is classified as Suicidal.\n"
          ]
        }
      ],
      "source": [
        "sentence = \"I feel hopeless.\"\n",
        "result = predict_sentence(sentence, model, word_map, device)\n",
        "print(result)"
      ]
    },
    {
      "cell_type": "markdown",
      "metadata": {
        "id": "xgdr8pqvlMHd"
      },
      "source": [
        "### Regression"
      ]
    },
    {
      "cell_type": "code",
      "execution_count": null,
      "metadata": {
        "id": "TkH2DMHmlMHd"
      },
      "outputs": [],
      "source": [
        "def regression_predict(sentence, model, word_map, device):\n",
        "\n",
        "    encoded_sentence = text_encoder(sentence, word_map)\n",
        "    input_tensor = torch.tensor(encoded_sentence, dtype=torch.long).unsqueeze(0).to(device)\n",
        "\n",
        "    text_length = torch.tensor([len(encoded_sentence)], dtype=torch.long).to(device)\n",
        "\n",
        "    model.eval()\n",
        "    with torch.no_grad():\n",
        "        output = model(input_tensor, text_length)  # Get the model output\n",
        "        probability = torch.sigmoid(output).squeeze().item()  # Get the probability\n",
        "\n",
        "    prediction = 1 if probability >= 0.5 else 0  # Threshold of 0.5\n",
        "    if prediction == 0:\n",
        "        result = f\"The sentence is classified as Non-Suicidal with a probability of {1 - probability:.4f}.\"\n",
        "    else:\n",
        "        result = f\"The sentence is classified as Suicidal with a probability of {probability:.4f}.\"\n",
        "\n",
        "    return result"
      ]
    },
    {
      "cell_type": "code",
      "execution_count": null,
      "metadata": {
        "id": "57rwgvsclMHd",
        "outputId": "e9f8a118-8d9f-4b63-a130-63336e2f0dba"
      },
      "outputs": [
        {
          "name": "stdout",
          "output_type": "stream",
          "text": [
            "The sentence is classified as Suicidal with a probability of 0.6399.\n"
          ]
        }
      ],
      "source": [
        "sentence = \"I feel sad.\"\n",
        "result = regression_predict(sentence, regression, word_map, device)\n",
        "print(result)"
      ]
    },
    {
      "cell_type": "markdown",
      "metadata": {
        "id": "xhWmyYbOlMHd"
      },
      "source": [
        "#### TODO: Add eval metrics to each model"
      ]
    },
    {
      "cell_type": "code",
      "execution_count": null,
      "metadata": {
        "id": "Gi7cnLBXlMHd"
      },
      "outputs": [],
      "source": [
        "def evaluate(model, loader, criterion):\n",
        "    model.eval()\n",
        "    all_labels, all_preds, all_probs = [], [], []\n",
        "    epoch_loss = 0.0\n",
        "\n",
        "    with torch.no_grad():\n",
        "        for batch in loader:\n",
        "            input_ids = batch['input_ids'].to(device)\n",
        "            labels = batch['label'].to(device)\n",
        "            text_length = batch['text_length'].to(device)\n",
        "\n",
        "            outputs = model(input_ids, text_length)\n",
        "            loss = criterion(outputs, labels)\n",
        "            epoch_loss += loss.item()\n",
        "\n",
        "            all_labels.extend(labels.cpu().numpy())\n",
        "            all_preds.extend(torch.argmax(outputs, dim=1).cpu().numpy())\n",
        "            all_probs.extend(outputs[:, 1].cpu().numpy())\n",
        "\n",
        "    accuracy = accuracy_score(all_labels, all_preds)\n",
        "    roc_auc = roc_auc_score(all_labels, all_probs)\n",
        "    cm = confusion_matrix(all_labels, all_preds)\n",
        "\n",
        "    return {\n",
        "        'loss': epoch_loss / len(loader),  # Average validation loss\n",
        "        'accuracy': accuracy,\n",
        "        'roc_auc': roc_auc,\n",
        "        'confusion_matrix': cm,\n",
        "    }"
      ]
    }
  ],
  "metadata": {
    "kernelspec": {
      "display_name": "Python 3",
      "name": "python3"
    },
    "language_info": {
      "codemirror_mode": {
        "name": "ipython",
        "version": 3
      },
      "file_extension": ".py",
      "mimetype": "text/x-python",
      "name": "python",
      "nbconvert_exporter": "python",
      "pygments_lexer": "ipython3",
      "version": "3.9.6"
    },
    "colab": {
      "provenance": [],
      "gpuType": "T4"
    },
    "accelerator": "GPU"
  },
  "nbformat": 4,
  "nbformat_minor": 0
}