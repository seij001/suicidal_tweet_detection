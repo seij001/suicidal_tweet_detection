{
  "cells": [
    {
      "cell_type": "code",
      "execution_count": 1,
      "metadata": {
        "id": "D-rdZi73dPRC"
      },
      "outputs": [],
      "source": [
        "import torch\n",
        "import torch.nn as nn\n",
        "from torch.utils.data import Dataset, DataLoader\n",
        "from torch.nn.utils.rnn import pad_sequence\n",
        "import torch.optim as optim\n",
        "import pandas as pd\n",
        "from nltk import word_tokenize\n",
        "from sklearn.model_selection import train_test_split\n",
        "import matplotlib.pyplot as plt"
      ]
    },
    {
      "cell_type": "code",
      "execution_count": 2,
      "metadata": {
        "id": "XfZCGP6sdPRD"
      },
      "outputs": [],
      "source": [
        "data_processed = pd.read_csv('tweets_preprocessed2.csv', on_bad_lines='skip')\n",
        "non_suicide_data = data_processed[data_processed['class'] == 'non-suicide'].sample(n=4000)\n",
        "suicide_data = data_processed[data_processed['class'] == 'suicide'].sample(n=4000)\n",
        "balanced_data = pd.concat([non_suicide_data, suicide_data])"
      ]
    },
    {
      "cell_type": "code",
      "source": [
        "  >>> import nltk\n",
        "  >>> nltk.download('punkt_tab')"
      ],
      "metadata": {
        "colab": {
          "base_uri": "https://localhost:8080/"
        },
        "id": "F-UjJL9EYgNs",
        "outputId": "c276a515-1f61-44ce-e64b-d8d4983f8b65"
      },
      "execution_count": 3,
      "outputs": [
        {
          "output_type": "stream",
          "name": "stderr",
          "text": [
            "[nltk_data] Downloading package punkt_tab to /root/nltk_data...\n",
            "[nltk_data]   Unzipping tokenizers/punkt_tab.zip.\n"
          ]
        },
        {
          "output_type": "execute_result",
          "data": {
            "text/plain": [
              "True"
            ]
          },
          "metadata": {},
          "execution_count": 3
        }
      ]
    },
    {
      "cell_type": "markdown",
      "metadata": {
        "id": "clmvXBDNdPRE"
      },
      "source": [
        "## Data Preprocessing"
      ]
    },
    {
      "cell_type": "code",
      "execution_count": 4,
      "metadata": {
        "id": "nI_YYfWddPRE"
      },
      "outputs": [],
      "source": [
        "all_tokens = set(i.lower() for token in balanced_data[\"text\"] for i in word_tokenize(token))\n",
        "word_map = {token: idx for idx, token in enumerate(list(all_tokens))}\n",
        "word_map['UNK'] = len(word_map)\n",
        "word_map['PAD'] = len(word_map)+1"
      ]
    },
    {
      "cell_type": "code",
      "execution_count": 5,
      "metadata": {
        "id": "nyL1t8M3dPRF"
      },
      "outputs": [],
      "source": [
        "def text_encoder(sentence, word_map):\n",
        "    tokens = word_tokenize(sentence.lower())\n",
        "    encode = [word_map.get(token, word_map['UNK']) for token in tokens]\n",
        "    return encode"
      ]
    },
    {
      "cell_type": "code",
      "execution_count": 6,
      "metadata": {
        "id": "ZAghGh3cdPRF"
      },
      "outputs": [],
      "source": [
        "class SuicideDataset(Dataset):\n",
        "    def __init__(self, sentences, labels, vocab):\n",
        "        self.sentences = sentences\n",
        "        self.vocab = vocab\n",
        "        self.label_mapping = {\n",
        "            'non-suicide': 0,\n",
        "            'suicide': 1\n",
        "        }\n",
        "        self.labels = [self.label_mapping[label] for label in labels]\n",
        "\n",
        "    def __len__(self):\n",
        "        return len(self.sentences)\n",
        "\n",
        "    def __getitem__(self, item):\n",
        "        sentence = self.sentences[item]\n",
        "        label = self.labels[item]\n",
        "        encoded_sentence = text_encoder(sentence, self.vocab)\n",
        "\n",
        "        return {\n",
        "            'input_ids': torch.tensor(encoded_sentence, dtype=torch.long),\n",
        "            'label': torch.tensor(label, dtype=torch.long)\n",
        "        }\n"
      ]
    },
    {
      "cell_type": "code",
      "execution_count": 7,
      "metadata": {
        "id": "OevowC0_dPRG"
      },
      "outputs": [],
      "source": [
        "# Pad the input_ids to the length of the longest sequence in the batch\n",
        "def collate_fn(batch):\n",
        "    input_ids = [item['input_ids'] for item in batch]\n",
        "    labels = [item['label'] for item in batch]\n",
        "\n",
        "\n",
        "    padded_input_ids = pad_sequence(input_ids, batch_first=True, padding_value=word_map['PAD'])\n",
        "    labels = torch.stack(labels)\n",
        "    text_lengths = torch.tensor([len(ids) for ids in input_ids], dtype=torch.long)\n",
        "\n",
        "    return {\n",
        "        'input_ids': padded_input_ids,\n",
        "        'label': labels,\n",
        "        'text_length': text_lengths\n",
        "    }"
      ]
    },
    {
      "cell_type": "code",
      "execution_count": 8,
      "metadata": {
        "id": "aoG35f77dPRH"
      },
      "outputs": [],
      "source": [
        "# Split data\n",
        "train_data, test_data, train_label, test_label = train_test_split(\n",
        "    balanced_data['text'], balanced_data['class'], test_size=0.2, random_state=42\n",
        ")\n",
        "\n",
        "# Create datasets and dataloaders\n",
        "train_dataset = SuicideDataset(train_data.to_numpy(), train_label.to_numpy(), word_map)\n",
        "test_dataset = SuicideDataset(test_data.to_numpy(), test_label.to_numpy(), word_map)\n",
        "\n",
        "train_loader = DataLoader(train_dataset, batch_size=16, shuffle=True, collate_fn=collate_fn)\n",
        "test_loader = DataLoader(test_dataset, batch_size=16, shuffle=False, collate_fn=collate_fn)"
      ]
    },
    {
      "cell_type": "markdown",
      "metadata": {
        "id": "Uvq0HorkdPRH"
      },
      "source": [
        "## Binary-Classfication LSTM"
      ]
    },
    {
      "cell_type": "code",
      "execution_count": 9,
      "metadata": {
        "id": "TmAfO4p-dPRI"
      },
      "outputs": [],
      "source": [
        "class LSTM(nn.Module):\n",
        "    def __init__(self, vocab_size, embedding_dim, hidden_dim, output_dim, n_layers, bidirectional, dropout):\n",
        "        super(LSTM,self).__init__()\n",
        "        self.embedding = nn.Embedding(vocab_size+1,embedding_dim)\n",
        "\n",
        "        self.lstm = nn.LSTM(embedding_dim,\n",
        "                            hidden_dim,\n",
        "                            num_layers = n_layers,\n",
        "                            bidirectional = bidirectional,\n",
        "                            dropout = dropout,\n",
        "                            batch_first = True\n",
        "                           )\n",
        "        self.fc = nn.Linear(hidden_dim * 2,output_dim)\n",
        "        self.batch_norm = nn.BatchNorm1d(hidden_dim * 2)\n",
        "        self.dropout = nn.Dropout(dropout)\n",
        "        self.sigmoid = nn.Sigmoid() # use sigmoid as activation function\n",
        "\n",
        "    def forward(self,text,text_lengths):\n",
        "        embedded = self.embedding(text)\n",
        "        packed_embedded = nn.utils.rnn.pack_padded_sequence(embedded, text_lengths.cpu(),batch_first=True, enforce_sorted=False)\n",
        "        packed_output,(hidden_state,cell_state) = self.lstm(packed_embedded)\n",
        "\n",
        "        hidden = torch.cat((hidden_state[-2,:,:], hidden_state[-1,:,:]), dim = 1)\n",
        "        hidden = self.batch_norm(hidden)\n",
        "        outputs=self.sigmoid(self.fc(self.dropout(hidden)))\n",
        "\n",
        "        return outputs"
      ]
    },
    {
      "cell_type": "code",
      "execution_count": 10,
      "metadata": {
        "id": "TtsuF8ANdPRI"
      },
      "outputs": [],
      "source": [
        "# Hyperparameters\n",
        "embedding_dim = 128\n",
        "hidden_dim = 256\n",
        "output_dim = 2  # suicidal/non-suicidal\n",
        "n_layers = 2\n",
        "bidirectional = True\n",
        "dropout = 0.3"
      ]
    },
    {
      "cell_type": "code",
      "execution_count": 11,
      "metadata": {
        "id": "M3cnAH7IdPRI"
      },
      "outputs": [],
      "source": [
        "model = LSTM(len(word_map), embedding_dim, hidden_dim, output_dim, n_layers, bidirectional, dropout)\n",
        "criterion = nn.CrossEntropyLoss()\n",
        "optimizer = optim.Adam(model.parameters(), lr=0.001)\n",
        "\n",
        "# Training loop\n",
        "device = torch.device('cuda' if torch.cuda.is_available() else 'cpu')\n",
        "model = model.to(device)"
      ]
    },
    {
      "cell_type": "code",
      "execution_count": 12,
      "metadata": {
        "id": "8kVShO9ZdPRI"
      },
      "outputs": [],
      "source": [
        "def accuracy(preds, y):\n",
        "    rounded_preds = torch.argmax(preds, dim=1)\n",
        "    correct = (rounded_preds == y).float()\n",
        "    acc = correct.sum() / len(correct)\n",
        "    return acc"
      ]
    },
    {
      "cell_type": "code",
      "execution_count": 13,
      "metadata": {
        "id": "-bjs9KZ8dPRI"
      },
      "outputs": [],
      "source": [
        "def train(model,loader,optimizer,criterion):\n",
        "    epoch_loss = 0.0\n",
        "    epoch_acc = 0.0\n",
        "\n",
        "    model.train()\n",
        "\n",
        "    for batch in loader:\n",
        "        optimizer.zero_grad()\n",
        "\n",
        "        input_ids = batch['input_ids'].to(device)\n",
        "        labels = batch['label'].to(device)\n",
        "        text_length = batch['text_length'].to(device)\n",
        "\n",
        "        outputs = model(input_ids, text_length)\n",
        "        loss = criterion(outputs, labels)\n",
        "        loss.backward()\n",
        "        acc = accuracy(outputs, labels)\n",
        "        optimizer.step()\n",
        "\n",
        "        epoch_loss += loss.item()\n",
        "        epoch_acc += acc.item()\n",
        "\n",
        "    return epoch_loss / len(loader), epoch_acc / len(loader)"
      ]
    },
    {
      "cell_type": "code",
      "execution_count": 14,
      "metadata": {
        "id": "Zz3MRY63dPRI"
      },
      "outputs": [],
      "source": [
        "from sklearn.metrics import accuracy_score, confusion_matrix, roc_auc_score\n",
        "\n",
        "def evaluate(model, loader, criterion):\n",
        "    \"\"\"\n",
        "    Evaluate the model on the validation or test set.\n",
        "\n",
        "    Parameters:\n",
        "    - model: The trained LSTM model.\n",
        "    - loader: DataLoader for the validation or test set.\n",
        "    - criterion: Loss function (e.g., CrossEntropyLoss).\n",
        "\n",
        "    Returns:\n",
        "    - A dictionary containing accuracy, ROC AUC, and the confusion matrix.\n",
        "    \"\"\"\n",
        "    model.eval()\n",
        "    all_labels = []  # True labels\n",
        "    all_preds = []   # Predicted labels\n",
        "    all_probs = []   # Probabilities for the positive class\n",
        "\n",
        "    with torch.no_grad():  # Disable gradient computation for evaluation\n",
        "        for batch in loader:\n",
        "            input_ids = batch['input_ids'].to(device)  # Input data\n",
        "            labels = batch['label'].to(device)         # True labels\n",
        "            text_length = batch['text_length'].to(device)  # Sequence lengths\n",
        "\n",
        "            # Get model predictions\n",
        "            outputs = model(input_ids, text_length)\n",
        "\n",
        "            # Collect true labels and predictions\n",
        "            all_labels.extend(labels.cpu().numpy())             # True labels\n",
        "            all_preds.extend(torch.argmax(outputs, dim=1).cpu().numpy())  # Predicted labels\n",
        "            all_probs.extend(outputs[:, 1].cpu().numpy())       # Probabilities for the positive class\n",
        "\n",
        "    # Calculate metrics\n",
        "    accuracy = accuracy_score(all_labels, all_preds)  # Compute accuracy\n",
        "    roc_auc = roc_auc_score(all_labels, all_probs)    # Compute ROC AUC\n",
        "    cm = confusion_matrix(all_labels, all_preds)      # Compute confusion matrix\n",
        "\n",
        "    return {\n",
        "        'accuracy': accuracy,\n",
        "        'roc_auc': roc_auc,\n",
        "        'confusion_matrix': cm\n",
        "    }"
      ]
    },
    {
      "cell_type": "code",
      "execution_count": 15,
      "metadata": {
        "id": "RuggQqy4dPRJ",
        "outputId": "05944a4f-dfca-43be-8715-dec6965728ab",
        "colab": {
          "base_uri": "https://localhost:8080/"
        }
      },
      "outputs": [
        {
          "output_type": "stream",
          "name": "stdout",
          "text": [
            "Epoch 1\n",
            "\tTrain Loss: 0.541 | Train Acc: 76.31%\n",
            "\tVal. Acc: 80.19%\n",
            "\n",
            "Epoch 2\n",
            "\tTrain Loss: 0.494 | Train Acc: 81.38%\n",
            "\tVal. Acc: 83.88%\n",
            "\n",
            "Epoch 3\n",
            "\tTrain Loss: 0.500 | Train Acc: 80.42%\n",
            "\tVal. Acc: 83.56%\n",
            "\n",
            "Epoch 4\n",
            "\tTrain Loss: 0.447 | Train Acc: 86.08%\n",
            "\tVal. Acc: 84.94%\n",
            "\n",
            "Epoch 5\n",
            "\tTrain Loss: 0.422 | Train Acc: 88.59%\n",
            "\tVal. Acc: 84.88%\n",
            "\n",
            "Epoch 6\n",
            "\tTrain Loss: 0.405 | Train Acc: 90.44%\n",
            "\tVal. Acc: 81.19%\n",
            "\n",
            "Epoch 7\n",
            "\tTrain Loss: 0.397 | Train Acc: 91.36%\n",
            "\tVal. Acc: 89.94%\n",
            "\n",
            "Epoch 8\n",
            "\tTrain Loss: 0.383 | Train Acc: 92.84%\n",
            "\tVal. Acc: 88.69%\n",
            "\n",
            "Epoch 9\n",
            "\tTrain Loss: 0.374 | Train Acc: 93.81%\n",
            "\tVal. Acc: 85.62%\n",
            "\n",
            "Epoch 10\n",
            "\tTrain Loss: 0.365 | Train Acc: 94.77%\n",
            "\tVal. Acc: 89.31%\n",
            "\n",
            "Epoch 11\n",
            "\tTrain Loss: 0.355 | Train Acc: 95.61%\n",
            "\tVal. Acc: 88.94%\n",
            "\n",
            "Epoch 12\n",
            "\tTrain Loss: 0.355 | Train Acc: 95.69%\n",
            "\tVal. Acc: 90.00%\n",
            "\n",
            "Epoch 13\n",
            "\tTrain Loss: 0.354 | Train Acc: 95.84%\n",
            "\tVal. Acc: 90.06%\n",
            "\n",
            "Epoch 14\n",
            "\tTrain Loss: 0.349 | Train Acc: 96.42%\n",
            "\tVal. Acc: 89.12%\n",
            "\n",
            "Epoch 15\n",
            "\tTrain Loss: 0.346 | Train Acc: 96.67%\n",
            "\tVal. Acc: 89.25%\n",
            "\n",
            "Epoch 16\n",
            "\tTrain Loss: 0.345 | Train Acc: 96.77%\n",
            "\tVal. Acc: 90.50%\n",
            "\n",
            "Epoch 17\n",
            "\tTrain Loss: 0.351 | Train Acc: 96.23%\n",
            "\tVal. Acc: 89.75%\n",
            "\n",
            "Epoch 18\n",
            "\tTrain Loss: 0.351 | Train Acc: 96.08%\n",
            "\tVal. Acc: 90.19%\n",
            "\n",
            "Epoch 19\n",
            "\tTrain Loss: 0.359 | Train Acc: 95.39%\n",
            "\tVal. Acc: 89.00%\n",
            "\n",
            "Epoch 20\n",
            "\tTrain Loss: 0.356 | Train Acc: 95.73%\n",
            "\tVal. Acc: 88.12%\n",
            "\n"
          ]
        }
      ],
      "source": [
        "EPOCH_NUMBER = 20\n",
        "t_acc = []\n",
        "t_loss = []\n",
        "v_acc = []\n",
        "roc = []\n",
        "confusion = []\n",
        "\n",
        "for epoch in range(1,EPOCH_NUMBER+1):\n",
        "\n",
        "    train_loss,train_acc = train(model,train_loader,optimizer,criterion)\n",
        "\n",
        "    result = evaluate(model,test_loader,criterion)\n",
        "\n",
        "    t_acc.append(train_acc)\n",
        "    t_loss.append(train_loss)\n",
        "    v_acc.append(result['accuracy'])\n",
        "    roc.append(result['roc_auc'])\n",
        "    confusion.append(result['confusion_matrix'])\n",
        "\n",
        "    print(\"Epoch\", epoch)\n",
        "    print(f'\\tTrain Loss: {train_loss:.3f} | Train Acc: {train_acc*100:.2f}%')\n",
        "    print(f'\\tVal. Acc: {v_acc[-1]*100:.2f}%')\n",
        "    print()"
      ]
    },
    {
      "cell_type": "code",
      "execution_count": 16,
      "metadata": {
        "id": "isMp_IMedPRJ",
        "outputId": "07bba90f-78c6-4010-e109-69ff8ba2a030",
        "colab": {
          "base_uri": "https://localhost:8080/"
        }
      },
      "outputs": [
        {
          "output_type": "stream",
          "name": "stdout",
          "text": [
            "The best validation accuracy: 0.91\n"
          ]
        }
      ],
      "source": [
        "print(\"The best validation accuracy:\", round(max(v_acc), 2))"
      ]
    },
    {
      "cell_type": "code",
      "execution_count": 31,
      "metadata": {
        "id": "3T9iqHoTdPRJ",
        "outputId": "4dc68d2e-54ea-48d0-9255-d8ada1c9913b",
        "colab": {
          "base_uri": "https://localhost:8080/",
          "height": 1000
        }
      },
      "outputs": [
        {
          "output_type": "execute_result",
          "data": {
            "text/plain": [
              "([<matplotlib.axis.XTick at 0x78b8f61174c0>,\n",
              "  <matplotlib.axis.XTick at 0x78b8f6114fd0>,\n",
              "  <matplotlib.axis.XTick at 0x78b8f6114ac0>,\n",
              "  <matplotlib.axis.XTick at 0x78b8f641d7b0>,\n",
              "  <matplotlib.axis.XTick at 0x78b8f641d4e0>,\n",
              "  <matplotlib.axis.XTick at 0x78b8f641fa00>,\n",
              "  <matplotlib.axis.XTick at 0x78b8f641f460>,\n",
              "  <matplotlib.axis.XTick at 0x78b8f641c460>,\n",
              "  <matplotlib.axis.XTick at 0x78b8f641d630>,\n",
              "  <matplotlib.axis.XTick at 0x78b8f61874f0>,\n",
              "  <matplotlib.axis.XTick at 0x78b8f641f490>,\n",
              "  <matplotlib.axis.XTick at 0x78b8f6184a90>,\n",
              "  <matplotlib.axis.XTick at 0x78b8f6187280>,\n",
              "  <matplotlib.axis.XTick at 0x78b8f6359b10>,\n",
              "  <matplotlib.axis.XTick at 0x78b8f6186c80>,\n",
              "  <matplotlib.axis.XTick at 0x78b8f6358ee0>,\n",
              "  <matplotlib.axis.XTick at 0x78b8f6358610>,\n",
              "  <matplotlib.axis.XTick at 0x78b8f635a410>,\n",
              "  <matplotlib.axis.XTick at 0x78b8fefc3c40>,\n",
              "  <matplotlib.axis.XTick at 0x78b8f635a9e0>],\n",
              " [Text(1, 0, '1'),\n",
              "  Text(2, 0, '2'),\n",
              "  Text(3, 0, '3'),\n",
              "  Text(4, 0, '4'),\n",
              "  Text(5, 0, '5'),\n",
              "  Text(6, 0, '6'),\n",
              "  Text(7, 0, '7'),\n",
              "  Text(8, 0, '8'),\n",
              "  Text(9, 0, '9'),\n",
              "  Text(10, 0, '10'),\n",
              "  Text(11, 0, '11'),\n",
              "  Text(12, 0, '12'),\n",
              "  Text(13, 0, '13'),\n",
              "  Text(14, 0, '14'),\n",
              "  Text(15, 0, '15'),\n",
              "  Text(16, 0, '16'),\n",
              "  Text(17, 0, '17'),\n",
              "  Text(18, 0, '18'),\n",
              "  Text(19, 0, '19'),\n",
              "  Text(20, 0, '20')])"
            ]
          },
          "metadata": {},
          "execution_count": 31
        },
        {
          "output_type": "display_data",
          "data": {
            "text/plain": [
              "<Figure size 640x480 with 1 Axes>"
            ],
            "image/png": "[encoded data removed]"
          },
          "metadata": {}
        }
      ],
      "source": [
        "plt.plot(range(1, EPOCH_NUMBER+1), v_acc)\n",
        "plt.title(\"Classification Accuracy\")\n",
        "plt.xlabel(\"Epoch\")\n",
        "plt.ylabel(\"Accuracy\")\n",
        "plt.xticks(range(1, EPOCH_NUMBER+1))"
      ]
    },
    {
      "cell_type": "code",
      "source": [
        "plt.plot(range(1, EPOCH_NUMBER+1), roc)\n",
        "plt.title(\"Classification ROC\")\n",
        "plt.xlabel(\"Epoch\")\n",
        "plt.ylabel(\"ROC\")\n",
        "plt.xticks(range(1, EPOCH_NUMBER+1))"
      ],
      "metadata": {
        "colab": {
          "base_uri": "https://localhost:8080/",
          "height": 1000
        },
        "id": "QAedJlgKXXKl",
        "outputId": "983ad982-f158-45a4-9f10-690df83cce53"
      },
      "execution_count": 32,
      "outputs": [
        {
          "output_type": "execute_result",
          "data": {
            "text/plain": [
              "([<matplotlib.axis.XTick at 0x78b8f628d0f0>,\n",
              "  <matplotlib.axis.XTick at 0x78b8f628f1f0>,\n",
              "  <matplotlib.axis.XTick at 0x78b8f628efb0>,\n",
              "  <matplotlib.axis.XTick at 0x78b8f6196f50>,\n",
              "  <matplotlib.axis.XTick at 0x78b8f61974c0>,\n",
              "  <matplotlib.axis.XTick at 0x78b8f61955a0>,\n",
              "  <matplotlib.axis.XTick at 0x78b8f6195810>,\n",
              "  <matplotlib.axis.XTick at 0x78b8f65d2b90>,\n",
              "  <matplotlib.axis.XTick at 0x78b8f65d18d0>,\n",
              "  <matplotlib.axis.XTick at 0x78b8f65d0cd0>,\n",
              "  <matplotlib.axis.XTick at 0x78b8f65d01f0>,\n",
              "  <matplotlib.axis.XTick at 0x78b8f63e3fd0>,\n",
              "  <matplotlib.axis.XTick at 0x78b8f63e1a50>,\n",
              "  <matplotlib.axis.XTick at 0x78b8f63e0f70>,\n",
              "  <matplotlib.axis.XTick at 0x78b8f63e3eb0>,\n",
              "  <matplotlib.axis.XTick at 0x78b8f63e1ed0>,\n",
              "  <matplotlib.axis.XTick at 0x78b8f63e2cb0>,\n",
              "  <matplotlib.axis.XTick at 0x78b8ff21bd30>,\n",
              "  <matplotlib.axis.XTick at 0x78b8ff218460>,\n",
              "  <matplotlib.axis.XTick at 0x78b8ff21a530>],\n",
              " [Text(1, 0, '1'),\n",
              "  Text(2, 0, '2'),\n",
              "  Text(3, 0, '3'),\n",
              "  Text(4, 0, '4'),\n",
              "  Text(5, 0, '5'),\n",
              "  Text(6, 0, '6'),\n",
              "  Text(7, 0, '7'),\n",
              "  Text(8, 0, '8'),\n",
              "  Text(9, 0, '9'),\n",
              "  Text(10, 0, '10'),\n",
              "  Text(11, 0, '11'),\n",
              "  Text(12, 0, '12'),\n",
              "  Text(13, 0, '13'),\n",
              "  Text(14, 0, '14'),\n",
              "  Text(15, 0, '15'),\n",
              "  Text(16, 0, '16'),\n",
              "  Text(17, 0, '17'),\n",
              "  Text(18, 0, '18'),\n",
              "  Text(19, 0, '19'),\n",
              "  Text(20, 0, '20')])"
            ]
          },
          "metadata": {},
          "execution_count": 32
        },
        {
          "output_type": "display_data",
          "data": {
            "text/plain": [
              "<Figure size 640x480 with 1 Axes>"
            ],
            "image/png": "[encoded data removed]"
          },
          "metadata": {}
        }
      ]
    },
    {
      "cell_type": "code",
      "source": [
        "import seaborn as sns\n",
        "import numpy as np\n",
        "labels = ['True Neg','False Pos','False Neg','True Pos']\n",
        "labels = np.asarray(labels).reshape(2,2)\n",
        "sns.heatmap(confusion[-1], annot=labels, fmt='', cmap='Blues')"
      ],
      "metadata": {
        "colab": {
          "base_uri": "https://localhost:8080/",
          "height": 447
        },
        "id": "RP7hGio4b1-Z",
        "outputId": "f48f2aa6-b7dd-4f8a-a7e6-9233fef41ba4"
      },
      "execution_count": 22,
      "outputs": [
        {
          "output_type": "execute_result",
          "data": {
            "text/plain": [
              "<Axes: >"
            ]
          },
          "metadata": {},
          "execution_count": 22
        },
        {
          "output_type": "display_data",
          "data": {
            "text/plain": [
              "<Figure size 640x480 with 2 Axes>"
            ],
            "image/png": "[encoded data removed]"
          },
          "metadata": {}
        }
      ]
    },
    {
      "cell_type": "markdown",
      "metadata": {
        "id": "tGzQSvOtdPRK"
      },
      "source": [
        "## Regression LSTM"
      ]
    },
    {
      "cell_type": "code",
      "execution_count": 10,
      "metadata": {
        "id": "mdJ6LR7udPRK"
      },
      "outputs": [],
      "source": [
        "# Hyperparameters\n",
        "embedding_dim = 128\n",
        "hidden_dim = 256\n",
        "output_dim = 1  # probability\n",
        "n_layers = 2\n",
        "bidirectional = True\n",
        "dropout = 0.3"
      ]
    },
    {
      "cell_type": "code",
      "execution_count": 11,
      "metadata": {
        "id": "-8MHIS-BdPRK"
      },
      "outputs": [],
      "source": [
        "regression = LSTM(len(word_map), embedding_dim, hidden_dim, output_dim, n_layers, bidirectional, dropout)\n",
        "criterion = nn.BCELoss()\n",
        "optimizer = optim.Adam(regression.parameters(), lr=0.001)\n",
        "\n",
        "# Training loop\n",
        "device = torch.device('cuda' if torch.cuda.is_available() else 'cpu')\n",
        "regression = regression.to(device)"
      ]
    },
    {
      "cell_type": "code",
      "execution_count": 12,
      "metadata": {
        "id": "CR7poaaSdPRK"
      },
      "outputs": [],
      "source": [
        "def re_accuracy(preds, y, threshold=0.5):\n",
        "    rounded_preds = (preds > threshold).float()  # Convert probabilities to binary predictions\n",
        "    correct = (rounded_preds == y).float()\n",
        "    acc = correct.sum() / len(correct)\n",
        "    return acc"
      ]
    },
    {
      "cell_type": "code",
      "execution_count": 13,
      "metadata": {
        "id": "shhFm2KYdPRK"
      },
      "outputs": [],
      "source": [
        "def re_train(model,loader,optimizer,criterion):\n",
        "    epoch_loss = 0.0\n",
        "    epoch_acc = 0.0\n",
        "\n",
        "    model.train()\n",
        "\n",
        "    for batch in loader:\n",
        "        optimizer.zero_grad()\n",
        "\n",
        "        input_ids = batch['input_ids'].to(device)\n",
        "        labels = batch['label'].float().to(device)\n",
        "        text_length = batch['text_length'].to(device)\n",
        "\n",
        "        outputs = model(input_ids, text_length).squeeze(1)\n",
        "        loss = criterion(outputs, labels)\n",
        "        loss.backward()\n",
        "        acc = re_accuracy(outputs, labels)\n",
        "        optimizer.step()\n",
        "\n",
        "        epoch_loss += loss.item()\n",
        "        epoch_acc += acc.item()\n",
        "\n",
        "    return epoch_loss / len(loader), epoch_acc / len(loader)"
      ]
    },
    {
      "cell_type": "code",
      "execution_count": 20,
      "metadata": {
        "id": "WHC0-mFIdPRK"
      },
      "outputs": [],
      "source": [
        "from sklearn.metrics import accuracy_score, confusion_matrix, roc_auc_score\n",
        "def re_evaluate(model, loader, criterion):\n",
        "    \"\"\"\n",
        "    Evaluate the model on the validation or test set.\n",
        "\n",
        "    Parameters:\n",
        "    - model: The trained LSTM model.\n",
        "    - loader: DataLoader for the validation or test set.\n",
        "    - criterion: Loss function (e.g., CrossEntropyLoss).\n",
        "\n",
        "    Returns:\n",
        "    - A dictionary containing accuracy, ROC AUC, and the confusion matrix.\n",
        "    \"\"\"\n",
        "    model.eval()\n",
        "    all_labels = []  # True labels\n",
        "    all_preds = []   # Predicted labels\n",
        "    all_probs = []   # Probabilities for the positive class\n",
        "\n",
        "    with torch.no_grad():  # Disable gradient computation for evaluation\n",
        "        for batch in loader:\n",
        "            input_ids = batch['input_ids'].to(device)  # Input data\n",
        "            labels = batch['label'].float().to(device)         # True labels\n",
        "            text_length = batch['text_length'].to(device)  # Sequence lengths\n",
        "\n",
        "            # Get model predictions\n",
        "            outputs = model(input_ids, text_length).squeeze(1)\n",
        "\n",
        "            # Collect true labels and predictions\n",
        "            all_labels.extend(labels.cpu().numpy())             # True labels\n",
        "            all_preds.extend(outputs.cpu().numpy())  # Predicted labels\n",
        "            all_probs.extend((outputs>=0.5).cpu().numpy())       # Probabilities for the positive class\n",
        "\n",
        "    # Calculate metrics\n",
        "    accuracy = accuracy_score(all_labels, all_preds)  # Compute accuracy\n",
        "    roc_auc = roc_auc_score(all_labels, all_probs)    # Compute ROC AUC\n",
        "    cm = confusion_matrix(all_labels, all_preds)      # Compute confusion matrix\n",
        "\n",
        "    return {\n",
        "        'accuracy': accuracy,\n",
        "        'roc_auc': roc_auc,\n",
        "        'confusion_matrix': cm\n",
        "    }"
      ]
    },
    {
      "cell_type": "code",
      "execution_count": 21,
      "metadata": {
        "colab": {
          "base_uri": "https://localhost:8080/",
          "height": 350
        },
        "id": "ms_WbShkdPRK",
        "outputId": "4f5d4136-49ab-4914-f4c1-6c70fa2fe94d"
      },
      "outputs": [
        {
          "output_type": "error",
          "ename": "ValueError",
          "evalue": "Classification metrics can't handle a mix of binary and continuous targets",
          "traceback": [
            "\u001b[0;31m---------------------------------------------------------------------------\u001b[0m",
            "\u001b[0;31mValueError\u001b[0m                                Traceback (most recent call last)",
            "\u001b[0;32m<ipython-input-21-66c6637c3d7e>\u001b[0m in \u001b[0;36m<cell line: 8>\u001b[0;34m()\u001b[0m\n\u001b[1;32m     10\u001b[0m     \u001b[0mtrain_loss\u001b[0m\u001b[0;34m,\u001b[0m\u001b[0mtrain_acc\u001b[0m \u001b[0;34m=\u001b[0m \u001b[0mre_train\u001b[0m\u001b[0;34m(\u001b[0m\u001b[0mregression\u001b[0m\u001b[0;34m,\u001b[0m\u001b[0mtrain_loader\u001b[0m\u001b[0;34m,\u001b[0m\u001b[0moptimizer\u001b[0m\u001b[0;34m,\u001b[0m\u001b[0mcriterion\u001b[0m\u001b[0;34m)\u001b[0m\u001b[0;34m\u001b[0m\u001b[0;34m\u001b[0m\u001b[0m\n\u001b[1;32m     11\u001b[0m \u001b[0;34m\u001b[0m\u001b[0m\n\u001b[0;32m---> 12\u001b[0;31m     \u001b[0mresult\u001b[0m \u001b[0;34m=\u001b[0m \u001b[0mre_evaluate\u001b[0m\u001b[0;34m(\u001b[0m\u001b[0mregression\u001b[0m\u001b[0;34m,\u001b[0m\u001b[0mtest_loader\u001b[0m\u001b[0;34m,\u001b[0m\u001b[0mcriterion\u001b[0m\u001b[0;34m)\u001b[0m\u001b[0;34m\u001b[0m\u001b[0;34m\u001b[0m\u001b[0m\n\u001b[0m\u001b[1;32m     13\u001b[0m     \u001b[0;32mbreak\u001b[0m\u001b[0;34m\u001b[0m\u001b[0;34m\u001b[0m\u001b[0m\n\u001b[1;32m     14\u001b[0m     \u001b[0mre_t_acc\u001b[0m\u001b[0;34m.\u001b[0m\u001b[0mappend\u001b[0m\u001b[0;34m(\u001b[0m\u001b[0mtrain_acc\u001b[0m\u001b[0;34m)\u001b[0m\u001b[0;34m\u001b[0m\u001b[0;34m\u001b[0m\u001b[0m\n",
            "\u001b[0;32m<ipython-input-20-8b307a00cc4e>\u001b[0m in \u001b[0;36mre_evaluate\u001b[0;34m(model, loader, criterion)\u001b[0m\n\u001b[1;32m     32\u001b[0m \u001b[0;34m\u001b[0m\u001b[0m\n\u001b[1;32m     33\u001b[0m     \u001b[0;31m# Calculate metrics\u001b[0m\u001b[0;34m\u001b[0m\u001b[0;34m\u001b[0m\u001b[0m\n\u001b[0;32m---> 34\u001b[0;31m     \u001b[0maccuracy\u001b[0m \u001b[0;34m=\u001b[0m \u001b[0maccuracy_score\u001b[0m\u001b[0;34m(\u001b[0m\u001b[0mall_labels\u001b[0m\u001b[0;34m,\u001b[0m \u001b[0mall_preds\u001b[0m\u001b[0;34m)\u001b[0m  \u001b[0;31m# Compute accuracy\u001b[0m\u001b[0;34m\u001b[0m\u001b[0;34m\u001b[0m\u001b[0m\n\u001b[0m\u001b[1;32m     35\u001b[0m     \u001b[0mroc_auc\u001b[0m \u001b[0;34m=\u001b[0m \u001b[0mroc_auc_score\u001b[0m\u001b[0;34m(\u001b[0m\u001b[0mall_labels\u001b[0m\u001b[0;34m,\u001b[0m \u001b[0mall_probs\u001b[0m\u001b[0;34m)\u001b[0m    \u001b[0;31m# Compute ROC AUC\u001b[0m\u001b[0;34m\u001b[0m\u001b[0;34m\u001b[0m\u001b[0m\n\u001b[1;32m     36\u001b[0m     \u001b[0mcm\u001b[0m \u001b[0;34m=\u001b[0m \u001b[0mconfusion_matrix\u001b[0m\u001b[0;34m(\u001b[0m\u001b[0mall_labels\u001b[0m\u001b[0;34m,\u001b[0m \u001b[0mall_preds\u001b[0m\u001b[0;34m)\u001b[0m      \u001b[0;31m# Compute confusion matrix\u001b[0m\u001b[0;34m\u001b[0m\u001b[0;34m\u001b[0m\u001b[0m\n",
            "\u001b[0;32m/usr/local/lib/python3.10/dist-packages/sklearn/utils/_param_validation.py\u001b[0m in \u001b[0;36mwrapper\u001b[0;34m(*args, **kwargs)\u001b[0m\n\u001b[1;32m    211\u001b[0m                     )\n\u001b[1;32m    212\u001b[0m                 ):\n\u001b[0;32m--> 213\u001b[0;31m                     \u001b[0;32mreturn\u001b[0m \u001b[0mfunc\u001b[0m\u001b[0;34m(\u001b[0m\u001b[0;34m*\u001b[0m\u001b[0margs\u001b[0m\u001b[0;34m,\u001b[0m \u001b[0;34m**\u001b[0m\u001b[0mkwargs\u001b[0m\u001b[0;34m)\u001b[0m\u001b[0;34m\u001b[0m\u001b[0;34m\u001b[0m\u001b[0m\n\u001b[0m\u001b[1;32m    214\u001b[0m             \u001b[0;32mexcept\u001b[0m \u001b[0mInvalidParameterError\u001b[0m \u001b[0;32mas\u001b[0m \u001b[0me\u001b[0m\u001b[0;34m:\u001b[0m\u001b[0;34m\u001b[0m\u001b[0;34m\u001b[0m\u001b[0m\n\u001b[1;32m    215\u001b[0m                 \u001b[0;31m# When the function is just a wrapper around an estimator, we allow\u001b[0m\u001b[0;34m\u001b[0m\u001b[0;34m\u001b[0m\u001b[0m\n",
            "\u001b[0;32m/usr/local/lib/python3.10/dist-packages/sklearn/metrics/_classification.py\u001b[0m in \u001b[0;36maccuracy_score\u001b[0;34m(y_true, y_pred, normalize, sample_weight)\u001b[0m\n\u001b[1;32m    229\u001b[0m     \u001b[0mxp\u001b[0m\u001b[0;34m,\u001b[0m \u001b[0m_\u001b[0m\u001b[0;34m,\u001b[0m \u001b[0mdevice\u001b[0m \u001b[0;34m=\u001b[0m \u001b[0mget_namespace_and_device\u001b[0m\u001b[0;34m(\u001b[0m\u001b[0my_true\u001b[0m\u001b[0;34m,\u001b[0m \u001b[0my_pred\u001b[0m\u001b[0;34m,\u001b[0m \u001b[0msample_weight\u001b[0m\u001b[0;34m)\u001b[0m\u001b[0;34m\u001b[0m\u001b[0;34m\u001b[0m\u001b[0m\n\u001b[1;32m    230\u001b[0m     \u001b[0;31m# Compute accuracy for each possible representation\u001b[0m\u001b[0;34m\u001b[0m\u001b[0;34m\u001b[0m\u001b[0m\n\u001b[0;32m--> 231\u001b[0;31m     \u001b[0my_type\u001b[0m\u001b[0;34m,\u001b[0m \u001b[0my_true\u001b[0m\u001b[0;34m,\u001b[0m \u001b[0my_pred\u001b[0m \u001b[0;34m=\u001b[0m \u001b[0m_check_targets\u001b[0m\u001b[0;34m(\u001b[0m\u001b[0my_true\u001b[0m\u001b[0;34m,\u001b[0m \u001b[0my_pred\u001b[0m\u001b[0;34m)\u001b[0m\u001b[0;34m\u001b[0m\u001b[0;34m\u001b[0m\u001b[0m\n\u001b[0m\u001b[1;32m    232\u001b[0m     \u001b[0mcheck_consistent_length\u001b[0m\u001b[0;34m(\u001b[0m\u001b[0my_true\u001b[0m\u001b[0;34m,\u001b[0m \u001b[0my_pred\u001b[0m\u001b[0;34m,\u001b[0m \u001b[0msample_weight\u001b[0m\u001b[0;34m)\u001b[0m\u001b[0;34m\u001b[0m\u001b[0;34m\u001b[0m\u001b[0m\n\u001b[1;32m    233\u001b[0m     \u001b[0;32mif\u001b[0m \u001b[0my_type\u001b[0m\u001b[0;34m.\u001b[0m\u001b[0mstartswith\u001b[0m\u001b[0;34m(\u001b[0m\u001b[0;34m\"multilabel\"\u001b[0m\u001b[0;34m)\u001b[0m\u001b[0;34m:\u001b[0m\u001b[0;34m\u001b[0m\u001b[0;34m\u001b[0m\u001b[0m\n",
            "\u001b[0;32m/usr/local/lib/python3.10/dist-packages/sklearn/metrics/_classification.py\u001b[0m in \u001b[0;36m_check_targets\u001b[0;34m(y_true, y_pred)\u001b[0m\n\u001b[1;32m    110\u001b[0m \u001b[0;34m\u001b[0m\u001b[0m\n\u001b[1;32m    111\u001b[0m     \u001b[0;32mif\u001b[0m \u001b[0mlen\u001b[0m\u001b[0;34m(\u001b[0m\u001b[0my_type\u001b[0m\u001b[0;34m)\u001b[0m \u001b[0;34m>\u001b[0m \u001b[0;36m1\u001b[0m\u001b[0;34m:\u001b[0m\u001b[0;34m\u001b[0m\u001b[0;34m\u001b[0m\u001b[0m\n\u001b[0;32m--> 112\u001b[0;31m         raise ValueError(\n\u001b[0m\u001b[1;32m    113\u001b[0m             \"Classification metrics can't handle a mix of {0} and {1} targets\".format(\n\u001b[1;32m    114\u001b[0m                 \u001b[0mtype_true\u001b[0m\u001b[0;34m,\u001b[0m \u001b[0mtype_pred\u001b[0m\u001b[0;34m\u001b[0m\u001b[0;34m\u001b[0m\u001b[0m\n",
            "\u001b[0;31mValueError\u001b[0m: Classification metrics can't handle a mix of binary and continuous targets"
          ]
        }
      ],
      "source": [
        "26"
      ]
    },
    {
      "cell_type": "code",
      "execution_count": null,
      "metadata": {
        "id": "QcyiKaoIdPRL"
      },
      "outputs": [],
      "source": [
        "plt.plot(range(1, EPOCH_NUMBER+1), re_v_acc)\n",
        "plt.title(\"Regression Accuracy\")\n",
        "plt.xlabel(\"Epoch\")\n",
        "plt.ylabel(\"Accuracy\")"
      ]
    },
    {
      "cell_type": "code",
      "source": [
        "plt.plot(range(1, EPOCH_NUMBER+1), re_roc)\n",
        "plt.title(\"Classification ROC\")\n",
        "plt.xlabel(\"Epoch\")\n",
        "plt.ylabel(\"ROC\")"
      ],
      "metadata": {
        "id": "eBJ3XPmqsNcM"
      },
      "execution_count": null,
      "outputs": []
    },
    {
      "cell_type": "code",
      "source": [
        "import seaborn as sns\n",
        "import numpy as np\n",
        "labels = ['True Neg','False Pos','False Neg','True Pos']\n",
        "labels = np.asarray(labels).reshape(2,2)\n",
        "sns.heatmap(re_confusion[-1], annot=labels, fmt='', cmap='Blues')"
      ],
      "metadata": {
        "id": "I5mfsXeBsOfw"
      },
      "execution_count": null,
      "outputs": []
    },
    {
      "cell_type": "markdown",
      "metadata": {
        "id": "md43YayxdPRL"
      },
      "source": [
        "## Inference"
      ]
    },
    {
      "cell_type": "markdown",
      "metadata": {
        "id": "cV3hRrEDdPRL"
      },
      "source": [
        "### Binary Classfication"
      ]
    },
    {
      "cell_type": "code",
      "execution_count": 33,
      "metadata": {
        "id": "f8nr_N-7dPRL"
      },
      "outputs": [],
      "source": [
        "def predict_sentence(sentence, model, word_map, device):\n",
        "    # Preprocess the sentence\n",
        "    encoded_sentence = text_encoder(sentence, word_map)\n",
        "    input_tensor = torch.tensor(encoded_sentence, dtype=torch.long).unsqueeze(0).to(device)  # Add batch dimension\n",
        "\n",
        "    # Get the length of the input sentence (for packing sequence)\n",
        "    text_length = torch.tensor([len(encoded_sentence)], dtype=torch.long).to(device)\n",
        "\n",
        "    # Perform inference\n",
        "    model.eval()  # Set the model to evaluation mode\n",
        "    with torch.no_grad():\n",
        "        output = model(input_tensor, text_length)  # Get the model output\n",
        "        prediction = torch.argmax(output, dim=1).item()  # Get the predicted class (0 or 1)\n",
        "\n",
        "    # Interpret the result\n",
        "    if prediction == 0:\n",
        "        return \"The sentence is classified as Non-Suicidal.\"\n",
        "    else:\n",
        "        return \"The sentence is classified as Suicidal.\""
      ]
    },
    {
      "cell_type": "code",
      "execution_count": 34,
      "metadata": {
        "id": "EDrympgidPRL",
        "outputId": "4dcac48c-568e-421a-82b2-615d29216c81",
        "colab": {
          "base_uri": "https://localhost:8080/"
        }
      },
      "outputs": [
        {
          "output_type": "stream",
          "name": "stdout",
          "text": [
            "The sentence is classified as Suicidal.\n"
          ]
        }
      ],
      "source": [
        "sentence = \"Every morning I wake up and I don't want to get out of bed. Eventually I do and when I look in the mirror, I hate how ugly I am. It makes me not want to exist. This is the main reason why I have social anxiety and I hate being out in public. I have no friends who I could talk to or hang out with. It feels like I'm not wanted by anyone. I hate living like this. I seriously consider suicide everyday. I have no friends or family that would care if I go. \"\n",
        "result = predict_sentence(sentence, model, word_map, device)\n",
        "print(result)"
      ]
    },
    {
      "cell_type": "code",
      "source": [
        "sentence = \"Sometimes i need a hug So ill give myself one, because i deserve it\"\n",
        "result = predict_sentence(sentence, model, word_map, device)\n",
        "print(result)"
      ],
      "metadata": {
        "colab": {
          "base_uri": "https://localhost:8080/"
        },
        "id": "1fQHJbU5gIwK",
        "outputId": "b1f1a1c9-d282-4270-9818-1d1efb07922a"
      },
      "execution_count": 36,
      "outputs": [
        {
          "output_type": "stream",
          "name": "stdout",
          "text": [
            "The sentence is classified as Non-Suicidal.\n"
          ]
        }
      ]
    },
    {
      "cell_type": "markdown",
      "metadata": {
        "id": "MQn3dVM4dPRL"
      },
      "source": [
        "### Regression"
      ]
    },
    {
      "cell_type": "code",
      "execution_count": null,
      "metadata": {
        "id": "zzGt_ENNdPRL"
      },
      "outputs": [],
      "source": [
        "def regression_predict(sentence, model, word_map, device):\n",
        "\n",
        "    encoded_sentence = text_encoder(sentence, word_map)\n",
        "    input_tensor = torch.tensor(encoded_sentence, dtype=torch.long).unsqueeze(0).to(device)\n",
        "\n",
        "    text_length = torch.tensor([len(encoded_sentence)], dtype=torch.long).to(device)\n",
        "\n",
        "    model.eval()\n",
        "    with torch.no_grad():\n",
        "        output = model(input_tensor, text_length)  # Get the model output\n",
        "        probability = output.squeeze().item()  # Get the probability\n",
        "\n",
        "    prediction = 1 if probability >= 0.5 else 0  # Threshold of 0.5\n",
        "    if prediction == 0:\n",
        "        result = f\"The sentence is classified as Non-Suicidal with a probability of {1 - probability:.4f}.\"\n",
        "    else:\n",
        "        result = f\"The sentence is classified as Suicidal with a probability of {probability:.4f}.\"\n",
        "\n",
        "    return result"
      ]
    },
    {
      "cell_type": "code",
      "execution_count": null,
      "metadata": {
        "colab": {
          "base_uri": "https://localhost:8080/"
        },
        "id": "K7eKNKnydPRL",
        "outputId": "cb878db5-1290-4536-8680-e4a8687588d2"
      },
      "outputs": [
        {
          "output_type": "stream",
          "name": "stdout",
          "text": [
            "The sentence is classified as Suicidal with a probability of 1.0000.\n"
          ]
        }
      ],
      "source": [
        "sentence = \"Every morning I wake up and I don't want to get out of bed. Eventually I do and when I look in the mirror, I hate how ugly I am. It makes me not want to exist. This is the main reason why I have social anxiety and I hate being out in public. I have no friends who I could talk to or hang out with. It feels like I'm not wanted by anyone. I hate living like this. I seriously consider suicide everyday. I have no friends or family that would care if I go. \"\n",
        "result = regression_predict(sentence, regression, word_map, device)\n",
        "print(result)"
      ]
    },
    {
      "cell_type": "code",
      "execution_count": null,
      "metadata": {
        "colab": {
          "base_uri": "https://localhost:8080/"
        },
        "id": "W4G75THMdPRM",
        "outputId": "6618317c-71da-4f7a-e780-166b03049909"
      },
      "outputs": [
        {
          "output_type": "stream",
          "name": "stdout",
          "text": [
            "The sentence is classified as Non-Suicidal with a probability of 0.9873.\n"
          ]
        }
      ],
      "source": [
        "sentence = \"Sometimes i need a hug So ill give myself one, because i deserve it\"\n",
        "result = regression_predict(sentence, regression, word_map, device)\n",
        "print(result)"
      ]
    },
    {
      "cell_type": "code",
      "source": [],
      "metadata": {
        "id": "qGsFLBDXvQsJ"
      },
      "execution_count": null,
      "outputs": []
    }
  ],
  "metadata": {
    "kernelspec": {
      "display_name": "Python 3",
      "name": "python3"
    },
    "language_info": {
      "codemirror_mode": {
        "name": "ipython",
        "version": 3
      },
      "file_extension": ".py",
      "mimetype": "text/x-python",
      "name": "python",
      "nbconvert_exporter": "python",
      "pygments_lexer": "ipython3",
      "version": "3.11.5"
    },
    "colab": {
      "provenance": [],
      "collapsed_sections": [
        "clmvXBDNdPRE"
      ],
      "gpuType": "T4"
    },
    "accelerator": "GPU"
  },
  "nbformat": 4,
  "nbformat_minor": 0
}