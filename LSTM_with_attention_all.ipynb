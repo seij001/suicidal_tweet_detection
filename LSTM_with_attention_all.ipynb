{
  "cells": [
    {
      "cell_type": "code",
      "execution_count": null,
      "metadata": {
        "colab": {
          "base_uri": "https://localhost:8080/"
        },
        "id": "U5W_2yerlMHO",
        "outputId": "40388a2c-8b89-4f04-c1af-88036d325b4e",
        "collapsed": true
      },
      "outputs": [
        {
          "name": "stdout",
          "output_type": "stream",
          "text": [
            "Requirement already satisfied: nltk in /home/users/ys298/.venv/lib/python3.10/site-packages (3.9.1)\n",
            "Requirement already satisfied: tqdm in /home/users/ys298/.venv/lib/python3.10/site-packages (from nltk) (4.67.1)\n",
            "Requirement already satisfied: click in /home/users/ys298/.venv/lib/python3.10/site-packages (from nltk) (8.1.7)\n",
            "Requirement already satisfied: joblib in /home/users/ys298/.venv/lib/python3.10/site-packages (from nltk) (1.3.2)\n",
            "Requirement already satisfied: regex>=2021.8.3 in /home/users/ys298/.venv/lib/python3.10/site-packages (from nltk) (2024.11.6)\n",
            "Requirement already satisfied: keras in /home/users/ys298/.venv/lib/python3.10/site-packages (2.15.0)\n",
            "Requirement already satisfied: tensorflow in /home/users/ys298/.venv/lib/python3.10/site-packages (2.15.0.post1)\n",
            "Requirement already satisfied: astunparse>=1.6.0 in /home/users/ys298/.venv/lib/python3.10/site-packages (from tensorflow) (1.6.3)\n",
            "Requirement already satisfied: setuptools in /home/users/ys298/.venv/lib/python3.10/site-packages (from tensorflow) (59.6.0)\n",
            "Requirement already satisfied: gast!=0.5.0,!=0.5.1,!=0.5.2,>=0.2.1 in /home/users/ys298/.venv/lib/python3.10/site-packages (from tensorflow) (0.5.4)\n",
            "Requirement already satisfied: typing-extensions>=3.6.6 in /home/users/ys298/.venv/lib/python3.10/site-packages (from tensorflow) (4.9.0)\n",
            "Requirement already satisfied: termcolor>=1.1.0 in /home/users/ys298/.venv/lib/python3.10/site-packages (from tensorflow) (2.4.0)\n",
            "Requirement already satisfied: opt-einsum>=2.3.2 in /home/users/ys298/.venv/lib/python3.10/site-packages (from tensorflow) (3.3.0)\n",
            "Requirement already satisfied: tensorboard<2.16,>=2.15 in /home/users/ys298/.venv/lib/python3.10/site-packages (from tensorflow) (2.15.2)\n",
            "Requirement already satisfied: libclang>=13.0.0 in /home/users/ys298/.venv/lib/python3.10/site-packages (from tensorflow) (16.0.6)\n",
            "Requirement already satisfied: packaging in /home/users/ys298/.venv/lib/python3.10/site-packages (from tensorflow) (23.2)\n",
            "Requirement already satisfied: numpy<2.0.0,>=1.23.5 in /home/users/ys298/.venv/lib/python3.10/site-packages (from tensorflow) (1.26.4)\n",
            "Requirement already satisfied: tensorflow-io-gcs-filesystem>=0.23.1 in /home/users/ys298/.venv/lib/python3.10/site-packages (from tensorflow) (0.36.0)\n",
            "Requirement already satisfied: grpcio<2.0,>=1.24.3 in /home/users/ys298/.venv/lib/python3.10/site-packages (from tensorflow) (1.60.1)\n",
            "Requirement already satisfied: flatbuffers>=23.5.26 in /home/users/ys298/.venv/lib/python3.10/site-packages (from tensorflow) (23.5.26)\n",
            "Requirement already satisfied: keras<2.16,>=2.15.0 in /home/users/ys298/.venv/lib/python3.10/site-packages (from tensorflow) (2.15.0)\n",
            "Requirement already satisfied: absl-py>=1.0.0 in /home/users/ys298/.venv/lib/python3.10/site-packages (from tensorflow) (2.1.0)\n",
            "Requirement already satisfied: six>=1.12.0 in /home/users/ys298/.venv/lib/python3.10/site-packages (from tensorflow) (1.16.0)\n",
            "Requirement already satisfied: google-pasta>=0.1.1 in /home/users/ys298/.venv/lib/python3.10/site-packages (from tensorflow) (0.2.0)\n",
            "Requirement already satisfied: wrapt<1.15,>=1.11.0 in /home/users/ys298/.venv/lib/python3.10/site-packages (from tensorflow) (1.14.1)\n",
            "Requirement already satisfied: protobuf!=4.21.0,!=4.21.1,!=4.21.2,!=4.21.3,!=4.21.4,!=4.21.5,<5.0.0dev,>=3.20.3 in /home/users/ys298/.venv/lib/python3.10/site-packages (from tensorflow) (4.25.3)\n",
            "Requirement already satisfied: ml-dtypes~=0.2.0 in /home/users/ys298/.venv/lib/python3.10/site-packages (from tensorflow) (0.2.0)\n",
            "Requirement already satisfied: tensorflow-estimator<2.16,>=2.15.0 in /home/users/ys298/.venv/lib/python3.10/site-packages (from tensorflow) (2.15.0)\n",
            "Requirement already satisfied: h5py>=2.9.0 in /home/users/ys298/.venv/lib/python3.10/site-packages (from tensorflow) (3.10.0)\n",
            "Requirement already satisfied: wheel<1.0,>=0.23.0 in /home/users/ys298/.venv/lib/python3.10/site-packages (from astunparse>=1.6.0->tensorflow) (0.42.0)\n",
            "Requirement already satisfied: werkzeug>=1.0.1 in /home/users/ys298/.venv/lib/python3.10/site-packages (from tensorboard<2.16,>=2.15->tensorflow) (3.0.1)\n",
            "Requirement already satisfied: markdown>=2.6.8 in /home/users/ys298/.venv/lib/python3.10/site-packages (from tensorboard<2.16,>=2.15->tensorflow) (3.5.2)\n",
            "Requirement already satisfied: google-auth<3,>=1.6.3 in /home/users/ys298/.venv/lib/python3.10/site-packages (from tensorboard<2.16,>=2.15->tensorflow) (2.28.0)\n",
            "Requirement already satisfied: requests<3,>=2.21.0 in /home/users/ys298/.venv/lib/python3.10/site-packages (from tensorboard<2.16,>=2.15->tensorflow) (2.31.0)\n",
            "Requirement already satisfied: tensorboard-data-server<0.8.0,>=0.7.0 in /home/users/ys298/.venv/lib/python3.10/site-packages (from tensorboard<2.16,>=2.15->tensorflow) (0.7.2)\n",
            "Requirement already satisfied: google-auth-oauthlib<2,>=0.5 in /home/users/ys298/.venv/lib/python3.10/site-packages (from tensorboard<2.16,>=2.15->tensorflow) (1.2.0)\n",
            "Requirement already satisfied: cachetools<6.0,>=2.0.0 in /home/users/ys298/.venv/lib/python3.10/site-packages (from google-auth<3,>=1.6.3->tensorboard<2.16,>=2.15->tensorflow) (5.3.2)\n",
            "Requirement already satisfied: pyasn1-modules>=0.2.1 in /home/users/ys298/.venv/lib/python3.10/site-packages (from google-auth<3,>=1.6.3->tensorboard<2.16,>=2.15->tensorflow) (0.3.0)\n",
            "Requirement already satisfied: rsa<5,>=3.1.4 in /home/users/ys298/.venv/lib/python3.10/site-packages (from google-auth<3,>=1.6.3->tensorboard<2.16,>=2.15->tensorflow) (4.9)\n",
            "Requirement already satisfied: requests-oauthlib>=0.7.0 in /home/users/ys298/.venv/lib/python3.10/site-packages (from google-auth-oauthlib<2,>=0.5->tensorboard<2.16,>=2.15->tensorflow) (1.3.1)\n",
            "Requirement already satisfied: idna<4,>=2.5 in /home/users/ys298/.venv/lib/python3.10/site-packages (from requests<3,>=2.21.0->tensorboard<2.16,>=2.15->tensorflow) (3.6)\n",
            "Requirement already satisfied: urllib3<3,>=1.21.1 in /home/users/ys298/.venv/lib/python3.10/site-packages (from requests<3,>=2.21.0->tensorboard<2.16,>=2.15->tensorflow) (2.2.1)\n",
            "Requirement already satisfied: charset-normalizer<4,>=2 in /home/users/ys298/.venv/lib/python3.10/site-packages (from requests<3,>=2.21.0->tensorboard<2.16,>=2.15->tensorflow) (3.3.2)\n",
            "Requirement already satisfied: certifi>=2017.4.17 in /home/users/ys298/.venv/lib/python3.10/site-packages (from requests<3,>=2.21.0->tensorboard<2.16,>=2.15->tensorflow) (2024.2.2)\n",
            "Requirement already satisfied: MarkupSafe>=2.1.1 in /home/users/ys298/.venv/lib/python3.10/site-packages (from werkzeug>=1.0.1->tensorboard<2.16,>=2.15->tensorflow) (2.1.5)\n",
            "Requirement already satisfied: pyasn1<0.6.0,>=0.4.6 in /home/users/ys298/.venv/lib/python3.10/site-packages (from pyasn1-modules>=0.2.1->google-auth<3,>=1.6.3->tensorboard<2.16,>=2.15->tensorflow) (0.5.1)\n",
            "Requirement already satisfied: oauthlib>=3.0.0 in /home/users/ys298/.venv/lib/python3.10/site-packages (from requests-oauthlib>=0.7.0->google-auth-oauthlib<2,>=0.5->tensorboard<2.16,>=2.15->tensorflow) (3.2.2)\n"
          ]
        }
      ],
      "source": [
        "!pip install nltk\n",
        "!pip install keras\n",
        "!pip install tensorflow"
      ]
    },
    {
      "cell_type": "code",
      "execution_count": null,
      "metadata": {
        "colab": {
          "base_uri": "https://localhost:8080/"
        },
        "id": "fh6U16EllMHR",
        "outputId": "fcce68bd-313c-44f4-ef28-eb338cf46187",
        "collapsed": true
      },
      "outputs": [
        {
          "name": "stderr",
          "output_type": "stream",
          "text": [
            "/tmp/ipykernel_966929/1558013351.py:6: DeprecationWarning: \n",
            "Pyarrow will become a required dependency of pandas in the next major release of pandas (pandas 3.0),\n",
            "(to allow more performant data types, such as the Arrow string type, and better interoperability with other libraries)\n",
            "but was not found to be installed on your system.\n",
            "If this would cause problems for you,\n",
            "please provide us feedback at https://github.com/pandas-dev/pandas/issues/54466\n",
            "        \n",
            "  import pandas as pd\n",
            "[nltk_data] Downloading package punkt_tab to\n",
            "[nltk_data]     /home/users/ys298/nltk_data...\n",
            "[nltk_data]   Package punkt_tab is already up-to-date!\n"
          ]
        }
      ],
      "source": [
        "import torch\n",
        "import torch.nn as nn\n",
        "from torch.utils.data import Dataset, DataLoader\n",
        "from torch.nn.utils.rnn import pad_sequence\n",
        "import torch.optim as optim\n",
        "import pandas as pd\n",
        "import nltk\n",
        "from nltk import word_tokenize\n",
        "nltk.download('punkt_tab')\n",
        "from sklearn.model_selection import train_test_split\n",
        "import matplotlib.pyplot as plt\n",
        "import numpy as np"
      ]
    },
    {
      "cell_type": "code",
      "execution_count": null,
      "metadata": {
        "id": "9Sx6g-8ulMHS"
      },
      "outputs": [],
      "source": [
        "data_processed = pd.read_csv('tweets_preprocessed2.csv')\n",
        "balanced_data = data_processed\n",
        "non_suicide_data = data_processed[data_processed['class'] == 'non-suicide'].sample(n=5000)\n",
        "suicide_data = data_processed[data_processed['class'] == 'suicide'].sample(n=5000)\n",
        "# balanced_data = pd.concat([non_suicide_data, suicide_data])"
      ]
    },
    {
      "cell_type": "code",
      "execution_count": null,
      "metadata": {
        "colab": {
          "base_uri": "https://localhost:8080/"
        },
        "id": "QRHHmuCblMHS",
        "outputId": "da50e063-7d8a-4887-e0fd-134843ef0805"
      },
      "outputs": [
        {
          "data": {
            "text/plain": [
              "(10000, 6)"
            ]
          },
          "execution_count": 3,
          "metadata": {},
          "output_type": "execute_result"
        }
      ],
      "source": [
        "data_processed.head()\n",
        "data_processed.shape"
      ]
    },
    {
      "cell_type": "code",
      "execution_count": null,
      "metadata": {
        "colab": {
          "base_uri": "https://localhost:8080/"
        },
        "id": "N36_DaYqlMHS",
        "outputId": "93d47052-5317-43a9-c34f-a4861ec22c5f"
      },
      "outputs": [
        {
          "data": {
            "text/plain": [
              "(5000, 6)"
            ]
          },
          "execution_count": 4,
          "metadata": {},
          "output_type": "execute_result"
        }
      ],
      "source": [
        "data_processed[data_processed['class'] == 'non-suicide'].shape"
      ]
    },
    {
      "cell_type": "markdown",
      "metadata": {
        "id": "TlvP2eUZlMHT"
      },
      "source": [
        "## Data Preprocessing"
      ]
    },
    {
      "cell_type": "code",
      "execution_count": null,
      "metadata": {
        "id": "jjFzrVK_lMHU"
      },
      "outputs": [],
      "source": [
        "all_tokens = set(i.lower() for token in balanced_data[\"text\"] for i in word_tokenize(token))\n",
        "word_map = {token: idx for idx, token in enumerate(list(all_tokens))}\n",
        "word_map['UNK'] = len(word_map)\n",
        "word_map['PAD'] = len(word_map)+1"
      ]
    },
    {
      "cell_type": "code",
      "execution_count": null,
      "metadata": {
        "id": "1OVZKT1VlMHU"
      },
      "outputs": [],
      "source": [
        "def text_encoder(sentence, word_map):\n",
        "    tokens = word_tokenize(sentence.lower())\n",
        "    encode = [word_map.get(token, word_map['UNK']) for token in tokens]\n",
        "    return encode"
      ]
    },
    {
      "cell_type": "code",
      "execution_count": null,
      "metadata": {
        "id": "Do5J5y2ElMHU"
      },
      "outputs": [],
      "source": [
        "class SuicideDataset(Dataset):\n",
        "    def __init__(self, sentences, labels, vocab):\n",
        "        self.sentences = sentences\n",
        "        self.vocab = vocab\n",
        "        self.label_mapping = {\n",
        "            'non-suicide': 0,\n",
        "            'suicide': 1\n",
        "        }\n",
        "        self.labels = [self.label_mapping[label] for label in labels]\n",
        "\n",
        "    def __len__(self):\n",
        "        return len(self.sentences)\n",
        "\n",
        "    def __getitem__(self, item):\n",
        "        sentence = self.sentences[item]\n",
        "        label = self.labels[item]\n",
        "        encoded_sentence = text_encoder(sentence, self.vocab)\n",
        "\n",
        "        return {\n",
        "            'input_ids': torch.tensor(encoded_sentence, dtype=torch.long),\n",
        "            'label': torch.tensor(label, dtype=torch.long)\n",
        "        }\n"
      ]
    },
    {
      "cell_type": "code",
      "execution_count": null,
      "metadata": {
        "id": "F7oNl3g9lMHU"
      },
      "outputs": [],
      "source": [
        "# Pad the input_ids to the length of the longest sequence in the batch\n",
        "def collate_fn(batch):\n",
        "    input_ids = [item['input_ids'] for item in batch]\n",
        "    labels = [item['label'] for item in batch]\n",
        "\n",
        "\n",
        "    padded_input_ids = pad_sequence(input_ids, batch_first=True, padding_value=word_map['PAD'])\n",
        "    labels = torch.stack(labels)\n",
        "    text_lengths = torch.tensor([len(ids) for ids in input_ids], dtype=torch.long)\n",
        "\n",
        "    return {\n",
        "        'input_ids': padded_input_ids,\n",
        "        'label': labels,\n",
        "        'text_length': text_lengths\n",
        "    }"
      ]
    },
    {
      "cell_type": "code",
      "execution_count": null,
      "metadata": {
        "id": "xDCsFdKElMHV"
      },
      "outputs": [],
      "source": [
        "# Split data into balanced classes\n",
        "train_non_suicide_data, test_non_suicide_data, train_non_suicide_label, test_non_suicide_label = train_test_split(\n",
        "    non_suicide_data['text'], non_suicide_data['class'], test_size=0.2, random_state=42\n",
        ")\n",
        "\n",
        "train_suicide_data, test_suicide_data, train_suicide_label, test_suicide_label = train_test_split(\n",
        "    suicide_data['text'], suicide_data['class'], test_size=0.2, random_state=42\n",
        ")\n",
        "\n",
        "train_data = pd.concat([train_non_suicide_data, train_suicide_data])\n",
        "test_data = pd.concat([test_non_suicide_data, test_suicide_data])\n",
        "train_label = pd.concat([train_non_suicide_label, train_suicide_label])\n",
        "test_label = pd.concat([test_non_suicide_label, test_suicide_label])\n",
        "\n",
        "# train_data, test_data, train_label, test_label = train_test_split(\n",
        "#     balanced_data['text'], balanced_data['class'], test_size=0.2, random_state=42\n",
        "# )\n",
        "\n",
        "# Create datasets and dataloaders\n",
        "train_dataset = SuicideDataset(train_data.to_numpy(), train_label.to_numpy(), word_map)\n",
        "test_dataset = SuicideDataset(test_data.to_numpy(), test_label.to_numpy(), word_map)\n",
        "\n",
        "train_loader = DataLoader(train_dataset, batch_size=16, shuffle=True, collate_fn=collate_fn)\n",
        "test_loader = DataLoader(test_dataset, batch_size=16, shuffle=True, collate_fn=collate_fn)"
      ]
    },
    {
      "cell_type": "code",
      "execution_count": null,
      "metadata": {
        "colab": {
          "base_uri": "https://localhost:8080/"
        },
        "id": "cx_qGN15o2dP",
        "outputId": "81eeb1e2-0698-4b83-826d-2c223046a2a0"
      },
      "outputs": [
        {
          "data": {
            "text/plain": [
              "(8000,)"
            ]
          },
          "execution_count": 16,
          "metadata": {},
          "output_type": "execute_result"
        }
      ],
      "source": [
        "train_data.shape"
      ]
    },
    {
      "cell_type": "markdown",
      "metadata": {
        "id": "rVv-98XOlMHV"
      },
      "source": [
        "## Binary-Classfication LSTM"
      ]
    },
    {
      "cell_type": "code",
      "execution_count": null,
      "metadata": {
        "id": "1kHBEXKplMHV"
      },
      "outputs": [],
      "source": [
        "class LSTM(nn.Module):\n",
        "    def __init__(self, vocab_size, embedding_dim, hidden_dim, output_dim, n_layers, bidirectional, dropout):\n",
        "        super(LSTM,self).__init__()\n",
        "        self.embedding = nn.Embedding(vocab_size+1,embedding_dim)\n",
        "\n",
        "        self.lstm = nn.LSTM(embedding_dim,\n",
        "                            hidden_dim,\n",
        "                            num_layers = n_layers,\n",
        "                            bidirectional = bidirectional,\n",
        "                            dropout = dropout,\n",
        "                            batch_first = True\n",
        "                           )\n",
        "        self.fc = nn.Linear(hidden_dim * 2,output_dim)\n",
        "        self.batch_norm = nn.BatchNorm1d(hidden_dim * 2)\n",
        "        self.dropout = nn.Dropout(dropout)\n",
        "        self.sigmoid = nn.Sigmoid() # use sigmoid as activation function\n",
        "\n",
        "    def forward(self,text,text_lengths):\n",
        "        embedded = self.embedding(text)\n",
        "        packed_embedded = nn.utils.rnn.pack_padded_sequence(embedded, text_lengths.cpu(),batch_first=True, enforce_sorted=False)\n",
        "        packed_output,(hidden_state,cell_state) = self.lstm(packed_embedded)\n",
        "\n",
        "        hidden = torch.cat((hidden_state[-2,:,:], hidden_state[-1,:,:]), dim = 1)\n",
        "        hidden = self.batch_norm(hidden)\n",
        "        outputs=self.sigmoid(self.fc(self.dropout(hidden)))\n",
        "\n",
        "        return outputs"
      ]
    },
    {
      "cell_type": "code",
      "execution_count": null,
      "metadata": {
        "id": "byjE7yz_lMHV"
      },
      "outputs": [],
      "source": [
        "# Hyperparameters\n",
        "embedding_dim = 128\n",
        "hidden_dim = 256\n",
        "output_dim = 2  # suicidal/non-suicidal\n",
        "n_layers = 2\n",
        "bidirectional = True\n",
        "dropout = 0.3"
      ]
    },
    {
      "cell_type": "code",
      "execution_count": null,
      "metadata": {
        "id": "fmFUonDElMHV"
      },
      "outputs": [],
      "source": [
        "model = LSTM(len(word_map), embedding_dim, hidden_dim, output_dim, n_layers, bidirectional, dropout)\n",
        "criterion = nn.CrossEntropyLoss()\n",
        "optimizer = optim.Adam(model.parameters(), lr=0.001)\n",
        "# Training loop\n",
        "device = torch.device('cuda' if torch.cuda.is_available() else 'cpu')\n",
        "model = model.to(device)"
      ]
    },
    {
      "cell_type": "code",
      "execution_count": null,
      "metadata": {
        "id": "jqARnJh-lMHV"
      },
      "outputs": [],
      "source": [
        "def accuracy(preds, y):\n",
        "    rounded_preds = torch.argmax(preds, dim=1)\n",
        "    correct = (rounded_preds == y).float()\n",
        "    acc = correct.sum() / len(correct)\n",
        "    return acc"
      ]
    },
    {
      "cell_type": "code",
      "execution_count": null,
      "metadata": {
        "id": "e7N19f1NlMHV"
      },
      "outputs": [],
      "source": [
        "def train(model,loader,optimizer,criterion):\n",
        "    epoch_loss = 0.0\n",
        "    epoch_acc = 0.0\n",
        "\n",
        "    model.train()\n",
        "\n",
        "    for batch in loader:\n",
        "        optimizer.zero_grad()\n",
        "\n",
        "        input_ids = batch['input_ids'].to(device)\n",
        "        labels = batch['label'].to(device)\n",
        "        text_length = batch['text_length'].to(device)\n",
        "\n",
        "        outputs = model(input_ids, text_length)\n",
        "        loss = criterion(outputs, labels)\n",
        "        loss.backward()\n",
        "        acc = accuracy(outputs, labels)\n",
        "        optimizer.step()\n",
        "\n",
        "        epoch_loss += loss.item()\n",
        "        epoch_acc += acc.item()\n",
        "\n",
        "    return epoch_loss / len(loader), epoch_acc / len(loader)"
      ]
    },
    {
      "cell_type": "code",
      "execution_count": null,
      "metadata": {
        "id": "J60LffvalMHW"
      },
      "outputs": [],
      "source": [
        "from sklearn.metrics import accuracy_score, confusion_matrix, roc_auc_score\n",
        "\n",
        "def evaluate(model, loader, criterion):\n",
        "    \"\"\"\n",
        "    Evaluate the model on the validation or test set.\n",
        "\n",
        "    Parameters:\n",
        "    - model: The trained LSTM model.\n",
        "    - loader: DataLoader for the validation or test set.\n",
        "    - criterion: Loss function (e.g., CrossEntropyLoss).\n",
        "\n",
        "    Returns:\n",
        "    - A dictionary containing accuracy, ROC AUC, and the confusion matrix.\n",
        "    \"\"\"\n",
        "    model.eval()\n",
        "    all_labels = []  # True labels\n",
        "    all_preds = []   # Predicted labels\n",
        "    all_probs = []   # Probabilities for the positive class\n",
        "\n",
        "    with torch.no_grad():  # Disable gradient computation for evaluation\n",
        "        for batch in loader:\n",
        "            input_ids = batch['input_ids'].to(device)  # Input data\n",
        "            labels = batch['label'].to(device)         # True labels\n",
        "            text_length = batch['text_length'].to(device)  # Sequence lengths\n",
        "\n",
        "            # Get model predictions\n",
        "            outputs = model(input_ids, text_length)\n",
        "\n",
        "            # Collect true labels and predictions\n",
        "            all_labels.extend(labels.cpu().numpy())             # True labels\n",
        "            all_preds.extend(torch.argmax(outputs, dim=1).cpu().numpy())  # Predicted labels\n",
        "            all_probs.extend(outputs[:, 1].cpu().numpy())       # Probabilities for the positive class\n",
        "\n",
        "    # Calculate metrics\n",
        "    accuracy = accuracy_score(all_labels, all_preds)  # Compute accuracy\n",
        "    roc_auc = roc_auc_score(all_labels, all_probs)    # Compute ROC AUC\n",
        "    cm = confusion_matrix(all_labels, all_preds)      # Compute confusion matrix\n",
        "\n",
        "    return {\n",
        "        'all_labels': all_labels,\n",
        "        'all_probs': all_probs,\n",
        "        'accuracy': accuracy,\n",
        "        'roc_auc': roc_auc,\n",
        "        'confusion_matrix': cm\n",
        "    }"
      ]
    },
    {
      "cell_type": "code",
      "execution_count": null,
      "metadata": {
        "id": "Y3qd3mH6lMHW",
        "outputId": "9c359531-ff09-44c9-d74e-624c513ee4b8",
        "collapsed": true
      },
      "outputs": [
        {
          "name": "stdout",
          "output_type": "stream",
          "text": [
            "Epoch 1\n",
            "\tTrain Loss: 0.579 | Train Acc: 70.88%\n",
            "\t Val. Loss: 0.651 |  Val. Acc: 58.17%\n",
            "\n",
            "Epoch 2\n",
            "\tTrain Loss: 0.542 | Train Acc: 76.88%\n",
            "\t Val. Loss: 0.586 |  Val. Acc: 71.15%\n",
            "\n"
          ]
        },
        {
          "ename": "KeyboardInterrupt",
          "evalue": "",
          "output_type": "error",
          "traceback": [
            "\u001b[0;31m---------------------------------------------------------------------------\u001b[0m",
            "\u001b[0;31mKeyboardInterrupt\u001b[0m                         Traceback (most recent call last)",
            "Cell \u001b[0;32mIn[19], line 9\u001b[0m\n\u001b[1;32m      5\u001b[0m v_loss \u001b[38;5;241m=\u001b[39m []\n\u001b[1;32m      7\u001b[0m \u001b[38;5;28;01mfor\u001b[39;00m epoch \u001b[38;5;129;01min\u001b[39;00m \u001b[38;5;28mrange\u001b[39m(\u001b[38;5;241m1\u001b[39m,EPOCH_NUMBER\u001b[38;5;241m+\u001b[39m\u001b[38;5;241m1\u001b[39m):\n\u001b[0;32m----> 9\u001b[0m     train_loss,train_acc \u001b[38;5;241m=\u001b[39m \u001b[43mtrain\u001b[49m\u001b[43m(\u001b[49m\u001b[43mmodel\u001b[49m\u001b[43m,\u001b[49m\u001b[43mtrain_loader\u001b[49m\u001b[43m,\u001b[49m\u001b[43moptimizer\u001b[49m\u001b[43m,\u001b[49m\u001b[43mcriterion\u001b[49m\u001b[43m)\u001b[49m\n\u001b[1;32m     11\u001b[0m     valid_loss,valid_acc \u001b[38;5;241m=\u001b[39m evaluate(model,test_loader,criterion)\n\u001b[1;32m     13\u001b[0m     t_acc\u001b[38;5;241m.\u001b[39mappend(train_acc)\n",
            "Cell \u001b[0;32mIn[17], line 16\u001b[0m, in \u001b[0;36mtrain\u001b[0;34m(model, loader, optimizer, criterion)\u001b[0m\n\u001b[1;32m     14\u001b[0m outputs \u001b[38;5;241m=\u001b[39m model(input_ids, text_length)\n\u001b[1;32m     15\u001b[0m loss \u001b[38;5;241m=\u001b[39m criterion(outputs, labels)\n\u001b[0;32m---> 16\u001b[0m \u001b[43mloss\u001b[49m\u001b[38;5;241;43m.\u001b[39;49m\u001b[43mbackward\u001b[49m\u001b[43m(\u001b[49m\u001b[43m)\u001b[49m\n\u001b[1;32m     17\u001b[0m acc \u001b[38;5;241m=\u001b[39m accuracy(outputs, labels)\n\u001b[1;32m     18\u001b[0m optimizer\u001b[38;5;241m.\u001b[39mstep()\n",
            "File \u001b[0;32m~/Library/Python/3.9/lib/python/site-packages/torch/_tensor.py:581\u001b[0m, in \u001b[0;36mTensor.backward\u001b[0;34m(self, gradient, retain_graph, create_graph, inputs)\u001b[0m\n\u001b[1;32m    571\u001b[0m \u001b[38;5;28;01mif\u001b[39;00m has_torch_function_unary(\u001b[38;5;28mself\u001b[39m):\n\u001b[1;32m    572\u001b[0m     \u001b[38;5;28;01mreturn\u001b[39;00m handle_torch_function(\n\u001b[1;32m    573\u001b[0m         Tensor\u001b[38;5;241m.\u001b[39mbackward,\n\u001b[1;32m    574\u001b[0m         (\u001b[38;5;28mself\u001b[39m,),\n\u001b[0;32m   (...)\u001b[0m\n\u001b[1;32m    579\u001b[0m         inputs\u001b[38;5;241m=\u001b[39minputs,\n\u001b[1;32m    580\u001b[0m     )\n\u001b[0;32m--> 581\u001b[0m \u001b[43mtorch\u001b[49m\u001b[38;5;241;43m.\u001b[39;49m\u001b[43mautograd\u001b[49m\u001b[38;5;241;43m.\u001b[39;49m\u001b[43mbackward\u001b[49m\u001b[43m(\u001b[49m\n\u001b[1;32m    582\u001b[0m \u001b[43m    \u001b[49m\u001b[38;5;28;43mself\u001b[39;49m\u001b[43m,\u001b[49m\u001b[43m \u001b[49m\u001b[43mgradient\u001b[49m\u001b[43m,\u001b[49m\u001b[43m \u001b[49m\u001b[43mretain_graph\u001b[49m\u001b[43m,\u001b[49m\u001b[43m \u001b[49m\u001b[43mcreate_graph\u001b[49m\u001b[43m,\u001b[49m\u001b[43m \u001b[49m\u001b[43minputs\u001b[49m\u001b[38;5;241;43m=\u001b[39;49m\u001b[43minputs\u001b[49m\n\u001b[1;32m    583\u001b[0m \u001b[43m\u001b[49m\u001b[43m)\u001b[49m\n",
            "File \u001b[0;32m~/Library/Python/3.9/lib/python/site-packages/torch/autograd/__init__.py:347\u001b[0m, in \u001b[0;36mbackward\u001b[0;34m(tensors, grad_tensors, retain_graph, create_graph, grad_variables, inputs)\u001b[0m\n\u001b[1;32m    342\u001b[0m     retain_graph \u001b[38;5;241m=\u001b[39m create_graph\n\u001b[1;32m    344\u001b[0m \u001b[38;5;66;03m# The reason we repeat the same comment below is that\u001b[39;00m\n\u001b[1;32m    345\u001b[0m \u001b[38;5;66;03m# some Python versions print out the first line of a multi-line function\u001b[39;00m\n\u001b[1;32m    346\u001b[0m \u001b[38;5;66;03m# calls in the traceback and some print out the last line\u001b[39;00m\n\u001b[0;32m--> 347\u001b[0m \u001b[43m_engine_run_backward\u001b[49m\u001b[43m(\u001b[49m\n\u001b[1;32m    348\u001b[0m \u001b[43m    \u001b[49m\u001b[43mtensors\u001b[49m\u001b[43m,\u001b[49m\n\u001b[1;32m    349\u001b[0m \u001b[43m    \u001b[49m\u001b[43mgrad_tensors_\u001b[49m\u001b[43m,\u001b[49m\n\u001b[1;32m    350\u001b[0m \u001b[43m    \u001b[49m\u001b[43mretain_graph\u001b[49m\u001b[43m,\u001b[49m\n\u001b[1;32m    351\u001b[0m \u001b[43m    \u001b[49m\u001b[43mcreate_graph\u001b[49m\u001b[43m,\u001b[49m\n\u001b[1;32m    352\u001b[0m \u001b[43m    \u001b[49m\u001b[43minputs\u001b[49m\u001b[43m,\u001b[49m\n\u001b[1;32m    353\u001b[0m \u001b[43m    \u001b[49m\u001b[43mallow_unreachable\u001b[49m\u001b[38;5;241;43m=\u001b[39;49m\u001b[38;5;28;43;01mTrue\u001b[39;49;00m\u001b[43m,\u001b[49m\n\u001b[1;32m    354\u001b[0m \u001b[43m    \u001b[49m\u001b[43maccumulate_grad\u001b[49m\u001b[38;5;241;43m=\u001b[39;49m\u001b[38;5;28;43;01mTrue\u001b[39;49;00m\u001b[43m,\u001b[49m\n\u001b[1;32m    355\u001b[0m \u001b[43m\u001b[49m\u001b[43m)\u001b[49m\n",
            "File \u001b[0;32m~/Library/Python/3.9/lib/python/site-packages/torch/autograd/graph.py:825\u001b[0m, in \u001b[0;36m_engine_run_backward\u001b[0;34m(t_outputs, *args, **kwargs)\u001b[0m\n\u001b[1;32m    823\u001b[0m     unregister_hooks \u001b[38;5;241m=\u001b[39m _register_logging_hooks_on_whole_graph(t_outputs)\n\u001b[1;32m    824\u001b[0m \u001b[38;5;28;01mtry\u001b[39;00m:\n\u001b[0;32m--> 825\u001b[0m     \u001b[38;5;28;01mreturn\u001b[39;00m \u001b[43mVariable\u001b[49m\u001b[38;5;241;43m.\u001b[39;49m\u001b[43m_execution_engine\u001b[49m\u001b[38;5;241;43m.\u001b[39;49m\u001b[43mrun_backward\u001b[49m\u001b[43m(\u001b[49m\u001b[43m  \u001b[49m\u001b[38;5;66;43;03m# Calls into the C++ engine to run the backward pass\u001b[39;49;00m\n\u001b[1;32m    826\u001b[0m \u001b[43m        \u001b[49m\u001b[43mt_outputs\u001b[49m\u001b[43m,\u001b[49m\u001b[43m \u001b[49m\u001b[38;5;241;43m*\u001b[39;49m\u001b[43margs\u001b[49m\u001b[43m,\u001b[49m\u001b[43m \u001b[49m\u001b[38;5;241;43m*\u001b[39;49m\u001b[38;5;241;43m*\u001b[39;49m\u001b[43mkwargs\u001b[49m\n\u001b[1;32m    827\u001b[0m \u001b[43m    \u001b[49m\u001b[43m)\u001b[49m  \u001b[38;5;66;03m# Calls into the C++ engine to run the backward pass\u001b[39;00m\n\u001b[1;32m    828\u001b[0m \u001b[38;5;28;01mfinally\u001b[39;00m:\n\u001b[1;32m    829\u001b[0m     \u001b[38;5;28;01mif\u001b[39;00m attach_logging_hooks:\n",
            "\u001b[0;31mKeyboardInterrupt\u001b[0m: "
          ]
        }
      ],
      "source": [
        "EPOCH_NUMBER = 20\n",
        "t_acc = []\n",
        "t_loss = []\n",
        "v_acc = []\n",
        "roc = []\n",
        "confusion = []\n",
        "\n",
        "for epoch in range(1,EPOCH_NUMBER+1):\n",
        "\n",
        "    train_loss,train_acc = train(model,train_loader,optimizer,criterion)\n",
        "\n",
        "    result = evaluate(model,test_loader,criterion)\n",
        "\n",
        "    t_acc.append(train_acc)\n",
        "    t_loss.append(train_loss)\n",
        "    v_acc.append(result['accuracy'])\n",
        "    roc.append(result['roc_auc'])\n",
        "    confusion.append(result['confusion_matrix'])\n",
        "\n",
        "    print(\"Epoch\", epoch)\n",
        "    print(f'\\tTrain Loss: {train_loss:.3f} | Train Acc: {train_acc*100:.2f}%')\n",
        "    print(f'\\tVal. Acc: {v_acc[-1]*100:.2f}%')\n",
        "    print()"
      ]
    },
    {
      "cell_type": "code",
      "execution_count": null,
      "metadata": {
        "id": "JIJ-95DUlMHW",
        "outputId": "b0c925b5-3e7d-45d3-cdb5-8541578b1a63"
      },
      "outputs": [
        {
          "name": "stdout",
          "output_type": "stream",
          "text": [
            "The best validation accuracy: 0.83\n"
          ]
        }
      ],
      "source": [
        "print(\"The best validation accuracy:\", round(max(v_acc), 2))"
      ]
    },
    {
      "cell_type": "code",
      "execution_count": null,
      "metadata": {
        "id": "ckNjFt1QlMHW",
        "outputId": "a0edcc72-7b07-4c10-ad25-02d29e6627dd",
        "collapsed": true
      },
      "outputs": [
        {
          "data": {
            "text/plain": [
              "<matplotlib.legend.Legend at 0x3645c3550>"
            ]
          },
          "execution_count": 486,
          "metadata": {},
          "output_type": "execute_result"
        },
        {
          "data": {
            "image/png": "[encoded data removed]",
            "text/plain": [
              "<Figure size 640x480 with 1 Axes>"
            ]
          },
          "metadata": {},
          "output_type": "display_data"
        }
      ],
      "source": [
        "plt.plot(range(1, EPOCH_NUMBER+1), v_acc)\n",
        "plt.title(\"Classification Accuracy\")\n",
        "plt.xlabel(\"Epoch\")\n",
        "plt.ylabel(\"Accuracy\")\n",
        "plt.xticks(range(1, EPOCH_NUMBER+1))"
      ]
    },
    {
      "cell_type": "code",
      "execution_count": null,
      "metadata": {
        "id": "g02777u_lMHW",
        "outputId": "30fa6850-d6c5-4077-81bd-21bf46f0dd98",
        "collapsed": true
      },
      "outputs": [
        {
          "data": {
            "text/plain": [
              "<matplotlib.legend.Legend at 0x330212310>"
            ]
          },
          "execution_count": 487,
          "metadata": {},
          "output_type": "execute_result"
        },
        {
          "data": {
            "image/png": "[encoded data removed]",
            "text/plain": [
              "<Figure size 640x480 with 1 Axes>"
            ]
          },
          "metadata": {},
          "output_type": "display_data"
        }
      ],
      "source": [
        "# Extract final ROC data\n",
        "final_labels = evaluate(model, test_loader, criterion)['all_labels']\n",
        "final_probs = evaluate(model, test_loader, criterion)['all_probs']"
      ]
    },
    {
      "cell_type": "code",
      "source": [
        "from sklearn.metrics import roc_curve, auc\n",
        "\n",
        "def plot_roc_curve(labels, probs):\n",
        "    \"\"\"\n",
        "    Plots an ROC curve.\n",
        "\n",
        "    Parameters:\n",
        "    - labels: True labels (ground truth)\n",
        "    - probs: Predicted probabilities for the positive class\n",
        "    \"\"\"\n",
        "    # Calculate ROC curve and AUC\n",
        "    fpr, tpr, _ = roc_curve(labels, probs)\n",
        "    roc_auc = auc(fpr, tpr)\n",
        "\n",
        "    # Plot the ROC curve\n",
        "    plt.figure(figsize=(6, 6))\n",
        "    plt.plot(fpr, tpr, color='blue', lw=2, label=f'ROC curve (AUC = {roc_auc:.2f})')\n",
        "    plt.plot([0, 1], [0, 1], color='red', linestyle='--', lw=2, label='Random classifier')\n",
        "\n",
        "\n",
        "    # Add annotations\n",
        "    plt.text(0.7, 0.5, 'Worse', fontsize=12, rotation=45)\n",
        "    plt.text(0.4, 0.7, 'Better', fontsize=12, rotation=45)\n",
        "\n",
        "    # Customize the plot\n",
        "    plt.title('ROC Curve', fontsize=16)\n",
        "    plt.xlabel('False Positive Rate', fontsize=14)\n",
        "    plt.ylabel('True Positive Rate', fontsize=14)\n",
        "    plt.legend(loc='lower right', fontsize=12)\n",
        "    plt.grid(alpha=0.3)\n",
        "    plt.show()\n",
        "\n",
        "# Plot the ROC curve\n",
        "plot_roc_curve(final_labels, final_probs)"
      ],
      "metadata": {
        "id": "pQ3EtpgdOajC"
      },
      "execution_count": null,
      "outputs": []
    },
    {
      "cell_type": "code",
      "source": [
        "plt.plot(range(1, EPOCH_NUMBER+1), roc)\n",
        "plt.title(\"Classification ROC\")\n",
        "plt.xlabel(\"Epoch\")\n",
        "plt.ylabel(\"ROC\")\n",
        "plt.xticks(range(1, EPOCH_NUMBER+1))"
      ],
      "metadata": {
        "id": "t0306KmHOdU_"
      },
      "execution_count": null,
      "outputs": []
    },
    {
      "cell_type": "code",
      "source": [
        "import seaborn as sns\n",
        "import numpy as np\n",
        "\n",
        "sns.heatmap(confusion[-1], annot=True, fmt='', cmap='Blues')"
      ],
      "metadata": {
        "id": "8eLeU636OfPH"
      },
      "execution_count": null,
      "outputs": []
    },
    {
      "cell_type": "markdown",
      "metadata": {
        "id": "akIMqZLklMHW"
      },
      "source": [
        "## Regression LSTM"
      ]
    },
    {
      "cell_type": "code",
      "execution_count": null,
      "metadata": {
        "id": "QlhYHSj6lMHW"
      },
      "outputs": [],
      "source": [
        "# Hyperparameters\n",
        "embedding_dim = 128\n",
        "hidden_dim = 256\n",
        "output_dim = 1  # probability\n",
        "n_layers = 2\n",
        "bidirectional = True\n",
        "dropout = 0.3"
      ]
    },
    {
      "cell_type": "code",
      "execution_count": null,
      "metadata": {
        "id": "AnquZK8-lMHW"
      },
      "outputs": [],
      "source": [
        "regression = LSTM(len(word_map), embedding_dim, hidden_dim, output_dim, n_layers, bidirectional, dropout)\n",
        "criterion = nn.BCELoss()\n",
        "optimizer = optim.Adam(regression.parameters(), lr=0.001)\n",
        "\n",
        "# Training loop\n",
        "device = torch.device('cuda' if torch.cuda.is_available() else 'cpu')\n",
        "regression = regression.to(device)"
      ]
    },
    {
      "cell_type": "code",
      "execution_count": null,
      "metadata": {
        "id": "3Rb8trX1lMHW"
      },
      "outputs": [],
      "source": [
        "def re_accuracy(preds, y, threshold=0.5):\n",
        "    rounded_preds = (preds > threshold).float()  # Convert probabilities to binary predictions\n",
        "    correct = (rounded_preds == y).float()\n",
        "    acc = correct.sum() / len(correct)\n",
        "    return acc"
      ]
    },
    {
      "cell_type": "code",
      "execution_count": null,
      "metadata": {
        "id": "0am0huA9lMHW"
      },
      "outputs": [],
      "source": [
        "def re_train(model,loader,optimizer,criterion):\n",
        "    epoch_loss = 0.0\n",
        "    epoch_acc = 0.0\n",
        "\n",
        "    model.train()\n",
        "\n",
        "    for batch in loader:\n",
        "        optimizer.zero_grad()\n",
        "\n",
        "        input_ids = batch['input_ids'].to(device)\n",
        "        labels = batch['label'].float().to(device)\n",
        "        text_length = batch['text_length'].to(device)\n",
        "\n",
        "        outputs = model(input_ids, text_length).squeeze(1)\n",
        "        loss = criterion(outputs, labels)\n",
        "        loss.backward()\n",
        "        acc = re_accuracy(outputs, labels)\n",
        "        optimizer.step()\n",
        "\n",
        "        epoch_loss += loss.item()\n",
        "        epoch_acc += acc.item()\n",
        "\n",
        "    return epoch_loss / len(loader), epoch_acc / len(loader)"
      ]
    },
    {
      "cell_type": "code",
      "execution_count": null,
      "metadata": {
        "id": "wepAttJblMHX"
      },
      "outputs": [],
      "source": [
        "def re_evaluate(model, loader, criterion):\n",
        "    epoch_loss = 0.0\n",
        "    all_labels = []\n",
        "    all_preds = []\n",
        "    model.eval()\n",
        "\n",
        "    with torch.no_grad():\n",
        "        for batch in loader:\n",
        "            input_ids = batch['input_ids'].to(device)\n",
        "            labels = batch['label'].float().to(device)\n",
        "            text_length = batch['text_length'].to(device)\n",
        "\n",
        "            outputs = model(input_ids, text_length).squeeze(1)\n",
        "            loss = criterion(outputs, labels)\n",
        "            epoch_loss += loss.item()\n",
        "\n",
        "            all_labels.extend(labels.cpu().numpy())\n",
        "            all_preds.extend(outputs.cpu().numpy())\n",
        "\n",
        "    # Calculate metrics\n",
        "    mae = mean_absolute_error(all_labels, all_preds)\n",
        "    mse = mean_squared_error(all_labels, all_preds)\n",
        "\n",
        "    return {\n",
        "        'loss': epoch_loss / len(loader),\n",
        "        'mae': mae,\n",
        "        'mse': mse\n",
        "    }\n"
      ]
    },
    {
      "cell_type": "code",
      "execution_count": null,
      "metadata": {
        "id": "mc-ijKbmlMHX"
      },
      "outputs": [],
      "source": [
        "EPOCH_NUMBER = 20\n",
        "t_metrics = {'loss': []}\n",
        "v_metrics = {'loss': [], 'mae': [], 'mse': []}\n",
        "\n",
        "for epoch in range(1, EPOCH_NUMBER + 1):\n",
        "    train_loss, _ = re_train(regression, train_loader, optimizer, criterion)\n",
        "    valid_metrics = re_evaluate(regression, test_loader, criterion)\n",
        "\n",
        "    # Store metrics\n",
        "    t_metrics['loss'].append(train_loss)\n",
        "    v_metrics['loss'].append(valid_metrics['loss'])\n",
        "    v_metrics['mae'].append(valid_metrics['mae'])\n",
        "    v_metrics['mse'].append(valid_metrics['mse'])\n",
        "\n",
        "    print(f\"Epoch {epoch}\")\n",
        "    print(f\"\\tTrain Loss: {train_loss:.3f}\")\n",
        "    print(f\"\\t Val. Loss: {valid_metrics['loss']:.3f} | Val. MAE: {valid_metrics['mae']:.3f} | Val. MSE: {valid_metrics['mse']:.3f}\")"
      ]
    },
    {
      "cell_type": "code",
      "execution_count": null,
      "metadata": {
        "id": "7xKSuDuOlMHX",
        "outputId": "238638ec-5b39-48d3-e320-55b466714836"
      },
      "outputs": [
        {
          "data": {
            "text/plain": [
              "<matplotlib.legend.Legend at 0x322616190>"
            ]
          },
          "execution_count": 23,
          "metadata": {},
          "output_type": "execute_result"
        },
        {
          "data": {
            "image/png": "[encoded data removed]",
            "text/plain": [
              "<Figure size 640x480 with 1 Axes>"
            ]
          },
          "metadata": {},
          "output_type": "display_data"
        }
      ],
      "source": [
        "# Plot trends over epochs\n",
        "plt.figure(figsize=(8, 6))\n",
        "\n",
        "# Plot validation MAE\n",
        "plt.plot(range(1, EPOCH_NUMBER + 1), v_metrics['mae'], label='Validation MAE')\n",
        "\n",
        "# Plot validation MSE\n",
        "plt.plot(range(1, EPOCH_NUMBER + 1), v_metrics['mse'], label='Validation MSE')\n",
        "\n",
        "plt.xlabel('Epoch')\n",
        "plt.ylabel('Metrics')\n",
        "plt.title('Validation Metrics Over Epochs')\n",
        "plt.legend()\n",
        "\n",
        "# Ensure x-axis has a tick for each epoch\n",
        "plt.xticks(ticks=range(1, EPOCH_NUMBER + 1))  # Set ticks to be integers from 1 to EPOCH_NUMBER\n",
        "\n",
        "plt.show()\n",
        "\n",
        "# Print final MAE and MSE\n",
        "final_mae = v_metrics['mae'][-1]\n",
        "final_mse = v_metrics['mse'][-1]\n",
        "print(f\"Final Validation MAE: {final_mae:.3f}\")\n",
        "print(f\"Final Validation MSE: {final_mse:.3f}\")\n"
      ]
    },
    {
      "cell_type": "markdown",
      "metadata": {
        "id": "IXbSpjx4lMHX"
      },
      "source": [
        "## LSTM with Attention Mechanism"
      ]
    },
    {
      "cell_type": "markdown",
      "metadata": {
        "id": "5LvtqOkGlMHX"
      },
      "source": [
        "To incorporate attention mechanism into the LSTM model, we compute attention weights over the LSTM output."
      ]
    },
    {
      "cell_type": "code",
      "execution_count": null,
      "metadata": {
        "id": "UsZfHzejlMHX"
      },
      "outputs": [],
      "source": [
        "# Hyperparameters\n",
        "embedding_dim = 128\n",
        "hidden_dim = 256\n",
        "output_dim = 1  # probability\n",
        "n_layers = 2\n",
        "bidirectional = True\n",
        "dropout = 0.3"
      ]
    },
    {
      "cell_type": "code",
      "execution_count": null,
      "metadata": {
        "id": "K6yOaoa-lMHX"
      },
      "outputs": [],
      "source": [
        "import torch\n",
        "import torch.nn as nn\n",
        "\n",
        "class LSTMWithAttention(nn.Module):\n",
        "    def __init__(self, vocab_size, embedding_dim, hidden_dim, output_dim, n_layers, bidirectional, dropout):\n",
        "        super(LSTMWithAttention, self).__init__()\n",
        "        self.embedding = nn.Embedding(vocab_size + 1, embedding_dim)\n",
        "\n",
        "        self.lstm = nn.LSTM(\n",
        "            embedding_dim,\n",
        "            hidden_dim,\n",
        "            num_layers=n_layers,\n",
        "            bidirectional=bidirectional,\n",
        "            dropout=dropout,\n",
        "            batch_first=True\n",
        "        )\n",
        "\n",
        "        # Attention layer\n",
        "        self.attention = nn.Linear(hidden_dim * 2, 1)  # For attention weights\n",
        "        self.softmax = nn.Softmax(dim=1)\n",
        "\n",
        "        # Fully connected layers\n",
        "        self.fc = nn.Linear(hidden_dim * 2, output_dim)\n",
        "        self.batch_norm = nn.BatchNorm1d(hidden_dim * 2)\n",
        "        self.dropout = nn.Dropout(dropout)\n",
        "        # self.sigmoid = nn.Sigmoid()  # Use sigmoid as activation function for binary classification\n",
        "\n",
        "    def forward(self, text, text_lengths):\n",
        "        embedded = self.embedding(text)\n",
        "        packed_embedded = nn.utils.rnn.pack_padded_sequence(\n",
        "            embedded, text_lengths.cpu(), batch_first=True, enforce_sorted=False\n",
        "        )\n",
        "        packed_output, (hidden_state, cell_state) = self.lstm(packed_embedded)\n",
        "        output, _ = nn.utils.rnn.pad_packed_sequence(packed_output, batch_first=True)\n",
        "\n",
        "        # Attention mechanism\n",
        "        # mask = (text_lengths.unsqueeze(1) > torch.arange(output.size(1), device=text_lengths.device)).float()\n",
        "        # attn_weights = self.attention(output).squeeze(-1) * mask\n",
        "        attn_weights = self.attention(output)\n",
        "        attn_weights = self.softmax(attn_weights.squeeze(-1))\n",
        "        # print(f\"Attention Weights: \", attn_weights)\n",
        "\n",
        "        # Context vector as weighted sum of outputs\n",
        "        context = torch.bmm(attn_weights.unsqueeze(1), output).squeeze(1)  # Shape: [batch_size, hidden_dim * 2]\n",
        "\n",
        "        # Concatenate final hidden state and context vector\n",
        "        hidden = torch.cat((hidden_state[-2, :, :], hidden_state[-1, :, :]), dim=1)  # Final hidden state\n",
        "        context_hidden = context + hidden  # Combine context and hidden state\n",
        "\n",
        "        # Classification\n",
        "        context_hidden = self.batch_norm(context_hidden)\n",
        "        # print(f\"Hidden Context shape: \", context_hidden.shape)\n",
        "        # outputs = self.sigmoid(self.fc(self.dropout(context_hidden)))\n",
        "        outputs = self.fc(self.dropout(context_hidden)).squeeze(1)\n",
        "\n",
        "        return outputs\n"
      ]
    },
    {
      "cell_type": "code",
      "execution_count": null,
      "metadata": {
        "id": "9-e5NbFB_EFB"
      },
      "outputs": [],
      "source": [
        "def accuracy_att(preds, y):\n",
        "  probs = torch.sigmoid(preds)\n",
        "  rounded_preds = (probs > 0.5).float()\n",
        "  correct = (rounded_preds == y).float()\n",
        "  acc = correct.sum() / len(correct)\n",
        "  return acc"
      ]
    },
    {
      "cell_type": "code",
      "execution_count": null,
      "metadata": {
        "id": "q6-FayDk_e4V"
      },
      "outputs": [],
      "source": [
        "def train_att(model,loader,optimizer,criterion):\n",
        "    epoch_loss = 0.0\n",
        "    epoch_acc = 0.0\n",
        "\n",
        "    model.train()\n",
        "\n",
        "    for batch in loader:\n",
        "        optimizer.zero_grad()\n",
        "\n",
        "        input_ids = batch['input_ids'].to(device)\n",
        "        labels = batch['label'].float().to(device)\n",
        "        text_length = batch['text_length'].to(device)\n",
        "\n",
        "        outputs = model(input_ids, text_length)\n",
        "        loss = criterion(outputs, labels)\n",
        "        loss.backward()\n",
        "        acc = accuracy_att(outputs, labels)\n",
        "        optimizer.step()\n",
        "\n",
        "        epoch_loss += loss.item()\n",
        "        epoch_acc += acc.item()\n",
        "\n",
        "    return epoch_loss / len(loader), epoch_acc / len(loader)"
      ]
    },
    {
      "cell_type": "code",
      "execution_count": null,
      "metadata": {
        "id": "tDgbp3UdlMHX",
        "outputId": "1a43eb80-c33d-4697-b492-cec6515abe23"
      },
      "outputs": [
        {
          "name": "stdout",
          "output_type": "stream",
          "text": [
            "using cuda...\n"
          ]
        }
      ],
      "source": [
        "model = LSTMWithAttention(len(word_map), embedding_dim, hidden_dim, output_dim, n_layers, bidirectional, dropout)\n",
        "criterion = nn.BCEWithLogitsLoss()\n",
        "optimizer = optim.Adam(model.parameters(), lr=0.001)\n",
        "\n",
        "# Training loop\n",
        "if torch.backends.mps.is_available():\n",
        "    device = torch.device(\"mps\")\n",
        "    print(\"Using MPS GPU\")\n",
        "elif torch.cuda.is_available():\n",
        "    print(\"using cuda...\")\n",
        "    device = torch.device(\"cuda\")\n",
        "else:\n",
        "    print(\"using CPU\")\n",
        "    device = torch.device(\"cpu\")\n",
        "model = model.to(device)"
      ]
    },
    {
      "cell_type": "code",
      "execution_count": null,
      "metadata": {
        "id": "F69GYkFx_rJc"
      },
      "outputs": [],
      "source": [
        "def evaluate_att(model,loader,criterion):\n",
        "    epoch_loss = 0.0\n",
        "    epoch_acc = 0.0\n",
        "    model.eval()\n",
        "\n",
        "    with torch.no_grad():\n",
        "        for batch in loader:\n",
        "            input_ids = batch['input_ids'].to(device)\n",
        "            labels = batch['label'].float().to(device)\n",
        "            text_length = batch['text_length'].to(device)\n",
        "\n",
        "            outputs = model(input_ids, text_length)\n",
        "\n",
        "            loss = criterion(outputs, labels)\n",
        "            acc = accuracy_att(outputs, labels)\n",
        "\n",
        "            epoch_loss += loss.item()\n",
        "            epoch_acc += acc.item()\n",
        "\n",
        "    return epoch_loss / len(loader), epoch_acc / len(loader)"
      ]
    },
    {
      "cell_type": "code",
      "execution_count": null,
      "metadata": {
        "id": "IOF3N9GYmADu"
      },
      "outputs": [],
      "source": [
        "from sklearn.metrics import accuracy_score, roc_curve, roc_auc_score, confusion_matrix\n",
        "\n",
        "def evaluate_att_with_metrics(model, loader, criterion):\n",
        "    model.eval()\n",
        "    all_labels, all_preds, all_probs = [], [], []\n",
        "    epoch_loss = 0.0\n",
        "\n",
        "    with torch.no_grad():\n",
        "        for batch in loader:\n",
        "            input_ids = batch['input_ids'].to(device)\n",
        "            labels = batch['label'].float().to(device)\n",
        "            text_length = batch['text_length'].to(device)\n",
        "\n",
        "            outputs = model(input_ids, text_length)\n",
        "            loss = criterion(outputs, labels)\n",
        "            epoch_loss += loss.item()\n",
        "\n",
        "            all_labels.extend(labels.cpu().numpy().astype(int))\n",
        "            preds = (torch.sigmoid(outputs) >= 0.5).float()\n",
        "            all_preds.extend(preds.cpu().numpy())\n",
        "            all_probs.extend(torch.sigmoid(outputs).cpu().numpy())\n",
        "\n",
        "    print(\"Unique labels:\", np.unique(all_labels))\n",
        "    print(\"Unique predictions:\", np.unique(all_preds))\n",
        "    unique, counts = np.unique(all_labels, return_counts=True)\n",
        "    label_distribution = dict(zip(unique, counts))\n",
        "    print(\"Label distribution:\", label_distribution)\n",
        "\n",
        "    accuracy = accuracy_score(all_labels, all_preds)\n",
        "    roc_auc = roc_auc_score(all_labels, all_probs)\n",
        "    fpr, tpr, thresholds = roc_curve(all_labels, all_probs)\n",
        "    cm = confusion_matrix(all_labels, all_preds)\n",
        "    print(f\"confusion matrix: \", cm)\n",
        "\n",
        "    return {\n",
        "        'loss': epoch_loss / len(loader),  # Average validation loss\n",
        "        'accuracy': accuracy,\n",
        "        'roc_auc': roc_auc,\n",
        "        'confusion_matrix': cm,\n",
        "        'fpr': fpr,\n",
        "        'tpr': tpr,\n",
        "    }"
      ]
    },
    {
      "cell_type": "code",
      "execution_count": null,
      "metadata": {
        "colab": {
          "base_uri": "https://localhost:8080/"
        },
        "id": "aNvk_KIclMHX",
        "outputId": "7ec01c39-fa2b-4742-f239-67d2e1f564a5"
      },
      "outputs": [
        {
          "name": "stdout",
          "output_type": "stream",
          "text": [
            "Unique labels: [0 1]\n",
            "Unique predictions: [0. 1.]\n",
            "Label distribution: {0: 1000, 1: 1000}\n",
            "confusion matrix:  [[804 196]\n",
            " [ 66 934]]\n",
            "Epoch 1\n",
            "\tTrain Loss: 0.403 | Train Acc: 83.03%\n",
            "\t Val. Loss: 0.329 |  Val. Acc: 86.90%\n",
            "\n",
            "Unique labels: [0 1]\n",
            "Unique predictions: [0. 1.]\n",
            "Label distribution: {0: 1000, 1: 1000}\n",
            "confusion matrix:  [[875 125]\n",
            " [ 70 930]]\n",
            "Epoch 2\n",
            "\tTrain Loss: 0.264 | Train Acc: 89.84%\n",
            "\t Val. Loss: 0.263 |  Val. Acc: 90.25%\n",
            "\n",
            "Unique labels: [0 1]\n",
            "Unique predictions: [0. 1.]\n",
            "Label distribution: {0: 1000, 1: 1000}\n",
            "confusion matrix:  [[883 117]\n",
            " [ 74 926]]\n",
            "Epoch 3\n",
            "\tTrain Loss: 0.198 | Train Acc: 92.74%\n",
            "\t Val. Loss: 0.262 |  Val. Acc: 90.45%\n",
            "\n",
            "Unique labels: [0 1]\n",
            "Unique predictions: [0. 1.]\n",
            "Label distribution: {0: 1000, 1: 1000}\n",
            "confusion matrix:  [[897 103]\n",
            " [ 92 908]]\n",
            "Epoch 4\n",
            "\tTrain Loss: 0.133 | Train Acc: 95.24%\n",
            "\t Val. Loss: 0.287 |  Val. Acc: 90.25%\n",
            "\n",
            "Unique labels: [0 1]\n",
            "Unique predictions: [0. 1.]\n",
            "Label distribution: {0: 1000, 1: 1000}\n",
            "confusion matrix:  [[900 100]\n",
            " [128 872]]\n",
            "Epoch 5\n",
            "\tTrain Loss: 0.097 | Train Acc: 96.55%\n",
            "\t Val. Loss: 0.382 |  Val. Acc: 88.60%\n",
            "\n",
            "Unique labels: [0 1]\n",
            "Unique predictions: [0. 1.]\n",
            "Label distribution: {0: 1000, 1: 1000}\n",
            "confusion matrix:  [[910  90]\n",
            " [125 875]]\n",
            "Epoch 6\n",
            "\tTrain Loss: 0.073 | Train Acc: 97.40%\n",
            "\t Val. Loss: 0.329 |  Val. Acc: 89.25%\n",
            "\n",
            "Unique labels: [0 1]\n",
            "Unique predictions: [0. 1.]\n",
            "Label distribution: {0: 1000, 1: 1000}\n",
            "confusion matrix:  [[895 105]\n",
            " [ 94 906]]\n",
            "Epoch 7\n",
            "\tTrain Loss: 0.052 | Train Acc: 98.26%\n",
            "\t Val. Loss: 0.411 |  Val. Acc: 90.05%\n",
            "\n",
            "Unique labels: [0 1]\n",
            "Unique predictions: [0. 1.]\n",
            "Label distribution: {0: 1000, 1: 1000}\n",
            "confusion matrix:  [[858 142]\n",
            " [ 84 916]]\n",
            "Epoch 8\n",
            "\tTrain Loss: 0.045 | Train Acc: 98.38%\n",
            "\t Val. Loss: 0.436 |  Val. Acc: 88.70%\n",
            "\n",
            "Unique labels: [0 1]\n",
            "Unique predictions: [0. 1.]\n",
            "Label distribution: {0: 1000, 1: 1000}\n",
            "confusion matrix:  [[917  83]\n",
            " [164 836]]\n",
            "Epoch 9\n",
            "\tTrain Loss: 0.034 | Train Acc: 98.78%\n",
            "\t Val. Loss: 0.518 |  Val. Acc: 87.65%\n",
            "\n",
            "Unique labels: [0 1]\n",
            "Unique predictions: [0. 1.]\n",
            "Label distribution: {0: 1000, 1: 1000}\n",
            "confusion matrix:  [[871 129]\n",
            " [ 77 923]]\n",
            "Epoch 10\n",
            "\tTrain Loss: 0.041 | Train Acc: 98.58%\n",
            "\t Val. Loss: 0.467 |  Val. Acc: 89.70%\n",
            "\n",
            "Unique labels: [0 1]\n",
            "Unique predictions: [0. 1.]\n",
            "Label distribution: {0: 1000, 1: 1000}\n",
            "confusion matrix:  [[916  84]\n",
            " [117 883]]\n",
            "Epoch 11\n",
            "\tTrain Loss: 0.026 | Train Acc: 99.10%\n",
            "\t Val. Loss: 0.444 |  Val. Acc: 89.95%\n",
            "\n",
            "Unique labels: [0 1]\n",
            "Unique predictions: [0. 1.]\n",
            "Label distribution: {0: 1000, 1: 1000}\n",
            "confusion matrix:  [[850 150]\n",
            " [ 58 942]]\n",
            "Epoch 12\n",
            "\tTrain Loss: 0.023 | Train Acc: 99.25%\n",
            "\t Val. Loss: 0.580 |  Val. Acc: 89.60%\n",
            "\n",
            "Unique labels: [0 1]\n",
            "Unique predictions: [0. 1.]\n",
            "Label distribution: {0: 1000, 1: 1000}\n",
            "confusion matrix:  [[895 105]\n",
            " [ 77 923]]\n",
            "Epoch 13\n",
            "\tTrain Loss: 0.028 | Train Acc: 98.95%\n",
            "\t Val. Loss: 0.505 |  Val. Acc: 90.90%\n",
            "\n",
            "Unique labels: [0 1]\n",
            "Unique predictions: [0. 1.]\n",
            "Label distribution: {0: 1000, 1: 1000}\n",
            "confusion matrix:  [[927  73]\n",
            " [127 873]]\n",
            "Epoch 14\n",
            "\tTrain Loss: 0.016 | Train Acc: 99.38%\n",
            "\t Val. Loss: 0.542 |  Val. Acc: 90.00%\n",
            "\n",
            "Unique labels: [0 1]\n",
            "Unique predictions: [0. 1.]\n",
            "Label distribution: {0: 1000, 1: 1000}\n",
            "confusion matrix:  [[891 109]\n",
            " [ 89 911]]\n",
            "Epoch 15\n",
            "\tTrain Loss: 0.018 | Train Acc: 99.33%\n",
            "\t Val. Loss: 0.481 |  Val. Acc: 90.10%\n",
            "\n",
            "Unique labels: [0 1]\n",
            "Unique predictions: [0. 1.]\n",
            "Label distribution: {0: 1000, 1: 1000}\n",
            "confusion matrix:  [[918  82]\n",
            " [117 883]]\n",
            "Epoch 16\n",
            "\tTrain Loss: 0.025 | Train Acc: 99.21%\n",
            "\t Val. Loss: 0.490 |  Val. Acc: 90.05%\n",
            "\n",
            "Unique labels: [0 1]\n",
            "Unique predictions: [0. 1.]\n",
            "Label distribution: {0: 1000, 1: 1000}\n",
            "confusion matrix:  [[861 139]\n",
            " [ 69 931]]\n",
            "Epoch 17\n",
            "\tTrain Loss: 0.018 | Train Acc: 99.50%\n",
            "\t Val. Loss: 0.553 |  Val. Acc: 89.60%\n",
            "\n",
            "Unique labels: [0 1]\n",
            "Unique predictions: [0. 1.]\n",
            "Label distribution: {0: 1000, 1: 1000}\n",
            "confusion matrix:  [[844 156]\n",
            " [ 67 933]]\n",
            "Epoch 18\n",
            "\tTrain Loss: 0.019 | Train Acc: 99.45%\n",
            "\t Val. Loss: 0.597 |  Val. Acc: 88.85%\n",
            "\n",
            "Unique labels: [0 1]\n",
            "Unique predictions: [0. 1.]\n",
            "Label distribution: {0: 1000, 1: 1000}\n",
            "confusion matrix:  [[877 123]\n",
            " [ 98 902]]\n",
            "Epoch 19\n",
            "\tTrain Loss: 0.009 | Train Acc: 99.70%\n",
            "\t Val. Loss: 0.628 |  Val. Acc: 88.95%\n",
            "\n",
            "Unique labels: [0 1]\n",
            "Unique predictions: [0. 1.]\n",
            "Label distribution: {0: 1000, 1: 1000}\n",
            "confusion matrix:  [[925  75]\n",
            " [125 875]]\n",
            "Epoch 20\n",
            "\tTrain Loss: 0.012 | Train Acc: 99.67%\n",
            "\t Val. Loss: 0.634 |  Val. Acc: 90.00%\n",
            "\n"
          ]
        }
      ],
      "source": [
        "EPOCH_NUMBER = 20\n",
        "t_acc = []\n",
        "t_loss = []\n",
        "v_acc = []\n",
        "v_loss = []\n",
        "roc_auc = {}\n",
        "fpr = {}\n",
        "tpr = {}\n",
        "cm = []\n",
        "\n",
        "for epoch in range(1,EPOCH_NUMBER+1):\n",
        "\n",
        "    train_loss,train_acc = train_att(model,train_loader,optimizer,criterion)\n",
        "\n",
        "    valid_dict = evaluate_att_with_metrics(model,test_loader,criterion)\n",
        "    valid_loss = valid_dict['loss']\n",
        "    valid_acc = valid_dict['accuracy']\n",
        "    roc_auc[epoch] = valid_dict['roc_auc']\n",
        "    fpr[epoch] = valid_dict['fpr']\n",
        "    tpr[epoch] = valid_dict['tpr']\n",
        "    cm.append(valid_dict['confusion_matrix'])\n",
        "\n",
        "    t_acc.append(train_acc)\n",
        "    t_loss.append(train_loss)\n",
        "    v_acc.append(valid_acc)\n",
        "    v_loss.append(valid_loss)\n",
        "\n",
        "    print(\"Epoch\", epoch)\n",
        "    print(f'\\tTrain Loss: {train_loss:.3f} | Train Acc: {train_acc*100:.2f}%')\n",
        "    print(f'\\t Val. Loss: {valid_loss:.3f} |  Val. Acc: {valid_acc*100:.2f}%')\n",
        "    print()"
      ]
    },
    {
      "cell_type": "code",
      "execution_count": null,
      "metadata": {
        "colab": {
          "base_uri": "https://localhost:8080/",
          "height": 489
        },
        "id": "B-yZh8RHU7CX",
        "outputId": "9fac5fbc-533b-4794-837b-daca4866e6f8"
      },
      "outputs": [
        {
          "data": {
            "text/plain": [
              "<matplotlib.legend.Legend at 0x7fb92c5eef50>"
            ]
          },
          "execution_count": 57,
          "metadata": {},
          "output_type": "execute_result"
        },
        {
          "data": {
            "image/png": "[encoded data removed]",
            "text/plain": [
              "<Figure size 640x480 with 1 Axes>"
            ]
          },
          "metadata": {},
          "output_type": "display_data"
        }
      ],
      "source": [
        "plt.plot(range(1, EPOCH_NUMBER+1), t_acc)\n",
        "plt.plot(range(1, EPOCH_NUMBER+1), v_acc)\n",
        "plt.title(\"Accuracy\")\n",
        "plt.xlabel(\"Number of Epoch\")\n",
        "plt.ylabel(\"Accuracy\")\n",
        "plt.legend((\"Training\", \"Validation\"))"
      ]
    },
    {
      "cell_type": "code",
      "execution_count": null,
      "metadata": {
        "colab": {
          "base_uri": "https://localhost:8080/",
          "height": 489
        },
        "id": "Zm8oX1SUmA7b",
        "outputId": "abe199cd-eb27-4182-9c0b-0a9cd115e2e6"
      },
      "outputs": [
        {
          "data": {
            "text/plain": [
              "<matplotlib.legend.Legend at 0x7fb92c323ee0>"
            ]
          },
          "execution_count": 58,
          "metadata": {},
          "output_type": "execute_result"
        },
        {
          "data": {
            "image/png": "[encoded data removed]",
            "text/plain": [
              "<Figure size 640x480 with 1 Axes>"
            ]
          },
          "metadata": {},
          "output_type": "display_data"
        }
      ],
      "source": [
        "plt.plot(range(1, EPOCH_NUMBER+1), t_loss)\n",
        "plt.plot(range(1, EPOCH_NUMBER+1), v_loss)\n",
        "plt.title(\"Loss\")\n",
        "plt.xlabel(\"Number of Epoch\")\n",
        "plt.ylabel(\"Loss\")\n",
        "plt.legend((\"Training\", \"Validation\"))"
      ]
    },
    {
      "cell_type": "code",
      "execution_count": null,
      "metadata": {
        "colab": {
          "base_uri": "https://localhost:8080/",
          "height": 581
        },
        "id": "8xcdP1hcqDO_",
        "outputId": "14ef5609-4110-4351-98c5-ec753c14859c"
      },
      "outputs": [
        {
          "name": "stdout",
          "output_type": "stream",
          "text": [
            "The highest F1 score is 0.9103 at epoch 13\n"
          ]
        },
        {
          "data": {
            "image/png": "[encoded data removed]",
            "text/plain": [
              "<Figure size 800x600 with 2 Axes>"
            ]
          },
          "metadata": {},
          "output_type": "display_data"
        }
      ],
      "source": [
        "# plot confusion matrix with the highest F1 score\n",
        "import seaborn as sns\n",
        "\n",
        "def calculate_metrics_from_cm(cm):\n",
        "    TN = cm[0, 0]\n",
        "    FP = cm[0, 1]\n",
        "    FN = cm[1, 0]\n",
        "    TP = cm[1, 1]\n",
        "\n",
        "    # Avoid division by zero\n",
        "    precision_denominator = TP + FP\n",
        "    recall_denominator = TP + FN\n",
        "\n",
        "    precision = TP / precision_denominator if precision_denominator > 0 else 0\n",
        "    recall = TP / recall_denominator if recall_denominator > 0 else 0\n",
        "\n",
        "    f1_score = (2 * precision * recall) / (precision + recall) if (precision + recall) > 0 else 0\n",
        "\n",
        "    return precision, recall, f1_score\n",
        "\n",
        "# List to store manual F1 scores\n",
        "f1_scores_manual = []\n",
        "\n",
        "# Iterate over confusion matrices\n",
        "for c in cm:\n",
        "    precision, recall, f1 = calculate_metrics_from_cm(c)\n",
        "    f1_scores_manual.append(f1)\n",
        "\n",
        "# Find the epoch with the highest F1 score\n",
        "best_epoch_index = np.argmax(f1_scores_manual)\n",
        "best_f1_score = f1_scores_manual[best_epoch_index]\n",
        "best_cm = cm[best_epoch_index]\n",
        "\n",
        "print(f\"The highest F1 score is {best_f1_score:.4f} at epoch {best_epoch_index + 1}\")\n",
        "\n",
        "# Plot the confusion matrix\n",
        "plt.figure(figsize=(8, 6))\n",
        "sns.heatmap(best_cm, annot=True, fmt='d', cmap='Blues', xticklabels=[0, 1], yticklabels=[0, 1])\n",
        "plt.title(f'Confusion Matrix for Epoch {best_epoch_index + 1} with Highest F1 Score')\n",
        "plt.ylabel('True Label')\n",
        "plt.xlabel('Predicted Label')\n",
        "plt.show()\n"
      ]
    },
    {
      "cell_type": "code",
      "execution_count": null,
      "metadata": {
        "id": "e636jZWUNz4A"
      },
      "outputs": [],
      "source": [
        "tpr_flattened = [item for sublist in tpr for item in sublist]\n",
        "tpr = np.array(tpr_flattened, dtype=float)"
      ]
    },
    {
      "cell_type": "code",
      "execution_count": null,
      "metadata": {
        "colab": {
          "base_uri": "https://localhost:8080/",
          "height": 159
        },
        "id": "iKKMGpnqOKu6",
        "outputId": "93e9e88d-eff5-4cf6-f0f5-95d1922cceef"
      },
      "outputs": [
        {
          "name": "stderr",
          "output_type": "stream",
          "text": [
            "/tmp/ipykernel_966929/1241708953.py:4: UserWarning: color is redundantly defined by the 'color' keyword argument and the fmt string \"k--\" (-> color='k'). The keyword argument will take precedence.\n",
            "  plt.plot([0, 1], [0, 1], 'k--', label=\"Random Guess\", color=\"red\")\n"
          ]
        },
        {
          "data": {
            "image/png": "[encoded data removed]",
            "text/plain": [
              "<Figure size 800x600 with 1 Axes>"
            ]
          },
          "metadata": {},
          "output_type": "display_data"
        }
      ],
      "source": [
        "# roc-auc curve for the last epoch\n",
        "plt.figure(figsize=(8, 6))\n",
        "plt.plot(fpr[20], tpr[20], label=f\"ROC curve, AUC score: {roc_auc[20]:.3f}\")\n",
        "plt.plot([0, 1], [0, 1], 'k--', label=\"Random Guess\", color=\"red\")\n",
        "plt.xlabel(\"False Positive Rate (FPR)\")\n",
        "plt.ylabel(\"True Positive Rate (TPR)\")\n",
        "plt.title(\"ROC Curve\")\n",
        "plt.legend(loc=\"lower right\")\n",
        "plt.grid()\n",
        "plt.show()"
      ]
    },
    {
      "cell_type": "markdown",
      "metadata": {
        "id": "bbrL246VlMHd"
      },
      "source": [
        "## Inference"
      ]
    },
    {
      "cell_type": "markdown",
      "metadata": {
        "id": "wPIixkNzlMHd"
      },
      "source": [
        "### Binary Classfication"
      ]
    },
    {
      "cell_type": "code",
      "execution_count": null,
      "metadata": {
        "id": "4z2xWekKlMHd"
      },
      "outputs": [],
      "source": [
        "def predict_sentence(sentence, model, word_map, device):\n",
        "    # Preprocess the sentence\n",
        "    encoded_sentence = text_encoder(sentence, word_map)\n",
        "    input_tensor = torch.tensor(encoded_sentence, dtype=torch.long).unsqueeze(0).to(device)  # Add batch dimension\n",
        "\n",
        "    # Get the length of the input sentence (for packing sequence)\n",
        "    text_length = torch.tensor([len(encoded_sentence)], dtype=torch.long).to(device)\n",
        "\n",
        "    # Perform inference\n",
        "    model.eval()  # Set the model to evaluation mode\n",
        "    with torch.no_grad():\n",
        "        output = model(input_tensor, text_length)  # Get the model output\n",
        "        prediction = torch.argmax(output, dim=1).item()  # Get the predicted class (0 or 1)\n",
        "\n",
        "    # Interpret the result\n",
        "    if prediction == 0:\n",
        "        return \"The sentence is classified as Non-Suicidal.\"\n",
        "    else:\n",
        "        return \"The sentence is classified as Suicidal.\""
      ]
    },
    {
      "cell_type": "code",
      "execution_count": null,
      "metadata": {
        "id": "OtDFrC_LlMHd",
        "outputId": "bfd7e3f9-31a7-409c-adc2-c3ad27b62471"
      },
      "outputs": [
        {
          "name": "stdout",
          "output_type": "stream",
          "text": [
            "The sentence is classified as Suicidal.\n"
          ]
        }
      ],
      "source": [
        "sentence = \"I feel hopeless.\"\n",
        "result = predict_sentence(sentence, model, word_map, device)\n",
        "print(result)"
      ]
    },
    {
      "cell_type": "markdown",
      "metadata": {
        "id": "xgdr8pqvlMHd"
      },
      "source": [
        "### Regression"
      ]
    },
    {
      "cell_type": "code",
      "execution_count": null,
      "metadata": {
        "id": "TkH2DMHmlMHd"
      },
      "outputs": [],
      "source": [
        "def regression_predict(sentence, model, word_map, device):\n",
        "\n",
        "    encoded_sentence = text_encoder(sentence, word_map)\n",
        "    input_tensor = torch.tensor(encoded_sentence, dtype=torch.long).unsqueeze(0).to(device)\n",
        "\n",
        "    text_length = torch.tensor([len(encoded_sentence)], dtype=torch.long).to(device)\n",
        "\n",
        "    model.eval()\n",
        "    with torch.no_grad():\n",
        "        output = model(input_tensor, text_length)  # Get the model output\n",
        "        probability = torch.sigmoid(output).squeeze().item()  # Get the probability\n",
        "\n",
        "    prediction = 1 if probability >= 0.5 else 0  # Threshold of 0.5\n",
        "    if prediction == 0:\n",
        "        result = f\"The sentence is classified as Non-Suicidal with a probability of {1 - probability:.4f}.\"\n",
        "    else:\n",
        "        result = f\"The sentence is classified as Suicidal with a probability of {probability:.4f}.\"\n",
        "\n",
        "    return result"
      ]
    },
    {
      "cell_type": "code",
      "execution_count": null,
      "metadata": {
        "id": "57rwgvsclMHd",
        "outputId": "e9f8a118-8d9f-4b63-a130-63336e2f0dba"
      },
      "outputs": [
        {
          "name": "stdout",
          "output_type": "stream",
          "text": [
            "The sentence is classified as Suicidal with a probability of 0.6399.\n"
          ]
        }
      ],
      "source": [
        "sentence = \"I feel sad.\"\n",
        "result = regression_predict(sentence, regression, word_map, device)\n",
        "print(result)"
      ]
    }
  ],
  "metadata": {
    "accelerator": "GPU",
    "colab": {
      "gpuType": "T4",
      "provenance": []
    },
    "kernelspec": {
      "display_name": "Python 3",
      "name": "python3"
    },
    "language_info": {
      "codemirror_mode": {
        "name": "ipython",
        "version": 3
      },
      "file_extension": ".py",
      "mimetype": "text/x-python",
      "name": "python",
      "nbconvert_exporter": "python",
      "pygments_lexer": "ipython3",
      "version": "3.10.12"
    }
  },
  "nbformat": 4,
  "nbformat_minor": 0
}