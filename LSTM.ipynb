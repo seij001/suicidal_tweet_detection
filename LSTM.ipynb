{
<<<<<<< HEAD
 "cells": [
  {
   "cell_type": "code",
   "execution_count": 10,
   "metadata": {},
   "outputs": [],
   "source": [
    "import torch\n",
    "import torch.nn as nn\n",
    "from torch.utils.data import Dataset, DataLoader\n",
    "from torch.nn.utils.rnn import pad_sequence\n",
    "import torch.optim as optim\n",
    "import pandas as pd\n",
    "from nltk import word_tokenize\n",
    "from sklearn.model_selection import train_test_split\n",
    "import matplotlib.pyplot as plt"
   ]
  },
  {
   "cell_type": "code",
   "execution_count": 11,
   "metadata": {},
   "outputs": [],
   "source": [
    "data_processed = pd.read_csv('tweets_preprocessed2.csv')\n",
    "# non_suicide_data = data_processed[data_processed['class'] == 'non-suicide'].sample(n=500)\n",
    "# suicide_data = data_processed[data_processed['class'] == 'suicide'].sample(n=500)\n",
    "balanced_data = data_processed # pd.concat([non_suicide_data, suicide_data])"
   ]
  },
  {
   "cell_type": "markdown",
   "metadata": {},
   "source": [
    "## Data Preprocessing"
   ]
  },
  {
   "cell_type": "code",
   "execution_count": 12,
   "metadata": {},
   "outputs": [],
   "source": [
    "all_tokens = set(i.lower() for token in balanced_data[\"text\"] for i in word_tokenize(token))\n",
    "word_map = {token: idx for idx, token in enumerate(list(all_tokens))}\n",
    "word_map['UNK'] = len(word_map)\n",
    "word_map['PAD'] = len(word_map)+1"
   ]
  },
  {
   "cell_type": "code",
   "execution_count": 13,
   "metadata": {},
   "outputs": [],
   "source": [
    "def text_encoder(sentence, word_map):\n",
    "    tokens = word_tokenize(sentence.lower())\n",
    "    encode = [word_map.get(token, word_map['UNK']) for token in tokens]\n",
    "    return encode"
   ]
  },
  {
   "cell_type": "code",
   "execution_count": 14,
   "metadata": {},
   "outputs": [],
   "source": [
    "class SuicideDataset(Dataset):\n",
    "    def __init__(self, sentences, labels, vocab):\n",
    "        self.sentences = sentences\n",
    "        self.vocab = vocab\n",
    "        self.label_mapping = {\n",
    "            'non-suicide': 0,\n",
    "            'suicide': 1\n",
    "        }\n",
    "        self.labels = [self.label_mapping[label] for label in labels]\n",
    "\n",
    "    def __len__(self):\n",
    "        return len(self.sentences)\n",
    "\n",
    "    def __getitem__(self, item):\n",
    "        sentence = self.sentences[item]\n",
    "        label = self.labels[item]\n",
    "        encoded_sentence = text_encoder(sentence, self.vocab)\n",
    "        \n",
    "        return {\n",
    "            'input_ids': torch.tensor(encoded_sentence, dtype=torch.long),\n",
    "            'label': torch.tensor(label, dtype=torch.long)\n",
    "        }\n"
   ]
  },
  {
   "cell_type": "code",
   "execution_count": 15,
   "metadata": {},
   "outputs": [],
   "source": [
    "# Pad the input_ids to the length of the longest sequence in the batch\n",
    "def collate_fn(batch):\n",
    "    input_ids = [item['input_ids'] for item in batch]\n",
    "    labels = [item['label'] for item in batch]\n",
    "\n",
    "    \n",
    "    padded_input_ids = pad_sequence(input_ids, batch_first=True, padding_value=word_map['PAD'])\n",
    "    labels = torch.stack(labels)\n",
    "    text_lengths = torch.tensor([len(ids) for ids in input_ids], dtype=torch.long)\n",
    "        \n",
    "    return {\n",
    "        'input_ids': padded_input_ids,\n",
    "        'label': labels,\n",
    "        'text_length': text_lengths\n",
    "    }"
   ]
  },
  {
   "cell_type": "code",
   "execution_count": 16,
   "metadata": {},
   "outputs": [],
   "source": [
    "# Split data\n",
    "train_data, test_data, train_label, test_label = train_test_split(\n",
    "    balanced_data['text'], balanced_data['class'], test_size=0.2, random_state=42\n",
    ")\n",
    "\n",
    "# Create datasets and dataloaders\n",
    "train_dataset = SuicideDataset(train_data.to_numpy(), train_label.to_numpy(), word_map)\n",
    "test_dataset = SuicideDataset(test_data.to_numpy(), test_label.to_numpy(), word_map)\n",
    "\n",
    "train_loader = DataLoader(train_dataset, batch_size=16, shuffle=True, collate_fn=collate_fn)\n",
    "test_loader = DataLoader(test_dataset, batch_size=16, shuffle=False, collate_fn=collate_fn)"
   ]
  },
  {
   "cell_type": "markdown",
   "metadata": {},
   "source": [
    "## Binary-Classfication LSTM"
   ]
  },
  {
   "cell_type": "code",
   "execution_count": 17,
   "metadata": {},
   "outputs": [],
   "source": [
    "class LSTM(nn.Module):\n",
    "    def __init__(self, vocab_size, embedding_dim, hidden_dim, output_dim, n_layers, bidirectional, dropout):\n",
    "        super(LSTM,self).__init__()\n",
    "        self.embedding = nn.Embedding(vocab_size+1,embedding_dim)\n",
    "        \n",
    "        self.lstm = nn.LSTM(embedding_dim,\n",
    "                            hidden_dim,\n",
    "                            num_layers = n_layers,\n",
    "                            bidirectional = bidirectional,\n",
    "                            dropout = dropout,\n",
    "                            batch_first = True\n",
    "                           )\n",
    "        self.fc = nn.Linear(hidden_dim * 2,output_dim)\n",
    "        self.batch_norm = nn.BatchNorm1d(hidden_dim * 2)\n",
    "        self.dropout = nn.Dropout(dropout)\n",
    "        self.sigmoid = nn.Sigmoid() # use sigmoid as activation function\n",
    "\n",
    "    def forward(self,text,text_lengths):\n",
    "        embedded = self.embedding(text)\n",
    "        packed_embedded = nn.utils.rnn.pack_padded_sequence(embedded, text_lengths.cpu(),batch_first=True, enforce_sorted=False)\n",
    "        packed_output,(hidden_state,cell_state) = self.lstm(packed_embedded)\n",
    "        \n",
    "        hidden = torch.cat((hidden_state[-2,:,:], hidden_state[-1,:,:]), dim = 1)\n",
    "        hidden = self.batch_norm(hidden)\n",
    "        outputs=self.sigmoid(self.fc(self.dropout(hidden)))\n",
    "        \n",
    "        return outputs"
   ]
  },
  {
   "cell_type": "code",
   "execution_count": 18,
   "metadata": {},
   "outputs": [],
   "source": [
    "# Hyperparameters\n",
    "embedding_dim = 128\n",
    "hidden_dim = 256\n",
    "output_dim = 2  # suicidal/non-suicidal\n",
    "n_layers = 2\n",
    "bidirectional = True\n",
    "dropout = 0.3"
   ]
  },
  {
   "cell_type": "code",
   "execution_count": 19,
   "metadata": {},
   "outputs": [],
   "source": [
    "model = LSTM(len(word_map), embedding_dim, hidden_dim, output_dim, n_layers, bidirectional, dropout)\n",
    "criterion = nn.CrossEntropyLoss()\n",
    "optimizer = optim.Adam(model.parameters(), lr=0.001)\n",
    "\n",
    "# Training loop\n",
    "device = torch.device('cuda' if torch.cuda.is_available() else 'cpu')\n",
    "model = model.to(device)"
   ]
  },
  {
   "cell_type": "code",
   "execution_count": 20,
   "metadata": {},
   "outputs": [],
   "source": [
    "def accuracy(preds, y):\n",
    "    rounded_preds = torch.argmax(preds, dim=1)\n",
    "    correct = (rounded_preds == y).float() \n",
    "    acc = correct.sum() / len(correct)\n",
    "    return acc"
   ]
  },
  {
   "cell_type": "code",
   "execution_count": 21,
   "metadata": {},
   "outputs": [],
   "source": [
    "def train(model,loader,optimizer,criterion):\n",
    "    epoch_loss = 0.0\n",
    "    epoch_acc = 0.0\n",
    "    \n",
    "    model.train()\n",
    "    \n",
    "    for batch in loader:\n",
    "        optimizer.zero_grad()\n",
    "        \n",
    "        input_ids = batch['input_ids'].to(device)\n",
    "        labels = batch['label'].to(device)\n",
    "        text_length = batch['text_length'].to(device)\n",
    "\n",
    "        outputs = model(input_ids, text_length)\n",
    "        loss = criterion(outputs, labels)\n",
    "        loss.backward()\n",
    "        acc = accuracy(outputs, labels)\n",
    "        optimizer.step()\n",
    "        \n",
    "        epoch_loss += loss.item()\n",
    "        epoch_acc += acc.item()\n",
    "\n",
    "    return epoch_loss / len(loader), epoch_acc / len(loader)"
   ]
  },
  {
   "cell_type": "code",
   "execution_count": 22,
   "metadata": {},
   "outputs": [],
   "source": [
    "def evaluate(model,loader,criterion): \n",
    "    epoch_loss = 0.0\n",
    "    epoch_acc = 0.0\n",
    "    model.eval()\n",
    "\n",
    "    with torch.no_grad():\n",
    "        for batch in loader:\n",
    "            input_ids = batch['input_ids'].to(device)\n",
    "            labels = batch['label'].to(device)\n",
    "            text_length = batch['text_length'].to(device)\n",
    "            \n",
    "            outputs = model(input_ids, text_length)\n",
    "\n",
    "            loss = criterion(outputs, labels)\n",
    "            acc = accuracy(outputs, labels)\n",
    "            \n",
    "            epoch_loss += loss.item()\n",
    "            epoch_acc += acc.item()\n",
    "        \n",
    "    return epoch_loss / len(loader), epoch_acc / len(loader)"
   ]
  },
  {
   "cell_type": "code",
   "execution_count": 23,
   "metadata": {},
   "outputs": [],
   "source": [
    "# EPOCH_NUMBER = 10\n",
    "# t_acc = []\n",
    "# t_loss = []\n",
    "# v_acc = []\n",
    "# v_loss = []\n",
    "\n",
    "# for epoch in range(1,EPOCH_NUMBER+1):\n",
    "    \n",
    "#     train_loss,train_acc = train(model,train_loader,optimizer,criterion)\n",
    "    \n",
    "#     valid_loss,valid_acc = evaluate(model,test_loader,criterion)\n",
    "    \n",
    "#     t_acc.append(train_acc)\n",
    "#     t_loss.append(train_loss)\n",
    "#     v_acc.append(valid_acc)\n",
    "#     v_loss.append(valid_loss)\n",
    "    \n",
    "#     print(\"Epoch\", epoch)\n",
    "#     print(f'\\tTrain Loss: {train_loss:.3f} | Train Acc: {train_acc*100:.2f}%')\n",
    "#     print(f'\\t Val. Loss: {valid_loss:.3f} |  Val. Acc: {valid_acc*100:.2f}%')\n",
    "#     print()"
   ]
  },
  {
   "cell_type": "code",
   "execution_count": 24,
   "metadata": {},
   "outputs": [],
   "source": [
    "# print(\"The best validation accuracy:\", round(max(v_acc), 2))"
   ]
  },
  {
   "cell_type": "code",
   "execution_count": 25,
   "metadata": {},
   "outputs": [],
   "source": [
    "# plt.plot(range(1, EPOCH_NUMBER+1), t_acc, v_acc)\n",
    "# plt.title(\"Accuracy\")\n",
    "# plt.legend((\"Training\", \"Validation\"))"
   ]
  },
  {
   "cell_type": "code",
   "execution_count": 26,
   "metadata": {},
   "outputs": [],
   "source": [
    "# plt.plot(range(1, EPOCH_NUMBER+1), t_loss, v_loss)\n",
    "# plt.title(\"Loss\")\n",
    "# plt.legend((\"Training\", \"Validation\"))"
   ]
  },
  {
   "cell_type": "markdown",
   "metadata": {},
   "source": [
    "# GridSearch for Binary Classification LSTM"
   ]
  },
  {
   "cell_type": "code",
   "execution_count": 31,
   "metadata": {},
   "outputs": [],
   "source": [
    "from itertools import product\n",
    "from sklearn.model_selection import KFold\n",
    "from sklearn.metrics import accuracy_score, confusion_matrix, roc_auc_score\n",
    "import numpy as np\n",
    "import torch\n",
    "from torch.utils.data import DataLoader\n",
    "\n",
    "# Define the grid of hyperparameters\n",
    "param_grid = {\n",
    "    'embedding_dim': [64, 128, 256],\n",
    "    'hidden_dim': [128, 256, 512],\n",
    "    'n_layers': [1, 2, 3],\n",
    "    'dropout': [0.2, 0.3, 0.5],\n",
    "    'learning_rate': [0.001, 0.0005, 0.0001]\n",
    "}\n"
   ]
  },
  {
   "cell_type": "code",
   "execution_count": 28,
   "metadata": {},
   "outputs": [],
   "source": [
    "# Define train_and_evaluate with updated metrics\n",
    "def train_and_evaluate(params, train_loader, val_loader):\n",
    "    embedding_dim, hidden_dim, n_layers, dropout, learning_rate = params\n",
    "\n",
    "    # Initialize model\n",
    "    model = LSTM(\n",
    "        vocab_size=len(word_map),\n",
    "        embedding_dim=embedding_dim,\n",
    "        hidden_dim=hidden_dim,\n",
    "        output_dim=2,\n",
    "        n_layers=n_layers,\n",
    "        bidirectional=True,\n",
    "        dropout=dropout\n",
    "    ).to(device)\n",
    "\n",
    "    criterion = nn.CrossEntropyLoss()\n",
    "    optimizer = torch.optim.Adam(model.parameters(), lr=learning_rate)\n",
    "\n",
    "    best_valid_metrics = {'accuracy': 0, 'roc_auc': 0, 'confusion_matrix': None}\n",
    "\n",
    "    for epoch in range(1, EPOCH_NUMBER + 1):\n",
    "        train_loss, train_acc = train(model, train_loader, optimizer, criterion)\n",
    "        valid_metrics = evaluate(model, val_loader, criterion)\n",
    "\n",
    "        # Keep track of best validation metrics\n",
    "        if valid_metrics['accuracy'] > best_valid_metrics['accuracy']:\n",
    "            best_valid_metrics = valid_metrics\n",
    "\n",
    "    return best_valid_metrics"
   ]
  },
  {
   "cell_type": "code",
   "execution_count": 29,
   "metadata": {},
   "outputs": [],
   "source": [
    "# Evaluation function for metrics\n",
    "def evaluate(model, loader, criterion):\n",
    "    model.eval()\n",
    "    all_labels, all_preds, all_probs = [], [], []\n",
    "\n",
    "    with torch.no_grad():\n",
    "        for batch in loader:\n",
    "            input_ids = batch['input_ids'].to(device)\n",
    "            labels = batch['label'].to(device)\n",
    "            text_length = batch['text_length'].to(device)\n",
    "\n",
    "            outputs = model(input_ids, text_length)\n",
    "            all_labels.extend(labels.cpu().numpy())\n",
    "            all_preds.extend(torch.argmax(outputs, dim=1).cpu().numpy())\n",
    "            all_probs.extend(outputs[:, 1].cpu().numpy())\n",
    "\n",
    "    # Metrics calculation\n",
    "    accuracy = accuracy_score(all_labels, all_preds)\n",
    "    roc_auc = roc_auc_score(all_labels, all_probs)\n",
    "    cm = confusion_matrix(all_labels, all_preds)\n",
    "\n",
    "    return {'accuracy': accuracy, 'roc_auc': roc_auc, 'confusion_matrix': cm}"
   ]
  },
  {
   "cell_type": "code",
   "execution_count": null,
   "metadata": {},
   "outputs": [],
   "source": [
    "# Modified to ignore Dropout for n_layers=1\n",
    "\n",
    "class LSTM(nn.Module):\n",
    "    def __init__(self, vocab_size, embedding_dim, hidden_dim, output_dim, n_layers, bidirectional, dropout):\n",
    "        super(LSTM, self).__init__()\n",
    "        self.embedding = nn.Embedding(vocab_size+1, embedding_dim)\n",
    "        \n",
    "        # Automatically disable dropout for single-layer LSTM\n",
    "        dropout = 0.0 if n_layers == 1 else dropout\n",
    "\n",
    "        self.lstm = nn.LSTM(\n",
    "            embedding_dim,\n",
    "            hidden_dim,\n",
    "            num_layers=n_layers,\n",
    "            bidirectional=bidirectional,\n",
    "            dropout=dropout,\n",
    "            batch_first=True\n",
    "        )\n",
    "        self.fc = nn.Linear(hidden_dim * 2 if bidirectional else hidden_dim, output_dim)\n",
    "        self.batch_norm = nn.BatchNorm1d(hidden_dim * 2 if bidirectional else hidden_dim)\n",
    "        self.dropout = nn.Dropout(dropout)\n",
    "        self.sigmoid = nn.Sigmoid()  # Sigmoid activation function for binary classification\n",
    "\n",
    "    def forward(self, text, text_lengths):\n",
    "        embedded = self.embedding(text)\n",
    "        packed_embedded = nn.utils.rnn.pack_padded_sequence(embedded, text_lengths.cpu(), batch_first=True, enforce_sorted=False)\n",
    "        packed_output, (hidden_state, cell_state) = self.lstm(packed_embedded)\n",
    "        \n",
    "        hidden = torch.cat((hidden_state[-2,:,:], hidden_state[-1,:,:]), dim=1) if self.lstm.bidirectional else hidden_state[-1,:,:]\n",
    "        hidden = self.batch_norm(hidden)\n",
    "        outputs = self.sigmoid(self.fc(self.dropout(hidden)))\n",
    "        \n",
    "        return outputs\n"
   ]
  },
  {
   "cell_type": "code",
   "execution_count": null,
   "metadata": {},
   "outputs": [],
   "source": [
    "# Grid search implementation\n",
    "results = []\n",
    "EPOCH_NUMBER = 10\n",
    "kf = KFold(n_splits=5, shuffle=True, random_state=42)\n",
    "\n",
    "# Iterate over all hyperparameter combinations\n",
    "for params in product(*param_grid.values()):\n",
    "    avg_accuracy, avg_roc_auc = [], []\n",
    "    avg_confusion_matrix = np.zeros((2, 2))\n",
    "\n",
    "    # Cross-validation\n",
    "    for train_idx, val_idx in kf.split(balanced_data):\n",
    "        train_data_split = balanced_data.iloc[train_idx]\n",
    "        val_data_split = balanced_data.iloc[val_idx]\n",
    "\n",
    "        # Create datasets and dataloaders\n",
    "        train_dataset = SuicideDataset(train_data_split['text'].to_numpy(),\n",
    "                                       train_data_split['class'].to_numpy(),\n",
    "                                       word_map)\n",
    "        val_dataset = SuicideDataset(val_data_split['text'].to_numpy(),\n",
    "                                     val_data_split['class'].to_numpy(),\n",
    "                                     word_map)\n",
    "\n",
    "        train_loader = DataLoader(train_dataset, batch_size=16, shuffle=True, collate_fn=collate_fn)\n",
    "        val_loader = DataLoader(val_dataset, batch_size=16, shuffle=False, collate_fn=collate_fn)\n",
    "\n",
    "        # Train and evaluate\n",
    "        metrics = train_and_evaluate(params, train_loader, val_loader)\n",
    "        avg_accuracy.append(metrics['accuracy'])\n",
    "        avg_roc_auc.append(metrics['roc_auc'])\n",
    "        avg_confusion_matrix += metrics['confusion_matrix']\n",
    "\n",
    "    # Average metrics across folds\n",
    "    avg_accuracy = np.mean(avg_accuracy)\n",
    "    avg_roc_auc = np.mean(avg_roc_auc)\n",
    "    avg_confusion_matrix /= kf.get_n_splits()\n",
    "\n",
    "    results.append((params, avg_accuracy, avg_roc_auc, avg_confusion_matrix))"
   ]
  },
  {
   "cell_type": "code",
   "execution_count": null,
   "metadata": {},
   "outputs": [],
   "source": [
    "# Find the best parameters\n",
    "best_params, best_accuracy, best_roc_auc, best_cm = max(results, key=lambda x: x[1])\n",
    "print(\"Best Parameters:\", best_params)\n",
    "print(f\"Best Validation Accuracy: {best_accuracy:.4f}\")\n",
    "print(f\"Best Validation ROC AUC: {best_roc_auc:.4f}\")\n",
    "print(\"Best Confusion Matrix:\\n\", best_cm)"
   ]
  },
  {
   "cell_type": "markdown",
   "metadata": {},
   "source": [
    "## Regression LSTM"
   ]
  },
  {
   "cell_type": "code",
   "execution_count": 16,
   "metadata": {},
   "outputs": [],
   "source": [
    "# # Hyperparameters\n",
    "# embedding_dim = 128\n",
    "# hidden_dim = 256\n",
    "# output_dim = 1  # probability\n",
    "# n_layers = 2\n",
    "# bidirectional = True\n",
    "# dropout = 0.3"
   ]
  },
  {
   "cell_type": "code",
   "execution_count": 17,
   "metadata": {},
   "outputs": [],
   "source": [
    "# regression = LSTM(len(word_map), embedding_dim, hidden_dim, output_dim, n_layers, bidirectional, dropout)\n",
    "# criterion = nn.BCELoss()\n",
    "# optimizer = optim.Adam(regression.parameters(), lr=0.001)\n",
    "\n",
    "# # Training loop\n",
    "# device = torch.device('cuda' if torch.cuda.is_available() else 'cpu')\n",
    "# regression = regression.to(device)"
   ]
  },
  {
   "cell_type": "code",
   "execution_count": 18,
   "metadata": {},
   "outputs": [],
   "source": [
    "# def re_accuracy(preds, y, threshold=0.5):\n",
    "#     rounded_preds = (preds > threshold).float()  # Convert probabilities to binary predictions\n",
    "#     correct = (rounded_preds == y).float()\n",
    "#     acc = correct.sum() / len(correct)\n",
    "#     return acc"
   ]
  },
  {
   "cell_type": "code",
   "execution_count": 19,
   "metadata": {},
   "outputs": [],
   "source": [
    "# def re_train(model,loader,optimizer,criterion):\n",
    "#     epoch_loss = 0.0\n",
    "#     epoch_acc = 0.0\n",
    "    \n",
    "#     model.train()\n",
    "    \n",
    "#     for batch in loader:\n",
    "#         optimizer.zero_grad()\n",
    "        \n",
    "#         input_ids = batch['input_ids'].to(device)\n",
    "#         labels = batch['label'].float().to(device)\n",
    "#         text_length = batch['text_length'].to(device)\n",
    "\n",
    "#         outputs = model(input_ids, text_length).squeeze(1)\n",
    "#         loss = criterion(outputs, labels)\n",
    "#         loss.backward()\n",
    "#         acc = re_accuracy(outputs, labels)\n",
    "#         optimizer.step()\n",
    "        \n",
    "#         epoch_loss += loss.item()\n",
    "#         epoch_acc += acc.item()\n",
    "\n",
    "#     return epoch_loss / len(loader), epoch_acc / len(loader)"
   ]
  },
  {
   "cell_type": "code",
   "execution_count": 20,
   "metadata": {},
   "outputs": [],
   "source": [
    "# def re_evaluate(model,loader,criterion): \n",
    "#     epoch_loss = 0.0\n",
    "#     epoch_acc = 0.0\n",
    "#     model.eval()\n",
    "\n",
    "#     with torch.no_grad():\n",
    "#         for batch in loader:\n",
    "#             input_ids = batch['input_ids'].to(device)\n",
    "#             labels = batch['label'].float().to(device)\n",
    "#             text_length = batch['text_length'].to(device)\n",
    "            \n",
    "#             outputs = model(input_ids, text_length).squeeze(1)\n",
    "\n",
    "#             loss = criterion(outputs, labels)\n",
    "#             acc = re_accuracy(outputs, labels)\n",
    "            \n",
    "#             epoch_loss += loss.item()\n",
    "#             epoch_acc += acc.item()\n",
    "        \n",
    "#     return epoch_loss / len(loader), epoch_acc / len(loader)"
   ]
  },
  {
   "cell_type": "code",
   "execution_count": 22,
   "metadata": {},
   "outputs": [
    {
     "name": "stdout",
     "output_type": "stream",
     "text": [
      "Epoch 1\n",
      "\tTrain Loss: 0.671 | Train Acc: 66.88%\n",
      "\t Val. Loss: 0.528 |  Val. Acc: 71.63%\n",
      "\n",
      "Epoch 2\n",
      "\tTrain Loss: 0.355 | Train Acc: 85.12%\n",
      "\t Val. Loss: 0.849 |  Val. Acc: 59.62%\n",
      "\n",
      "Epoch 3\n",
      "\tTrain Loss: 0.254 | Train Acc: 89.38%\n",
      "\t Val. Loss: 0.846 |  Val. Acc: 72.60%\n",
      "\n",
      "Epoch 4\n",
      "\tTrain Loss: 0.139 | Train Acc: 95.12%\n",
      "\t Val. Loss: 0.861 |  Val. Acc: 69.23%\n",
      "\n",
      "Epoch 5\n",
      "\tTrain Loss: 0.107 | Train Acc: 96.25%\n",
      "\t Val. Loss: 1.493 |  Val. Acc: 58.17%\n",
      "\n",
      "Epoch 6\n",
      "\tTrain Loss: 0.096 | Train Acc: 96.50%\n",
      "\t Val. Loss: 0.826 |  Val. Acc: 74.52%\n",
      "\n",
      "Epoch 7\n",
      "\tTrain Loss: 0.062 | Train Acc: 98.12%\n",
      "\t Val. Loss: 0.766 |  Val. Acc: 76.92%\n",
      "\n",
      "Epoch 8\n",
      "\tTrain Loss: 0.034 | Train Acc: 98.88%\n",
      "\t Val. Loss: 0.832 |  Val. Acc: 76.92%\n",
      "\n",
      "Epoch 9\n",
      "\tTrain Loss: 0.028 | Train Acc: 99.00%\n",
      "\t Val. Loss: 0.941 |  Val. Acc: 75.00%\n",
      "\n",
      "Epoch 10\n",
      "\tTrain Loss: 0.059 | Train Acc: 98.00%\n",
      "\t Val. Loss: 0.959 |  Val. Acc: 76.44%\n",
      "\n"
     ]
    }
   ],
   "source": [
    "# EPOCH_NUMBER = 10\n",
    "# t_acc = []\n",
    "# t_loss = []\n",
    "# v_acc = []\n",
    "# v_loss = []\n",
    "\n",
    "# for epoch in range(1,EPOCH_NUMBER+1):\n",
    "    \n",
    "#     train_loss,train_acc = re_train(regression,train_loader,optimizer,criterion)\n",
    "    \n",
    "#     valid_loss,valid_acc = re_evaluate(regression,test_loader,criterion)\n",
    "    \n",
    "#     t_acc.append(train_acc)\n",
    "#     t_loss.append(train_loss)\n",
    "#     v_acc.append(valid_acc)\n",
    "#     v_loss.append(valid_loss)\n",
    "    \n",
    "#     print(\"Epoch\", epoch)\n",
    "#     print(f'\\tTrain Loss: {train_loss:.3f} | Train Acc: {train_acc*100:.2f}%')\n",
    "#     print(f'\\t Val. Loss: {valid_loss:.3f} |  Val. Acc: {valid_acc*100:.2f}%')\n",
    "#     print()"
   ]
  },
  {
   "cell_type": "code",
   "execution_count": 23,
   "metadata": {},
   "outputs": [
    {
     "data": {
      "text/plain": [
       "<matplotlib.legend.Legend at 0x322616190>"
      ]
     },
     "execution_count": 23,
     "metadata": {},
     "output_type": "execute_result"
=======
  "cells": [
    {
      "cell_type": "code",
      "execution_count": 1,
      "metadata": {
        "id": "D-rdZi73dPRC"
      },
      "outputs": [],
      "source": [
        "import torch\n",
        "import torch.nn as nn\n",
        "from torch.utils.data import Dataset, DataLoader\n",
        "from torch.nn.utils.rnn import pad_sequence\n",
        "import torch.optim as optim\n",
        "import pandas as pd\n",
        "from nltk import word_tokenize\n",
        "from sklearn.model_selection import train_test_split\n",
        "import matplotlib.pyplot as plt"
      ]
    },
    {
      "cell_type": "code",
      "execution_count": 5,
      "metadata": {
        "id": "XfZCGP6sdPRD"
      },
      "outputs": [],
      "source": [
        "data_processed = pd.read_csv('tweets_preprocessed2.csv', on_bad_lines='skip')\n",
        "non_suicide_data = data_processed[data_processed['class'] == 'non-suicide'].sample(n=4000)\n",
        "suicide_data = data_processed[data_processed['class'] == 'suicide'].sample(n=4000)\n",
        "balanced_data = pd.concat([non_suicide_data, suicide_data])"
      ]
    },
    {
      "cell_type": "markdown",
      "metadata": {
        "id": "clmvXBDNdPRE"
      },
      "source": [
        "## Data Preprocessing"
      ]
>>>>>>> a4b1e25d6a744cc3d733f3562b41ee05424121a7
    },
    {
      "cell_type": "code",
      "execution_count": 12,
      "metadata": {
        "id": "nI_YYfWddPRE"
      },
      "outputs": [],
      "source": [
        "all_tokens = set(i.lower() for token in balanced_data[\"text\"] for i in word_tokenize(token))\n",
        "word_map = {token: idx for idx, token in enumerate(list(all_tokens))}\n",
        "word_map['UNK'] = len(word_map)\n",
        "word_map['PAD'] = len(word_map)+1"
      ]
<<<<<<< HEAD
     },
     "metadata": {},
     "output_type": "display_data"
    }
   ],
   "source": [
    "# plt.plot(range(1, EPOCH_NUMBER+1), t_acc, v_acc)\n",
    "# plt.title(\"Accuracy\")\n",
    "# plt.legend((\"Training\", \"Validation\"))"
   ]
  },
  {
   "cell_type": "markdown",
   "metadata": {},
   "source": [
    "## Inference"
   ]
  },
  {
   "cell_type": "markdown",
   "metadata": {},
   "source": [
    "### Binary Classfication"
   ]
  },
  {
   "cell_type": "code",
   "execution_count": 488,
   "metadata": {},
   "outputs": [],
   "source": [
    "# def predict_sentence(sentence, model, word_map, device):\n",
    "#     # Preprocess the sentence\n",
    "#     encoded_sentence = text_encoder(sentence, word_map)\n",
    "#     input_tensor = torch.tensor(encoded_sentence, dtype=torch.long).unsqueeze(0).to(device)  # Add batch dimension\n",
    "\n",
    "#     # Get the length of the input sentence (for packing sequence)\n",
    "#     text_length = torch.tensor([len(encoded_sentence)], dtype=torch.long).to(device)\n",
    "\n",
    "#     # Perform inference\n",
    "#     model.eval()  # Set the model to evaluation mode\n",
    "#     with torch.no_grad():\n",
    "#         output = model(input_tensor, text_length)  # Get the model output\n",
    "#         prediction = torch.argmax(output, dim=1).item()  # Get the predicted class (0 or 1)\n",
    "\n",
    "#     # Interpret the result\n",
    "#     if prediction == 0:\n",
    "#         return \"The sentence is classified as Non-Suicidal.\"\n",
    "#     else:\n",
    "#         return \"The sentence is classified as Suicidal.\""
   ]
  },
  {
   "cell_type": "code",
   "execution_count": 489,
   "metadata": {},
   "outputs": [
    {
     "name": "stdout",
     "output_type": "stream",
     "text": [
      "The sentence is classified as Suicidal.\n"
     ]
    }
   ],
   "source": [
    "# sentence = \"I feel hopeless.\"\n",
    "# result = predict_sentence(sentence, model, word_map, device)\n",
    "# print(result)"
   ]
  },
  {
   "cell_type": "markdown",
   "metadata": {},
   "source": [
    "### Regression"
   ]
  },
  {
   "cell_type": "code",
   "execution_count": 24,
   "metadata": {},
   "outputs": [],
   "source": [
    "# def regression_predict(sentence, model, word_map, device):\n",
    "\n",
    "#     encoded_sentence = text_encoder(sentence, word_map)\n",
    "#     input_tensor = torch.tensor(encoded_sentence, dtype=torch.long).unsqueeze(0).to(device)\n",
    "\n",
    "#     text_length = torch.tensor([len(encoded_sentence)], dtype=torch.long).to(device)\n",
    "\n",
    "#     model.eval()\n",
    "#     with torch.no_grad():\n",
    "#         output = model(input_tensor, text_length)  # Get the model output\n",
    "#         probability = torch.sigmoid(output).squeeze().item()  # Get the probability\n",
    "\n",
    "#     prediction = 1 if probability >= 0.5 else 0  # Threshold of 0.5\n",
    "#     if prediction == 0:\n",
    "#         result = f\"The sentence is classified as Non-Suicidal with a probability of {1 - probability:.4f}.\"\n",
    "#     else:\n",
    "#         result = f\"The sentence is classified as Suicidal with a probability of {probability:.4f}.\"\n",
    "\n",
    "#     return result"
   ]
  },
  {
   "cell_type": "code",
   "execution_count": 26,
   "metadata": {},
   "outputs": [
=======
    },
    {
      "cell_type": "code",
      "execution_count": 13,
      "metadata": {
        "id": "nyL1t8M3dPRF"
      },
      "outputs": [],
      "source": [
        "def text_encoder(sentence, word_map):\n",
        "    tokens = word_tokenize(sentence.lower())\n",
        "    encode = [word_map.get(token, word_map['UNK']) for token in tokens]\n",
        "    return encode"
      ]
    },
>>>>>>> a4b1e25d6a744cc3d733f3562b41ee05424121a7
    {
      "cell_type": "code",
      "execution_count": 14,
      "metadata": {
        "id": "ZAghGh3cdPRF"
      },
      "outputs": [],
      "source": [
        "class SuicideDataset(Dataset):\n",
        "    def __init__(self, sentences, labels, vocab):\n",
        "        self.sentences = sentences\n",
        "        self.vocab = vocab\n",
        "        self.label_mapping = {\n",
        "            'non-suicide': 0,\n",
        "            'suicide': 1\n",
        "        }\n",
        "        self.labels = [self.label_mapping[label] for label in labels]\n",
        "\n",
        "    def __len__(self):\n",
        "        return len(self.sentences)\n",
        "\n",
        "    def __getitem__(self, item):\n",
        "        sentence = self.sentences[item]\n",
        "        label = self.labels[item]\n",
        "        encoded_sentence = text_encoder(sentence, self.vocab)\n",
        "\n",
        "        return {\n",
        "            'input_ids': torch.tensor(encoded_sentence, dtype=torch.long),\n",
        "            'label': torch.tensor(label, dtype=torch.long)\n",
        "        }\n"
      ]
    },
    {
      "cell_type": "code",
      "execution_count": 15,
      "metadata": {
        "id": "OevowC0_dPRG"
      },
      "outputs": [],
      "source": [
        "# Pad the input_ids to the length of the longest sequence in the batch\n",
        "def collate_fn(batch):\n",
        "    input_ids = [item['input_ids'] for item in batch]\n",
        "    labels = [item['label'] for item in batch]\n",
        "\n",
        "\n",
        "    padded_input_ids = pad_sequence(input_ids, batch_first=True, padding_value=word_map['PAD'])\n",
        "    labels = torch.stack(labels)\n",
        "    text_lengths = torch.tensor([len(ids) for ids in input_ids], dtype=torch.long)\n",
        "\n",
        "    return {\n",
        "        'input_ids': padded_input_ids,\n",
        "        'label': labels,\n",
        "        'text_length': text_lengths\n",
        "    }"
      ]
    },
    {
      "cell_type": "code",
      "execution_count": 16,
      "metadata": {
        "id": "aoG35f77dPRH"
      },
      "outputs": [],
      "source": [
        "# Split data\n",
        "train_data, test_data, train_label, test_label = train_test_split(\n",
        "    balanced_data['text'], balanced_data['class'], test_size=0.2, random_state=42\n",
        ")\n",
        "\n",
        "# Create datasets and dataloaders\n",
        "train_dataset = SuicideDataset(train_data.to_numpy(), train_label.to_numpy(), word_map)\n",
        "test_dataset = SuicideDataset(test_data.to_numpy(), test_label.to_numpy(), word_map)\n",
        "\n",
        "train_loader = DataLoader(train_dataset, batch_size=16, shuffle=True, collate_fn=collate_fn)\n",
        "test_loader = DataLoader(test_dataset, batch_size=16, shuffle=False, collate_fn=collate_fn)"
      ]
    },
    {
      "cell_type": "markdown",
      "metadata": {
        "id": "Uvq0HorkdPRH"
      },
      "source": [
        "## Binary-Classfication LSTM"
      ]
    },
    {
      "cell_type": "code",
      "execution_count": 17,
      "metadata": {
        "id": "TmAfO4p-dPRI"
      },
      "outputs": [],
      "source": [
        "class LSTM(nn.Module):\n",
        "    def __init__(self, vocab_size, embedding_dim, hidden_dim, output_dim, n_layers, bidirectional, dropout):\n",
        "        super(LSTM,self).__init__()\n",
        "        self.embedding = nn.Embedding(vocab_size+1,embedding_dim)\n",
        "\n",
        "        self.lstm = nn.LSTM(embedding_dim,\n",
        "                            hidden_dim,\n",
        "                            num_layers = n_layers,\n",
        "                            bidirectional = bidirectional,\n",
        "                            dropout = dropout,\n",
        "                            batch_first = True\n",
        "                           )\n",
        "        self.fc = nn.Linear(hidden_dim * 2,output_dim)\n",
        "        self.batch_norm = nn.BatchNorm1d(hidden_dim * 2)\n",
        "        self.dropout = nn.Dropout(dropout)\n",
        "        self.sigmoid = nn.Sigmoid() # use sigmoid as activation function\n",
        "\n",
        "    def forward(self,text,text_lengths):\n",
        "        embedded = self.embedding(text)\n",
        "        packed_embedded = nn.utils.rnn.pack_padded_sequence(embedded, text_lengths.cpu(),batch_first=True, enforce_sorted=False)\n",
        "        packed_output,(hidden_state,cell_state) = self.lstm(packed_embedded)\n",
        "\n",
        "        hidden = torch.cat((hidden_state[-2,:,:], hidden_state[-1,:,:]), dim = 1)\n",
        "        hidden = self.batch_norm(hidden)\n",
        "        outputs=self.sigmoid(self.fc(self.dropout(hidden)))\n",
        "\n",
        "        return outputs"
      ]
    },
    {
      "cell_type": "code",
      "execution_count": null,
      "metadata": {
        "id": "TtsuF8ANdPRI"
      },
      "outputs": [],
      "source": [
        "# Hyperparameters\n",
        "embedding_dim = 128\n",
        "hidden_dim = 256\n",
        "output_dim = 2  # suicidal/non-suicidal\n",
        "n_layers = 2\n",
        "bidirectional = True\n",
        "dropout = 0.3"
      ]
    },
    {
      "cell_type": "code",
      "execution_count": null,
      "metadata": {
        "id": "M3cnAH7IdPRI"
      },
      "outputs": [],
      "source": [
        "model = LSTM(len(word_map), embedding_dim, hidden_dim, output_dim, n_layers, bidirectional, dropout)\n",
        "criterion = nn.CrossEntropyLoss()\n",
        "optimizer = optim.Adam(model.parameters(), lr=0.001)\n",
        "\n",
        "# Training loop\n",
        "device = torch.device('cuda' if torch.cuda.is_available() else 'cpu')\n",
        "model = model.to(device)"
      ]
    },
    {
      "cell_type": "code",
      "execution_count": null,
      "metadata": {
        "id": "8kVShO9ZdPRI"
      },
      "outputs": [],
      "source": [
        "def accuracy(preds, y):\n",
        "    rounded_preds = torch.argmax(preds, dim=1)\n",
        "    correct = (rounded_preds == y).float()\n",
        "    acc = correct.sum() / len(correct)\n",
        "    return acc"
      ]
    },
    {
      "cell_type": "code",
      "execution_count": null,
      "metadata": {
        "id": "-bjs9KZ8dPRI"
      },
      "outputs": [],
      "source": [
        "def train(model,loader,optimizer,criterion):\n",
        "    epoch_loss = 0.0\n",
        "    epoch_acc = 0.0\n",
        "\n",
        "    model.train()\n",
        "\n",
        "    for batch in loader:\n",
        "        optimizer.zero_grad()\n",
        "\n",
        "        input_ids = batch['input_ids'].to(device)\n",
        "        labels = batch['label'].to(device)\n",
        "        text_length = batch['text_length'].to(device)\n",
        "\n",
        "        outputs = model(input_ids, text_length)\n",
        "        loss = criterion(outputs, labels)\n",
        "        loss.backward()\n",
        "        acc = accuracy(outputs, labels)\n",
        "        optimizer.step()\n",
        "\n",
        "        epoch_loss += loss.item()\n",
        "        epoch_acc += acc.item()\n",
        "\n",
        "    return epoch_loss / len(loader), epoch_acc / len(loader)"
      ]
    },
    {
      "cell_type": "code",
      "execution_count": null,
      "metadata": {
        "id": "Zz3MRY63dPRI"
      },
      "outputs": [],
      "source": [
        "def evaluate(model,loader,criterion):\n",
        "    epoch_loss = 0.0\n",
        "    epoch_acc = 0.0\n",
        "    model.eval()\n",
        "\n",
        "    with torch.no_grad():\n",
        "        for batch in loader:\n",
        "            input_ids = batch['input_ids'].to(device)\n",
        "            labels = batch['label'].to(device)\n",
        "            text_length = batch['text_length'].to(device)\n",
        "\n",
        "            outputs = model(input_ids, text_length)\n",
        "\n",
        "            loss = criterion(outputs, labels)\n",
        "            acc = accuracy(outputs, labels)\n",
        "\n",
        "            epoch_loss += loss.item()\n",
        "            epoch_acc += acc.item()\n",
        "\n",
        "    return epoch_loss / len(loader), epoch_acc / len(loader)"
      ]
    },
    {
      "cell_type": "code",
      "execution_count": null,
      "metadata": {
        "id": "RuggQqy4dPRJ",
        "outputId": "63f99ced-eeff-4b60-a71d-ad5e16e66560"
      },
      "outputs": [
        {
          "name": "stdout",
          "output_type": "stream",
          "text": [
            "Epoch 1\n",
            "\tTrain Loss: 0.584 | Train Acc: 71.38%\n",
            "\t Val. Loss: 0.617 |  Val. Acc: 67.79%\n",
            "\n",
            "Epoch 2\n",
            "\tTrain Loss: 0.492 | Train Acc: 81.12%\n",
            "\t Val. Loss: 0.593 |  Val. Acc: 70.19%\n",
            "\n",
            "Epoch 3\n",
            "\tTrain Loss: 0.451 | Train Acc: 85.38%\n",
            "\t Val. Loss: 0.511 |  Val. Acc: 79.81%\n",
            "\n",
            "Epoch 4\n",
            "\tTrain Loss: 0.401 | Train Acc: 91.88%\n",
            "\t Val. Loss: 0.524 |  Val. Acc: 77.88%\n",
            "\n",
            "Epoch 5\n",
            "\tTrain Loss: 0.388 | Train Acc: 92.50%\n",
            "\t Val. Loss: 0.489 |  Val. Acc: 82.69%\n",
            "\n",
            "Epoch 6\n",
            "\tTrain Loss: 0.368 | Train Acc: 94.88%\n",
            "\t Val. Loss: 0.539 |  Val. Acc: 74.52%\n",
            "\n",
            "Epoch 7\n",
            "\tTrain Loss: 0.361 | Train Acc: 95.25%\n",
            "\t Val. Loss: 0.499 |  Val. Acc: 80.29%\n",
            "\n",
            "Epoch 8\n",
            "\tTrain Loss: 0.356 | Train Acc: 95.75%\n",
            "\t Val. Loss: 0.481 |  Val. Acc: 83.17%\n",
            "\n",
            "Epoch 9\n",
            "\tTrain Loss: 0.346 | Train Acc: 97.00%\n",
            "\t Val. Loss: 0.496 |  Val. Acc: 82.21%\n",
            "\n",
            "Epoch 10\n",
            "\tTrain Loss: 0.423 | Train Acc: 89.12%\n",
            "\t Val. Loss: 0.612 |  Val. Acc: 68.75%\n",
            "\n"
          ]
        }
      ],
      "source": [
        "EPOCH_NUMBER = 10\n",
        "t_acc = []\n",
        "t_loss = []\n",
        "v_acc = []\n",
        "v_loss = []\n",
        "\n",
        "for epoch in range(1,EPOCH_NUMBER+1):\n",
        "\n",
        "    train_loss,train_acc = train(model,train_loader,optimizer,criterion)\n",
        "\n",
        "    valid_loss,valid_acc = evaluate(model,test_loader,criterion)\n",
        "\n",
        "    t_acc.append(train_acc)\n",
        "    t_loss.append(train_loss)\n",
        "    v_acc.append(valid_acc)\n",
        "    v_loss.append(valid_loss)\n",
        "\n",
        "    print(\"Epoch\", epoch)\n",
        "    print(f'\\tTrain Loss: {train_loss:.3f} | Train Acc: {train_acc*100:.2f}%')\n",
        "    print(f'\\t Val. Loss: {valid_loss:.3f} |  Val. Acc: {valid_acc*100:.2f}%')\n",
        "    print()"
      ]
    },
    {
      "cell_type": "code",
      "execution_count": null,
      "metadata": {
        "id": "isMp_IMedPRJ",
        "outputId": "751f3903-270e-41b3-ea03-de0da463447a"
      },
      "outputs": [
        {
          "name": "stdout",
          "output_type": "stream",
          "text": [
            "The best validation accuracy: 0.83\n"
          ]
        }
      ],
      "source": [
        "print(\"The best validation accuracy:\", round(max(v_acc), 2))"
      ]
    },
    {
      "cell_type": "code",
      "execution_count": null,
      "metadata": {
        "id": "3T9iqHoTdPRJ",
        "outputId": "bba7dcb2-0090-4586-8ce9-dc86c1fd2776"
      },
      "outputs": [
        {
          "data": {
            "text/plain": [
              "<matplotlib.legend.Legend at 0x3645c3550>"
            ]
          },
          "execution_count": 486,
          "metadata": {},
          "output_type": "execute_result"
        },
        {
          "data": {
            "image/png": "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",
            "text/plain": [
              "<Figure size 640x480 with 1 Axes>"
            ]
          },
          "metadata": {},
          "output_type": "display_data"
        }
      ],
      "source": [
        "plt.plot(range(1, EPOCH_NUMBER+1), t_acc, v_acc)\n",
        "plt.title(\"Accuracy\")\n",
        "plt.legend((\"Training\", \"Validation\"))"
      ]
    },
    {
      "cell_type": "code",
      "execution_count": null,
      "metadata": {
        "id": "CkSwvQs-dPRJ",
        "outputId": "48b21a52-90e3-4518-eeb7-9f6c21a0661f"
      },
      "outputs": [
        {
          "data": {
            "text/plain": [
              "<matplotlib.legend.Legend at 0x330212310>"
            ]
          },
          "execution_count": 487,
          "metadata": {},
          "output_type": "execute_result"
        },
        {
          "data": {
            "image/png": "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",
            "text/plain": [
              "<Figure size 640x480 with 1 Axes>"
            ]
          },
          "metadata": {},
          "output_type": "display_data"
        }
      ],
      "source": [
        "plt.plot(range(1, EPOCH_NUMBER+1), t_loss, v_loss)\n",
        "plt.title(\"Loss\")\n",
        "plt.legend((\"Training\", \"Validation\"))"
      ]
    },
    {
      "cell_type": "markdown",
      "metadata": {
        "id": "tGzQSvOtdPRK"
      },
      "source": [
        "## Regression LSTM"
      ]
    },
    {
      "cell_type": "code",
      "execution_count": 27,
      "metadata": {
        "id": "mdJ6LR7udPRK"
      },
      "outputs": [],
      "source": [
        "# Hyperparameters\n",
        "embedding_dim = 128\n",
        "hidden_dim = 256\n",
        "output_dim = 1  # probability\n",
        "n_layers = 2\n",
        "bidirectional = True\n",
        "dropout = 0.3"
      ]
    },
    {
      "cell_type": "code",
      "execution_count": 28,
      "metadata": {
        "id": "-8MHIS-BdPRK"
      },
      "outputs": [],
      "source": [
        "regression = LSTM(len(word_map), embedding_dim, hidden_dim, output_dim, n_layers, bidirectional, dropout)\n",
        "criterion = nn.BCELoss()\n",
        "optimizer = optim.Adam(regression.parameters(), lr=0.001)\n",
        "\n",
        "# Training loop\n",
        "device = torch.device('cuda' if torch.cuda.is_available() else 'cpu')\n",
        "regression = regression.to(device)"
      ]
    },
    {
      "cell_type": "code",
      "execution_count": 29,
      "metadata": {
        "id": "CR7poaaSdPRK"
      },
      "outputs": [],
      "source": [
        "def re_accuracy(preds, y, threshold=0.5):\n",
        "    rounded_preds = (preds > threshold).float()  # Convert probabilities to binary predictions\n",
        "    correct = (rounded_preds == y).float()\n",
        "    acc = correct.sum() / len(correct)\n",
        "    return acc"
      ]
    },
    {
      "cell_type": "code",
      "execution_count": 30,
      "metadata": {
        "id": "shhFm2KYdPRK"
      },
      "outputs": [],
      "source": [
        "def re_train(model,loader,optimizer,criterion):\n",
        "    epoch_loss = 0.0\n",
        "    epoch_acc = 0.0\n",
        "\n",
        "    model.train()\n",
        "\n",
        "    for batch in loader:\n",
        "        optimizer.zero_grad()\n",
        "\n",
        "        input_ids = batch['input_ids'].to(device)\n",
        "        labels = batch['label'].float().to(device)\n",
        "        text_length = batch['text_length'].to(device)\n",
        "\n",
        "        outputs = model(input_ids, text_length).squeeze(1)\n",
        "        loss = criterion(outputs, labels)\n",
        "        loss.backward()\n",
        "        acc = re_accuracy(outputs, labels)\n",
        "        optimizer.step()\n",
        "\n",
        "        epoch_loss += loss.item()\n",
        "        epoch_acc += acc.item()\n",
        "\n",
        "    return epoch_loss / len(loader), epoch_acc / len(loader)"
      ]
    },
    {
      "cell_type": "code",
      "execution_count": 31,
      "metadata": {
        "id": "WHC0-mFIdPRK"
      },
      "outputs": [],
      "source": [
        "def re_evaluate(model,loader,criterion):\n",
        "    epoch_loss = 0.0\n",
        "    epoch_acc = 0.0\n",
        "    model.eval()\n",
        "\n",
        "    with torch.no_grad():\n",
        "        for batch in loader:\n",
        "            input_ids = batch['input_ids'].to(device)\n",
        "            labels = batch['label'].float().to(device)\n",
        "            text_length = batch['text_length'].to(device)\n",
        "\n",
        "            outputs = model(input_ids, text_length).squeeze(1)\n",
        "\n",
        "            loss = criterion(outputs, labels)\n",
        "            acc = re_accuracy(outputs, labels)\n",
        "\n",
        "            epoch_loss += loss.item()\n",
        "            epoch_acc += acc.item()\n",
        "\n",
        "    return epoch_loss / len(loader), epoch_acc / len(loader)"
      ]
    },
    {
      "cell_type": "code",
      "execution_count": 32,
      "metadata": {
        "colab": {
          "base_uri": "https://localhost:8080/"
        },
        "id": "ms_WbShkdPRK",
        "outputId": "d9b459b3-32e4-4e96-f968-975d34da51a6"
      },
      "outputs": [
        {
          "output_type": "stream",
          "name": "stdout",
          "text": [
            "Epoch 1\n",
            "\tTrain Loss: 0.509 | Train Acc: 76.05%\n",
            "\t Val. Loss: 0.436 |  Val. Acc: 79.94%\n",
            "\n",
            "Epoch 2\n",
            "\tTrain Loss: 0.384 | Train Acc: 84.00%\n",
            "\t Val. Loss: 0.319 |  Val. Acc: 86.56%\n",
            "\n",
            "Epoch 3\n",
            "\tTrain Loss: 0.289 | Train Acc: 88.31%\n",
            "\t Val. Loss: 0.313 |  Val. Acc: 87.56%\n",
            "\n",
            "Epoch 4\n",
            "\tTrain Loss: 0.211 | Train Acc: 92.03%\n",
            "\t Val. Loss: 0.317 |  Val. Acc: 89.25%\n",
            "\n",
            "Epoch 5\n",
            "\tTrain Loss: 0.201 | Train Acc: 92.39%\n",
            "\t Val. Loss: 0.494 |  Val. Acc: 83.62%\n",
            "\n",
            "Epoch 6\n",
            "\tTrain Loss: 0.137 | Train Acc: 95.12%\n",
            "\t Val. Loss: 0.305 |  Val. Acc: 89.00%\n",
            "\n",
            "Epoch 7\n",
            "\tTrain Loss: 0.085 | Train Acc: 97.30%\n",
            "\t Val. Loss: 0.363 |  Val. Acc: 88.38%\n",
            "\n",
            "Epoch 8\n",
            "\tTrain Loss: 0.055 | Train Acc: 98.16%\n",
            "\t Val. Loss: 0.405 |  Val. Acc: 90.00%\n",
            "\n",
            "Epoch 9\n",
            "\tTrain Loss: 0.040 | Train Acc: 98.70%\n",
            "\t Val. Loss: 0.420 |  Val. Acc: 89.50%\n",
            "\n",
            "Epoch 10\n",
            "\tTrain Loss: 0.039 | Train Acc: 98.77%\n",
            "\t Val. Loss: 0.483 |  Val. Acc: 89.50%\n",
            "\n",
            "Epoch 11\n",
            "\tTrain Loss: 0.034 | Train Acc: 99.06%\n",
            "\t Val. Loss: 0.436 |  Val. Acc: 88.12%\n",
            "\n",
            "Epoch 12\n",
            "\tTrain Loss: 0.027 | Train Acc: 99.05%\n",
            "\t Val. Loss: 0.561 |  Val. Acc: 88.69%\n",
            "\n",
            "Epoch 13\n",
            "\tTrain Loss: 0.034 | Train Acc: 99.09%\n",
            "\t Val. Loss: 0.467 |  Val. Acc: 89.25%\n",
            "\n",
            "Epoch 14\n",
            "\tTrain Loss: 0.017 | Train Acc: 99.55%\n",
            "\t Val. Loss: 0.622 |  Val. Acc: 88.19%\n",
            "\n",
            "Epoch 15\n",
            "\tTrain Loss: 0.019 | Train Acc: 99.45%\n",
            "\t Val. Loss: 0.588 |  Val. Acc: 88.44%\n",
            "\n",
            "Epoch 16\n",
            "\tTrain Loss: 0.026 | Train Acc: 99.28%\n",
            "\t Val. Loss: 0.558 |  Val. Acc: 89.06%\n",
            "\n",
            "Epoch 17\n",
            "\tTrain Loss: 0.034 | Train Acc: 98.98%\n",
            "\t Val. Loss: 0.433 |  Val. Acc: 87.81%\n",
            "\n",
            "Epoch 18\n",
            "\tTrain Loss: 0.026 | Train Acc: 99.17%\n",
            "\t Val. Loss: 0.690 |  Val. Acc: 86.62%\n",
            "\n",
            "Epoch 19\n",
            "\tTrain Loss: 0.012 | Train Acc: 99.52%\n",
            "\t Val. Loss: 0.701 |  Val. Acc: 87.31%\n",
            "\n",
            "Epoch 20\n",
            "\tTrain Loss: 0.011 | Train Acc: 99.59%\n",
            "\t Val. Loss: 0.754 |  Val. Acc: 89.31%\n",
            "\n"
          ]
        }
      ],
      "source": [
        "EPOCH_NUMBER = 20\n",
        "t_acc = []\n",
        "t_loss = []\n",
        "v_acc = []\n",
        "v_loss = []\n",
        "\n",
        "for epoch in range(1,EPOCH_NUMBER+1):\n",
        "\n",
        "    train_loss,train_acc = re_train(regression,train_loader,optimizer,criterion)\n",
        "\n",
        "    valid_loss,valid_acc = re_evaluate(regression,test_loader,criterion)\n",
        "\n",
        "    t_acc.append(train_acc)\n",
        "    t_loss.append(train_loss)\n",
        "    v_acc.append(valid_acc)\n",
        "    v_loss.append(valid_loss)\n",
        "\n",
        "    print(\"Epoch\", epoch)\n",
        "    print(f'\\tTrain Loss: {train_loss:.3f} | Train Acc: {train_acc*100:.2f}%')\n",
        "    print(f'\\t Val. Loss: {valid_loss:.3f} |  Val. Acc: {valid_acc*100:.2f}%')\n",
        "    print()"
      ]
    },
    {
      "cell_type": "code",
      "execution_count": 33,
      "metadata": {
        "colab": {
          "base_uri": "https://localhost:8080/",
          "height": 469
        },
        "id": "QcyiKaoIdPRL",
        "outputId": "b54a83a9-7bb0-4908-9cf7-8d65f0bf575f"
      },
      "outputs": [
        {
          "output_type": "execute_result",
          "data": {
            "text/plain": [
              "<matplotlib.legend.Legend at 0x7d528eb5bc70>"
            ]
          },
          "metadata": {},
          "execution_count": 33
        },
        {
          "output_type": "display_data",
          "data": {
            "text/plain": [
              "<Figure size 640x480 with 1 Axes>"
            ],
            "image/png": "iVBORw0KGgoAAAANSUhEUgAAAiwAAAGzCAYAAAAMr0ziAAAAOXRFWHRTb2Z0d2FyZQBNYXRwbG90bGliIHZlcnNpb24zLjguMCwgaHR0cHM6Ly9tYXRwbG90bGliLm9yZy81sbWrAAAACXBIWXMAAA9hAAAPYQGoP6dpAABqYklEQVR4nO3dd3xT9f4/8FeSjnS30L2hjAJCQUYFRVArZcoSAVGGCsoVv2IvV0AZjp9yvXr5ooDi18sQRRlXwIGCWCkiW/YstJSW0l3o3sn5/fFpQkNnSpuTNq/n45FHk5NPzvmcnqR59zPeH4UkSRKIiIiIzJhS7goQERER1YcBCxEREZk9BixERERk9hiwEBERkdljwEJERERmjwELERERmT0GLERERGT2GLAQERGR2WPAQkRERGaPAQsRERGZPQYsRFSnTz/9FAqFAuHh4XJXhYgsmIJrCRFRXR588EGkpKTg+vXruHr1Kjp06CB3lYjIArGFhYhqlZCQgEOHDmH58uXw8PDApk2b5K5SjQoLC+WuAhE1MwYsRFSrTZs2wc3NDSNGjMCTTz5ZY8CSk5OD1157DcHBwbC1tYW/vz+mTp2KrKwsfZmSkhK89dZb6NSpE9RqNXx8fDBu3DjEx8cDAGJiYqBQKBATE2Ow7+vXr0OhUGDDhg36bdOnT4ejoyPi4+MxfPhwODk5YcqUKQCAAwcOYMKECQgMDIStrS0CAgLw2muvobi4uFq9L1++jKeeegoeHh6ws7ND586d8eabbwIA9u3bB4VCgR07dlR73TfffAOFQoHDhw8b/fskosazkrsCRGS+Nm3ahHHjxsHGxgaTJ0/GZ599huPHj6Nv374AgIKCAgwcOBCXLl3Cc889h/vvvx9ZWVn44YcfkJycDHd3d2g0GowcORLR0dGYNGkSXn31VeTn52Pv3r04f/48QkJCjK5XRUUFIiMj8dBDD+Gjjz6Cvb09AGDbtm0oKirC7Nmz0bZtWxw7dgwrV65EcnIytm3bpn/92bNnMXDgQFhbW2PWrFkIDg5GfHw8fvzxR7z33nsYPHgwAgICsGnTJowdO7ba7yQkJAT9+/e/h98sERlNIiKqwV9//SUBkPbu3StJkiRptVrJ399fevXVV/VllixZIgGQtm/fXu31Wq1WkiRJWrdunQRAWr58ea1l9u3bJwGQ9u3bZ/B8QkKCBEBav369ftu0adMkANKCBQuq7a+oqKjatmXLlkkKhUJKTEzUb3v44YclJycng21V6yNJkrRw4ULJ1tZWysnJ0W/LyMiQrKyspKVLl1Y7DhE1L3YJEVGNNm3aBC8vLzzyyCMAAIVCgYkTJ2Lz5s3QaDQAgO+++w5hYWHVWiF05XVl3N3d8corr9RapjFmz55dbZudnZ3+fmFhIbKysjBgwABIkoRTp04BADIzM/HHH3/gueeeQ2BgYK31mTp1KkpLS/Hf//5Xv23Lli2oqKjAM8880+h6E1HjMGAhomo0Gg02b96MRx55BAkJCYiLi0NcXBzCw8ORnp6O6OhoAEB8fDzuu+++OvcVHx+Pzp07w8qq6Xqgrays4O/vX217UlISpk+fjjZt2sDR0REeHh4YNGgQACA3NxcAcO3aNQCot96hoaHo27evwbidTZs24YEHHuBMKSIZcAwLEVXz+++/IzU1FZs3b8bmzZurPb9p0yYMGTKkyY5XW0uLriXnbra2tlAqldXKPv7447h16xbmz5+P0NBQODg44ObNm5g+fTq0Wq3R9Zo6dSpeffVVJCcno7S0FEeOHMGqVauM3g8R3TsGLERUzaZNm+Dp6YnVq1dXe2779u3YsWMH1qxZg5CQEJw/f77OfYWEhODo0aMoLy+HtbV1jWXc3NwAiBlHVSUmJja4zufOncOVK1fw5ZdfYurUqfrte/fuNSjXvn17AKi33gAwadIkREVF4dtvv0VxcTGsra0xceLEBteJiJoOu4SIyEBxcTG2b9+OkSNH4sknn6x2mzNnDvLz8/HDDz9g/PjxOHPmTI3Tf6XKnJTjx49HVlZWjS0TujJBQUFQqVT4448/DJ7/9NNPG1xvlUplsE/d/Y8//tignIeHBx5++GGsW7cOSUlJNdZHx93dHcOGDcPXX3+NTZs2YejQoXB3d29wnYio6bCFhYgM/PDDD8jPz8cTTzxR4/MPPPCAPoncN998g//+97+YMGECnnvuOfTu3Ru3bt3CDz/8gDVr1iAsLAxTp07Fxo0bERUVhWPHjmHgwIEoLCzEb7/9hr/97W8YPXo0XFxcMGHCBKxcuRIKhQIhISH46aefkJGR0eB6h4aGIiQkBPPmzcPNmzfh7OyM7777Drdv365W9pNPPsFDDz2E+++/H7NmzUK7du1w/fp17Nq1C6dPnzYoO3XqVDz55JMAgHfffbfhv0gialpyTlEiIvMzatQoSa1WS4WFhbWWmT59umRtbS1lZWVJ2dnZ0pw5cyQ/Pz/JxsZG8vf3l6ZNmyZlZWXpyxcVFUlvvvmm1K5dO8na2lry9vaWnnzySSk+Pl5fJjMzUxo/frxkb28vubm5SS+++KJ0/vz5Gqc1Ozg41FivixcvShEREZKjo6Pk7u4uzZw5Uzpz5ky1fUiSJJ0/f14aO3as5OrqKqnVaqlz587S4sWLq+2ztLRUcnNzk1xcXKTi4uIG/haJqKlxLSEiojpUVFTA19cXo0aNwtq1a+WuDpHF4hgWIqI67Ny5E5mZmQYDeYnI9NjCQkRUg6NHj+Ls2bN499134e7ujpMnT8pdJSKLxhYWIqIafPbZZ5g9ezY8PT2xceNGuatDZPHYwkJERERmjy0sREREZPYYsBAREZHZaxWJ47RaLVJSUuDk5HRPq78SERGR6UiShPz8fPj6+lZbH+xurSJgSUlJQUBAgNzVICIioka4ceNGjSuwV9UqAhYnJycA4oSdnZ1lrg0RERE1RF5eHgICAvTf43VpFQGLrhvI2dmZAQsREVEL05DhHBx0S0RERGaPAQsRERGZPQYsREREZPZaxRiWhpAkCRUVFdBoNHJXhZqItbU1VCqV3NUgIiITMDpg+eOPP/Dhhx/ixIkTSE1NxY4dOzBmzJg6XxMTE4OoqChcuHABAQEBWLRoEaZPn25QZvXq1fjwww+RlpaGsLAwrFy5Ev369TO2ejUqKytDamoqioqKmmR/ZB4UCgX8/f3h6Ogod1WIiKiZGR2wFBYWIiwsDM899xzGjRtXb/mEhASMGDECL730EjZt2oTo6Gi88MIL8PHxQWRkJABgy5YtiIqKwpo1axAeHo4VK1YgMjISsbGx8PT0NP6sqtBqtUhISIBKpYKvry9sbGyYXK4VkCQJmZmZSE5ORseOHdnSQkTUyt3T4ocKhaLeFpb58+dj165dOH/+vH7bpEmTkJOTg927dwMAwsPD0bdvX6xatQqACDICAgLwyiuvYMGCBfXWIy8vDy4uLsjNza02rbmkpAQJCQkICgqCvb19I86SzFVxcTGuX7+Odu3aQa1Wy10dIiIyUl3f33dr9kG3hw8fRkREhMG2yMhIHD58GIDorjlx4oRBGaVSiYiICH2Zu5WWliIvL8/gVp/6Uv5Sy8OWMiIiy9Hs3+JpaWnw8vIy2Obl5YW8vDwUFxcjKysLGo2mxjJpaWk17nPZsmVwcXHR35iWn4iIqHVrkc0OCxcuRG5urv5248YNuatEREREzajZAxZvb2+kp6cbbEtPT4ezszPs7Ozg7u4OlUpVYxlvb+8a92lra6tPw890/MYJDg7GihUrGlw+JiYGCoUCOTk5zVYnIiKi+jR7wNK/f39ER0cbbNu7dy/69+8PALCxsUHv3r0Nymi1WkRHR+vLWCKFQlHn7a233mrUfo8fP45Zs2Y1uPyAAQOQmpoKFxeXRh2PiIioKRg9rbmgoABxcXH6xwkJCTh9+jTatGmDwMBALFy4EDdv3sTGjRsBAC+99BJWrVqF119/Hc899xx+//13bN26Fbt27dLvIyoqCtOmTUOfPn3Qr18/rFixAoWFhZgxY0YTnGLLlJqaqr+/ZcsWLFmyBLGxsfptVXOPSJIEjUYDK6v6L6eHh4dR9bCxsam1pYuIiFourVZCYVkFiso0KCitQGFpBQpLNeJn2d33KyBJwKKRXWWrr9EBy19//YVHHnlE/zgqKgoAMG3aNGzYsAGpqalISkrSP9+uXTvs2rULr732Gj7++GP4+/vjP//5jz4HCwBMnDgRmZmZWLJkCdLS0tCzZ0/s3r272kDcpiJJEorL5cl4a2etatDslqpBgouLCxQKhX5bTEwMHnnkEfz8889YtGgRzp07h19//RUBAQGIiorCkSNHUFhYiC5dumDZsmUGM7CCg4Mxd+5czJ07F4Boyfniiy+wa9cu7NmzB35+fvj3v/+NJ554wuBYt2/fhqurKzZs2IC5c+diy5YtmDt3Lm7cuIGHHnoI69evh4+PDwCgoqICUVFR2LhxI1QqFV544QWkpaUhNzcXO3fubKLfJBE1hbySchy8moWY2EwcTciGQqGAk9oKTmorOKutK+/f+el8108ntRWc7cRPa1WLHBbZKuQUleHUjRxcTc9HfsmdYKOgrAJFukCkMvAoKNWgqDJQMYaNlbJlBSyDBw9GXalbNmzYUONrTp06Ved+58yZgzlz5hhbnUYpLteg65I9JjnW3S6+Ewl7m6ZZEWHBggX46KOP0L59e7i5ueHGjRsYPnw43nvvPdja2mLjxo0YNWoUYmNjERgYWOt+3n77bfzrX//Chx9+iJUrV2LKlClITExEmzZtaixfVFSEjz76CF999RWUSiWeeeYZzJs3D5s2bQIAfPDBB9i0aRPWr1+PLl264OOPP8bOnTsNAl0ikockSYhNz8e+y5mIic3AicTbqNA2Oh2XAbW18k4Qc9dPV3sbeDvbwtvFDj4uavi4qNHW0RYqJdMTGKtco0VsWj5OJd3GqaQcnLqRg4SswkbvT6kAHGyt4GhrBQdbKzjYqMTPym32Nir9c5IkyZZSwmLWEmqN3nnnHTz++OP6x23atEFYWJj+8bvvvosdO3bghx9+qDMYnD59OiZPngwAeP/99/HJJ5/g2LFjGDp0aI3ly8vLsWbNGoSEhAAQweY777yjf37lypVYuHAhxo4dCwBYtWoVfv7558afKBHdk/ySchyMy8b+KxmIic1Eam6JwfPtPRwwuJMnHu7kDnsbK+SXlCO/pAJ5d/8sFj91z+ue0/2nXlKuRUl5KTLzSxtULyulAl7Oani7qOFd+dPHpepPO3g62Vp8y01qbjFOJeXg9I0cnEq6jbPJuSit0FYr197dAd38XOBmbw17Gys42lYGHjaVgUiVx462VrC3FYGIrZWyReS1ssiAxc5ahYvvRNZfsJmO3VT69Olj8LigoABvvfUWdu3ahdTUVFRUVKC4uNigi64mPXr00N93cHCAs7MzMjIyai1vb2+vD1YAwMfHR18+NzcX6enpButAqVQq9O7dG1pt9Q8YETU9SZJwNaMA+y6LAOX49VsGrShqayX6t2+LR0I9MbiTJwLb3lsW8AqNFgWlIoDJrRbUlCOvpAK3CsuQnleC1NwSpOWWICO/BBVaCTdzinEzp7jWfSsUgLujrQhgnO8EMj4uanhVPvZ3s4NVKwlqiss0OHczV996cvpGDtLySqqVc1ZboWegG3oFuKJnoCt6+rvCzcFGhhqbjkUGLAqFosm6ZeTk4OBg8HjevHnYu3cvPvroI3To0AF2dnZ48sknUVZWVud+rK2tDR4rFIo6g4uayt/DCg9E1AQKSytwMC4LMVcyEXM5Ayl3taK0c3fAoE4eeCTUE+Ht2kDdhP88WamUcLW3gau9DRqaxrNCo0VmQSnSKgOY1NwSpOkDmmKk5pYgPa8E5RoJmfmi1eYscmvcl42VEqHeTujq44yuvs7o6uOMUB9nONqa9995rVZCQnYhTifl4NQNEaBcTsuH5q4uOpVSgc5eTugV6IpegW7oFeiKdm0doLSw7jTzvppklIMHD2L69On6rpiCggJcv37dpHVwcXGBl5cXjh8/jocffhgAoNFocPLkSfTs2dOkdSFqzSRJQlxGAWJiMxFzJQPHEm6hXHPni87WSokH2rfFI509MLizJ4LdHerYm+lZqZTwcbGDj4tdrWW0Wgm3isruBDSVgUxaXok+0EnJLUZJuRZnk3NxNtkwoAlua68PYLr5uqCrrzM8nWxN3v1RVFaBlJxi3MwpQUpOMZJvF+H8zTycvpGD3OLyauU9nWxxf6Abega6oleAK7r7u7SKf7LvFX8DrUjHjh2xfft2jBo1CgqFAosXL5alG+aVV17BsmXL0KFDB4SGhmLlypW4fft2i+gjJTIVSZJQWqFFmUaL0nLdT43YVqGt8lNjcL+sQovLafmIic2s1pUS2MZeBCihnnigXVvY2bTsVcyVSgXcHW3h7miL+/xqzgWl1Uq4cbsIF1PycDE1DxdT8nAhJQ9peSW4nl2E69lF+PncnWVe2jrY6IMY3c927g6N7lKSJAlZBWWVAUlxZUAifqbkFuPm7WLcLqoelOjYWinR3c9F33rSM8AVPi5q/r2sAQOWVmT58uV47rnnMGDAALi7u2P+/PkNWhiyqc2fPx9paWmYOnUqVCoVZs2ahcjISKhULfuPJ7VsGq2EhKxC/Zea7uftojKoFAooFKLpvep9pUIBpVIBpQKV2xWV21G53bC8SllZRiG6Sss1d4KP0nKNPjgprdx+r2yslAhv1waPdPbE4M4eaOfuYHFfdEqlAkFtHRDU1gHDuvvot2cXlOJSaj4upubqr3d8ZiGyC8tw4GoWDlzN0pe11XUpVbbCdPVxRqi3ExxsrVBaoUGqrmWkMiC5E5yU4GZOcYOupZOtFfzc7ODragdfVzU6ejrh/kA3hPo4Wfyg4oZSSK1g8EFdy1OXlJQgISEB7dq1g1qtlqmGlk2r1aJLly546qmn8O677zbZfnltqTbFZRpcTsszCE4up+bLln+pIWyslLDV31SwtVJW2abS37exUsLTyRYPd/JA/5C27CowQkm5BlfS8w0C1kupeSisIR+JQgG42dvgVmHdYwB1Zb2c1AYBib+r7r4d/Nzs4Ky2rnc/lqiu7++78Z1OTS4xMRG//vorBg0ahNLSUqxatQoJCQl4+umn5a4atUJZBaX6bgDxJZSLhKxC1JRaxM5ahVAfw8GZ3i5qSJJogZEkQCNJ0EoStFpJ3NdCPJYkaLQStBIMnte99k4Z8bwkSbBWVQYf1krYqJRVfhoGJDaqljGttKVTW6vQw98VPfxd9du0WgmJt3RdSndaY9LzSvXBitpaCT9XO/i52cPPVQ1fFzt9cOLnagdvFzVbSUyAAQs1OaVSiQ0bNmDevHmQJAn33XcffvvtN3Tp0kXuqlELptVKuJ5dvUsno5acH+6ONqKJvzI46ebrjOC2DkxURgaUSgXauTugnbsDRvS406WUVVCKjLxSeLuo4WZvzYDSDDBgoSYXEBCAgwcPyl0NkplWKwaVFpdrxK2s8lblcUnV58rF4yLd/Splc4rKcSU9v8ZU4gqFmLJbtdVEzAZhNyE1nm6wL5kPBixEdE8y80ux62wKfj6XhuTbRfogo6S86Weo2VopEepjOMNDNziSiFo3fsqJyGi5ReXYfSEVP5xJweH47BrHi1RlY6WEnbUKdtYq2NuooLZWwc5GPL5zv7KMjVXlT6X+eUdbK3T0ckRw28ZPPyWilo0BCxE1SGFpBX67lI4fz6Rg/5VMgyRlPQNcMSrMF72D3GBfGYhUDUg4boSI7hUDFiKqVWmFBjGxmfjxTAqiL2UYTAsO9XbCqDBfjOrhe89r0RAR1YcBCxEZqNBocSg+Gz+cScGeC2nIL6nQPxfU1h5PhPliVJgvOnk5yVhLIrI0DFiICFqthBNJt/HD6RT8fC4V2VWSZXk7qzGyhw+e6OmL7n4unN5JRLJgwNKKDR48GD179sSKFSsAAMHBwZg7dy7mzp1b62sUCgV27NiBMWPG3NOxm2o/1HwkScL5m3n48WwKfjqTYrC6r5u9NYZ398ETYb7oG9zG4laFJSLzw4DFTI0aNQrl5eXYvXt3tecOHDiAhx9+GGfOnEGPHj0avM/jx4/DwaFpV2x96623sHPnTpw+fdpge2pqKtzc3Jr0WNQ04jLy8cOZVPx4JgUJWYX67Y62VhjSzQtPhPniwQ7uzNxJRGaFAYuZev755zF+/HgkJyfD39/f4Ln169ejT58+RgUrAODh4dGUVayTt7e3yY5FDXMhJRcf7I7FH1cy9dtsrZSI6OKFUWE+GNzZE2prLlBJRObJMv+FkiSgrFCeWwPXmhw5ciQ8PDywYcMGg+0FBQXYtm0bxowZg8mTJ8PPzw/29vbo3r07vv322zr3GRwcrO8eAoCrV6/i4YcfhlqtRteuXbF3795qr5k/fz46deoEe3t7tG/fHosXL0Z5uVgqfcOGDXj77bdx5swZKCpXstXVV6FQYOfOnfr9nDt3Do8++ijs7OzQtm1bzJo1CwUFBfrnp0+fjjFjxuCjjz6Cj48P2rZti5dffll/LGq85NtFiNpyGiNX/ok/rmTCSqnAo6Ge+N+JYTix+HGsnnI/ht7nw2CFiMyaZbawlBcB7/vKc+w3UgCb+rtlrKysMHXqVGzYsAFvvvmmfqDjtm3boNFo8Mwzz2Dbtm2YP38+nJ2dsWvXLjz77LMICQlBv3796t2/VqvFuHHj4OXlhaNHjyI3N7fGsS1OTk7YsGEDfH19ce7cOcycORNOTk54/fXXMXHiRJw/fx67d+/Gb7/9BgBwcXGpto/CwkJERkaif//+OH78ODIyMvDCCy9gzpw5BgHZvn374OPjg3379iEuLg4TJ05Ez549MXPmzHrPh6rLKSrD6n1x+PJQIso0IuvsqDBfzBvSCUFtm7ZrkIiouVlmwNJCPPfcc/jwww+xf/9+DB48GIDoDho/fjyCgoIwb948fdlXXnkFe/bswdatWxsUsPz222+4fPky9uzZA19fEby9//77GDZsmEG5RYsW6e8HBwdj3rx52Lx5M15//XXY2dnB0dERVlZWdXYBffPNNygpKcHGjRv1Y2hWrVqFUaNG4YMPPoCXlxcAwM3NDatWrYJKpUJoaChGjBiB6OhoBixGKinX4MtD17F6XxzyKqck92/fFguHhxqsUktE1JJYZsBibS9aOuQ6dgOFhoZiwIABWLduHQYPHoy4uDgcOHAA77zzDjQaDd5//31s3boVN2/eRFlZGUpLS2Fv37D9X7p0CQEBAfpgBQD69+9frdyWLVvwySefID4+HgUFBaioqICzs3ODz0F3rLCwMIMBvw8++CC0Wi1iY2P1AUu3bt2gUt3plvDx8cG5c+eMOpYl02gl7Dh1E8t/jdXP+An1dsL8YaEY3MmD05GJqEWzzIBFoWhQt4w5eP755/HKK69g9erVWL9+PUJCQjBo0CB88MEH+Pjjj7FixQp0794dDg4OmDt3LsrKyurfaQMdPnwYU6ZMwdtvv43IyEi4uLhg8+bN+Pe//91kx6jK2tra4LFCoYBW2/QL6LU2kiRh/5VM/POXy7iclg8A8HFRI+rxThh3vz/T4hNRq2CZAUsL8tRTT+HVV1/FN998g40bN2L27NlQKBQ4ePAgRo8ejWeeeQaAGJNy5coVdO3atUH77dKlC27cuIHU1FT4+PgAAI4cOWJQ5tChQwgKCsKbb76p35aYmGhQxsbGBhqNBnXp0qULNmzYgMLCQn0ry8GDB6FUKtG5c+cG1Zdqdi45F8t+uYRD8dkAACe1FV5+pAOmDwjmIFoialUsc5ZQC+Lo6IiJEydi4cKFSE1NxfTp0wEAHTt2xN69e3Ho0CFcunQJL774ItLT0xu834iICHTq1AnTpk3DmTNncODAAYPARHeMpKQkbN68GfHx8fjkk0+wY8cOgzLBwcFISEjA6dOnkZWVhdLS0mrHmjJlCtRqNaZNm4bz589j3759eOWVV/Dss8/qu4PIOEnZRXjl21MYtepPHIrPho1KiZkD2+HA64/gpUEhDFaIqNVhwNICPP/887h9+zYiIyP1Y04WLVqE+++/H5GRkRg8eDC8vb2NyiqrVCqxY8cOFBcXo1+/fnjhhRfw3nvvGZR54okn8Nprr2HOnDno2bMnDh06hMWLFxuUGT9+PIYOHYpHHnkEHh4eNU6ttre3x549e3Dr1i307dsXTz75JB577DGsWrXK+F+GhbtVWIa3f7yAx5bH4MczKVAogLG9/BD990F4c0RXuNrbyF1FIqJmoZCkBiYGMWN5eXlwcXFBbm5utQGhJSUlSEhIQLt27aBWq2WqITUHS7q2xWUarDuYgDUx8cgvFTN/BnZ0x4JhoejmW30qORFRS1DX9/fdOIaFyIxVaLT47mQylu+9gvQ80d3WzdcZC4aFYmBH02UuJiKSGwMWIjMkSRJ+v5yBf/5yGVczREZgP1c7/COyM54I8+VihERkcRiwEJmZgtIKvPjVXzgYJ2b+uNpbY84jHfBs/yDYWnEwLRFZJgYsRGZm8c7zOBiXDVsrJWY82A6zB4fAxc66/hcSEbViFhOwtIKxxXSX1nhNt59Mxo5TN6FSKrDphXD0CW4jd5WIiMxCq5/WrMueWlRUJHNNqKnpsvpWTeffkiVkFWLxzvMAgLmPdWSwQkRURatvYVGpVHB1dUVGRgYAkROEa6q0fFqtFpmZmbC3t4eVVct/G5dVaPE/355CYZkG4e3a4G+PdJC7SkREZqXl/6VvAN1KwrqghVoHpVKJwMDAVhGAfvRrLM7dzIWrvTVWTOrJ9X+IiO5iEQGLQqGAj48PPD09UV5eLnd1qInY2NhAqWz5vZoxsRn4vz+uAQD+Nb4HfFzsZK4REZH5sYiARUelUrWa8Q7UOmTkl2DetjMAgKn9gzCkm7fMNSIiMk8t/99TohZKq5Xw961nkFVQhlBvJ7wxvIvcVSIiMlsMWIhk8p8/r+HA1SyorZVYObkXV1gmIqoDAxYiGZy5kYN/7Y4FACwd1Q0dvZxkrhERkXljwEJkYvkl5fifzadQoZUworsPJvUNkLtKRERmjwELkYkt+f4CErOL4Odqh/fHdW8V07KJiJobAxYiE6qaev+TyT25RhARUQMxYCEykbtT7/cOYup9IqKGYsBCZAJVU+8/0J6p94mIjMWAhcgEPtxz+U7q/Ym9mHqfiMhIDFiImllMbAa+OJAAAPjwyTB4u6hlrhERUcvDgIWoGVVNvT+tfxAe7+olc42IiFomBixEzeTu1PsLmXqfiKjRGLAQNZMvDtxJvb/qaabeJyK6FwxYiJrBmRs5+HCPSL3/1qhu6ODJ1PtERPeCAQtRE7s79f5Ept4nIrpnDFiImhhT7xMRNT0GLERNiKn3iYiaBwMWoiaSkFWIRZWp91+LYOp9IqKmxICFqAmUVWjxyrcnUVSZen/2YKbeJyJqSgxYiJrAh3su4/zNPKbeJyJqJgxYiO4RU+8TETU/BixE96Bq6v3pA4KZep+IqJk0KmBZvXo1goODoVarER4ejmPHjtVatry8HO+88w5CQkKgVqsRFhaG3bt3G5R56623oFAoDG6hoaGNqRqRydyden/BML5niYiai9EBy5YtWxAVFYWlS5fi5MmTCAsLQ2RkJDIyMmosv2jRInz++edYuXIlLl68iJdeegljx47FqVOnDMp169YNqamp+tuff/7ZuDMiMpG1fyYw9T4RkYkYHbAsX74cM2fOxIwZM9C1a1esWbMG9vb2WLduXY3lv/rqK7zxxhsYPnw42rdvj9mzZ2P48OH497//bVDOysoK3t7e+pu7u3vjzojIBFJzi7F87xUAwFKm3icianZGBSxlZWU4ceIEIiIi7uxAqURERAQOHz5c42tKS0uhVhsOQrSzs6vWgnL16lX4+vqiffv2mDJlCpKSkmqtR2lpKfLy8gxuRKb0wS+XUVyuQZ8gN0xi6n0iomZnVMCSlZUFjUYDLy/DgYVeXl5IS0ur8TWRkZFYvnw5rl69Cq1Wi71792L79u1ITU3VlwkPD8eGDRuwe/dufPbZZ0hISMDAgQORn59f4z6XLVsGFxcX/S0ggF8YZDonEm9h5+kUKBSidYWp94mIml+zzxL6+OOP0bFjR4SGhsLGxgZz5szBjBkzoFTeOfSwYcMwYcIE9OjRA5GRkfj555+Rk5ODrVu31rjPhQsXIjc3V3+7ceNGc58GEQAx0PbtHy8CAJ7qHYDu/i4y14iIyDIYFbC4u7tDpVIhPT3dYHt6ejq8vb1rfI2Hhwd27tyJwsJCJCYm4vLly3B0dET79u1rPY6rqys6deqEuLi4Gp+3tbWFs7OzwY3IFL47mYyzyblwtLXCvMjOcleHiMhiGBWw2NjYoHfv3oiOjtZv02q1iI6ORv/+/et8rVqthp+fHyoqKvDdd99h9OjRtZYtKChAfHw8fHx8jKkeUbPKLynHB7tjAQD/81gHeDjZylwjIiLLYXSXUFRUFL744gt8+eWXuHTpEmbPno3CwkLMmDEDADB16lQsXLhQX/7o0aPYvn07rl27hgMHDmDo0KHQarV4/fXX9WXmzZuH/fv34/r16zh06BDGjh0LlUqFyZMnN8EpEjWN1fvikVVQinbuDpg+oJ3c1SEisihWxr5g4sSJyMzMxJIlS5CWloaePXti9+7d+oG4SUlJBuNTSkpKsGjRIly7dg2Ojo4YPnw4vvrqK7i6uurLJCcnY/LkycjOzoaHhwceeughHDlyBB4eHvd+hkRN4HpWIdb9KdLvLxrRBTZWTBJNRGRKCkmSJLkrca/y8vLg4uKC3NxcjmehZjFz41/YezEdAzu6Y+Nz/TgziIioCRjz/c1/E4nqceBqJvZeTIdKqcCSkV0ZrBARyYABC1EdKjRavFM5jfnZB4LQ0YsZbYmI5MCAhagOm44m4WpGAdzsrfFaRCe5q0NEZLEYsBDV4nZhmX69oKghneFiby1zjYiILBcDFqJarPjtCnKLyxHq7YTJXC+IiEhWDFiIahCblo+vj4oFOJeM7AorFT8qRERy4l9hortIkoR3froAjVbC0G7eGNDBXe4qERFZPAYsRHfZezEdB+OyYWOlxBvDu8hdHSIiAgMWIgOlFRr8v12XAAAzB7ZDYFt7mWtEREQAAxYiA+v+vI6kW0XwdLLF3wZ3kLs6RERUiQELUaWMvBKs+v0qAGD+0FA42Bq91BYRETUTBixElf61JxaFZRqEBbhibC8/uatDRERVMGAhAnDmRg7+eyIZALB0VFcolVwviIjInDBgIYsnSRLe/vECAGBcLz/cH+gmc42IiOhuDFjI4v1wJgUnk3Jgb6PC60ND5a4OERHVgAELWbSisgos+/kyAODlRzrA20Utc42IiKgmDFjIoq2JiUdaXgn83ezw/EPt5K4OERHVggELWawbt4rw+R/XAACLRnSB2lolc42IiKg2DFjIYv3zl8sordDigfZtENnNW+7qEBFRHRiwkEU6ci0bu86lQqkAlozsBoWC05iJiMwZAxayOBqthLd/vAgAmNwvEF19nWWuERER1YcBC1mcLcdv4FJqHpzVVoh6vJPc1SEiogZgwEIWJbe4HB/9GgsAmBvRCW0dbWWuERERNQQDFrIon0Rfxa3CMoR4OODZ/kFyV4eIiBqIAQtZjLiMAnx56DoAYMmobrBW8e1PRNRS8C82WYz3dl1EhVbCY6GeGNTJQ+7qEBGRERiwkEXYdzkD+2IzYa1S4M0RXeSuDhERGYkBC7V6ZRVavLtLTGOe8WA7tPdwlLlGRERkLAYs1OptPHwd1zIL0dbBBnMe7SB3dYiIqBGs5K4AUXO4XViGk0m3cSLxNr46nAgA+EdkZzirrWWuGRERNQYDFmrxtFoJ17IKcCLxNv66fhsnkm7jWmahQZkwfxdM6BMgUw2JiOheMWChFqeorAJnbuTiZNJt/HX9Fk4m5SC3uLxauRAPB/QOckPvIDeM7OELlZLrBRERtVQMWMjspeQU40Tibf3tYmoeNFrJoIzaWokwf1f0CRYBSq8AN7g52MhUYyIiamoMWMislGu0uJSaJ7p3Em/jZOJtpOaWVCvn7axG72A39KlsQeni48xEcERErRgDFjILv15Iw9o/E3AmOQcl5VqD51RKBbr6OOu7d3oHucHX1U6mmhIRkRwYsJDsCksr8PdtZ5BfUgEAcFZbVQlO2iAswAX2NnyrEhFZMn4LkOx2nLqJ/JIKBLe1xxdT+yDEwxFKDpAlIqIqGLCQrCRJwsbD1wEAU/sHo6OXk7wVIiIis8RRiiSrw9eycSW9APY2KjzZx1/u6hARkZliwEKy+vLQdQDAuPv9mIWWiIhqxYCFZJN8uwh7L6YDAKb1D5a3MkREZNYYsJBsvj6SBK0EPNihLceuEBFRnRiwkCxKyjXYcjwJAFtXiIiofgxYSBY/nEnB7aJy+Lna4bEuXnJXh4iIzBwDFjI5SZL0g22f7R/ERQmJiKheDFjI5E4k3saFlDzYWikxsU+A3NUhIqIWgAELmdyGytaVMT39uKIyERE1CAMWMqn0vBLsPp8GAJg6IEjm2hARUUvBgIVMatPRJFRoJfQNdkM3Xxe5q0NERC0EAxYymbIKLb45WjmVeUCwvJUhIqIWhQELmczP51KRVVAKL2dbRHbzlrs6RETUgjBgIZPRDbadEh4EaxXfekRE1HD81iCTOHMjB6dv5MBGpcTkfoFyV4eIiFoYBixkEl8evg4AGNHDBx5OtvJWhoiIWhwGLNTssgpK8dOZVAAcbEtERI3DgIWa3eZjSSjTaBEW4IqeAa5yV4eIiFogBizUrCo0Wnx9RLcqMxPFERFR4zBgoWb168V0pOWVwN3RBiN6+MhdHSIiaqEYsFCz0k1lntwvELZWKnkrQ0RELRYDFmo2l1LzcCzhFlRKBaaEszuIiIgajwELNZsvK1tXhnbzhreLWt7KEBFRi9aogGX16tUIDg6GWq1GeHg4jh07VmvZ8vJyvPPOOwgJCYFarUZYWBh27959T/sk85dTVIadp28C4FRmIiK6d0YHLFu2bEFUVBSWLl2KkydPIiwsDJGRkcjIyKix/KJFi/D5559j5cqVuHjxIl566SWMHTsWp06davQ+yfxt/esGSsq16OLjjL7BbnJXh4iIWjiFJEmSMS8IDw9H3759sWrVKgCAVqtFQEAAXnnlFSxYsKBaeV9fX7z55pt4+eWX9dvGjx8POzs7fP31143aZ2lpKUpLS/WP8/LyEBAQgNzcXDg7OxtzOtQMNFoJgz7ch+TbxfhgfHdM7MtU/EYpLwZilgFWaiB0BODdA1Ao5K4VEVGTy8vLg4uLS4O+v41qYSkrK8OJEycQERFxZwdKJSIiInD48OEaX1NaWgq12nD8gp2dHf78889G73PZsmVwcXHR3wICAow5DWpmv1/OQPLtYrjYWeOJMD+5q9OyVJQCW54BDn4M7P8A+PxhYEUPYPdC4PpBQKuRu4ZERLIwKmDJysqCRqOBl5eXwXYvLy+kpaXV+JrIyEgsX74cV69ehVarxd69e7F9+3akpqY2ep8LFy5Ebm6u/nbjxg1jToOamW6w7aS+AbCz4VTmBqsoA7ZOA+J+A6ztgc7DASs7IDcJOPIpsGE48FEn4Ps5wJU9QHmJ3DUmIjIZq+Y+wMcff4yZM2ciNDQUCoUCISEhmDFjBtatW9fofdra2sLWlgvomaO4jHz8GZcFpQJ45gFOZW4wTQXw3fPAlV9EV9DkzUD7QUBZERD/O3D5JyD2F6AoCzj1lbjZOAIdHwdCRwIdhwBqdocSUetlVMDi7u4OlUqF9PR0g+3p6enw9vau8TUeHh7YuXMnSkpKkJ2dDV9fXyxYsADt27dv9D7JfG08nAgAeKyLFwLa2MtcmxZCqwF2zAIu/QCobIBJm0SwAgA29kCXkeKmKQcSDwKXfgIu7wLyU4ALO8RNZQO0GyTKdR4OOHrKe05ERE3MqC4hGxsb9O7dG9HR0fptWq0W0dHR6N+/f52vVavV8PPzQ0VFBb777juMHj36nvdJ5iW/pBzfnUgGAEzrHyxvZVoKrVZ08Zz/DlBaAU9tBDpE1FxWZQ20HwyM+Ah47QLwwu/AQ68BbTsCmjIgbi/w46ui22jdUODQKuD2dVOeDRFRszG6SygqKgrTpk1Dnz590K9fP6xYsQKFhYWYMWMGAGDq1Knw8/PDsmXLAABHjx7FzZs30bNnT9y8eRNvvfUWtFotXn/99Qbvk1qG/55IRmGZBh08HfFgh7ZyV8f8SRLw01zgzDeAQgU8uR7oPKxhr1UqAf/e4hbxFpAZC1z6UXQdpZwCkg6L269vAl7dRctL6EjAqxtnHBFRi2R0wDJx4kRkZmZiyZIlSEtLQ8+ePbF79279oNmkpCQolXcabkpKSrBo0SJcu3YNjo6OGD58OL766iu4uro2eJ9k/rRaCV9VdgdN6x8EBb8U6yZJwC+vAye/BBRKYNz/AV2faPz+PDqL28PzgNxk0WV06Ucg8RCQfk7cYpYBbsFAh8cBG4cmOxUDwQ+JcTVERE3M6Dws5siYedzUPPZfycS0dcfgZGuFI288BgfbZh/P3XJJEvDrIuDwKgAKYMxnQM/JzXOsoltisO7ln8Tg3QoTzCwaNB8YvJAtOURUL2O+v/mtQk1CN5V5fG9/Bit1kSTg93crgxUAo1Y0X7ACAPZtgF5TxK20AIiPBpKPi3o0tYJ04Nw2kT8mJwkY9QlgZdP0xyGimkkSUJQNOLjLXZNmwW8WumeJ2YXYFyuWUZjan1OZ67T/X8CBf4v7wz8Cek833bFtHYGuo8WtuQQ/BPwUBZz5Fsi7CTz1FWDn2nzHI6I7/lon/iEavxbo8JjctWlyXK2ZGu5aDPBxGHD8PwabNx5OhCQBgzp5oL2Hozx1awn+/F8g5n1xf8h7QL+Z8tanOfSeDjy9VeSISfgDWBcpWlssRUWZ6ILbNkN8Vva8KZZaIGpuN44Bv8wHim8Daefkrk2zYMBCDXPjGPDt02Ka7OFP9ZuLyiqw9S+RaXg6V2Wu3eHVwG9vifuPLQEGzJG1Os2qYwQw4xfAyQfIvAz8J0LMXGqtJAlIOiJalv7dGfh2EnBhe+VnZRWw5iHgxnG5a0mtWX46sHUqoC0Huo4BHnxV7ho1CwYsVL+088CmJ4HyQvH4Vjxw6xoAYMepm8gvqUBQW3sM6uQhYyXN2LEvgD1viPuDFgAD/y5vfUzBpwfwQjTgdZ8Y27J+OBC7W+5aNa2My0D0O8DHPURL0l9rgeJbgIMnED4beGIV4OgNZMcB64YAe5dY7nIKeani7wg1PU05sG06kJ8KeIQCo1e32gHvHMNCdcuOB74aC5TkAgHhgKQVgzbjoiH1bacfbPvsA0FQKs30Q3JtvxiE5tXN9Mc+8SXw8zxx/6HXgMHVVx9vtVz8REvL1qnAtX3A5snA8A+Bvi/IXbPGy0sBzv0XOLfVsNndxhHoMgroPkFkHFZV/mntMhL4ZQFwdrNY0PLKHmDMp4Bfb3nqb0qaCuDqr2Lq/tVfxd+O/nOAiLfv/H7o3v26CEg6BNg6AxM3ibFqrRTfNVS73JvAxjFAYYZIPvb0VjGoqzJgOdx2LK6kF8DOWoUJfcx0xez4fcBXY8R9v95ijEW3cab5UJ/+VmSeBYAHXgYeW9pq//OpldoZmLJNJMg79TWw6++iqyTiHZH8riUoyQUu/iCClIQDACpnWCmtRE6bHhOATsPEMgp3s3MDxn0ucuz8+GplF9njIngd9Dpg1QrXRLudWLne1dfiv/6qDq8CUs8AEza02pksJnVmC3B0jbg/9nPAvYO89WlmzMNCNSvMAtYPA7KuAG1CgOd2i/VpUs8Cnw8ErB3wcsB/sevibUwJD8R7Y7vLXeOa/TgXOLHecJuNI9D9SRG8+PZqnuOe/w747gXxX2XfmaJlwdKClaokCfjjI2Df/xOPu44Rf2Ct1bJWq1YVpaJV4OxW0SqiKb3zXMADIkjpOhZwMCKjc2E28Ms/xHsDADy7AWM/A3zCmrbuctCUA7E/ixbF+N+hD+rs2wI9nwbunwZkXAR2/g0oKwCc/YGJGy2jpam5pJ4F1g4BKoqBh18HHn1T7ho1ijHf3wxYqLqSXODLUeI/IWd/Eay4VragSJIYWFiQjillb+Kgtht+fe1hdPJykrfONZEk4H+7iem1Yz4DCjPFH9Rb8XfKePcAek8TTflql6Y57qUfga3TAEkD3D8VGPlxy2lNaG5ntgDfvywGBwaEA5O+Ne5LvzlptaJp/exW4OJO8TnQ8QgV75HuEwC3e5y6f2EnsCtK5MtQWgEP/0OMa1JZ39t+5ZAdL7p8Tn8jPl867QeLICV0hGErUsZlYMsUMa5HZQuM+Ddw/7Mmr3aLV3QL+L/BQE6iaOV7egugVMldq0ZhwEKNV1YEfD1e/OG2dxfBintHwzI7ZgNnvsGaipHYH/gKvp31gDx1rU/aOTFDw9oeeD1B/DcvScD1P8Uf2Yvfi0UDAVGm2zgRvPj3bXxrSOxuYMsz4gu5xyQRKDFYMZRwQHxpleSK1rsp24C2IfLVJ+286O459x2Ql3xnu5OPaInr/hTg3b1pW8gKMkXQcukH8di7OzBmDeB9X9Mdo7mUl4jMySc2ANcP3Nnu6AX0nCICkDbta399SS6w4yXRIgMAvWcAwz5ond1jzUGrATZNEEkg3YKBWTGi67GFYsBCjVNRBmx+Wqz6a+sMTP+pxubqstNbYbNzJi5pA5H41F4Mvc9bhso2wB8fiSRKnYYBT2+u/nzRLeDMZhG8ZF6+s92ji+gu6vGUyBTbUHHRYkqrpkwEP+O+4ODC2mTGiplnOUmAXRtg8mYgMNx0x8+5AZz/L3B2G5Bx4c52W2cx3qT7UyIJXnP+1ypJonvo53kid4bSGhg8H3jwNfN832RcFp+VM9+K+gIAFGLtqPunAZ0iG95KpNWKBIr73gMgiX8SntoIOPs2V+1bj+h3gQMfAVZ2wAu/tYwgtw4MWMh4Wo0Yc3Fhu/ggPLsDCOpfY9Gdh87hiT0DoVRIqJh7EVaufiaubAOtHQLcOAqM/F+gz3O1l5MkkWfmxAbgwg7RJwyIJuuuo0WrS9CDdf+HnfCH+K+nokSsijxhQ8ts4jel/HTg24kiR4vKViwA2W1M8x2v6JZoVTu3DUg8eGe7ygboOEQEqB0jTT+uJj8d+Ok1IHaXeOzbS7TMeXYxbT1qUlYkusdOfAncOHJnu7Mf0OtZoNczd7qLG+PqXuC750Wri4Mn8NSXQNCAe652q3XpJ9E6CQDj/iPGUrVwDFjIOJIkZnGc2CD+y5u8WST/qrGohJEr/8T/y5qLXso4Mee/1zMmrW6DFGYDH4YAkIDXLgAu/g17XXGO+EI7+aXhtNW2HcR/kT2frj67IfEw8PU4oLwI6DRUpKPnGjoNU1YI/Pd54MovABTAkHfF1Nem6n4pLwau7BYtKVd/FV11OkEPiSCl6xPyN6lLkhg788s/xJe3ygZ45A2g/yvytLaknRNBytmtQGnlWB6FSry/e08DOkQ0XevTrWvA5mdES5fSSmSBDn/Rsgep1yTzCvDFo0BZPvDA34Chy+SuUZNgwEINJ0kiodWhTwCFEnhyHdBtbK3FTyTewvjPDuPvNt/hFeV3ouyEDaarb0Od2QLsmCWmY8/+0/jXS5L4z//EBtFsX1YgtiutxUDC3tOAdoOBlJNi6ndZPhDyqBhEaq4zX8yVVgPsXgAc+z/xuO9MMaahsV+IWo0YW3F2mxgjUpp35zmv+yoHzz7Z8CDWlPJSgR//RwRXAODXBxi7pvo4sqZWmg9kXRXv+dObgJsn7jznGigGj/d8BnD2aZ7jlxUCP/yP6KYDxPivkf9b81RxS1SaL4KVrCsi0J66s9W04HK1Zmq4P5eLYAUARn1cZ7ACABsOJYo7IRFAwnciz4mmwvz63K/uET87DWnc6xUKwO9+cYt8Dzi/XQQvKSdFE/nFnYBrkGiRKcsHggcCk75hsNIYShUw7F9iAOGeN4HjXwC5ycCTawEbh4btQ5LErLZz20SAWTX/h7O/CFB6PCVP8kBjOPuIfEenvxFB3M2/xMDxRxcDD8y+t1YNSRJZh7OuiDFEWVeBrMqfeTcNy94dmDf3wHEbB2D8f8Q0518XiUR7GReAiV+L94UlkyRg52xx3Zx8gQnrW02wYiy2sFiy4/8RibwA0Qxbz/o26XklePCfv6NCK+Gnl/vjvk29gJIc4Pm9QEC/5q9vQ2kqgA/bi6b1535t2sGcNTWVB/YHnvmu4V+uVLuL3wPbZ4mxQL69gMlbACev2svfvi6ClLNbxR90HbWrGA/T/SlxfVriTK3cZNHqEB8tHgc8ILLk1jejSlMhfi9ZV+4EJLoARfeerYmDJ+DeSQT5YU8DjjIttZFwQKSaL8oS1/HJda1y5eEG+/N/xTpkKhuROdq/j9w1alLsEqL6nd0qvhggiTwQjy6q9yWr98Xhwz2x6B3khu9mDxB/VC7sAAbNF/3t5uL6QWDDcDH75B9xzTPTQzcY8fZ1MeZCzfddk7lxTMy2KsoGXAKBZ/4LeHS+83xhthgcfm6bGFSto7IFOg8TLSkdIlrHNFlJEuOp9rwpuiWt7ICIt4B+s8SYqeyrVQKSK+KWHW84VqcqhVK0WLh3Ft1MHp1FkOLeUf5xPFXl3gS2PlvZNaUAHlsMPBRleeNa4n8XaSYkLTByBdBnhtw1anIMWKhusb8Am6eIxGb9Zonm+Hr+EEiShMeW78e1zEL868keeKpPgEi9/f3Lohl35u8mqnwD7F0i1m3pMVHMPKGWJztezLq6FS8S+o1fK1rMzm4VLQ7aisqCCqDdwyJI6TKq6ZL/mZucJPFZS/hDPLZzqzK1uAZWdncFJJW3tiEtJ5ArLxGDkE9uFI9DR4rxPLZmmKSyOdxOBP5vkLjOvZ4FnljZKgM2jmGh2iX8cScLa49JwNAPGvQhOJuci2uZhbC1UmKYLu9KSGUz7c2T4r9ec8lYeqVywGLHRo5fIfm1DRE5Jr6dLKbTbnrS8HmfMNHdc9/45hsIak5cA4FnvwdOrAN+XXInWHHwMAxIPCp/Ovu3zG6wqqzV4kvarzfw8z9EsrovHhUL/Hl0krt2zau8WCSgLL4N+N4PDP+oVQYrxmLAYklunhBfAJpS8d/K6NUN/qO2/aTIABrZzRtO6soBX84+YtZF+nmxGm/3J+vYg4ncTgQyL4kpmJbc790a2LcBpn4vBhxe2C4GOXefIFpTqnYRWQqlUqx03XWM6Ips0964xIYtVe/p4u/MlmdFl9cXj4qWli4j5a5Z85AkkZcn7azINj7xKw7mr9TCQ3BqsIxLoi+0rEA0oY9f2+CZPWUVWvxwJgUAMO7+u5LE6YKCuN+asraNp5sOGhBuXn3y1DjWajHo8rULwKtnxFgGSwxWqnJwFwMvLSFY0fHvA7y4XyRwLMsXydOi3xFT2Fub4/8R2YQVSjEjyByn38uEAYsluJUgcoUU3xZ5HYycfhsTm4HbReXwcLLFQx3uSprWoTLBXFy0SLcttyu66cyR8taDmo5CIf5os0ncsjl6iha3B/4mHh/4N/DNUyKDcWuRdERMZweAx98R/1ySHgOW1i4vFfhqDFCQBnh2FQvNGTlobftJkaNhTE9fWKnuessEPABYOwCFGaJrSE5lRXcWY2PAQtT6qKxFhtdxX4iBxXG/iVWLU8/KXbN7l58GbJ0qBpR3GydmH5IBBiytWdEt4Kuxor/brZ1YH8jIZuScojL8fjkDADDu/hqaJq1sgPaDxH25u4US/hD5O1wCAY9QeetCRM2nx1PAC3vFuKacRGDt4yKxY0ud9FpRJiZDFKSLfyxHr2KLYg0YsLRWpflizErmJcDJR6RydjJ+VeWfzqaiTKNFqLcTuvjUMuVMP44luvH1bQpXdoufnYbww07U2nl3B2bFiNmAFSXAj68C22eKv30tzZ43xGw4WxeR3ZdJKGvEgKU1Ki8Rs4FSTorkac/ubHR6a93soPE1ta7o6KY33zgClOTVXq45SdKdAbedhspTByIyLfs2Ihvy4++ImYHntokuojSZu6eNcfobsRwFIPJG1ZfJ2IIxYGltcpPFQLTrBwAbJ5Ey3rNx3SMJWYU4mZQDpQIY3dO39oJt2gFtQkTfqy6xlamlXxDroVjZAcEPyVMHIjI9pRJ48FVgxs9irZ3sOOA/j4klNMy9iyjltJjCDACDFgCd+c9WXRiwtBZaDXBkDbA6HEjYD1ipgac3i8X7GmlHZevKwI4e8HSuZ1aRfraQTONYdIsdth8EWNvJUwcikk/gA8BLfwIdHq/sIvofYMeLQGmB3DWrWdEtkVumokS0Cg+aL3eNzB4DltYg7Rzwnwhg93yRZyXgAWDW/ntqadBqJWw/JWYHVcu9UpOq05vl+K9GN52Z2W2JLJdDW7Ha9WNLRRfR2S3AF48A6RflrpkhrQb473NAbpKYEDH285afmdgE+BtqycqLgb1Lgc8HifEqts7AyP8VK3o2shtI56/E20i+XQxHWysM6dqAwbrBD4rF53KTxGJsplR0C0g+Lu5zOjORZVMqgYFRwPSfRBeRLjvuya/Mo4tIksTqy9f2Adb2wKRNgJ2r3LVqERiwtFTx+4BP+wMHV4h1gbqOBl4+BvR5rkkidd1g22H3ecPOpgGrHds4AEEDxH1TdwvF/SZWM/W6j1khiUgIGgC8dEC0/lYUAz/MAXa8BJQVylOfsiLgr/Xi7/ahT8S2J1YCXt3kqU8LxIClpSnMBra/KJLB3U4AnP2ASd8CT21sskXgSso12HU2FUAtuVdqI9c4FnYHEVFNHNyBp7cBjy0Rqe7Pbgb+z8RdRLk3RYvK/3YFfporUk3YOAJD/p95rL/WgnDxw5ZCkoAzm8V8/eJbABRA+IvAo4uafLn1vRfTkV9aAT9XO4S3MyLRXIcI4Nc3gcSDorvKFINfNRVA3F5xn91BRHQ3pRIY+Hcxtu+754GsWNFFNOLfQK8pzXNMSRLd1Ec+BS7+IFrBAZHoLvxFoNczgNqleY7dijFgaQluXRNT367FiMde9wGjPgH8ezfL4XZUDrYd28sPSqURCdg8Ootl7fOSRdCia3FpTsnHgJJcsdChf9/mPx4RtUzBDwIvHgB2zALifwe+/xtw/U9gxEdNl6itogy4+L0IVFJOVjn2QOCB2WI2kLIBXexUIwYs5kxTDhxeBcT8U0x9s1IDgxeINSZU1s1yyMz8Uuy/kgkAGNuQ2UFVKRQi6+3JL8VsIVMELLruoA6P8w8BEdXN0QOY8h3w57+Bfe8DZ74RgcWEL+9tokJhlhifcvw/Yt02QExC6DEBCH9JZOWle8aAxVwlnxB5BHQLCrYfLGYAtWnfrIf94UwKNFoJYQGuCPFwNH4H+oDlNwDLmrx+1eiz27I7iIgaQKkEHv4HENgf+O/zQOZlMfV5xL+Bnk8bt6+088DRz4Cz2wBNqdjm6AX0nQn0mSHG0FCTYcBibkrzgd//H3D0cwCSSK0/dBnQY6JJ1se5k4rfyNYVnXaDRP6DrCvA7UTALagJa3eXnCQg46IYTBfyaPMdh4han+CHRKK57TPFFOOds4HrB4HhHwI29rW/TqsR65Yd+ezO6vAA4NsLeOBvQNcxYlFYanIMWMxJ7C/Arr+LFPMAEDYZGPKeSIZkisOn5eNCSh6sVQqM7FFHKv662LkCAf2ApMNAfLSYZt1cdN1BAQ8YvQo1EREcPcTyJQeWAzHvA6e/Bm6eAJ76UozJq6okDzj1NXDsc+D2dbFNoQK6PgGEzxZ/97joarNiwGIO8tOAX14Xg7UAsVDhyBVAyCMmrcb2U6J15ZHOnmjjcA//IXR4TAQscc0csOi7gzidmYgaSakCBv0DCAwHvntBTDv+v8GiCz5sEpAdL1q8T28SmcQBQO0K9J4O9JvJ3E8mxIBFTlotcHIDsPctoDRXROsP/g/w8Ot1N0k2A41Wwk5jUvHXpUOE6Na6tl+Mmm+O5tGyojsLLXbk+BUiukftHhZdRN+9INZj2/GimPSQdh5AZYZc987AAy+JLvqmmllEDcaARS5Ft4DNT4uWCADwvR944hPZRpMfis9Cel4pXOys8Uio573tzDsMsHcHirLEtOPmWD054Q8xc8olAPDs0vT7JyLL4+gJPLsD+OMjIGaZWKcNEEkpH5gNtH+E3T4yYsAil8OrRLBi4wg8ulg0Lco4LXf7SdG6MirMB7ZW91gPpVJ0C53dImYLNUfAoluduVMk/4AQUdNRqoDB84F2A0UrcfcnAfeOcteKwNT88rl+UPwc9oFoYpQxWCksrcDu8yJ3gFGp+OvSnGn6JQm4Ujl+hd1BRNQcggYAjyxksGJGGLDIobzkThZE3YKBMtp9Pg3F5Rq0c3dArwDXptlpyKMAFKJJNT+tafapk3FRZNO1shP/BRERUavHgEUON08AmjLA0Rtwayd3bfSzg8b28oOiqbpXHNwB357ifvzvTbNPnSu7xc92D5tmvSIiIpIdAxY5JB4SP4P6yz7+IiWnGIfiswGIgKVJhTwmfsZFN+1+r3A6MxGRpWHAIoekyoAlUP7uoJ2nb0KSgH7t2iCgTRNPpdaNY4n/XWSHbApFt8TMI4DjV4iILAgDFlPTVAA3Kr9wg/rLWhVJkrCjcnZQo1Px18W/L2DrAhTfAlJON80+46IBSQt4dgNcA5pmn0REZPYYsJha+jmRLdHWBfDsKmtVzt/Mw9WMAthaKTGsu0/TH0BlBbQfJO431Wwh3fgVdgcREVkUBiymlliZKC4wXNapzADwXeVCh4939YKz2rp5DtKU05s1FXf2w+4gIiKLwoDF1PTjV+TtDirXaPHDmRQAwPimyr1Skw6VA29v/iXGn9yL5ONASQ5g5ya6m4iIyGIwYDElSbrTwiJz/pX9sZm4VVgGd0cbDOzo3nwHcvEHPLqIcSfXYu5tX7rsth0iRHcTERFZDAYsppQdJ9bXUdkCvr1krcqOyoUOR/f0g5Wqmd8GHZpoevOVyoCF3UFERBaHAYsp6fKv+PcBrGxlq0ZuUTn2XkoH0AQrMzdE1XEsktS4feTcEBluFco7ARAREVkMBiympFuZWebxK7vOpaKsQovOXk7o6uPc/AcM7C/S6BekAekXGrcPXXdQQDhg36bp6kZERC0CAxZTqprhVkbbK2cHjbu/CVPx18VafWfNn8bOFtIvdsjpzERElogBi6nkpQA5iaJLw7+fbNVIzC7EX4m3oVQAY5o6FX9d9FlvGzGOpawISNgv7nfi+BUiIkvEgMVUdK0r3j0AtQm6YWqhG2z7YAd3eDmrTXdgXcCSeBgoLTDutdcPABUlgLO/7Mn2iIhIHgxYTCVJ/unMkiRhuz4VfzPmXqlJm/aAWzCgLRcBiDF0s4M6Rcq+WCQREcmDAYupJMo/4PZE4m0k3SqCvY0KQ7p5mfbgCkXjst5KkmHAQkREFqlRAcvq1asRHBwMtVqN8PBwHDt2rM7yK1asQOfOnWFnZ4eAgAC89tprKCkp0T//1ltvQaFQGNxCQ0MbUzXzVHxbTMkFZA1YvqtsXRl2nw/sbWRIvKYLWK7ubfj05oyLQF4yYKUGggc2X92IiMisGf2ttWXLFkRFRWHNmjUIDw/HihUrEBkZidjYWHh6elYr/80332DBggVYt24dBgwYgCtXrmD69OlQKBRYvny5vly3bt3w2293/vO2smpFmUyTjgKQgLYdAUcPWapQUq7BrrO6VPwmHGxbVfBAQGktBh/fuga0Dan/NbrWlXYPAzb2zVs/IiIyW0a3sCxfvhwzZ87EjBkz0LVrV6xZswb29vZYt25djeUPHTqEBx98EE8//TSCg4MxZMgQTJ48uVqrjJWVFby9vfU3d/dmTBdvaknyT2f+/XIG8koq4OuixgPt28pTCVvHO7+DhnYLXa2czszuICIii2ZUwFJWVoYTJ04gIiLizg6USkRERODw4cM1vmbAgAE4ceKEPkC5du0afv75ZwwfPtyg3NWrV+Hr64v27dtjypQpSEpKqrUepaWlyMvLM7iZNd0MoUD5Btzqcq+M6eUHpVLGgavGjGMpugXcOCruMx0/EZFFMypgycrKgkajgZeX4YBNLy8vpKWl1fiap59+Gu+88w4eeughWFtbIyQkBIMHD8Ybb7yhLxMeHo4NGzZg9+7d+Oyzz5CQkICBAwciPz+/xn0uW7YMLi4u+ltAQIAxp2FaZUVAyilxX6YWlqyCUsTEZgIwUSr+uoRUptVPOACUl9RdNi5aLJro2RVwNeNrTEREza7ZZwnFxMTg/fffx6effoqTJ09i+/bt2LVrF9599119mWHDhmHChAno0aMHIiMj8fPPPyMnJwdbt26tcZ8LFy5Ebm6u/nbjxo3mPo3Gu/kXoK0AnHwB1yBZqvDjmRRUaCX08HdBB08nWeqg59UNcPQGKorvdJXVRpeOn9ltiYgsnlEjW93d3aFSqZCenm6wPT09Hd7e3jW+ZvHixXj22WfxwgsvAAC6d++OwsJCzJo1C2+++SaUyuoxk6urKzp16oS4uLga92lrawtbW/kWDzSKbjpzUH/ZcojoksWNM2Vm29ropjef/lq0oIQ8WnM5TcWdbqNOQ01XPyIiMktGtbDY2Nigd+/eiI6+k15dq9UiOjoa/fvX3N1RVFRULShRqVQARCKzmhQUFCA+Ph4+Pj7GVM886VoRZJrOfDU9H2eTc2GlVGBUmK8sdahGt9pyXeNYko+L6eBqV8C/r0mqRURE5svoucNRUVGYNm0a+vTpg379+mHFihUoLCzEjBkzAABTp06Fn58fli1bBgAYNWoUli9fjl69eiE8PBxxcXFYvHgxRo0apQ9c5s2bh1GjRiEoKAgpKSlYunQpVCoVJk+e3ISnKgNNBXDjuLgvU4bb7ZWtK4M7e6Kto5m0SrUfLNZUyrwM5CYDLjVk3dV1B3WIAFStaIo7ERE1itHfBBMnTkRmZiaWLFmCtLQ09OzZE7t379YPxE1KSjJoUVm0aBEUCgUWLVqEmzdvwsPDA6NGjcJ7772nL5OcnIzJkycjOzsbHh4eeOihh3DkyBF4eMiTs6TJpJ0BygtFK4FHF5MfXqOVsFPXHST3YNuq7NsAfn2A5GOiW6j3tOplrnA6MxER3aGQauuXaUHy8vLg4uKC3NxcODvLt7BgNYdWAb++KcZgPL3F5Ic/GJeFKf85Cme1FY69GQG1tcrkdahVzAdAzPtAlyeAiV8ZPpdzA1hxn2iF+Ue8CHCIiKjVMeb7m2sJNackedcP0i10ODLM17yCFeBOPpZrMYCm3PA5XXeQfz8GK0REBIABS/ORJFlXaC4qq8Av51MByJiKvy6+PQG7NkBpHpD8l+Fz+u4gTmcmIiKBAUtzyboCFGUDVnaAT0+TH37PhTQUlWkQ1NYe9we6mfz49VKq7kxprjpbqLwYSPhD3Gd2WyIiqsSApbno0vH79wGsbEx+eF130NheflDIlP+lXjVNb044IJLKOfuLJHNERERgwNJ8ZBy/kpZbgj/jsgAA43rVMGXYXOhaWFJPAwVi6QBc2S1+dhoiW6I9IiIyPwxYmkvVDLcm9v3pm5AkoG+wGwLb2pv8+A3m5A14dxf3438X4350qzOzO4iIiKpgwNIccpOB3CRAoRIzXUxMn4r/fjNuXdGpunpzxiUg9wZgpQbaPSxvvYiIyKwwYGkOutYVnzDA1tGkh84tLsflNLHKdWS3mtd3Miu6gCU+Grjyi7jf7mHAxoxbhoiIyOQYsDQH3fpBMkxnvnAzFwDg72aHNg6mH+xrNP9+gI2TmFF15DOxjaszExHRXRiwNIdE+QbcnqsMWLr7uZj82I1iZQO0HyTuF1YOvGU6fiIiugsDlqZWdAvIvCTuyxiw3NdSAhbgzvRmQKy55BooX12IiMgsMWBparrpzO6dAYe2Jj/8hZQ8AC2ohQUAQqoELGxdISKiGjBgaWq6hHEyTGfOKylHQlYhgBYWsLgFiQHKUIjFEImIiO5iJXcFWh19wjg5BtyK1hU/Vzu4tYQBt1VN3iymg/v3lrsmRERkhhiwNKWyQiD1jLgvQwvL+ZY24LYqZ19xIyIiqgG7hJpS8nFAWyHWwZFh4OidAbfOJj82ERFRc2LA0pRkTMcP3GlhaVEzhIiIiBqAAUtT0iWMk2E6c35JOa61xAG3REREDcCApaloyoHkv8R9GTLcXqyczuzrokZbR1uTH5+IiKg5MWBpKqlngPIiwM5N5GAxsRaZMI6IiKiBGLA0lcQq3UFK0/9aW/QMISIionowYGkqSfKtHwRUaWHxZ8BCREStDwOWpqDV3glYZBi/UlBaoR9we58vAxYiImp9GLA0haxYoPg2YG1fmWLetC6m5EGSAG9nNTycOOCWiIhaHwYsTUE3fsW/D6CyNvnhOeCWiIhaOwYsTUHG9YMA4AIH3BIRUSvHgOVeSZKsKzQDd1pYuvszJT8REbVODFjuVU4SkHcTUFoB/n1NfviisgrEZxYAYJcQERG1XgxY7pWuO8inJ2DjYPLDX0zJg1YCPJ1s4emkNvnxiYiITIEBy70yl+4gtq4QEVErxoDlXsk84JYzhIiIyBIwYLkXhVlA1hVxP/ABWarAlPxERGQJGLDcC13rikcXwL6NyQ9fXKZBXIYYcNudKfmJiKgVY8ByLxJ16fjlGb9yMVUMuPVwsoWXMwfcEhFR68WA5V4k6VZolmf8CruDiIjIUjBgaazSAiD1rLgv8wyh+3yZMI6IiFo3BiyNlXwMkDSASyDg4i9LFc5zhhAREVkIBiyNJfP4lZJyDa5ywC0REVkIBiyNpc+/It+AW41WgrujDbw54JaIiFo5BiyNUVEGJB8X94PkXaH5Pj8XKBQKWepARERkKgxYGiP1NFBRAti3Bdw7yVIFpuQnIiJLwoClMXTrBwX2B2Rq3Th3Mw8AB9wSEZFlYMDSGDKPXykp1+Bqej4ABixERGQZGLAYS6sFko6I+zLNELqclo8KrYQ2DjbwdeGAWyIiav0YsBgr8xJQkgNYOwDeYbJU4RwH3BIRkYVhwGIs3fiVgL6AykqWKlzQD7hlhlsiIrIMDFiMlSjv+kEAZwgREZHlYcBiDEm6M+BWpvwrpRUaXOGAWyIisjAMWIxx+zqQnwoorQH/PrJUITYtH+UaCW721vBztZOlDkRERKbGgMUYutYV316AtTzBAgfcEhGRJWLAYgzd+BWZpjMDXKGZiIgsEwMWY+gTxnHALRERkSkxYGmoggwgOw6AAggMl6UKZRVaxKaJAbcMWIiIyJIwYGkoXeuKZ1fAzk2WKlxJFwNuXeys4e/GAbdERGQ5GLA0VKJuOrN841eqdgdxwC0REVkSBiwNlVRlhWaZnOOAWyIislAMWBqiJA9IOyfuy5QwDqg6Q4gp+YmIyLIwYGmI5GOApAVcgwBnX1mqUFahxeVUDrglIiLLxIClIRLlTccPiAG3ZRotnNVWCGxjL1s9iIiI5MCApSH0+VfkG79yIYUZbomIyHI1KmBZvXo1goODoVarER4ejmPHjtVZfsWKFejcuTPs7OwQEBCA1157DSUlJfe0T5OpKAWS/xL3ZWxhYcI4IiKyZEYHLFu2bEFUVBSWLl2KkydPIiwsDJGRkcjIyKix/DfffIMFCxZg6dKluHTpEtauXYstW7bgjTfeaPQ+TSrlFKApBRw8gLYdZKvGuZt5ADhDiIiILJPRAcvy5csxc+ZMzJgxA127dsWaNWtgb2+PdevW1Vj+0KFDePDBB/H0008jODgYQ4YMweTJkw1aUIzdp0np1g8KfACQqSumXKPFpVQGLEREZLmMCljKyspw4sQJRERE3NmBUomIiAgcPny4xtcMGDAAJ06c0Aco165dw88//4zhw4c3ep+lpaXIy8szuDUbfcAiX3fQ1fQClFVo4WRrhSAOuCUiIgtkZUzhrKwsaDQaeHl5GWz38vLC5cuXa3zN008/jaysLDz00EOQJAkVFRV46aWX9F1CjdnnsmXL8PbbbxtT9cbRaoAbR8V9M1ihuZufM5RKDrglIiLL0+yzhGJiYvD+++/j008/xcmTJ7F9+3bs2rUL7777bqP3uXDhQuTm5upvN27caMIaV5F3E7CyBWwcAa/uzXOMBuCAWyIisnRGtbC4u7tDpVIhPT3dYHt6ejq8vb1rfM3ixYvx7LPP4oUXXgAAdO/eHYWFhZg1axbefPPNRu3T1tYWtra2xlS9cVwDgXlXgfw0QGXUr6pJnU9hSn4iIrJsRrWw2NjYoHfv3oiOjtZv02q1iI6ORv/+NXeZFBUVQak0PIxKpQIASJLUqH2alEIBOPvIdviKKgNu2cJCRESWyuhmg6ioKEybNg19+vRBv379sGLFChQWFmLGjBkAgKlTp8LPzw/Lli0DAIwaNQrLly9Hr169EB4ejri4OCxevBijRo3SBy717dOSxWUWoKRcC0dbKwS3dZC7OkRERLIwOmCZOHEiMjMzsWTJEqSlpaFnz57YvXu3ftBsUlKSQYvKokWLoFAosGjRIty8eRMeHh4YNWoU3nvvvQbv05KdSxbdQV19OeCWiIgsl0KSJEnuStyrvLw8uLi4IDc3F87OrWsl46Xfn8eXhxPx/EPtsHhkV7mrQ0RE1GSM+f7mWkJmjjOEiIiIGLCYNY1WwkVmuCUiImLAYs7iKwfcOtio0N6dA26JiMhyMWAxY7oBt918XTjgloiILBoDFjOmG7/C7iAiIrJ0DFjM2Hl9wNK6Zj4REREZiwGLmdJoJVxIYYZbIiIigAGL2bqWWYDicg3sbVRo7+Eod3WIiIhkxYDFTOkWPOzq4wwVB9wSEZGFY8Bips4lM/8KERGRDgMWM3WeGW6JiIj0GLCYIa1WwoXKLqHu/gxYiIiIGLCYoWtZhSgs00BtrWSGWyIiIjBgMUu67qCuPs6wUvESERER8dvQDHGFZiIiIkMMWMzQeabkJyIiMsCAxcxoq2a45YBbIiIiAAxYzM717EIUlFbA1kqJDsxwS0REBIABi9nRjV/pwgG3REREevxGNDNMGEdERFQdAxYzwxlCRERE1TFgMSNarYQLN7mGEBER0d0YsJiRpFtFyC+tgI2VEh29OOCWiIhIhwGLGak64NaaA26JiIj0+K1oRu4MuHWWuSZERETmhQGLGdG1sNzny/ErREREVTFgMROSJDElPxERUS0YsJiJpFtFyCupgI1KiU5eTnJXh4iIyKwwYDETuu6gUB8n2FjxshAREVXFb0YzcZ75V4iIiGrFgMVMMCU/ERFR7RiwmAFJkpiSn4iIqA4MWMxA8u1i5BaXw1qlYIZbIiKiGjBgMQO61pXO3k6wtVLJXBsiIiLzw4DFDLA7iIiIqG4MWMwAE8YRERHVjQGLzKpmuGULCxERUc0YsMjsZk4xbheJAbedvZnhloiIqCYMWGSma13p5MUBt0RERLVhwCIzrtBMRERUPwYsMjunS8nvz4CFiIioNgxYZMQBt0RERA3DgEVGqbkluFVYBiulAqEccEtERFQrBiwy0o1f6ejlBLU1B9wSERHVhgGLjO50BznLXBMiIiLzxoBFRueY4ZaIiKhBGLDIpOqAWwYsREREdWPAIpO0vBJkFZRBpVSgqw+7hIiIiOrCgEUm55IrB9x6OnLALRERUT0YsMjkfEplwjh2BxEREdXLSu4KWKqHO7qjXKPF/YFucleFiIjI7DFgkUmf4DboE9xG7moQERG1COwSIiIiIrPHgIWIiIjMHgMWIiIiMnsMWIiIiMjsMWAhIiIis8eAhYiIiMweAxYiIiIyewxYiIiIyOwxYCEiIiKz16iAZfXq1QgODoZarUZ4eDiOHTtWa9nBgwdDoVBUu40YMUJfZvr06dWeHzp0aGOqRkRERK2Q0an5t2zZgqioKKxZswbh4eFYsWIFIiMjERsbC09Pz2rlt2/fjrKyMv3j7OxshIWFYcKECQblhg4divXr1+sf29raGls1IiIiaqWMDliWL1+OmTNnYsaMGQCANWvWYNeuXVi3bh0WLFhQrXybNobr5WzevBn29vbVAhZbW1t4e3s3qA6lpaUoLS3VP87LyzP2NIiIiKgFMapLqKysDCdOnEBERMSdHSiViIiIwOHDhxu0j7Vr12LSpElwcHAw2B4TEwNPT0907twZs2fPRnZ2dq37WLZsGVxcXPS3gIAAY06DiIiIWhijWliysrKg0Wjg5eVlsN3LywuXL1+u9/XHjh3D+fPnsXbtWoPtQ4cOxbhx49CuXTvEx8fjjTfewLBhw3D48GGoVKpq+1m4cCGioqL0j3NzcxEYGMiWFiIiohZE970tSVK9ZY3uEroXa9euRffu3dGvXz+D7ZMmTdLf7969O3r06IGQkBDExMTgscceq7YfW1tbgzEuuhNmSwsREVHLk5+fDxcXlzrLGBWwuLu7Q6VSIT093WB7enp6veNPCgsLsXnzZrzzzjv1Hqd9+/Zwd3dHXFxcjQHL3Xx9fXHjxg04OTlBoVDUW94YeXl5CAgIwI0bN+Ds7Nyk+zYHrf38gNZ/jjy/lq+1n2NrPz+g9Z9jc52fJEnIz8+Hr69vvWWNClhsbGzQu3dvREdHY8yYMQAArVaL6OhozJkzp87Xbtu2DaWlpXjmmWfqPU5ycjKys7Ph4+PToHoplUr4+/s3qGxjOTs7t8o3oU5rPz+g9Z8jz6/la+3n2NrPD2j959gc51dfy4qO0XlYoqKi8MUXX+DLL7/EpUuXMHv2bBQWFupnDU2dOhULFy6s9rq1a9dizJgxaNu2rcH2goIC/OMf/8CRI0dw/fp1REdHY/To0ejQoQMiIyONrR4RERG1QkaPYZk4cSIyMzOxZMkSpKWloWfPnti9e7d+IG5SUhKUSsM4KDY2Fn/++Sd+/fXXavtTqVQ4e/YsvvzyS+Tk5MDX1xdDhgzBu+++y1wsREREBKCRg27nzJlTaxdQTExMtW2dO3eudQSwnZ0d9uzZ05hqmIStrS2WLl3aaoOn1n5+QOs/R55fy9faz7G1nx/Q+s/RHM5PITVkLhERERGRjLj4IREREZk9BixERERk9hiwEBERkdljwEJERERmjwELERERmT0GLABWr16N4OBgqNVqhIeH49ixY3WW37ZtG0JDQ6FWq9G9e3f8/PPPJqqpcZYtW4a+ffvCyckJnp6eGDNmDGJjY+t8zYYNG6BQKAxuarXaRDU23ltvvVWtvqGhoXW+pqVcPwAIDg6udn4KhQIvv/xyjeVbwvX7448/MGrUKPj6+kKhUGDnzp0Gz0uShCVLlsDHxwd2dnaIiIjA1atX692vsZ/j5lLX+ZWXl2P+/Pno3r07HBwc4Ovri6lTpyIlJaXOfTbmfd5c6rt+06dPr1bXoUOH1rtfc7l+QP3nWNNnUqFQ4MMPP6x1n+Z0DRvy3VBSUoKXX34Zbdu2haOjI8aPH19tWZ67Nfaz21AWH7Bs2bIFUVFRWLp0KU6ePImwsDBERkYiIyOjxvKHDh3C5MmT8fzzz+PUqVMYM2YMxowZg/Pnz5u45vXbv38/Xn75ZRw5cgR79+5FeXk5hgwZgsLCwjpf5+zsjNTUVP0tMTHRRDVunG7duhnU988//6y1bEu6fgBw/Phxg3Pbu3cvAGDChAm1vsbcr19hYSHCwsKwevXqGp//17/+hU8++QRr1qzB0aNH4eDggMjISJSUlNS6T2M/x82prvMrKirCyZMnsXjxYpw8eRLbt29HbGwsnnjiiXr3a8z7vDnVd/0AYOjQoQZ1/fbbb+vcpzldP6D+c6x6bqmpqVi3bh0UCgXGjx9f537N5Ro25Lvhtddew48//oht27Zh//79SElJwbhx4+rcb2M+u0aRLFy/fv2kl19+Wf9Yo9FIvr6+0rJly2os/9RTT0kjRoww2BYeHi69+OKLzVrPppCRkSEBkPbv319rmfXr10suLi6mq9Q9Wrp0qRQWFtbg8i35+kmSJL366qtSSEiIpNVqa3y+pV0/ANKOHTv0j7VareTt7S19+OGH+m05OTmSra2t9O2339a6H2M/x6Zy9/nV5NixYxIAKTExsdYyxr7PTaWm85s2bZo0evRoo/ZjrtdPkhp2DUePHi09+uijdZYx12soSdW/G3JyciRra2tp27Zt+jKXLl2SAEiHDx+ucR+N/ewaw6JbWMrKynDixAlERETotymVSkRERODw4cM1vubw4cMG5QEgMjKy1vLmJDc3FwDQpk2bOssVFBQgKCgIAQEBGD16NC5cuGCK6jXa1atX4evri/bt22PKlClISkqqtWxLvn5lZWX4+uuv8dxzz9W5KnlLu35VJSQkIC0tzeAaubi4IDw8vNZr1JjPsTnJzc2FQqGAq6trneWMeZ/LLSYmBp6enujcuTNmz56N7OzsWsu29OuXnp6OXbt24fnnn6+3rLlew7u/G06cOIHy8nKDaxIaGorAwMBar0ljPrvGsuiAJSsrCxqNRr8Oko6XlxfS0tJqfE1aWppR5c2FVqvF3Llz8eCDD+K+++6rtVznzp2xbt06fP/99/j666+h1WoxYMAAJCcnm7C2DRceHo4NGzZg9+7d+Oyzz5CQkICBAwciPz+/xvIt9foBwM6dO5GTk4Pp06fXWqalXb+76a6DMdeoMZ9jc1FSUoL58+dj8uTJda6Aa+z7XE5Dhw7Fxo0bER0djQ8++AD79+/HsGHDoNFoaizfkq8fAHz55ZdwcnKqt7vEXK9hTd8NaWlpsLGxqRZE1/fdqCvT0NcYq1FrCVHL8/LLL+P8+fP19pn2798f/fv31z8eMGAAunTpgs8//xzvvvtuc1fTaMOGDdPf79GjB8LDwxEUFIStW7c26D+elmTt2rUYNmwYfH19ay3T0q6fJSsvL8dTTz0FSZLw2Wef1Vm2Jb3PJ02apL/fvXt39OjRAyEhIYiJicFjjz0mY82ax7p16zBlypR6B7eb6zVs6HeDObDoFhZ3d3eoVKpqI5/T09Ph7e1d42u8vb2NKm8O5syZg59++gn79u2Dv7+/Ua+1trZGr169EBcX10y1a1qurq7o1KlTrfVtidcPABITE/Hbb7/hhRdeMOp1Le366a6DMdeoMZ9juemClcTEROzdu7fO1pWa1Pc+Nyft27eHu7t7rXVtiddP58CBA4iNjTX6cwmYxzWs7bvB29sbZWVlyMnJMShf33ejrkxDX2Msiw5YbGxs0Lt3b0RHR+u3abVaREdHG/yXWlX//v0NygPA3r17ay0vJ0mSMGfOHOzYsQO///472rVrZ/Q+NBoNzp07Bx8fn2aoYdMrKChAfHx8rfVtSdevqvXr18PT0xMjRoww6nUt7fq1a9cO3t7eBtcoLy8PR48erfUaNeZzLCddsHL16lX89ttvaNu2rdH7qO99bk6Sk5ORnZ1da11b2vWrau3atejduzfCwsKMfq2c17C+74bevXvD2tra4JrExsYiKSmp1mvSmM9uYypu0TZv3izZ2tpKGzZskC5evCjNmjVLcnV1ldLS0iRJkqRnn31WWrBggb78wYMHJSsrK+mjjz6SLl26JC1dulSytraWzp07J9cp1Gr27NmSi4uLFBMTI6WmpupvRUVF+jJ3n9/bb78t7dmzR4qPj5dOnDghTZo0SVKr1dKFCxfkOIV6/f3vf5diYmKkhIQE6eDBg1JERITk7u4uZWRkSJLUsq+fjkajkQIDA6X58+dXe64lXr/8/Hzp1KlT0qlTpyQA0vLly6VTp07pZ8n885//lFxdXaXvv/9eOnv2rDR69GipXbt2UnFxsX4fjz76qLRy5Ur94/o+x+ZyfmVlZdITTzwh+fv7S6dPnzb4XJaWltZ6fvW9z83l/PLz86V58+ZJhw8flhISEqTffvtNuv/++6WOHTtKJSUltZ6fOV0/Sar/PSpJkpSbmyvZ29tLn332WY37MOdr2JDvhpdeekkKDAyUfv/9d+mvv/6S+vfvL/Xv399gP507d5a2b9+uf9yQz+69sPiARZIkaeXKlVJgYKBkY2Mj9evXTzpy5Ij+uUGDBknTpk0zKL9161apU6dOko2NjdStWzdp165dJq5xwwCo8bZ+/Xp9mbvPb+7cufrfhZeXlzR8+HDp5MmTpq98A02cOFHy8fGRbGxsJD8/P2nixIlSXFyc/vmWfP109uzZIwGQYmNjqz3XEq/fvn37anxf6s5Dq9VKixcvlry8vCRbW1vpscceq3buQUFB0tKlSw221fU5NqW6zi8hIaHWz+W+ffv0+7j7/Op7n5tSXedXVFQkDRkyRPLw8JCsra2loKAgaebMmdUCD3O+fpJU/3tUkiTp888/l+zs7KScnJwa92HO17Ah3w3FxcXS3/72N8nNzU2yt7eXxo4dK6WmplbbT9XXNOSzey8UlQclIiIiMlsWPYaFiIiIWgYGLERERGT2GLAQERGR2WPAQkRERGaPAQsRERGZPQYsREREZPYYsBAREZHZY8BCREREZo8BCxEREZk9BixERERk9hiwEBERkdn7/6w2Uvn/DWD7AAAAAElFTkSuQmCC\n"
          },
          "metadata": {}
        }
      ],
      "source": [
        "plt.plot(range(1, EPOCH_NUMBER+1), t_acc, v_acc)\n",
        "plt.title(\"Accuracy\")\n",
        "plt.legend((\"Training\", \"Validation\"))"
      ]
    },
    {
      "cell_type": "markdown",
      "metadata": {
        "id": "md43YayxdPRL"
      },
      "source": [
        "## Inference"
      ]
    },
    {
      "cell_type": "markdown",
      "metadata": {
        "id": "cV3hRrEDdPRL"
      },
      "source": [
        "### Binary Classfication"
      ]
    },
    {
      "cell_type": "code",
      "execution_count": null,
      "metadata": {
        "id": "f8nr_N-7dPRL"
      },
      "outputs": [],
      "source": [
        "def predict_sentence(sentence, model, word_map, device):\n",
        "    # Preprocess the sentence\n",
        "    encoded_sentence = text_encoder(sentence, word_map)\n",
        "    input_tensor = torch.tensor(encoded_sentence, dtype=torch.long).unsqueeze(0).to(device)  # Add batch dimension\n",
        "\n",
        "    # Get the length of the input sentence (for packing sequence)\n",
        "    text_length = torch.tensor([len(encoded_sentence)], dtype=torch.long).to(device)\n",
        "\n",
        "    # Perform inference\n",
        "    model.eval()  # Set the model to evaluation mode\n",
        "    with torch.no_grad():\n",
        "        output = model(input_tensor, text_length)  # Get the model output\n",
        "        prediction = torch.argmax(output, dim=1).item()  # Get the predicted class (0 or 1)\n",
        "\n",
        "    # Interpret the result\n",
        "    if prediction == 0:\n",
        "        return \"The sentence is classified as Non-Suicidal.\"\n",
        "    else:\n",
        "        return \"The sentence is classified as Suicidal.\""
      ]
    },
    {
      "cell_type": "code",
      "execution_count": null,
      "metadata": {
        "id": "EDrympgidPRL",
        "outputId": "9a7b6085-3c7c-4698-be2b-8dd79a64e4ad"
      },
      "outputs": [
        {
          "name": "stdout",
          "output_type": "stream",
          "text": [
            "The sentence is classified as Suicidal.\n"
          ]
        }
      ],
      "source": [
        "sentence = \"I feel hopeless.\"\n",
        "result = predict_sentence(sentence, model, word_map, device)\n",
        "print(result)"
      ]
    },
    {
      "cell_type": "markdown",
      "metadata": {
        "id": "MQn3dVM4dPRL"
      },
      "source": [
        "### Regression"
      ]
    },
    {
      "cell_type": "code",
      "execution_count": 45,
      "metadata": {
        "id": "zzGt_ENNdPRL"
      },
      "outputs": [],
      "source": [
        "def regression_predict(sentence, model, word_map, device):\n",
        "\n",
        "    encoded_sentence = text_encoder(sentence, word_map)\n",
        "    input_tensor = torch.tensor(encoded_sentence, dtype=torch.long).unsqueeze(0).to(device)\n",
        "\n",
        "    text_length = torch.tensor([len(encoded_sentence)], dtype=torch.long).to(device)\n",
        "\n",
        "    model.eval()\n",
        "    with torch.no_grad():\n",
        "        output = model(input_tensor, text_length)  # Get the model output\n",
        "        probability = output.squeeze().item()  # Get the probability\n",
        "\n",
        "    prediction = 1 if probability >= 0.5 else 0  # Threshold of 0.5\n",
        "    if prediction == 0:\n",
        "        result = f\"The sentence is classified as Non-Suicidal with a probability of {1 - probability:.4f}.\"\n",
        "    else:\n",
        "        result = f\"The sentence is classified as Suicidal with a probability of {probability:.4f}.\"\n",
        "\n",
        "    return result"
      ]
    },
    {
      "cell_type": "code",
      "execution_count": 49,
      "metadata": {
        "colab": {
          "base_uri": "https://localhost:8080/"
        },
        "id": "K7eKNKnydPRL",
        "outputId": "cb878db5-1290-4536-8680-e4a8687588d2"
      },
      "outputs": [
        {
          "output_type": "stream",
          "name": "stdout",
          "text": [
            "The sentence is classified as Suicidal with a probability of 1.0000.\n"
          ]
        }
      ],
      "source": [
        "sentence = \"Every morning I wake up and I don't want to get out of bed. Eventually I do and when I look in the mirror, I hate how ugly I am. It makes me not want to exist. This is the main reason why I have social anxiety and I hate being out in public. I have no friends who I could talk to or hang out with. It feels like I'm not wanted by anyone. I hate living like this. I seriously consider suicide everyday. I have no friends or family that would care if I go. \"\n",
        "result = regression_predict(sentence, regression, word_map, device)\n",
        "print(result)"
      ]
    },
    {
      "cell_type": "code",
      "execution_count": 48,
      "metadata": {
        "colab": {
          "base_uri": "https://localhost:8080/"
        },
        "id": "W4G75THMdPRM",
        "outputId": "6618317c-71da-4f7a-e780-166b03049909"
      },
      "outputs": [
        {
          "output_type": "stream",
          "name": "stdout",
          "text": [
            "The sentence is classified as Non-Suicidal with a probability of 0.9873.\n"
          ]
        }
      ],
      "source": [
        "sentence = \"Sometimes i need a hug So ill give myself one, because i deserve it\"\n",
        "result = regression_predict(sentence, regression, word_map, device)\n",
        "print(result)"
      ]
    },
    {
      "cell_type": "code",
      "source": [],
      "metadata": {
        "id": "qGsFLBDXvQsJ"
      },
      "execution_count": null,
      "outputs": []
    }
<<<<<<< HEAD
   ],
   "source": [
    "# sentence = \"I feel sad.\"\n",
    "# result = regression_predict(sentence, regression, word_map, device)\n",
    "# print(result)"
   ]
  },
  {
   "cell_type": "code",
   "execution_count": null,
   "metadata": {},
   "outputs": [],
   "source": []
  }
 ],
 "metadata": {
  "kernelspec": {
   "display_name": "Python 3",
   "language": "python",
   "name": "python3"
  },
  "language_info": {
   "codemirror_mode": {
    "name": "ipython",
    "version": 3
   },
   "file_extension": ".py",
   "mimetype": "text/x-python",
   "name": "python",
   "nbconvert_exporter": "python",
   "pygments_lexer": "ipython3",
   "version": "3.11.6"
  }
 },
 "nbformat": 4,
 "nbformat_minor": 2
}
=======
  ],
  "metadata": {
    "kernelspec": {
      "display_name": "Python 3",
      "name": "python3"
    },
    "language_info": {
      "codemirror_mode": {
        "name": "ipython",
        "version": 3
      },
      "file_extension": ".py",
      "mimetype": "text/x-python",
      "name": "python",
      "nbconvert_exporter": "python",
      "pygments_lexer": "ipython3",
      "version": "3.11.5"
    },
    "colab": {
      "provenance": [],
      "collapsed_sections": [
        "clmvXBDNdPRE"
      ],
      "gpuType": "T4"
    },
    "accelerator": "GPU"
  },
  "nbformat": 4,
  "nbformat_minor": 0
}
>>>>>>> a4b1e25d6a744cc3d733f3562b41ee05424121a7
